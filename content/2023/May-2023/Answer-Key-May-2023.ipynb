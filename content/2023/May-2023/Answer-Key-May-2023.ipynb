{
 "cells": [
  {
   "cell_type": "markdown",
   "id": "0f4c6a33",
   "metadata": {
    "slideshow": {
     "slide_type": "slide"
    }
   },
   "source": [
    "# Trivia May 2023\n",
    "\n",
    "by Marley Buchman"
   ]
  },
  {
   "cell_type": "markdown",
   "id": "c3d13381",
   "metadata": {
    "slideshow": {
     "slide_type": "slide"
    }
   },
   "source": [
    "### 19 Question, 186 Total Points (78 Round 1, 60 Round 2, 48 Final Round)"
   ]
  },
  {
   "cell_type": "markdown",
   "id": "a612b91c",
   "metadata": {
    "slideshow": {
     "slide_type": "slide"
    }
   },
   "source": [
    "### Sports Franchises"
   ]
  },
  {
   "cell_type": "markdown",
   "id": "71bca905",
   "metadata": {
    "slideshow": {
     "slide_type": "subslide"
    }
   },
   "source": [
    "**1. For each of the following sports franchises, name a city that the franchise was previoulsy located in (1 Point Each)**\n",
    "\n",
    "    A. Arizona Cardinals - Chicago, St. Louis\n",
    "    \n",
    "    B. Sacramento Kings - Kansas City\n",
    "    \n",
    "    C. Washington Nationals - Montreal\n",
    "    \n",
    "    D. Oakland Athletics (A's) - Kansas City"
   ]
  },
  {
   "cell_type": "markdown",
   "id": "910ee622",
   "metadata": {
    "slideshow": {
     "slide_type": "slide"
    }
   },
   "source": [
    "### Justice"
   ]
  },
  {
   "cell_type": "markdown",
   "id": "6d3106bd",
   "metadata": {
    "slideshow": {
     "slide_type": "subslide"
    }
   },
   "source": [
    "**2. Can you name all of the current Supreme Court justices (1 Point for Each Correct Answer, -1 Point for Each Incorrect Answer)**\n",
    "\n",
    "John Roberts, Clarence Thomase, Samuel Alito, \n",
    "\n",
    "Sonia Sotomayor, Elena Kagan, Neil Gorsuch, \n",
    "\n",
    "Brett Kavanaugh, Amy Coney Barrett, Ketanji Brown Jackson"
   ]
  },
  {
   "cell_type": "markdown",
   "id": "ad097804",
   "metadata": {
    "slideshow": {
     "slide_type": "slide"
    }
   },
   "source": [
    "### Computers"
   ]
  },
  {
   "cell_type": "markdown",
   "id": "d5b7a69b",
   "metadata": {
    "slideshow": {
     "slide_type": "subslide"
    }
   },
   "source": [
    "**3. Identify the punctuation mark that shares a key on a computer keyboard with each of the following numbers (1 Point Each)**\n",
    "\n",
    "    A. 1 -- !\n",
    "    \n",
    "    B. 3 -- #\n",
    "    \n",
    "    C. 6 -- ^\n",
    "    \n",
    "    D. 9 -- ("
   ]
  },
  {
   "cell_type": "markdown",
   "id": "a3724cd7",
   "metadata": {
    "slideshow": {
     "slide_type": "slide"
    }
   },
   "source": [
    "### Coffee"
   ]
  },
  {
   "cell_type": "markdown",
   "id": "74dc43ee",
   "metadata": {
    "slideshow": {
     "slide_type": "subslide"
    }
   },
   "source": [
    "**4. Match the coffee drink to the description (1 Point Each)**\n",
    "\n",
    "Drinks: Turkish Coffee, Flat White, Cappuccino, Cortado\n",
    "\n",
    "    A. Made using equal amounts of espresso and steamed milke. The milk is steamed but not foamy or frothy as in other drinks -- Cortado\n",
    "    \n",
    "    B. One-third espresso, one-third hot milk, and one-third milk foam -- Cappuccino\n",
    "    \n",
    "    C. Made by repeatedly boiling very finely ground coffee with sugar. This process produces a frothy, lightly textured drink -- Turkish Coffee\n",
    "    \n",
    "    D. Consisting of espresso with microfoam (steamed milke with small, fine bubbles and a glossy or velvety consistency) -- Flat White\n"
   ]
  },
  {
   "cell_type": "markdown",
   "id": "604876e9",
   "metadata": {
    "slideshow": {
     "slide_type": "slide"
    }
   },
   "source": [
    "### Land"
   ]
  },
  {
   "cell_type": "markdown",
   "id": "3525f4f0",
   "metadata": {
    "slideshow": {
     "slide_type": "subslide"
    }
   },
   "source": [
    "**5. Identify what has a greater land area (1 Point Each)**\n",
    "\n",
    "    A. (Oregon + California) or France 262,000 mi2 > 213,000 mi2\n",
    "    \n",
    "    B. (Germany + Poland + Czech Republic) or Texas 289,000 mi2 > 268,000 mi2\n",
    "    \n",
    "    C. (USA + Canada) or Russia 7.65 million mi2 > 6.6 million mi2\n",
    "    \n",
    "    D. (New York (State) + New Jersey + Pennsylvania) or United Kingdom 109,000 mi2 > 93,000 mi2"
   ]
  },
  {
   "cell_type": "markdown",
   "id": "d63e59c5",
   "metadata": {
    "slideshow": {
     "slide_type": "slide"
    }
   },
   "source": [
    "### Words"
   ]
  },
  {
   "cell_type": "markdown",
   "id": "be4ae45e",
   "metadata": {
    "slideshow": {
     "slide_type": "subslide"
    }
   },
   "source": [
    "**6. Match the dying words of the famous person to the famous person (1 Point Each)**\n",
    "\n",
    "Famous People: **Timothy McVeigh, Che Guevara, Dwight D. Eisenhower, Winston Churchill**\n",
    "\n",
    "    A. \"It matters not how strait the gate, How charged with punishments the scroll, I am the master of my fate: I am the captain of my soul.\" -- Timothy McVeigh\n",
    "    \n",
    "    B. \"I know you are here to kill me. Shoot, coward, you are only going to kill a man.\" -- Che Guevara\n",
    "    \n",
    "    C. \"I've always loved my wife, my children, and my grandchildren, and I've always loved my country. I want to go. God, take me.\" -- Dwight D. Eisenhower\n",
    "    \n",
    "    D. \"I'm bored with it all.\" -- Winston Churchill\n",
    "    "
   ]
  },
  {
   "cell_type": "markdown",
   "id": "175fe792",
   "metadata": {
    "slideshow": {
     "slide_type": "slide"
    }
   },
   "source": [
    "### Lifetimes"
   ]
  },
  {
   "cell_type": "markdown",
   "id": "9645435a",
   "metadata": {
    "slideshow": {
     "slide_type": "subslide"
    }
   },
   "source": [
    "**7. For each of the following pairs of historical figures, were they alive at the same time? (1 Point Each)**\n",
    "\n",
    "    A. Martin Luther King Jr. & Mark Twain -- False (Born: 1929, Died: 1910)\n",
    "    \n",
    "    B. Mahatma Gandhi & Karl Marx -- True (Born: 1869, Died: 1883)\n",
    "    \n",
    "    C. George Washington & Abraham Lincoln -- False (Died: 1799, Born: 1809)\n",
    "    \n",
    "    D. Billie Eilish & Ronald Reagan -- True (Born: 2001, Died: 2004)"
   ]
  },
  {
   "cell_type": "markdown",
   "id": "4d6ef086",
   "metadata": {
    "slideshow": {
     "slide_type": "slide"
    }
   },
   "source": [
    "### Fear"
   ]
  },
  {
   "cell_type": "markdown",
   "id": "dc6273f0",
   "metadata": {
    "slideshow": {
     "slide_type": "subslide"
    }
   },
   "source": [
    "**8. Match each of the following phobias to the description of the phobia (1 Point Each)**\n",
    "\n",
    "Phobias: **Halitophobia, Nyctophobia, Phallophobia, Gephyrophobia**\n",
    "\n",
    "    A. Fear of the penis and in a broader sense an excessive aversion to masculinity -- Phallophobia\n",
    "    \n",
    "    B. Fear of bridges and tunnels -- Gephyrophobia\n",
    "    \n",
    "    C. Fear of bad breath -- Halitophobia\n",
    "    \n",
    "    D. Fear of the dark -- Nyctophobia\n",
    "    "
   ]
  },
  {
   "cell_type": "markdown",
   "id": "36a0c574",
   "metadata": {
    "slideshow": {
     "slide_type": "slide"
    }
   },
   "source": [
    "### Cities of the Global South"
   ]
  },
  {
   "cell_type": "markdown",
   "id": "1766e3ee",
   "metadata": {
    "slideshow": {
     "slide_type": "subslide"
    }
   },
   "source": [
    "**9.**\n",
    "\n",
    "You will be shown a picture of a city from each of the following regions:\n",
    "**Central America, The Middle East, Central Asia (The Stans), Sub-Saharan Africa**.\n",
    "\n",
    "Each city shown is the city with the largest population of any city in that region. For 1 point, match the picture of a city to the region. For 2 points, name the country for which the city is located. For 3 points, name the city shown in the image. (**24 Points Possible**)"
   ]
  },
  {
   "cell_type": "markdown",
   "id": "9543680e",
   "metadata": {
    "slideshow": {
     "slide_type": "subslide"
    }
   },
   "source": [
    "**9A.**\n",
    "\n",
    "1 Point: Central Asia, 2 Points: Uzbekistan, 3 Points: Tashkent\n",
    "\n",
    "<img src=\"img/tashkent.jpg\" width=\"500%\">"
   ]
  },
  {
   "cell_type": "markdown",
   "id": "c0bc5a18",
   "metadata": {
    "slideshow": {
     "slide_type": "subslide"
    }
   },
   "source": [
    "**9B.**\n",
    "\n",
    "1 Point: Middle East, 2 Points: Egypt, 3 Points: Cairo\n",
    "\n",
    "<img src=\"img/cairo.jpg\" width=\"500%\">"
   ]
  },
  {
   "cell_type": "markdown",
   "id": "400139fe",
   "metadata": {
    "slideshow": {
     "slide_type": "subslide"
    }
   },
   "source": [
    "**9C.**\n",
    "\n",
    "1 Point: Sub-Saharan Africa, 2 Points: Democratic Republic of Congo, 3 Points: Kinshasa\n",
    "\n",
    "<img src=\"img/kinshasa.jpg\" width=\"500%\">"
   ]
  },
  {
   "cell_type": "markdown",
   "id": "c0f157e9",
   "metadata": {
    "slideshow": {
     "slide_type": "subslide"
    }
   },
   "source": [
    "**9D.**\n",
    "\n",
    "1 Point: Central America, 2 Points: Panama, 3 Points: Panama City\n",
    "\n",
    "<img src=\"img/panama_city.jpg\" width=\"500%\">"
   ]
  },
  {
   "cell_type": "markdown",
   "id": "267fb49e",
   "metadata": {
    "slideshow": {
     "slide_type": "slide"
    }
   },
   "source": [
    "### Growth"
   ]
  },
  {
   "cell_type": "markdown",
   "id": "17600caf",
   "metadata": {
    "slideshow": {
     "slide_type": "subslide"
    }
   },
   "source": [
    "**10. For each of the following unlabeled countries, you will be given the population in a specific year, and the average annual population growth rate between that year and a later year. Estimate the population in the outer year (2 Point Each)**\n",
    "\n",
    "    A. Population in 1980 is 226.5 million, what is the population in 2020? The average annual population growth rate is 1.13% -- 329.5 (313.025, 345.975) Accepted\n",
    "    \n",
    "    B. Population in 1960 is 36.27 million, what is the population in 1970? The average annual population growth rate is 3.86% -- 50.29 (47.7755, 52.8045) Accepted"
   ]
  },
  {
   "cell_type": "markdown",
   "id": "1a4cb6e5",
   "metadata": {
    "slideshow": {
     "slide_type": "slide"
    }
   },
   "source": [
    "### Business"
   ]
  },
  {
   "cell_type": "markdown",
   "id": "fe81c76f",
   "metadata": {
    "slideshow": {
     "slide_type": "subslide"
    }
   },
   "source": [
    "**11A. Rank the following companies, from highest to lowest 2022 revenues. (1 Point Each)**\n",
    "\n",
    "    A. Coca-Cola Company -- 38,655 Million\n",
    "    \n",
    "    B. CVS Health -- 292,111 Million\n",
    "    \n",
    "    C. Microsoft -- 198,087 Million\n",
    "    \n",
    "    D. PepsiCo -- 79,474 Million\n",
    "    "
   ]
  },
  {
   "cell_type": "markdown",
   "id": "18f6cfe7",
   "metadata": {
    "slideshow": {
     "slide_type": "subslide"
    }
   },
   "source": [
    "**11B. Rank the following companies, from most to fewest employees (2022). (1 Point Each)**\n",
    "\n",
    "    A. Nike -- 73k\n",
    "    \n",
    "    B. Tesla -- 99k\n",
    "    \n",
    "    C. The Walt Disney Company -- 171k\n",
    "    \n",
    "    D. Wells Fargo -- 247k\n",
    "    "
   ]
  },
  {
   "cell_type": "markdown",
   "id": "8173b930",
   "metadata": {
    "slideshow": {
     "slide_type": "slide"
    }
   },
   "source": [
    "# BREAK (Scoring)"
   ]
  },
  {
   "cell_type": "markdown",
   "id": "7e7d2796",
   "metadata": {
    "slideshow": {
     "slide_type": "slide"
    }
   },
   "source": [
    "### Music"
   ]
  },
  {
   "cell_type": "markdown",
   "id": "9ae1a64e",
   "metadata": {
    "slideshow": {
     "slide_type": "subslide"
    }
   },
   "source": [
    "**12. Answer the following questions about music (1 Point Each)**\n",
    "\n",
    "    A. Before Oasis was formed, what was the name of the band started by Paul McGuigan, guitarist Paul Arthurs, drummer Tony McCarroll, and singer Chris Hutton? -- The Rain\n",
    "    \n",
    "    B. While Oasis was on tour in the U.S., during a concert in September 1994, Liam Gallagher made offensive remarks about American audiences and hit his brother Noel with a tamourine. Thsi upset Noel Gallagher so much that he temporarily quit the band before ultimately returning to the tour. In what U.S. city did this incident occur? -- Los Angeles"
   ]
  },
  {
   "cell_type": "markdown",
   "id": "eb8ceca1",
   "metadata": {
    "slideshow": {
     "slide_type": "slide"
    }
   },
   "source": [
    "### First Name Last Name"
   ]
  },
  {
   "cell_type": "markdown",
   "id": "e4e0d998",
   "metadata": {
    "slideshow": {
     "slide_type": "subslide"
    }
   },
   "source": [
    "**13. Based on the clue identify the person/character/thing/etc. The last name in the answer for question A will be the first name in the answer for question B, and so on. (2 Points Each)**\n",
    "\n",
    "    A. A fictional monkey who is the title character of a series of popular children's\n",
    "    books.\n",
    "    \n",
    "    B. Iconic british pop star of the 1980s and 1990s. A hit song of theirs contains the lyric \"Guilty feet have got no rhythm\", and another hit song of theirs was covered by Limp Bizkit on their debut album.\n",
    "    \n",
    "    C. This actor was in HBO's crime drama The Wire early in his career, before going on to bigger roles, including a part in the Marvel Cinematic Universe. He made his directoral debut this year. \n",
    "    \n",
    "    D. Very likely the most famous Canadian Psychologist, dead or alive. Most people know him as a podcaster who discusses cultural issues\n",
    " \n",
    " \n",
    "**Curious George Michael B. Jordan Peterson**"
   ]
  },
  {
   "cell_type": "markdown",
   "id": "42b09086",
   "metadata": {
    "slideshow": {
     "slide_type": "slide"
    }
   },
   "source": [
    "### Movies"
   ]
  },
  {
   "cell_type": "markdown",
   "id": "eca9dc1f",
   "metadata": {
    "slideshow": {
     "slide_type": "subslide"
    }
   },
   "source": [
    "**14. You will be shown the poster for four films. For each of these films, the director of the film also directed a film that won the Oscar for Best Picture between 2010-2023. Name the film that won Best Picture for 2 Points, and name the director for 3 points (5 Points Each).**"
   ]
  },
  {
   "cell_type": "markdown",
   "id": "cd1cd1a1",
   "metadata": {
    "slideshow": {
     "slide_type": "subslide"
    }
   },
   "source": [
    "**14A.**\n",
    "\n",
    "2020 -- Chloe Zhao\n",
    "\n",
    "<img src=\"img/nomadland.jpg\" width=\"60%\">"
   ]
  },
  {
   "cell_type": "markdown",
   "id": "fa393fed",
   "metadata": {
    "slideshow": {
     "slide_type": "subslide"
    }
   },
   "source": [
    "**14B.**\n",
    "\n",
    "2018 -- Peter Farrelly\n",
    "\n",
    "<img src=\"img/green_book.jpg\" width=\"60%\">"
   ]
  },
  {
   "cell_type": "markdown",
   "id": "214c63a2",
   "metadata": {
    "slideshow": {
     "slide_type": "subslide"
    }
   },
   "source": [
    "**14C.**\n",
    "\n",
    "2012 - Ben Affleck\n",
    "\n",
    "<img src=\"img/argo.jpg\" width=\"60%\">"
   ]
  },
  {
   "cell_type": "markdown",
   "id": "5476c6eb",
   "metadata": {
    "slideshow": {
     "slide_type": "subslide"
    }
   },
   "source": [
    "**14D.**\n",
    "\n",
    "2010 -- Tom Hooper\n",
    "\n",
    "<img src=\"img/kings_speech.jpg\" width=\"60%\">"
   ]
  },
  {
   "cell_type": "markdown",
   "id": "a58d92ca",
   "metadata": {
    "slideshow": {
     "slide_type": "subslide"
    }
   },
   "source": [
    "**15. (2 Points Each)**\n",
    "\n",
    "https://www.youtube.com/watch?v=2eSQm6EH0eY\n",
    "\n",
    "\n",
    "    A. 20th Century Fox 0:22\n",
    "    \n",
    "    B. Columbia 3:04\n",
    "    \n",
    "    C. Dreamworks 3:39\n",
    "    \n",
    "    D. New Line Cinema 8:37\n",
    "    \n",
    "    E. Paramount 8:56\n",
    "    \n",
    "    F. Universal 12:46"
   ]
  },
  {
   "cell_type": "markdown",
   "id": "81caf86b",
   "metadata": {
    "slideshow": {
     "slide_type": "slide"
    }
   },
   "source": [
    "### Guess the Data"
   ]
  },
  {
   "cell_type": "markdown",
   "id": "76a2ba30",
   "metadata": {
    "slideshow": {
     "slide_type": "subslide"
    }
   },
   "source": [
    "**16. Identify the data being shown on the map (5 Points)**\n",
    "\n",
    "<img src=\"img/coup_answer.jpg\" width=\"75%\">"
   ]
  },
  {
   "cell_type": "markdown",
   "id": "ec3d825e",
   "metadata": {
    "slideshow": {
     "slide_type": "slide"
    }
   },
   "source": [
    "### Bird's Eye View"
   ]
  },
  {
   "cell_type": "markdown",
   "id": "88bb002b",
   "metadata": {
    "slideshow": {
     "slide_type": "subslide"
    }
   },
   "source": [
    "**17. Identify the place from the aerial photograph (5 Points)**\n",
    "\n",
    "<img src=\"img/birds_eye_answer.png\" width=\"100%\">"
   ]
  },
  {
   "cell_type": "markdown",
   "id": "7dbd2118",
   "metadata": {
    "slideshow": {
     "slide_type": "slide"
    }
   },
   "source": [
    "### Visual Pun"
   ]
  },
  {
   "cell_type": "markdown",
   "id": "c26569ea",
   "metadata": {
    "slideshow": {
     "slide_type": "subslide"
    }
   },
   "source": [
    "**18. Each of the four images is a visual punn. All four of the images represent something that belong to the same category. Identify each image and the category (2 Points per image, 2 Points for the category, 10 Points total)**\n",
    "\n",
    "For this trivia there is an added element to the puzzle. Step 1 in solving the puzzle is deciphering what the image is. Step 2 requires using the example provided, to figure out the relationship between the clue and the answer, and then apply that relationship to each of the images in step 1. \n",
    "\n",
    "<img src=\"img/vp_example.png\" width=\"100%\">"
   ]
  },
  {
   "cell_type": "markdown",
   "id": "7e7ddf25",
   "metadata": {
    "slideshow": {
     "slide_type": "subslide"
    }
   },
   "source": [
    "**Answers**\n",
    "\n",
    "<img src=\"img/vp_answers.png\" width=\"100%\">"
   ]
  },
  {
   "cell_type": "markdown",
   "id": "15f5f002",
   "metadata": {
    "slideshow": {
     "slide_type": "slide"
    }
   },
   "source": [
    "# BREAK (Set Up Listening Section)"
   ]
  },
  {
   "cell_type": "markdown",
   "id": "8f00e75f",
   "metadata": {
    "slideshow": {
     "slide_type": "slide"
    }
   },
   "source": [
    "### Timelines"
   ]
  },
  {
   "cell_type": "markdown",
   "id": "d4495132",
   "metadata": {
    "slideshow": {
     "slide_type": "subslide"
    }
   },
   "source": [
    "**19A. You will listen to a brief portion of four songs. The songs were all released 2 years a part (e.g. 1980, 1982, 1984, 1986). Name the title of the song (1 Point), name the artist (1 Point), name the year it was released (1 Point), and order the songs by release date (oldest to newest) (1 Point Each). (Total Points Possible: 16)**\n",
    "\n",
    "     A. Steal My Sunshine - LEN 1999\n",
    "     \n",
    "     B. I Believe in a Thing Called Love -- The Darkness 2003\n",
    "     \n",
    "     C. Around the World -- Daft Punk 1997\n",
    "     \n",
    "     D. The Middle -- Jimmy Eat World 2001"
   ]
  },
  {
   "cell_type": "markdown",
   "id": "c24500bd",
   "metadata": {
    "slideshow": {
     "slide_type": "subslide"
    }
   },
   "source": [
    "**19B. You will listen to a brief portion of four songs. The songs were all released 2 years a part (e.g. 1980, 1982, 1984, 1986). Name the title of the song (1 Point), name the artist (1 Point), name the year it was released (1 Point), and order the songs by release date (oldest to newest) (1 Point Each). (Total Points Possible: 16)**\n",
    "\n",
    "     A. Buggin Out -- A Tribe Called Quest 1991\n",
    "     \n",
    "     B. Just a Friend -- Biz Markie 1989\n",
    "     \n",
    "     C. This is How We Do It -- Montell Jordan 1995\n",
    "     \n",
    "     D. C.R.E.A.M. -- Wu-Tang Clan 1993"
   ]
  },
  {
   "cell_type": "markdown",
   "id": "b4e067a3",
   "metadata": {
    "slideshow": {
     "slide_type": "subslide"
    }
   },
   "source": [
    "**19C. You will listen to a brief portion of four songs. The songs were all released 2 years a part (e.g. 1980, 1982, 1984, 1986). Name the title of the song (1 Point), name the artist (1 Point), name the year it was released (1 Point), and order the songs by release date (oldest to newest) (1 Point Each). (Total Points Possible: 16)**\n",
    "\n",
    "     A. Too Little Too Late -- JoJo 2006\n",
    "     \n",
    "     B. Stronger -- Brittany Spears 2000\n",
    "     \n",
    "     C. Foolish -- Ashanti 2002\n",
    "     \n",
    "     D. Goodies -- Ciara 2004"
   ]
  }
 ],
 "metadata": {
  "celltoolbar": "Slideshow",
  "kernelspec": {
   "display_name": "Python 3 (ipykernel)",
   "language": "python",
   "name": "python3"
  },
  "language_info": {
   "codemirror_mode": {
    "name": "ipython",
    "version": 3
   },
   "file_extension": ".py",
   "mimetype": "text/x-python",
   "name": "python",
   "nbconvert_exporter": "python",
   "pygments_lexer": "ipython3",
   "version": "3.9.13"
  }
 },
 "nbformat": 4,
 "nbformat_minor": 5
}
