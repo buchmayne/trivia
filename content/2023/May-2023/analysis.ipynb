{
 "cells": [
  {
   "cell_type": "code",
   "execution_count": 8,
   "id": "64fcadb6",
   "metadata": {},
   "outputs": [],
   "source": [
    "import os\n",
    "import pandas as pd\n",
    "import pendulum"
   ]
  },
  {
   "cell_type": "code",
   "execution_count": 2,
   "id": "ac7c34e8",
   "metadata": {},
   "outputs": [],
   "source": [
    "path_food_prod = os.path.expanduser(\"~/Desktop/FAOSTAT_data_en_3-27-2023.csv\")\n",
    "\n",
    "df = pd.read_csv(path_food_prod)"
   ]
  },
  {
   "cell_type": "code",
   "execution_count": 7,
   "id": "8d3a2d5a",
   "metadata": {},
   "outputs": [
    {
     "data": {
      "text/html": [
       "<div>\n",
       "<style scoped>\n",
       "    .dataframe tbody tr th:only-of-type {\n",
       "        vertical-align: middle;\n",
       "    }\n",
       "\n",
       "    .dataframe tbody tr th {\n",
       "        vertical-align: top;\n",
       "    }\n",
       "\n",
       "    .dataframe thead th {\n",
       "        text-align: right;\n",
       "    }\n",
       "</style>\n",
       "<table border=\"1\" class=\"dataframe\">\n",
       "  <thead>\n",
       "    <tr style=\"text-align: right;\">\n",
       "      <th></th>\n",
       "      <th>Domain Code</th>\n",
       "      <th>Domain</th>\n",
       "      <th>Area Code (M49)</th>\n",
       "      <th>Area</th>\n",
       "      <th>Element Code</th>\n",
       "      <th>Element</th>\n",
       "      <th>Item Code (CPC)</th>\n",
       "      <th>Item</th>\n",
       "      <th>Year Code</th>\n",
       "      <th>Year</th>\n",
       "      <th>Unit</th>\n",
       "      <th>Value</th>\n",
       "      <th>Flag</th>\n",
       "      <th>Flag Description</th>\n",
       "    </tr>\n",
       "  </thead>\n",
       "  <tbody>\n",
       "    <tr>\n",
       "      <th>0</th>\n",
       "      <td>QV</td>\n",
       "      <td>Value of Agricultural Production</td>\n",
       "      <td>159</td>\n",
       "      <td>China</td>\n",
       "      <td>57</td>\n",
       "      <td>Gross Production Value (current thousand US$)</td>\n",
       "      <td>1312</td>\n",
       "      <td>Bananas</td>\n",
       "      <td>2021</td>\n",
       "      <td>2021</td>\n",
       "      <td>1000 US$</td>\n",
       "      <td>7951860</td>\n",
       "      <td>E</td>\n",
       "      <td>Estimated value</td>\n",
       "    </tr>\n",
       "    <tr>\n",
       "      <th>1</th>\n",
       "      <td>QV</td>\n",
       "      <td>Value of Agricultural Production</td>\n",
       "      <td>156</td>\n",
       "      <td>China, mainland</td>\n",
       "      <td>57</td>\n",
       "      <td>Gross Production Value (current thousand US$)</td>\n",
       "      <td>1312</td>\n",
       "      <td>Bananas</td>\n",
       "      <td>2021</td>\n",
       "      <td>2021</td>\n",
       "      <td>1000 US$</td>\n",
       "      <td>7951860</td>\n",
       "      <td>E</td>\n",
       "      <td>Estimated value</td>\n",
       "    </tr>\n",
       "    <tr>\n",
       "      <th>2</th>\n",
       "      <td>QV</td>\n",
       "      <td>Value of Agricultural Production</td>\n",
       "      <td>159</td>\n",
       "      <td>China</td>\n",
       "      <td>57</td>\n",
       "      <td>Gross Production Value (current thousand US$)</td>\n",
       "      <td>1232</td>\n",
       "      <td>Cucumbers and gherkins</td>\n",
       "      <td>2021</td>\n",
       "      <td>2021</td>\n",
       "      <td>1000 US$</td>\n",
       "      <td>43114678</td>\n",
       "      <td>E</td>\n",
       "      <td>Estimated value</td>\n",
       "    </tr>\n",
       "    <tr>\n",
       "      <th>3</th>\n",
       "      <td>QV</td>\n",
       "      <td>Value of Agricultural Production</td>\n",
       "      <td>159</td>\n",
       "      <td>China</td>\n",
       "      <td>57</td>\n",
       "      <td>Gross Production Value (current thousand US$)</td>\n",
       "      <td>1323</td>\n",
       "      <td>Oranges</td>\n",
       "      <td>2021</td>\n",
       "      <td>2021</td>\n",
       "      <td>1000 US$</td>\n",
       "      <td>5512181</td>\n",
       "      <td>E</td>\n",
       "      <td>Estimated value</td>\n",
       "    </tr>\n",
       "    <tr>\n",
       "      <th>4</th>\n",
       "      <td>QV</td>\n",
       "      <td>Value of Agricultural Production</td>\n",
       "      <td>156</td>\n",
       "      <td>China, mainland</td>\n",
       "      <td>57</td>\n",
       "      <td>Gross Production Value (current thousand US$)</td>\n",
       "      <td>1323</td>\n",
       "      <td>Oranges</td>\n",
       "      <td>2021</td>\n",
       "      <td>2021</td>\n",
       "      <td>1000 US$</td>\n",
       "      <td>5512181</td>\n",
       "      <td>E</td>\n",
       "      <td>Estimated value</td>\n",
       "    </tr>\n",
       "    <tr>\n",
       "      <th>5</th>\n",
       "      <td>QV</td>\n",
       "      <td>Value of Agricultural Production</td>\n",
       "      <td>159</td>\n",
       "      <td>China</td>\n",
       "      <td>57</td>\n",
       "      <td>Gross Production Value (current thousand US$)</td>\n",
       "      <td>1318</td>\n",
       "      <td>Pineapples</td>\n",
       "      <td>2021</td>\n",
       "      <td>2021</td>\n",
       "      <td>1000 US$</td>\n",
       "      <td>1293628</td>\n",
       "      <td>E</td>\n",
       "      <td>Estimated value</td>\n",
       "    </tr>\n",
       "    <tr>\n",
       "      <th>6</th>\n",
       "      <td>QV</td>\n",
       "      <td>Value of Agricultural Production</td>\n",
       "      <td>156</td>\n",
       "      <td>China, mainland</td>\n",
       "      <td>57</td>\n",
       "      <td>Gross Production Value (current thousand US$)</td>\n",
       "      <td>1318</td>\n",
       "      <td>Pineapples</td>\n",
       "      <td>2021</td>\n",
       "      <td>2021</td>\n",
       "      <td>1000 US$</td>\n",
       "      <td>1293628</td>\n",
       "      <td>E</td>\n",
       "      <td>Estimated value</td>\n",
       "    </tr>\n",
       "    <tr>\n",
       "      <th>7</th>\n",
       "      <td>QV</td>\n",
       "      <td>Value of Agricultural Production</td>\n",
       "      <td>159</td>\n",
       "      <td>China</td>\n",
       "      <td>57</td>\n",
       "      <td>Gross Production Value (current thousand US$)</td>\n",
       "      <td>1354</td>\n",
       "      <td>Strawberries</td>\n",
       "      <td>2021</td>\n",
       "      <td>2021</td>\n",
       "      <td>1000 US$</td>\n",
       "      <td>9018729</td>\n",
       "      <td>E</td>\n",
       "      <td>Estimated value</td>\n",
       "    </tr>\n",
       "    <tr>\n",
       "      <th>8</th>\n",
       "      <td>QV</td>\n",
       "      <td>Value of Agricultural Production</td>\n",
       "      <td>156</td>\n",
       "      <td>China, mainland</td>\n",
       "      <td>57</td>\n",
       "      <td>Gross Production Value (current thousand US$)</td>\n",
       "      <td>1354</td>\n",
       "      <td>Strawberries</td>\n",
       "      <td>2021</td>\n",
       "      <td>2021</td>\n",
       "      <td>1000 US$</td>\n",
       "      <td>9018729</td>\n",
       "      <td>E</td>\n",
       "      <td>Estimated value</td>\n",
       "    </tr>\n",
       "    <tr>\n",
       "      <th>9</th>\n",
       "      <td>QV</td>\n",
       "      <td>Value of Agricultural Production</td>\n",
       "      <td>159</td>\n",
       "      <td>China</td>\n",
       "      <td>57</td>\n",
       "      <td>Gross Production Value (current thousand US$)</td>\n",
       "      <td>1221</td>\n",
       "      <td>Watermelons</td>\n",
       "      <td>2021</td>\n",
       "      <td>2021</td>\n",
       "      <td>1000 US$</td>\n",
       "      <td>32408209</td>\n",
       "      <td>E</td>\n",
       "      <td>Estimated value</td>\n",
       "    </tr>\n",
       "    <tr>\n",
       "      <th>10</th>\n",
       "      <td>QV</td>\n",
       "      <td>Value of Agricultural Production</td>\n",
       "      <td>156</td>\n",
       "      <td>China, mainland</td>\n",
       "      <td>57</td>\n",
       "      <td>Gross Production Value (current thousand US$)</td>\n",
       "      <td>1221</td>\n",
       "      <td>Watermelons</td>\n",
       "      <td>2021</td>\n",
       "      <td>2021</td>\n",
       "      <td>1000 US$</td>\n",
       "      <td>32408209</td>\n",
       "      <td>E</td>\n",
       "      <td>Estimated value</td>\n",
       "    </tr>\n",
       "    <tr>\n",
       "      <th>11</th>\n",
       "      <td>QV</td>\n",
       "      <td>Value of Agricultural Production</td>\n",
       "      <td>484</td>\n",
       "      <td>Mexico</td>\n",
       "      <td>57</td>\n",
       "      <td>Gross Production Value (current thousand US$)</td>\n",
       "      <td>1311</td>\n",
       "      <td>Avocados</td>\n",
       "      <td>2021</td>\n",
       "      <td>2021</td>\n",
       "      <td>1000 US$</td>\n",
       "      <td>2492960</td>\n",
       "      <td>E</td>\n",
       "      <td>Estimated value</td>\n",
       "    </tr>\n",
       "  </tbody>\n",
       "</table>\n",
       "</div>"
      ],
      "text/plain": [
       "   Domain Code                            Domain  Area Code (M49)  \\\n",
       "0           QV  Value of Agricultural Production              159   \n",
       "1           QV  Value of Agricultural Production              156   \n",
       "2           QV  Value of Agricultural Production              159   \n",
       "3           QV  Value of Agricultural Production              159   \n",
       "4           QV  Value of Agricultural Production              156   \n",
       "5           QV  Value of Agricultural Production              159   \n",
       "6           QV  Value of Agricultural Production              156   \n",
       "7           QV  Value of Agricultural Production              159   \n",
       "8           QV  Value of Agricultural Production              156   \n",
       "9           QV  Value of Agricultural Production              159   \n",
       "10          QV  Value of Agricultural Production              156   \n",
       "11          QV  Value of Agricultural Production              484   \n",
       "\n",
       "               Area  Element Code  \\\n",
       "0             China            57   \n",
       "1   China, mainland            57   \n",
       "2             China            57   \n",
       "3             China            57   \n",
       "4   China, mainland            57   \n",
       "5             China            57   \n",
       "6   China, mainland            57   \n",
       "7             China            57   \n",
       "8   China, mainland            57   \n",
       "9             China            57   \n",
       "10  China, mainland            57   \n",
       "11           Mexico            57   \n",
       "\n",
       "                                          Element  Item Code (CPC)  \\\n",
       "0   Gross Production Value (current thousand US$)             1312   \n",
       "1   Gross Production Value (current thousand US$)             1312   \n",
       "2   Gross Production Value (current thousand US$)             1232   \n",
       "3   Gross Production Value (current thousand US$)             1323   \n",
       "4   Gross Production Value (current thousand US$)             1323   \n",
       "5   Gross Production Value (current thousand US$)             1318   \n",
       "6   Gross Production Value (current thousand US$)             1318   \n",
       "7   Gross Production Value (current thousand US$)             1354   \n",
       "8   Gross Production Value (current thousand US$)             1354   \n",
       "9   Gross Production Value (current thousand US$)             1221   \n",
       "10  Gross Production Value (current thousand US$)             1221   \n",
       "11  Gross Production Value (current thousand US$)             1311   \n",
       "\n",
       "                      Item  Year Code  Year      Unit     Value Flag  \\\n",
       "0                  Bananas       2021  2021  1000 US$   7951860    E   \n",
       "1                  Bananas       2021  2021  1000 US$   7951860    E   \n",
       "2   Cucumbers and gherkins       2021  2021  1000 US$  43114678    E   \n",
       "3                  Oranges       2021  2021  1000 US$   5512181    E   \n",
       "4                  Oranges       2021  2021  1000 US$   5512181    E   \n",
       "5               Pineapples       2021  2021  1000 US$   1293628    E   \n",
       "6               Pineapples       2021  2021  1000 US$   1293628    E   \n",
       "7             Strawberries       2021  2021  1000 US$   9018729    E   \n",
       "8             Strawberries       2021  2021  1000 US$   9018729    E   \n",
       "9              Watermelons       2021  2021  1000 US$  32408209    E   \n",
       "10             Watermelons       2021  2021  1000 US$  32408209    E   \n",
       "11                Avocados       2021  2021  1000 US$   2492960    E   \n",
       "\n",
       "   Flag Description  \n",
       "0   Estimated value  \n",
       "1   Estimated value  \n",
       "2   Estimated value  \n",
       "3   Estimated value  \n",
       "4   Estimated value  \n",
       "5   Estimated value  \n",
       "6   Estimated value  \n",
       "7   Estimated value  \n",
       "8   Estimated value  \n",
       "9   Estimated value  \n",
       "10  Estimated value  \n",
       "11  Estimated value  "
      ]
     },
     "execution_count": 7,
     "metadata": {},
     "output_type": "execute_result"
    }
   ],
   "source": [
    "\n",
    "\n",
    "(\n",
    "    df\n",
    "    .merge(\n",
    "        (\n",
    "            df\n",
    "            .groupby(['Item'], as_index=False)\n",
    "            .agg(Value=('Value', 'max'))\n",
    "        )\n",
    "    )\n",
    ")"
   ]
  },
  {
   "cell_type": "code",
   "execution_count": 10,
   "id": "cd509f76",
   "metadata": {},
   "outputs": [
    {
     "data": {
      "text/plain": [
       "'2023-03-27 14:28:41'"
      ]
     },
     "execution_count": 10,
     "metadata": {},
     "output_type": "execute_result"
    }
   ],
   "source": []
  },
  {
   "cell_type": "code",
   "execution_count": 11,
   "id": "cb13c196",
   "metadata": {},
   "outputs": [],
   "source": [
    "def read_hashed_geos_from_parquet(properties_folder):\n",
    "    \"\"\"Read the hashed geometry from parquet file of parcel properties\"\"\"\n",
    "    properties_files = [pendulum.parse(p.replace(\".parquet\", \"\")) for p in os.listdir(f\"{properties_folder}\")]\n",
    "    most_recent_file = max(properties_files)\n",
    "    path_ = f\"{properties_folder}/{most_recent_file.format('YYYY-MM-DD__HH:mm:ss')}.parquet\"\n",
    "    df = pd.read_parquet(path_, columns=['hashed_geometry'])\n",
    "    return df"
   ]
  },
  {
   "cell_type": "code",
   "execution_count": 17,
   "id": "ce8b009c",
   "metadata": {},
   "outputs": [],
   "source": [
    "ts1 = pendulum.now().to_datetime_string()\n"
   ]
  },
  {
   "cell_type": "code",
   "execution_count": 18,
   "id": "49dfe903",
   "metadata": {},
   "outputs": [],
   "source": [
    "path_1 = f\"{ts1}.parquet\""
   ]
  },
  {
   "cell_type": "code",
   "execution_count": 19,
   "id": "b4df88a4",
   "metadata": {},
   "outputs": [],
   "source": [
    "ts2 = pendulum.now().to_datetime_string()\n",
    "\n",
    "\n",
    "path_2 = f\"{ts2}.parquet\""
   ]
  },
  {
   "cell_type": "code",
   "execution_count": 20,
   "id": "b70598fa",
   "metadata": {},
   "outputs": [],
   "source": [
    "list_paths = [path_1, path_2]"
   ]
  },
  {
   "cell_type": "code",
   "execution_count": 21,
   "id": "70f6aae8",
   "metadata": {},
   "outputs": [
    {
     "data": {
      "text/plain": [
       "['2023-03-27 14:31:47.parquet', '2023-03-27 14:32:15.parquet']"
      ]
     },
     "execution_count": 21,
     "metadata": {},
     "output_type": "execute_result"
    }
   ],
   "source": [
    "list_paths"
   ]
  },
  {
   "cell_type": "code",
   "execution_count": 23,
   "id": "7be6816b",
   "metadata": {},
   "outputs": [],
   "source": [
    "properties_files = [pendulum.parse(p.replace(\".parquet\", \"\")) for p in list_paths]"
   ]
  },
  {
   "cell_type": "code",
   "execution_count": 25,
   "id": "61190e9a",
   "metadata": {},
   "outputs": [],
   "source": [
    "most_recent_file = max(properties_files)"
   ]
  },
  {
   "cell_type": "code",
   "execution_count": 27,
   "id": "87321775",
   "metadata": {},
   "outputs": [
    {
     "data": {
      "text/plain": [
       "'2023-03-27 14:32:15'"
      ]
     },
     "execution_count": 27,
     "metadata": {},
     "output_type": "execute_result"
    }
   ],
   "source": [
    "most_recent_file"
   ]
  },
  {
   "cell_type": "code",
   "execution_count": 28,
   "id": "4dd1e29f",
   "metadata": {},
   "outputs": [],
   "source": [
    "s1 = pd.Series([1, 2, 3])\n",
    "s2 = pd.Series([1, 2, 3])\n",
    "s3 = pd.Series([2, 2, 2])"
   ]
  },
  {
   "cell_type": "code",
   "execution_count": 29,
   "id": "dfb1998a",
   "metadata": {},
   "outputs": [
    {
     "data": {
      "text/plain": [
       "True"
      ]
     },
     "execution_count": 29,
     "metadata": {},
     "output_type": "execute_result"
    }
   ],
   "source": [
    "s1.equals(s2)"
   ]
  },
  {
   "cell_type": "code",
   "execution_count": 30,
   "id": "60be91ee",
   "metadata": {},
   "outputs": [
    {
     "data": {
      "text/plain": [
       "False"
      ]
     },
     "execution_count": 30,
     "metadata": {},
     "output_type": "execute_result"
    }
   ],
   "source": [
    "s1.equals(s3)"
   ]
  },
  {
   "cell_type": "code",
   "execution_count": 31,
   "id": "244abada",
   "metadata": {},
   "outputs": [
    {
     "name": "stdout",
     "output_type": "stream",
     "text": [
      "diff\n"
     ]
    }
   ],
   "source": [
    "if not s1.equals(s3):\n",
    "    print(\"diff\")"
   ]
  },
  {
   "cell_type": "code",
   "execution_count": null,
   "id": "70acb6e0",
   "metadata": {},
   "outputs": [],
   "source": []
  }
 ],
 "metadata": {
  "kernelspec": {
   "display_name": "Python 3 (ipykernel)",
   "language": "python",
   "name": "python3"
  },
  "language_info": {
   "codemirror_mode": {
    "name": "ipython",
    "version": 3
   },
   "file_extension": ".py",
   "mimetype": "text/x-python",
   "name": "python",
   "nbconvert_exporter": "python",
   "pygments_lexer": "ipython3",
   "version": "3.10.9"
  }
 },
 "nbformat": 4,
 "nbformat_minor": 5
}
