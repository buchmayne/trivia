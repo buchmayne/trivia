{
 "cells": [
  {
   "cell_type": "markdown",
   "id": "1c1866bd",
   "metadata": {
    "slideshow": {
     "slide_type": "slide"
    }
   },
   "source": [
    "<script>\n",
    "    console.log(\"Hello. You'll see this printed in your browser's DevTools / Console. Feel free to delete this line.\");\n",
    "    document.querySelector('head').innerHTML += '<style>.slides { zoom: 1.25 !important; }</style>';\n",
    "</script>\n",
    "\n",
    "# Trivia May 2023\n",
    "\n",
    "by Marley Buchman"
   ]
  },
  {
   "cell_type": "markdown",
   "id": "3669c589",
   "metadata": {
    "slideshow": {
     "slide_type": "slide"
    }
   },
   "source": [
    "### 19 Question, 186 Total Points (78 Round 1, 60 Round 2, 48 Final Round)"
   ]
  },
  {
   "cell_type": "markdown",
   "id": "c087ce6d",
   "metadata": {
    "slideshow": {
     "slide_type": "slide"
    }
   },
   "source": [
    "### Sports Franchises"
   ]
  },
  {
   "cell_type": "markdown",
   "id": "c31444e3",
   "metadata": {
    "slideshow": {
     "slide_type": "subslide"
    }
   },
   "source": [
    "**1. For each of the following sports franchises, name a city that the franchise was previoulsy located in (1 Point Each)**\n",
    "\n",
    "    A. Arizona Cardinals\n",
    "    \n",
    "    B. Sacramento Kings\n",
    "    \n",
    "    C. Washington Nationals\n",
    "    \n",
    "    D. Oakland Athletics (A's)"
   ]
  },
  {
   "cell_type": "markdown",
   "id": "34677232",
   "metadata": {
    "slideshow": {
     "slide_type": "slide"
    }
   },
   "source": [
    "### Justice"
   ]
  },
  {
   "cell_type": "markdown",
   "id": "2f38a982",
   "metadata": {
    "slideshow": {
     "slide_type": "subslide"
    }
   },
   "source": [
    "**2. Can you name all of the current Supreme Court justices (1 Point for Each Correct Answer, -1 Point for Each Incorrect Answer)**\n"
   ]
  },
  {
   "cell_type": "markdown",
   "id": "de7fe89e",
   "metadata": {
    "slideshow": {
     "slide_type": "slide"
    }
   },
   "source": [
    "### Computers"
   ]
  },
  {
   "cell_type": "markdown",
   "id": "ad72b9c2",
   "metadata": {
    "slideshow": {
     "slide_type": "subslide"
    }
   },
   "source": [
    "**3. Identify the punctuation mark that shares a key on a computer keyboard with each of the following numbers (1 Point Each)**\n",
    "\n",
    "    A. 1\n",
    "    \n",
    "    B. 3\n",
    "    \n",
    "    C. 6\n",
    "    \n",
    "    D. 9"
   ]
  },
  {
   "cell_type": "markdown",
   "id": "a7f30288",
   "metadata": {
    "slideshow": {
     "slide_type": "slide"
    }
   },
   "source": [
    "### Coffee"
   ]
  },
  {
   "cell_type": "markdown",
   "id": "f5558c28",
   "metadata": {
    "slideshow": {
     "slide_type": "subslide"
    }
   },
   "source": [
    "**4. Match the coffee drink to the description (1 Point Each)**\n",
    "\n",
    "Drinks: Turkish Coffee, Flat White, Cappuccino, Cortado\n",
    "\n",
    "    A. Made using equal amounts of espresso and steamed milke. The milk is steamed but not foamy or frothy as in other drinks\n",
    "    \n",
    "    B. One-third espresso, one-third hot milk, and one-third milk foam\n",
    "    \n",
    "    C. Made by repeatedly boiling very finely ground coffee with sugar. This process produces a frothy, lightly textured drink\n",
    "    \n",
    "    D. Consisting of espresso with microfoam (steamed milke with small, fine bubbles and a glossy or velvety consistency)\n"
   ]
  },
  {
   "cell_type": "markdown",
   "id": "df385539",
   "metadata": {
    "slideshow": {
     "slide_type": "slide"
    }
   },
   "source": [
    "### Land"
   ]
  },
  {
   "cell_type": "markdown",
   "id": "6359b9aa",
   "metadata": {
    "slideshow": {
     "slide_type": "subslide"
    }
   },
   "source": [
    "**5. Identify what has a greater land area (1 Point Each)**\n",
    "\n",
    "    A. (Oregon + California) or France\n",
    "    \n",
    "    B. (Germany + Poland + Czech Republic) or Texas\n",
    "    \n",
    "    C. (USA + Canada) or Russia\n",
    "    \n",
    "    D. (New York (State) + New Jersey + Pennsylvania) or United Kingdom"
   ]
  },
  {
   "cell_type": "markdown",
   "id": "b2520b05",
   "metadata": {
    "slideshow": {
     "slide_type": "slide"
    }
   },
   "source": [
    "### Words"
   ]
  },
  {
   "cell_type": "markdown",
   "id": "ed4fac4c",
   "metadata": {
    "slideshow": {
     "slide_type": "subslide"
    }
   },
   "source": [
    "**6. Match the dying words of the famous person to the famous person (1 Point Each)**\n",
    "\n",
    "Famous People: **Timothy McVeigh, Che Guevara, Dwight D. Eisenhower, Winston Churchill**\n",
    "\n",
    "    A. \"It matters not how strait the gate, How charged with punishments the scroll, I am the master of my fate: I am the captain of my soul.\"\n",
    "    \n",
    "    B. \"I know you are here to kill me. Shoot, coward, you are only going to kill a man.\"\n",
    "    \n",
    "    C. \"I've always loved my wife, my children, and my grandchildren, and I've always loved my country. I want to go. God, take me.\"\n",
    "    \n",
    "    D. \"I'm bored with it all.\"\n",
    "    "
   ]
  },
  {
   "cell_type": "markdown",
   "id": "3e7bcbf5",
   "metadata": {
    "slideshow": {
     "slide_type": "slide"
    }
   },
   "source": [
    "### Lifetimes"
   ]
  },
  {
   "cell_type": "markdown",
   "id": "333575d2",
   "metadata": {
    "slideshow": {
     "slide_type": "subslide"
    }
   },
   "source": [
    "**7. For each of the following pairs of historical figures, were they alive at the same time? (1 Point Each)**\n",
    "\n",
    "    A. Martin Luther King Jr. & Mark Twain\n",
    "    \n",
    "    B. Mahatma Gandhi & Karl Marx\n",
    "    \n",
    "    C. George Washington & Abraham Lincoln\n",
    "    \n",
    "    D. Billie Eilish & Ronald Reagan"
   ]
  },
  {
   "cell_type": "markdown",
   "id": "8848e9db",
   "metadata": {
    "slideshow": {
     "slide_type": "slide"
    }
   },
   "source": [
    "### Fear"
   ]
  },
  {
   "cell_type": "markdown",
   "id": "94646b4c",
   "metadata": {
    "slideshow": {
     "slide_type": "subslide"
    }
   },
   "source": [
    "**8. Match each of the following phobias to the description of the phobia (1 Point Each)**\n",
    "\n",
    "Phobias: **Halitophobia, Nyctophobia, Phallophobia, Gephyrophobia**\n",
    "\n",
    "    A. Fear of the penis and in a broader sense an excessive aversion to masculinity\n",
    "    \n",
    "    B. Fear of bridges and tunnels\n",
    "    \n",
    "    C. Fear of bad breath\n",
    "    \n",
    "    D. Fear of the dark\n",
    "    "
   ]
  },
  {
   "cell_type": "markdown",
   "id": "3589809e",
   "metadata": {
    "slideshow": {
     "slide_type": "slide"
    }
   },
   "source": [
    "### Cities of the Global South"
   ]
  },
  {
   "cell_type": "markdown",
   "id": "1c21ee27",
   "metadata": {
    "slideshow": {
     "slide_type": "subslide"
    }
   },
   "source": [
    "**9.**\n",
    "\n",
    "You will be shown a picture of a city from each of the following regions:\n",
    "**Central America, The Middle East, Central Asia (The Stans), Sub-Saharan Africa**.\n",
    "\n",
    "Each city shown is the city with the largest population of any city in that region. For 1 point, match the picture of a city to the region. For 2 points, name the country for which the city is located. For 3 points, name the city shown in the image. (**24 Points Possible**)"
   ]
  },
  {
   "cell_type": "markdown",
   "id": "e3c08821",
   "metadata": {
    "slideshow": {
     "slide_type": "subslide"
    }
   },
   "source": [
    "**9A.**\n",
    "\n",
    "<img src=\"img/tashkent.jpg\" width=\"500%\">"
   ]
  },
  {
   "cell_type": "markdown",
   "id": "52c4c341",
   "metadata": {
    "slideshow": {
     "slide_type": "subslide"
    }
   },
   "source": [
    "**9B.**\n",
    "\n",
    "<img src=\"img/cairo.jpg\" width=\"500%\">"
   ]
  },
  {
   "cell_type": "markdown",
   "id": "663aa29f",
   "metadata": {
    "slideshow": {
     "slide_type": "subslide"
    }
   },
   "source": [
    "**9C.**\n",
    "\n",
    "<img src=\"img/kinshasa.jpg\" width=\"100%\">"
   ]
  },
  {
   "cell_type": "markdown",
   "id": "888888ae",
   "metadata": {
    "slideshow": {
     "slide_type": "subslide"
    }
   },
   "source": [
    "**9D.**\n",
    "\n",
    "<img src=\"img/panama_city.jpg\" width=\"500%\">"
   ]
  },
  {
   "cell_type": "markdown",
   "id": "cff5f10e",
   "metadata": {
    "slideshow": {
     "slide_type": "slide"
    }
   },
   "source": [
    "### Growth"
   ]
  },
  {
   "cell_type": "markdown",
   "id": "434ef3d9",
   "metadata": {
    "slideshow": {
     "slide_type": "subslide"
    }
   },
   "source": [
    "**10. For each of the following unlabeled countries, you will be given the population in a specific year, and the average annual population growth rate between that year and a later year. Estimate the population in the outer year (2 Point Each)**\n",
    "\n",
    "    A. Population in 1980 is 226.5 million, what is the population in 2020? The average annual population growth rate is 1.13%\n",
    "    \n",
    "    B. Population in 1960 is 36.27 million, what is the population in 1970? The average annual population growth rate is 3.86%"
   ]
  },
  {
   "cell_type": "markdown",
   "id": "b0ad3332",
   "metadata": {
    "slideshow": {
     "slide_type": "slide"
    }
   },
   "source": [
    "### Business"
   ]
  },
  {
   "cell_type": "markdown",
   "id": "aaf1c2bf",
   "metadata": {
    "slideshow": {
     "slide_type": "subslide"
    }
   },
   "source": [
    "**11A. Rank the following companies, from highest to lowest 2022 revenues. (1 Point Each)**\n",
    "\n",
    "    A. Coca-Cola Company\n",
    "    \n",
    "    B. CVS Health\n",
    "    \n",
    "    C. Microsoft\n",
    "    \n",
    "    D. PepsiCo\n",
    "    "
   ]
  },
  {
   "cell_type": "markdown",
   "id": "a46d4b14",
   "metadata": {
    "slideshow": {
     "slide_type": "subslide"
    }
   },
   "source": [
    "**11B. Rank the following companies, from most to fewest employees (2022). (1 Point Each)**\n",
    "\n",
    "    A. Nike\n",
    "    \n",
    "    B. Tesla\n",
    "    \n",
    "    C. The Walt Disney Company\n",
    "    \n",
    "    D. Wells Fargo\n",
    "    "
   ]
  },
  {
   "cell_type": "markdown",
   "id": "9f7bc89a",
   "metadata": {
    "slideshow": {
     "slide_type": "slide"
    }
   },
   "source": [
    "# BREAK (Scoring)"
   ]
  },
  {
   "cell_type": "markdown",
   "id": "f7f9fb3e",
   "metadata": {
    "slideshow": {
     "slide_type": "slide"
    }
   },
   "source": [
    "### Music"
   ]
  },
  {
   "cell_type": "markdown",
   "id": "8e9e01fe",
   "metadata": {
    "slideshow": {
     "slide_type": "subslide"
    }
   },
   "source": [
    "**12. Answer the following questions about music (1 Point Each)**\n",
    "\n",
    "    A. Before Oasis was formed, what was the name of the band started by Paul McGuigan, guitarist Paul Arthurs, drummer Tony McCarroll, and singer Chris Hutton?\n",
    "    \n",
    "    B. While Oasis was on tour in the U.S., during a concert in September 1994, Liam Gallagher made offensive remarks about American audiences and hit his brother Noel with a tamourine. Thsi upset Noel Gallagher so much that he temporarily quit the band before ultimately returning to the tour. In what U.S. city did this incident occur?\n"
   ]
  },
  {
   "cell_type": "markdown",
   "id": "4f997d26",
   "metadata": {
    "slideshow": {
     "slide_type": "slide"
    }
   },
   "source": [
    "### First Name Last Name"
   ]
  },
  {
   "cell_type": "markdown",
   "id": "62762644",
   "metadata": {
    "slideshow": {
     "slide_type": "subslide"
    }
   },
   "source": [
    "**13. Based on the clue identify the person/character/thing/etc. The last name in the answer for question A will be the first name in the answer for question B, and so on. (2 Points Each)**\n",
    "\n",
    "    A. A fictional monkey who is the title character of a series of popular children's\n",
    "    books.\n",
    "    \n",
    "    B. Iconic british pop star of the 1980s and 1990s. A hit song of theirs contains the lyric \"Guilty feet have got no rhythm\", and another hit song of theirs was covered by Limp Bizkit on their debut album.\n",
    "    \n",
    "    C. This actor was in HBO's crime drama The Wire early in his career, before going on to bigger roles, including a part in the Marvel Cinematic Universe. He made his directoral debut this year. \n",
    "    \n",
    "    D. Very likely the most famous Canadian Psychologist, dead or alive. Most people know him as a podcaster who discusses cultural issues\n",
    " "
   ]
  },
  {
   "cell_type": "markdown",
   "id": "44ae7444",
   "metadata": {
    "slideshow": {
     "slide_type": "slide"
    }
   },
   "source": [
    "### Movies"
   ]
  },
  {
   "cell_type": "markdown",
   "id": "97a9b47d",
   "metadata": {
    "slideshow": {
     "slide_type": "subslide"
    }
   },
   "source": [
    "**14. You will be shown the poster for four films. For each of these films, the director of the film also directed a film that won the Oscar for Best Picture between 2010-2023. Name the film that won Best Picture for 2 Points, and name the director for 3 points (5 Points Each).**"
   ]
  },
  {
   "cell_type": "markdown",
   "id": "8ec153d1",
   "metadata": {
    "slideshow": {
     "slide_type": "subslide"
    }
   },
   "source": [
    "**14A.**\n",
    "\n",
    "<img src=\"img/eternals.jpg\" width=\"60%\">"
   ]
  },
  {
   "cell_type": "markdown",
   "id": "de36a93d",
   "metadata": {
    "slideshow": {
     "slide_type": "subslide"
    }
   },
   "source": [
    "**14B.**\n",
    "\n",
    "<img src=\"img/dumb_and_dumber.jpg\" width=\"50%\">"
   ]
  },
  {
   "cell_type": "markdown",
   "id": "62cbcf7c",
   "metadata": {
    "slideshow": {
     "slide_type": "subslide"
    }
   },
   "source": [
    "**14C.**\n",
    "\n",
    "<img src=\"img/gbg.jpg\" width=\"50%\">"
   ]
  },
  {
   "cell_type": "markdown",
   "id": "cf7c7ad6",
   "metadata": {
    "slideshow": {
     "slide_type": "subslide"
    }
   },
   "source": [
    "**14D.**\n",
    "\n",
    "<img src=\"img/cats.jpg\" width=\"50%\">"
   ]
  },
  {
   "cell_type": "markdown",
   "id": "df7c29d5",
   "metadata": {
    "slideshow": {
     "slide_type": "subslide"
    }
   },
   "source": [
    "**15. Identify the Studio/Production company by their iconic sound (2 Points Each).**\n",
    "\n",
    "<video width=\"100%\" height=\"100%\" \n",
    "       src=\"video/movie_studios.mp4\"  \n",
    "       controls>\n",
    "</video>"
   ]
  },
  {
   "cell_type": "markdown",
   "id": "6a70d71b",
   "metadata": {
    "slideshow": {
     "slide_type": "slide"
    }
   },
   "source": [
    "### Guess the Data"
   ]
  },
  {
   "cell_type": "markdown",
   "id": "4d79a72e",
   "metadata": {
    "slideshow": {
     "slide_type": "subslide"
    }
   },
   "source": [
    "**16. Identify the data being shown on the map (5 Points)**\n",
    "\n",
    "<img src=\"img/coup.png\" width=\"40%\">"
   ]
  },
  {
   "cell_type": "markdown",
   "id": "2cc9cba1",
   "metadata": {
    "slideshow": {
     "slide_type": "slide"
    }
   },
   "source": [
    "### Bird's Eye View"
   ]
  },
  {
   "cell_type": "markdown",
   "id": "b6ac5425",
   "metadata": {
    "slideshow": {
     "slide_type": "subslide"
    }
   },
   "source": [
    "**17. Identify the place from the aerial photograph (5 Points)**\n",
    "\n",
    "<img src=\"img/buenos_aires2.png\" width=\"100%\">"
   ]
  },
  {
   "cell_type": "markdown",
   "id": "e081978d",
   "metadata": {
    "slideshow": {
     "slide_type": "slide"
    }
   },
   "source": [
    "### Visual Punn"
   ]
  },
  {
   "cell_type": "markdown",
   "id": "3d2c1304",
   "metadata": {
    "slideshow": {
     "slide_type": "subslide"
    }
   },
   "source": [
    "**18. Each of the four images is a visual punn. All four of the images represent something that belong to the same category. Identify each image and the category (2 Points per image, 2 Points for the category, 10 Points total)**\n",
    "\n",
    "For this trivia there is an added element to the puzzle. Step 1 in solving the puzzle is deciphering what the image is. Step 2 requires using the example provided, to figure out the relationship between the clue and the answer, and then apply that relationship to each of the images in step 1. \n",
    "\n",
    "<img src=\"img/vp_example.png\" width=\"80%\">"
   ]
  },
  {
   "cell_type": "markdown",
   "id": "c78f7eea",
   "metadata": {
    "slideshow": {
     "slide_type": "subslide"
    }
   },
   "source": [
    "**Clues**\n",
    "\n",
    "<img src=\"img/vp_clues.png\" width=\"110%\">"
   ]
  },
  {
   "cell_type": "markdown",
   "id": "cca0a08c",
   "metadata": {
    "slideshow": {
     "slide_type": "slide"
    }
   },
   "source": [
    "# BREAK (Set Up Listening Section)"
   ]
  },
  {
   "cell_type": "markdown",
   "id": "e3f38c90",
   "metadata": {
    "slideshow": {
     "slide_type": "slide"
    }
   },
   "source": [
    "### Timelines"
   ]
  },
  {
   "cell_type": "markdown",
   "id": "6dcbb1c0",
   "metadata": {
    "slideshow": {
     "slide_type": "subslide"
    }
   },
   "source": [
    "**19A. You will listen to a brief portion of four songs. The songs were all released 2 years a part (e.g. 1980, 1982, 1984, 1986). Name the title of the song (1 Point), name the artist (1 Point), name the year it was released (1 Point), and order the songs by release date (oldest to newest) (1 Point Each). (Total Points Possible: 16)**\n",
    "\n",
    "     A. 0:35 - 1:20\n",
    "     \n",
    "     B. 0:00 - 0:55\n",
    "     \n",
    "     C. 0:15 - 1:00\n",
    "     \n",
    "     D. 0:00 - 0:45"
   ]
  },
  {
   "cell_type": "markdown",
   "id": "03bfe56b",
   "metadata": {
    "slideshow": {
     "slide_type": "subslide"
    }
   },
   "source": [
    "**19B. You will listen to a brief portion of four songs. The songs were all released 2 years a part (e.g. 1980, 1982, 1984, 1986). Name the title of the song (1 Point), name the artist (1 Point), name the year it was released (1 Point), and order the songs by release date (oldest to newest) (1 Point Each). (Total Points Possible: 16)**\n",
    "\n",
    "     A. 0:00 - 0:45\n",
    "     \n",
    "     B. 0:00 - 0:48\n",
    "     \n",
    "     C. 0:10 - 0:45\n",
    "     \n",
    "     D. 0:26 - 1:10"
   ]
  },
  {
   "cell_type": "markdown",
   "id": "5c598b7b",
   "metadata": {
    "slideshow": {
     "slide_type": "subslide"
    }
   },
   "source": [
    "**19C. You will listen to a brief portion of four songs. The songs were all released 2 years a part (e.g. 1980, 1982, 1984, 1986). Name the title of the song (1 Point), name the artist (1 Point), name the year it was released (1 Point), and order the songs by release date (oldest to newest) (1 Point Each). (Total Points Possible: 16)**\n",
    "\n",
    "     A. 0:10 - 0:55\n",
    "     \n",
    "     B. 0:05 - 0:50\n",
    "     \n",
    "     C. 0:10 - 0:59\n",
    "     \n",
    "     D. 0:30 - 1:15"
   ]
  },
  {
   "cell_type": "markdown",
   "id": "95c43fa8",
   "metadata": {
    "slideshow": {
     "slide_type": "slide"
    }
   },
   "source": [
    "<img src=\"img/vp_backup.png\" width=\"100%\">"
   ]
  }
 ],
 "metadata": {
  "celltoolbar": "Slideshow",
  "kernelspec": {
   "display_name": "Python 3 (ipykernel)",
   "language": "python",
   "name": "python3"
  },
  "language_info": {
   "codemirror_mode": {
    "name": "ipython",
    "version": 3
   },
   "file_extension": ".py",
   "mimetype": "text/x-python",
   "name": "python",
   "nbconvert_exporter": "python",
   "pygments_lexer": "ipython3",
   "version": "3.9.13"
  },
  "livereveal": {
   "css": "custom.css"
  }
 },
 "nbformat": 4,
 "nbformat_minor": 5
}
