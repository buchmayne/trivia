{
 "cells": [
  {
   "cell_type": "markdown",
   "id": "74a98a5a",
   "metadata": {
    "slideshow": {
     "slide_type": "slide"
    }
   },
   "source": [
    "# Trivia TBD 2023\n",
    "\n",
    "by Marley Buchman"
   ]
  },
  {
   "cell_type": "markdown",
   "id": "e6c31a4b",
   "metadata": {
    "slideshow": {
     "slide_type": "slide"
    }
   },
   "source": [
    "### X Question, Y Total Points"
   ]
  },
  {
   "cell_type": "markdown",
   "id": "0770e32c",
   "metadata": {
    "slideshow": {
     "slide_type": "slide"
    }
   },
   "source": [
    "### Sports Franchises"
   ]
  },
  {
   "cell_type": "markdown",
   "id": "3f14cdcf",
   "metadata": {
    "slideshow": {
     "slide_type": "subslide"
    }
   },
   "source": [
    "**1. For each of the following sports franchises, name a city that the franchise was previoulsy located in (1 Point Each)**\n",
    "\n",
    "    A. Arizona Cardinals - Chicago, St. Louis\n",
    "    \n",
    "    B. Sacramento Kings - Kansas City\n",
    "    \n",
    "    C. Washington Nationals - Montreal\n",
    "    \n",
    "    D. Oakland Athletics (A's) - Kansas City"
   ]
  },
  {
   "cell_type": "markdown",
   "id": "033b5111",
   "metadata": {
    "slideshow": {
     "slide_type": "slide"
    }
   },
   "source": [
    "### Justice"
   ]
  },
  {
   "cell_type": "markdown",
   "id": "3b90beaa",
   "metadata": {
    "slideshow": {
     "slide_type": "subslide"
    }
   },
   "source": [
    "**2. Can you name all of the current Supreme Court justices (1 Point for Each Correct Answer, -1 Point for Each Incorrect Answer)**\n",
    "\n",
    "John Roberts, Clarence Thomase, Samuel Alito, \n",
    "\n",
    "Sonia Sotomayor, Elena Kagan, Neil Gorsuch, \n",
    "\n",
    "Brett Kavanaugh, Amy Coney Barrett, Ketanji Brown Jackson"
   ]
  },
  {
   "cell_type": "markdown",
   "id": "f722fadf",
   "metadata": {
    "slideshow": {
     "slide_type": "slide"
    }
   },
   "source": [
    "### Computers"
   ]
  },
  {
   "cell_type": "markdown",
   "id": "dd261872",
   "metadata": {
    "slideshow": {
     "slide_type": "subslide"
    }
   },
   "source": [
    "**3. Identify the punctuation mark that shares a key on a computer keyboard with each of the following numbers (1 Point Each)**\n",
    "\n",
    "    A. 1 -- !\n",
    "    \n",
    "    B. 3 -- #\n",
    "    \n",
    "    C. 6 -- ^\n",
    "    \n",
    "    D. 9 -- ("
   ]
  },
  {
   "cell_type": "markdown",
   "id": "219204b5",
   "metadata": {
    "slideshow": {
     "slide_type": "slide"
    }
   },
   "source": [
    "### Coffee"
   ]
  },
  {
   "cell_type": "markdown",
   "id": "edef09de",
   "metadata": {
    "slideshow": {
     "slide_type": "subslide"
    }
   },
   "source": [
    "**4. Match the coffee drink to the description (1 Point Each)**\n",
    "\n",
    "Drinks: Turkish Coffee, Flat White, Cappuccino, Cortado\n",
    "\n",
    "    A. Made using equal amounts of espresso and steamed milke. The milk is steamed but not foamy or frothy as in other drinks -- Cortado\n",
    "    \n",
    "    B. One-third espresso, one-third hot milk, and one-third milk foam -- Cappuccino\n",
    "    \n",
    "    C. Made by repeatedly boiling very finely ground coffee with sugar. This process produces a frothy, lightly textured drink -- Turkish Coffee\n",
    "    \n",
    "    D. Consisting of espresso with microfoam (steamed milke with small, fine bubbles and a glossy or velvety consistency) -- Flat White\n"
   ]
  },
  {
   "cell_type": "markdown",
   "id": "377dfcbe",
   "metadata": {},
   "source": []
  },
  {
   "cell_type": "markdown",
   "id": "bba06795",
   "metadata": {},
   "source": []
  },
  {
   "cell_type": "markdown",
   "id": "a8d935df",
   "metadata": {},
   "source": []
  },
  {
   "cell_type": "markdown",
   "id": "b35e97b8",
   "metadata": {},
   "source": []
  },
  {
   "cell_type": "markdown",
   "id": "7b3cf678",
   "metadata": {},
   "source": []
  },
  {
   "cell_type": "markdown",
   "id": "d2c5cd47",
   "metadata": {},
   "source": []
  }
 ],
 "metadata": {
  "celltoolbar": "Slideshow",
  "kernelspec": {
   "display_name": "Python 3 (ipykernel)",
   "language": "python",
   "name": "python3"
  },
  "language_info": {
   "codemirror_mode": {
    "name": "ipython",
    "version": 3
   },
   "file_extension": ".py",
   "mimetype": "text/x-python",
   "name": "python",
   "nbconvert_exporter": "python",
   "pygments_lexer": "ipython3",
   "version": "3.10.8"
  }
 },
 "nbformat": 4,
 "nbformat_minor": 5
}
