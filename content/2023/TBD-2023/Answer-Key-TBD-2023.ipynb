{
 "cells": [
  {
   "cell_type": "markdown",
   "id": "74a98a5a",
   "metadata": {
    "slideshow": {
     "slide_type": "slide"
    }
   },
   "source": [
    "# Trivia TBD 2023\n",
    "\n",
    "by Marley Buchman"
   ]
  },
  {
   "cell_type": "markdown",
   "id": "e6c31a4b",
   "metadata": {
    "slideshow": {
     "slide_type": "slide"
    }
   },
   "source": [
    "### X Question, Y Total Points"
   ]
  },
  {
   "cell_type": "markdown",
   "id": "0770e32c",
   "metadata": {
    "slideshow": {
     "slide_type": "slide"
    }
   },
   "source": [
    "### Sports Franchises"
   ]
  },
  {
   "cell_type": "markdown",
   "id": "3f14cdcf",
   "metadata": {
    "slideshow": {
     "slide_type": "subslide"
    }
   },
   "source": [
    "**1. For each of the following sports franchises, name a city that the franchise was previoulsy located in (1 Point Each)**\n",
    "\n",
    "    A. Arizona Cardinals - Chicago, St. Louis\n",
    "    \n",
    "    B. Sacramento Kings - Kansas City\n",
    "    \n",
    "    C. Washington Nationals - Montreal\n",
    "    \n",
    "    D. Oakland Athletics (A's) - Kansas City"
   ]
  },
  {
   "cell_type": "markdown",
   "id": "033b5111",
   "metadata": {},
   "source": []
  },
  {
   "cell_type": "markdown",
   "id": "3b90beaa",
   "metadata": {},
   "source": []
  },
  {
   "cell_type": "markdown",
   "id": "f722fadf",
   "metadata": {},
   "source": []
  },
  {
   "cell_type": "markdown",
   "id": "dd261872",
   "metadata": {},
   "source": []
  },
  {
   "cell_type": "markdown",
   "id": "219204b5",
   "metadata": {},
   "source": []
  },
  {
   "cell_type": "markdown",
   "id": "edef09de",
   "metadata": {},
   "source": []
  },
  {
   "cell_type": "markdown",
   "id": "377dfcbe",
   "metadata": {},
   "source": []
  },
  {
   "cell_type": "markdown",
   "id": "bba06795",
   "metadata": {},
   "source": []
  },
  {
   "cell_type": "markdown",
   "id": "a8d935df",
   "metadata": {},
   "source": []
  },
  {
   "cell_type": "markdown",
   "id": "b35e97b8",
   "metadata": {},
   "source": []
  },
  {
   "cell_type": "markdown",
   "id": "7b3cf678",
   "metadata": {},
   "source": []
  },
  {
   "cell_type": "markdown",
   "id": "d2c5cd47",
   "metadata": {},
   "source": []
  }
 ],
 "metadata": {
  "celltoolbar": "Slideshow",
  "kernelspec": {
   "display_name": "Python 3 (ipykernel)",
   "language": "python",
   "name": "python3"
  },
  "language_info": {
   "codemirror_mode": {
    "name": "ipython",
    "version": 3
   },
   "file_extension": ".py",
   "mimetype": "text/x-python",
   "name": "python",
   "nbconvert_exporter": "python",
   "pygments_lexer": "ipython3",
   "version": "3.10.9"
  }
 },
 "nbformat": 4,
 "nbformat_minor": 5
}
