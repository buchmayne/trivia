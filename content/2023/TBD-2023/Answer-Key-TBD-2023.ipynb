{
 "cells": [
  {
   "cell_type": "markdown",
   "id": "570cd252",
   "metadata": {
    "slideshow": {
     "slide_type": "slide"
    }
   },
   "source": [
    "# Trivia May 2023\n",
    "\n",
    "by Marley Buchman"
   ]
  },
  {
   "cell_type": "markdown",
   "id": "176d5bbb",
   "metadata": {
    "slideshow": {
     "slide_type": "slide"
    }
   },
   "source": [
    "### X Question, Y Total Points"
   ]
  },
  {
   "cell_type": "markdown",
   "id": "7e5076b9",
   "metadata": {
    "slideshow": {
     "slide_type": "slide"
    }
   },
   "source": [
    "### Sports Franchises"
   ]
  },
  {
   "cell_type": "markdown",
   "id": "daf7663b",
   "metadata": {
    "slideshow": {
     "slide_type": "subslide"
    }
   },
   "source": [
    "**1. For each of the following sports franchises, name a city that the franchise was previoulsy located in (1 Point Each)**\n",
    "\n",
    "    A. Arizona Cardinals - Chicago, St. Louis\n",
    "    \n",
    "    B. Sacramento Kings - Kansas City\n",
    "    \n",
    "    C. Washington Nationals - Montreal\n",
    "    \n",
    "    D. Oakland Athletics (A's) - Kansas City"
   ]
  },
  {
   "cell_type": "markdown",
   "id": "fd107a2a",
   "metadata": {
    "slideshow": {
     "slide_type": "slide"
    }
   },
   "source": [
    "### Justice"
   ]
  },
  {
   "cell_type": "markdown",
   "id": "7cd2c519",
   "metadata": {
    "slideshow": {
     "slide_type": "subslide"
    }
   },
   "source": [
    "**2. Can you name all of the current Supreme Court justices (1 Point for Each Correct Answer, -1 Point for Each Incorrect Answer)**\n",
    "\n",
    "John Roberts, Clarence Thomase, Samuel Alito, \n",
    "\n",
    "Sonia Sotomayor, Elena Kagan, Neil Gorsuch, \n",
    "\n",
    "Brett Kavanaugh, Amy Coney Barrett, Ketanji Brown Jackson"
   ]
  },
  {
   "cell_type": "markdown",
   "id": "5198d47e",
   "metadata": {
    "slideshow": {
     "slide_type": "slide"
    }
   },
   "source": [
    "### Computers"
   ]
  },
  {
   "cell_type": "markdown",
   "id": "fc70ce90",
   "metadata": {
    "slideshow": {
     "slide_type": "subslide"
    }
   },
   "source": [
    "**3. Identify the punctuation mark that shares a key on a computer keyboard with each of the following numbers (1 Point Each)**\n",
    "\n",
    "    A. 1 -- !\n",
    "    \n",
    "    B. 3 -- #\n",
    "    \n",
    "    C. 6 -- ^\n",
    "    \n",
    "    D. 9 -- ("
   ]
  },
  {
   "cell_type": "markdown",
   "id": "39db2766",
   "metadata": {
    "slideshow": {
     "slide_type": "slide"
    }
   },
   "source": [
    "### Coffee"
   ]
  },
  {
   "cell_type": "markdown",
   "id": "c0870ace",
   "metadata": {
    "slideshow": {
     "slide_type": "subslide"
    }
   },
   "source": [
    "**4. Match the coffee drink to the description (1 Point Each)**\n",
    "\n",
    "Drinks: Turkish Coffee, Flat White, Cappuccino, Cortado\n",
    "\n",
    "    A. Made using equal amounts of espresso and steamed milke. The milk is steamed but not foamy or frothy as in other drinks -- Cortado\n",
    "    \n",
    "    B. One-third espresso, one-third hot milk, and one-third milk foam -- Cappuccino\n",
    "    \n",
    "    C. Made by repeatedly boiling very finely ground coffee with sugar. This process produces a frothy, lightly textured drink -- Turkish Coffee\n",
    "    \n",
    "    D. Consisting of espresso with microfoam (steamed milke with small, fine bubbles and a glossy or velvety consistency) -- Flat White\n"
   ]
  },
  {
   "cell_type": "markdown",
   "id": "4c4ea394",
   "metadata": {
    "slideshow": {
     "slide_type": "slide"
    }
   },
   "source": [
    "### Land"
   ]
  },
  {
   "cell_type": "markdown",
   "id": "8bbd9145",
   "metadata": {
    "slideshow": {
     "slide_type": "subslide"
    }
   },
   "source": [
    "**5. Identify what has a greater land area (1 Point Each)**\n",
    "\n",
    "    A. (Oregon + California) or France 262,000 mi2 > 213,000 mi2\n",
    "    \n",
    "    B. (Germany + Poland + Czech Republic) or Texas 289,000 mi2 > 268,000 mi2\n",
    "    \n",
    "    C. (USA + Canada) or Russia 7.65 million mi2 > 6.6 million mi2\n",
    "    \n",
    "    D. (New York (State) + New Jersey + Pennsylvania) or United Kingdom 109,000 mi2 > 93,000 mi2"
   ]
  },
  {
   "cell_type": "markdown",
   "id": "e4a4d56a",
   "metadata": {
    "slideshow": {
     "slide_type": "slide"
    }
   },
   "source": [
    "### Words"
   ]
  },
  {
   "cell_type": "markdown",
   "id": "00315ae5",
   "metadata": {
    "slideshow": {
     "slide_type": "subslide"
    }
   },
   "source": [
    "**6. Match the dying words of the famous person to the famous person (1 Point Each)**\n",
    "\n",
    "Famous People: **Timothy McVeigh, Che Guevara, Dwight D. Eisenhower, Winston Churchill**\n",
    "\n",
    "    A. \"It matters not how strait the gate, How charged with punishments the scroll, I am the master of my fate: I am the captain of my soul.\" -- Timothy McVeigh\n",
    "    \n",
    "    B. \"I know you are here to kill me. Shoot, coward, you are only going to kill a man.\" -- Che Guevara\n",
    "    \n",
    "    C. \"I've always loved my wife, my children, and my grandchildren, and I've always loved my country. I want to go. God, take me.\" -- Dwight D. Eisenhower\n",
    "    \n",
    "    D. \"I'm bored with it all.\" -- Winston Churchill\n",
    "    "
   ]
  },
  {
   "cell_type": "markdown",
   "id": "6f7800de",
   "metadata": {
    "slideshow": {
     "slide_type": "slide"
    }
   },
   "source": [
    "### Lifetimes"
   ]
  },
  {
   "cell_type": "markdown",
   "id": "8dd04ec2",
   "metadata": {
    "slideshow": {
     "slide_type": "subslide"
    }
   },
   "source": [
    "**7. For each of the following pairs of historical figures, were they alive at the same time? (1 Point Each)**\n",
    "\n",
    "    A. Martin Luther King Jr. & Mark Twain -- False (Born: 1929, Died: 1910)\n",
    "    \n",
    "    B. Mahatma Gandhi & Karl Marx -- True (Born: 1869, Died: 1883)\n",
    "    \n",
    "    C. George Washington & Abraham Lincoln -- False (Died: 1799, Born: 1809)\n",
    "    \n",
    "    D. Billie Eilish & Ronald Reagan -- True (Born: 2001, Died: 2004)"
   ]
  },
  {
   "cell_type": "markdown",
   "id": "6a8f153d",
   "metadata": {
    "slideshow": {
     "slide_type": "slide"
    }
   },
   "source": [
    "### Fear"
   ]
  },
  {
   "cell_type": "markdown",
   "id": "41ee26d0",
   "metadata": {
    "slideshow": {
     "slide_type": "subslide"
    }
   },
   "source": [
    "**8. Match each of the following phobias to the description of the phobia (1 Point Each)**\n",
    "\n",
    "Phobias: **Halitophobia, Nyctophobia, Phallophobia, Gephyrophobia**\n",
    "\n",
    "    A. Fear of the penis and in a broader sense an excessive aversion to masculinity -- Phallophobia\n",
    "    \n",
    "    B. Fear of bridges and tunnels -- Gephyrophobia\n",
    "    \n",
    "    C. Fear of bad breath -- Halitophobia\n",
    "    \n",
    "    D. Fear of the dark -- Nyctophobia\n",
    "    "
   ]
  },
  {
   "cell_type": "markdown",
   "id": "54a7d5a1",
   "metadata": {
    "slideshow": {
     "slide_type": "slide"
    }
   },
   "source": [
    "### Growth"
   ]
  },
  {
   "cell_type": "markdown",
   "id": "7b8e395a",
   "metadata": {
    "slideshow": {
     "slide_type": "subslide"
    }
   },
   "source": [
    "**9. For each of the following unlabeled countries, you will be given the population in a specific year, and the average annual population growth rate between that year and a later year. Estimate the population in the outer year (2 Point Each)**\n",
    "\n",
    "    A. Population in 1980 is 226.5 million, what is the population in 2020? The average annual population growth rate is 1.13% -- 329.5 (313.025, 345.975) Accepted\n",
    "    \n",
    "    B. Population in 1960 is 36.27 million, what is the population in 1970? The average annual population growth rate is 3.86% -- 50.29 (47.7755, 52.8045) Accepted"
   ]
  },
  {
   "cell_type": "markdown",
   "id": "1e8207d1",
   "metadata": {
    "slideshow": {
     "slide_type": "slide"
    }
   },
   "source": [
    "### Business"
   ]
  },
  {
   "cell_type": "markdown",
   "id": "2988d0ab",
   "metadata": {
    "slideshow": {
     "slide_type": "subslide"
    }
   },
   "source": [
    "**10A. Rank the following companies, from highest to lowest 2022 revenues. (1 Point Each)**\n",
    "\n",
    "    A. Coca-Cola Company -- 38,655 Million\n",
    "    \n",
    "    B. CVS Health -- 292,111 Million\n",
    "    \n",
    "    C. Microsoft -- 198,087 Million\n",
    "    \n",
    "    D. PepsiCo -- 79,474 Million\n",
    "    "
   ]
  },
  {
   "cell_type": "markdown",
   "id": "b7c144b9",
   "metadata": {
    "slideshow": {
     "slide_type": "subslide"
    }
   },
   "source": [
    "**10B. Rank the following companies, from most to fewest employees (2022). (1 Point Each)**\n",
    "\n",
    "    A. Nike -- 73k\n",
    "    \n",
    "    B. Tesla -- 99k\n",
    "    \n",
    "    C. The Walt Disney Company -- 171k\n",
    "    \n",
    "    D. Wells Fargo -- 247k\n",
    "    "
   ]
  },
  {
   "cell_type": "markdown",
   "id": "88106659",
   "metadata": {},
   "source": []
  },
  {
   "cell_type": "markdown",
   "id": "45a71e72",
   "metadata": {},
   "source": []
  },
  {
   "cell_type": "markdown",
   "id": "cf315a8d",
   "metadata": {},
   "source": []
  }
 ],
 "metadata": {
  "celltoolbar": "Slideshow",
  "kernelspec": {
   "display_name": "Python 3 (ipykernel)",
   "language": "python",
   "name": "python3"
  },
  "language_info": {
   "codemirror_mode": {
    "name": "ipython",
    "version": 3
   },
   "file_extension": ".py",
   "mimetype": "text/x-python",
   "name": "python",
   "nbconvert_exporter": "python",
   "pygments_lexer": "ipython3",
   "version": "3.9.13"
  }
 },
 "nbformat": 4,
 "nbformat_minor": 5
}
