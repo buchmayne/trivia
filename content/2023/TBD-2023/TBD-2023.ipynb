{
 "cells": [
  {
   "cell_type": "markdown",
   "id": "f5a15534",
   "metadata": {
    "slideshow": {
     "slide_type": "slide"
    }
   },
   "source": [
    "# Trivia TBD 2023\n",
    "\n",
    "by Marley Buchman"
   ]
  },
  {
   "cell_type": "markdown",
   "id": "99f93418",
   "metadata": {
    "slideshow": {
     "slide_type": "slide"
    }
   },
   "source": [
    "### X Question, Y Total Points"
   ]
  },
  {
   "cell_type": "markdown",
   "id": "d7bb899c",
   "metadata": {
    "slideshow": {
     "slide_type": "slide"
    }
   },
   "source": []
  },
  {
   "cell_type": "markdown",
   "id": "e532abfb",
   "metadata": {
    "slideshow": {
     "slide_type": "subslide"
    }
   },
   "source": []
  },
  {
   "cell_type": "markdown",
   "id": "6714b16f",
   "metadata": {},
   "source": []
  },
  {
   "cell_type": "markdown",
   "id": "fc666adf",
   "metadata": {},
   "source": []
  },
  {
   "cell_type": "markdown",
   "id": "66162bbd",
   "metadata": {},
   "source": []
  },
  {
   "cell_type": "markdown",
   "id": "4ad28a28",
   "metadata": {},
   "source": []
  },
  {
   "cell_type": "markdown",
   "id": "949498c5",
   "metadata": {},
   "source": []
  },
  {
   "cell_type": "markdown",
   "id": "f720c1f4",
   "metadata": {},
   "source": []
  },
  {
   "cell_type": "markdown",
   "id": "6500ff88",
   "metadata": {},
   "source": []
  },
  {
   "cell_type": "markdown",
   "id": "fdd32b5b",
   "metadata": {},
   "source": []
  },
  {
   "cell_type": "markdown",
   "id": "2dc35fbb",
   "metadata": {},
   "source": []
  },
  {
   "cell_type": "markdown",
   "id": "96273622",
   "metadata": {},
   "source": []
  },
  {
   "cell_type": "markdown",
   "id": "44952c42",
   "metadata": {},
   "source": []
  },
  {
   "cell_type": "markdown",
   "id": "f439b428",
   "metadata": {},
   "source": []
  },
  {
   "cell_type": "markdown",
   "id": "f3097cb0",
   "metadata": {},
   "source": []
  },
  {
   "cell_type": "markdown",
   "id": "3fcb0ca8",
   "metadata": {},
   "source": []
  },
  {
   "cell_type": "markdown",
   "id": "ebe8026a",
   "metadata": {},
   "source": []
  },
  {
   "cell_type": "markdown",
   "id": "ac01d079",
   "metadata": {},
   "source": []
  },
  {
   "cell_type": "markdown",
   "id": "d121713b",
   "metadata": {},
   "source": []
  },
  {
   "cell_type": "markdown",
   "id": "f1505eee",
   "metadata": {},
   "source": []
  },
  {
   "cell_type": "markdown",
   "id": "98da751b",
   "metadata": {},
   "source": []
  },
  {
   "cell_type": "markdown",
   "id": "0ad25292",
   "metadata": {},
   "source": []
  },
  {
   "cell_type": "markdown",
   "id": "cf394f9e",
   "metadata": {},
   "source": []
  },
  {
   "cell_type": "markdown",
   "id": "770a0f39",
   "metadata": {},
   "source": []
  },
  {
   "cell_type": "markdown",
   "id": "beec8d50",
   "metadata": {},
   "source": []
  }
 ],
 "metadata": {
  "celltoolbar": "Slideshow",
  "kernelspec": {
   "display_name": "Python 3 (ipykernel)",
   "language": "python",
   "name": "python3"
  },
  "language_info": {
   "codemirror_mode": {
    "name": "ipython",
    "version": 3
   },
   "file_extension": ".py",
   "mimetype": "text/x-python",
   "name": "python",
   "nbconvert_exporter": "python",
   "pygments_lexer": "ipython3",
   "version": "3.9.4"
  }
 },
 "nbformat": 4,
 "nbformat_minor": 5
}
