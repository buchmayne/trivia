{
 "cells": [
  {
   "cell_type": "markdown",
   "id": "688232be",
   "metadata": {
    "slideshow": {
     "slide_type": "slide"
    }
   },
   "source": [
    "# Trivia May 2023\n",
    "\n",
    "by Marley Buchman"
   ]
  },
  {
   "cell_type": "markdown",
   "id": "721123e0",
   "metadata": {
    "slideshow": {
     "slide_type": "slide"
    }
   },
   "source": [
    "### X Question, Y Total Points"
   ]
  },
  {
   "cell_type": "markdown",
   "id": "71a34612",
   "metadata": {
    "slideshow": {
     "slide_type": "slide"
    }
   },
   "source": [
    "### Sports Franchises"
   ]
  },
  {
   "cell_type": "markdown",
   "id": "f178cda5",
   "metadata": {
    "slideshow": {
     "slide_type": "subslide"
    }
   },
   "source": [
    "**1. For each of the following sports franchises, name a city that the franchise was previoulsy located in (1 Point Each)**\n",
    "\n",
    "    A. Arizona Cardinals\n",
    "    \n",
    "    B. Sacramento Kings\n",
    "    \n",
    "    C. Washington Nationals\n",
    "    \n",
    "    D. Oakland Athletics (A's)"
   ]
  },
  {
   "cell_type": "markdown",
   "id": "0c686b4a",
   "metadata": {
    "slideshow": {
     "slide_type": "slide"
    }
   },
   "source": [
    "### Justice"
   ]
  },
  {
   "cell_type": "markdown",
   "id": "0fdc126e",
   "metadata": {
    "slideshow": {
     "slide_type": "subslide"
    }
   },
   "source": [
    "**2. Can you name all of the current Supreme Court justices (1 Point for Each Correct Answer, -1 Point for Each Incorrect Answer)**\n"
   ]
  },
  {
   "cell_type": "markdown",
   "id": "ae8224ef",
   "metadata": {
    "slideshow": {
     "slide_type": "slide"
    }
   },
   "source": [
    "### Computers"
   ]
  },
  {
   "cell_type": "markdown",
   "id": "6547a87e",
   "metadata": {
    "slideshow": {
     "slide_type": "subslide"
    }
   },
   "source": [
    "**3. Identify the punctuation mark that shares a key on a computer keyboard with each of the following numbers (1 Point Each)**\n",
    "\n",
    "    A. 1\n",
    "    \n",
    "    B. 3\n",
    "    \n",
    "    C. 6\n",
    "    \n",
    "    D. 9"
   ]
  },
  {
   "cell_type": "markdown",
   "id": "dac4a02a",
   "metadata": {
    "slideshow": {
     "slide_type": "slide"
    }
   },
   "source": [
    "### Coffee"
   ]
  },
  {
   "cell_type": "markdown",
   "id": "c3d64a0d",
   "metadata": {
    "slideshow": {
     "slide_type": "subslide"
    }
   },
   "source": [
    "**4. Match the coffee drink to the description (1 Point Each)**\n",
    "\n",
    "Drinks: Turkish Coffee, Flat White, Cappuccino, Cortado\n",
    "\n",
    "    A. Made using equal amounts of espresso and steamed milke. The milk is steamed but not foamy or frothy as in other drinks\n",
    "    \n",
    "    B. One-third espresso, one-third hot milk, and one-third milk foam\n",
    "    \n",
    "    C. Made by repeatedly boiling very finely ground coffee with sugar. This process produces a frothy, lightly textured drink\n",
    "    \n",
    "    D. Consisting of espresso with microfoam (steamed milke with small, fine bubbles and a glossy or velvety consistency)\n"
   ]
  },
  {
   "cell_type": "markdown",
   "id": "cd9a1e5e",
   "metadata": {
    "slideshow": {
     "slide_type": "slide"
    }
   },
   "source": [
    "### Land"
   ]
  },
  {
   "cell_type": "markdown",
   "id": "38ca07cf",
   "metadata": {
    "slideshow": {
     "slide_type": "subslide"
    }
   },
   "source": [
    "**5. Identify what has a greater land area (1 Point Each)**\n",
    "\n",
    "    A. (Oregon + California) or France\n",
    "    \n",
    "    B. (Germany + Poland + Czech Republic) or Texas\n",
    "    \n",
    "    C. (USA + Canada) or Russia\n",
    "    \n",
    "    D. (New York (State) + New Jersey + Pennsylvania) or United Kingdom"
   ]
  },
  {
   "cell_type": "markdown",
   "id": "46328731",
   "metadata": {
    "slideshow": {
     "slide_type": "slide"
    }
   },
   "source": [
    "### Words"
   ]
  },
  {
   "cell_type": "markdown",
   "id": "cd73b0a1",
   "metadata": {
    "slideshow": {
     "slide_type": "subslide"
    }
   },
   "source": [
    "**6. Match the dying words of the famous person to the famous person (1 Point Each)**\n",
    "\n",
    "Famous People: **Timothy McVeigh, Che Guevara, Dwight D. Eisenhower, Winston Churchill**\n",
    "\n",
    "    A. \"It matters not how strait the gate, How charged with punishments the scroll, I am the master of my fate: I am the captain of my soul.\"\n",
    "    \n",
    "    B. \"I know you are here to kill me. Shoot, coward, you are only going to kill a man.\"\n",
    "    \n",
    "    C. \"I've always loved my wife, my children, and my grandchildren, and I've always loved my country. I want to go. God, take me.\"\n",
    "    \n",
    "    D. \"I'm bored with it all.\"\n",
    "    "
   ]
  },
  {
   "cell_type": "markdown",
   "id": "49ce49c6",
   "metadata": {
    "slideshow": {
     "slide_type": "slide"
    }
   },
   "source": [
    "### Lifetimes"
   ]
  },
  {
   "cell_type": "markdown",
   "id": "1e60e4fe",
   "metadata": {
    "slideshow": {
     "slide_type": "subslide"
    }
   },
   "source": [
    "**7. For each of the following pairs of historical figures, were they alive at the same time? (1 Point Each)**\n",
    "\n",
    "    A. Martin Luther King Jr. & Mark Twain\n",
    "    \n",
    "    B. Mahatma Gandhi & Karl Marx\n",
    "    \n",
    "    C. George Washington & Abraham Lincoln\n",
    "    \n",
    "    D. Billie Eilish & Ronald Reagan"
   ]
  },
  {
   "cell_type": "markdown",
   "id": "5b8e57ad",
   "metadata": {
    "slideshow": {
     "slide_type": "slide"
    }
   },
   "source": [
    "### Fear"
   ]
  },
  {
   "cell_type": "markdown",
   "id": "11b07e95",
   "metadata": {
    "slideshow": {
     "slide_type": "subslide"
    }
   },
   "source": [
    "**8. Match each of the following phobias to the description of the phobia (1 Point Each)**\n",
    "\n",
    "Phobias: **Halitophobia, Nyctophobia, Phallophobia, Gephyrophobia**\n",
    "\n",
    "    A. Fear of the penis and in a broader sense an excessive aversion to masculinity\n",
    "    \n",
    "    B. Fear of bridges and tunnels\n",
    "    \n",
    "    C. Fear of bad breath\n",
    "    \n",
    "    D. Fear of the dark\n",
    "    "
   ]
  },
  {
   "cell_type": "markdown",
   "id": "caea48f6",
   "metadata": {
    "slideshow": {
     "slide_type": "slide"
    }
   },
   "source": [
    "### Growth"
   ]
  },
  {
   "cell_type": "markdown",
   "id": "013c6596",
   "metadata": {
    "slideshow": {
     "slide_type": "subslide"
    }
   },
   "source": [
    "**9. For each of the following unlabeled countries, you will be given the population in a specific year, and the average annual population growth rate between that year and a later year. Estimate the population in the outer year (2 Point Each)**\n",
    "\n",
    "    A. Population in 1980 is 226.5 million, what is the population in 2020? The average annual population growth rate is 1.13%\n",
    "    \n",
    "    B. Population in 1960 is 36.27 million, what is the population in 1970? The average annual population growth rate is 3.86%"
   ]
  },
  {
   "cell_type": "markdown",
   "id": "d38ea685",
   "metadata": {
    "slideshow": {
     "slide_type": "slide"
    }
   },
   "source": [
    "### Business"
   ]
  },
  {
   "cell_type": "markdown",
   "id": "7d293fdf",
   "metadata": {
    "slideshow": {
     "slide_type": "subslide"
    }
   },
   "source": [
    "**10A. Rank the following companies, from highest to lowest 2022 revenues. (1 Point Each)**\n",
    "\n",
    "    A. Coca-Cola Company\n",
    "    \n",
    "    B. CVS Health\n",
    "    \n",
    "    C. Microsoft\n",
    "    \n",
    "    D. PepsiCo\n",
    "    "
   ]
  },
  {
   "cell_type": "markdown",
   "id": "2b77c9fc",
   "metadata": {
    "slideshow": {
     "slide_type": "subslide"
    }
   },
   "source": [
    "**10B. Rank the following companies, from most to fewest employees (2022). (1 Point Each)**\n",
    "\n",
    "    A. Nike\n",
    "    \n",
    "    B. Tesla\n",
    "    \n",
    "    C. The Walt Disney Company\n",
    "    \n",
    "    D. Wells Fargo\n",
    "    "
   ]
  },
  {
   "cell_type": "markdown",
   "id": "a9855da5",
   "metadata": {},
   "source": []
  },
  {
   "cell_type": "markdown",
   "id": "4ff34958",
   "metadata": {},
   "source": []
  },
  {
   "cell_type": "markdown",
   "id": "004277ae",
   "metadata": {},
   "source": []
  }
 ],
 "metadata": {
  "celltoolbar": "Slideshow",
  "kernelspec": {
   "display_name": "Python 3 (ipykernel)",
   "language": "python",
   "name": "python3"
  },
  "language_info": {
   "codemirror_mode": {
    "name": "ipython",
    "version": 3
   },
   "file_extension": ".py",
   "mimetype": "text/x-python",
   "name": "python",
   "nbconvert_exporter": "python",
   "pygments_lexer": "ipython3",
   "version": "3.9.13"
  }
 },
 "nbformat": 4,
 "nbformat_minor": 5
}
