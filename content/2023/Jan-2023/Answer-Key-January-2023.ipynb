{
 "cells": [
  {
   "cell_type": "markdown",
   "id": "7de6254c",
   "metadata": {
    "slideshow": {
     "slide_type": "slide"
    }
   },
   "source": [
    "<script>\n",
    "    console.log(\"Hello. You'll see this printed in your browser's DevTools / Console. Feel free to delete this line.\");\n",
    "    document.querySelector('head').innerHTML += '<style>.slides { zoom: 1.0 !important; }</style>';\n",
    "</script>\n",
    "\n",
    "# Trivia January 2023 (Answers)\n",
    "\n",
    "By Marley Buchman"
   ]
  },
  {
   "cell_type": "markdown",
   "id": "13ed2fe1",
   "metadata": {
    "slideshow": {
     "slide_type": "slide"
    }
   },
   "source": [
    "### 17 Questions, 100 Total Points"
   ]
  },
  {
   "cell_type": "markdown",
   "id": "687a7ea8",
   "metadata": {
    "slideshow": {
     "slide_type": "slide"
    }
   },
   "source": [
    "### Fast Food"
   ]
  },
  {
   "cell_type": "markdown",
   "id": "dd53f406",
   "metadata": {
    "slideshow": {
     "slide_type": "subslide"
    }
   },
   "source": [
    "**1. For the following pairs of fast food chains, identify which fast food chain has more stores in the US. (1 Point Each)**\n",
    "\n",
    "    A. Starbucks or McDonalds (15,450 > 13,438) Starbucks\n",
    "    \n",
    "    B. KFC or Dairy Queen (3,953 < 4,330) Dairy Queen\n",
    "    \n",
    "    C. Dominos or Dunkin Donuts (6,560 < 9,244) Dunkin Donuts\n",
    "    \n",
    "    D. Subway or (Taco Bell + Burger King) (21,147 > (7,002 + 7,105)) Subway"
   ]
  },
  {
   "cell_type": "markdown",
   "id": "7962c7df",
   "metadata": {
    "slideshow": {
     "slide_type": "subslide"
    }
   },
   "source": [
    "**2A. Match the map of franchise locations to the fast food chain? (1 Point Each)**\n",
    "\n",
    "**Dunkin Donuts**\n",
    "\n",
    "<img src=\"img/dunkin_map.png\" width=\"500%\">"
   ]
  },
  {
   "cell_type": "markdown",
   "id": "05b5a1dd",
   "metadata": {
    "slideshow": {
     "slide_type": "subslide"
    }
   },
   "source": [
    "**2B. Match the map of franchise locations to the fast food chain? (1 Point Each)**\n",
    "\n",
    "**Jack in the Box**\n",
    "\n",
    "<img src=\"img/jack_map.png\" width=\"500%\">"
   ]
  },
  {
   "cell_type": "markdown",
   "id": "09a2c017",
   "metadata": {
    "slideshow": {
     "slide_type": "subslide"
    }
   },
   "source": [
    "**2C. Match the map of franchise locations to the fast food chain? (1 Point Each)**\n",
    "\n",
    "**Five Guys**\n",
    "\n",
    "<img src=\"img/five_guys_map.png\" width=\"500%\">"
   ]
  },
  {
   "cell_type": "markdown",
   "id": "93e8b713",
   "metadata": {
    "slideshow": {
     "slide_type": "subslide"
    }
   },
   "source": [
    "**2D. Match the map of franchise locations to the fast food chain? (1 Point Each)**\n",
    "\n",
    "**Sonic**\n",
    "\n",
    "<img src=\"img/sonic_map.png\" width=\"500%\">"
   ]
  },
  {
   "cell_type": "markdown",
   "id": "2560ba78",
   "metadata": {
    "slideshow": {
     "slide_type": "slide"
    }
   },
   "source": [
    "### Power"
   ]
  },
  {
   "cell_type": "markdown",
   "id": "d4665ad3",
   "metadata": {
    "slideshow": {
     "slide_type": "subslide"
    }
   },
   "source": [
    "**3. For the following pairs of celebrities, identify which celebrity has more followers (Instagram + Twitter + Facebook) (1 Point Each)**\n",
    "\n",
    "    A. Cristiano Ronaldo or Justin Bieber (732 M > 460 M)\n",
    "    \n",
    "    B. Lionel Messi or Kim Kardashian (464 M > 437 M)\n",
    "    \n",
    "    C. Ariana Grande or Taylor Swift (456 M > 388 M)\n",
    "    \n",
    "    D. Virat Kohli or Miley Cyrus (310 M > 274 M)\n",
    "    "
   ]
  },
  {
   "cell_type": "markdown",
   "id": "bf7bffcb",
   "metadata": {
    "slideshow": {
     "slide_type": "slide"
    }
   },
   "source": [
    "### Education"
   ]
  },
  {
   "cell_type": "markdown",
   "id": "2eb87820",
   "metadata": {
    "slideshow": {
     "slide_type": "subslide"
    }
   },
   "source": [
    "**4. For each of the following states, name the most expensive College/University in the state (2 Points Each)**\n",
    "\n",
    "    A. Oregon -- Reed College 62.7k\n",
    "    \n",
    "    B. California -- University of Southern California (USC) 61.5k\n",
    "    \n",
    "    C. Florida -- University of Miami 54.7k\n",
    "    \n",
    "    D. Georgia -- Emory 55.4k"
   ]
  },
  {
   "cell_type": "markdown",
   "id": "b03051b3",
   "metadata": {
    "slideshow": {
     "slide_type": "subslide"
    }
   },
   "source": [
    "**5. Order the following states most expensive College/University from most expensive, to least expensive (1 Point Each)**\n",
    "\n",
    "    A. Ohio -- Kenyon 63k (1st)\n",
    "    \n",
    "    B. Florida -- University of Miami 54k (3rd)\n",
    "    \n",
    "    C. North Carolina -- Duke 60k (2nd)\n",
    "    \n",
    "    D. Arizona -- Embry-Riddle 38k (4th)\n",
    "    "
   ]
  },
  {
   "cell_type": "markdown",
   "id": "9f45a99f",
   "metadata": {
    "slideshow": {
     "slide_type": "slide"
    }
   },
   "source": [
    "### Twin Movies"
   ]
  },
  {
   "cell_type": "markdown",
   "id": "34283417",
   "metadata": {
    "slideshow": {
     "slide_type": "subslide"
    }
   },
   "source": [
    "**6A. Match the synopsis to the movie title (1 Point Each)**\n",
    "\n",
    "**A Bug's Life**\n",
    "\n",
    "Flik is an inventive ant who's always messing things up for his colony. His latest mishap was destroying the food stores that were supposed to be used to pay off grasshopper Hopper. Now the strong-arming insect is demanding that the ants gather double the food -- or face annihilation. To avert disaster, Flik goes on a journey to recruit fighters to defend the colony.\n",
    "\n",
    "<img src=\"img/antz.png\" width=\"50%\">"
   ]
  },
  {
   "cell_type": "markdown",
   "id": "09fcca36",
   "metadata": {
    "slideshow": {
     "slide_type": "subslide"
    }
   },
   "source": [
    "**6B. Match the synopsis to the movie title (1 Point Each)**\n",
    "\n",
    "**Deep Impact**\n",
    "\n",
    "A comet is hurtling toward Earth and could mean the end of all human life. The U.S. government keeps the crisis under wraps, but crack reporter Jenny Lerner uncovers the truth -- forcing U.S. President Beck to announce his plan. Grizzled astronaut Spurgeon \"Fish\" Tanner and his team will land on the comet and lay explosives, hopefully deterring the object from its doomsday course. If not, humanity will have to prepare for the worst.\n",
    "\n",
    "<img src=\"img/deep_impact.png\" width=\"50%\">"
   ]
  },
  {
   "cell_type": "markdown",
   "id": "b6ac453a",
   "metadata": {
    "slideshow": {
     "slide_type": "subslide"
    }
   },
   "source": [
    "**6C. Match the synopsis to the movie title (1 Point Each)**\n",
    "\n",
    "**First Daughter**\n",
    "\n",
    "Samantha MacKenzie, the daughter of the president of the United States, arrives at college with a group of Secret Service agents. Samantha, however, resents their presence and decides she wants to attend school just like a normal student. Her father agrees to recall the agents but secretly assigns James, an undercover agent, to pose as a student. They fall in love, but their romance is jeopardized when Samantha learns James' true identity. \n",
    "\n",
    "<img src=\"img/first_daughter.png\" width=\"50%\">"
   ]
  },
  {
   "cell_type": "markdown",
   "id": "e44a0909",
   "metadata": {
    "slideshow": {
     "slide_type": "slide"
    }
   },
   "source": [
    "### Musicians"
   ]
  },
  {
   "cell_type": "markdown",
   "id": "9c26a19c",
   "metadata": {
    "slideshow": {
     "slide_type": "subslide"
    }
   },
   "source": [
    "**7. For each of the following states, name the artist from that state, with the highest number of lifetime Spotify streams (2 Points Each)**\n",
    "\n",
    "    A. California - Billie Eilish 24.7 Billion\n",
    "    \n",
    "    B. Pennsylvania - Taylor Swift 37.4 Billion\n",
    "    \n",
    "    C. Tennessee - Miley Cyrus 10.2 Billion\n",
    "    "
   ]
  },
  {
   "cell_type": "markdown",
   "id": "b3bfd31f",
   "metadata": {
    "slideshow": {
     "slide_type": "slide"
    }
   },
   "source": [
    "### Economy"
   ]
  },
  {
   "cell_type": "markdown",
   "id": "4af63dbe",
   "metadata": {
    "slideshow": {
     "slide_type": "subslide"
    }
   },
   "source": [
    "**8. Rank the following cities from highest to lowest based on the percentage of workers in that city who work from home (1 Point Each)**\n",
    "\n",
    "    A. Chicago 27%\n",
    "    \n",
    "    B. Seattle 47%\n",
    "    \n",
    "    C. Portland 35%\n",
    "    \n",
    "    D. Miami 18%"
   ]
  },
  {
   "cell_type": "markdown",
   "id": "644ad743",
   "metadata": {
    "slideshow": {
     "slide_type": "slide"
    }
   },
   "source": [
    "### Health"
   ]
  },
  {
   "cell_type": "markdown",
   "id": "ef8b7313",
   "metadata": {
    "slideshow": {
     "slide_type": "subslide"
    }
   },
   "source": [
    "**9. Match the diet to the high level description of the diet (1 Point Each)**\n",
    "\n",
    "**Atkins , South Beach, Keto, Mediterranean**\n",
    "\n",
    "    A. Atkins: The diet has been described as a low-carbohydrate, high-fat, high-protein fad diet. It promotes the consumption of meat, cheese, eggs and other high-fat foods such as butter, mayonnaise and sour cream in unlimited amounts whilst bread, cereal, pasta and other carbohydrates are forbidden\n",
    "    \n",
    "    B. South Beach: The diet has three stages and gradually increases the proportion of carbohydrate consumed as it progresses while simultaneously decreasing the proportions of fat and protein. It includes a number of recommended foods such as lean meats and vegetables and has a concept of \"good\" fats. It makes no restriction on calorie intake.\n",
    "    \n",
    "    C. Mediterranean: The principal aspects of this diet include proportionally high consumption of unprocessed cereals, legumes, olive oil, fruits, and vegetables, and moderate consumption of fish, dairy products (mostly cheese and yogurt), and meat products.\n",
    "    \n",
    "    D. Keto: The premise of the diet is that if the body is deprived of glucose obtained from carbohydrate foods, it will produce energy from stored fat."
   ]
  },
  {
   "cell_type": "markdown",
   "id": "c5f00cee",
   "metadata": {
    "slideshow": {
     "slide_type": "slide"
    }
   },
   "source": [
    "### Crime"
   ]
  },
  {
   "cell_type": "markdown",
   "id": "02f27784",
   "metadata": {
    "slideshow": {
     "slide_type": "subslide"
    }
   },
   "source": [
    "**10. Match the city to its most recently published murder rate (1 Point Each)**\n",
    "\n",
    "\n",
    "    A. New York City -- 3.39 per 100,000\n",
    "    \n",
    "    B. St. Louis-- 66.07 per 100,000\n",
    "    \n",
    "    C. Las Vegas -- 12.6 per 100,000\n",
    "    \n",
    "    D. Milwaukee -- 19.83 per 100,000\n",
    "    "
   ]
  },
  {
   "cell_type": "markdown",
   "id": "c3142a83",
   "metadata": {
    "slideshow": {
     "slide_type": "slide"
    }
   },
   "source": [
    "# Break (Scoring)"
   ]
  },
  {
   "cell_type": "markdown",
   "id": "2a1b2882",
   "metadata": {
    "slideshow": {
     "slide_type": "slide"
    }
   },
   "source": [
    "### Geography"
   ]
  },
  {
   "cell_type": "markdown",
   "id": "dea20db8",
   "metadata": {
    "slideshow": {
     "slide_type": "subslide"
    }
   },
   "source": [
    "**11A. Identify the city based on the location on the map (2 Points Each)**\n",
    "\n",
    "**Answer Bank: Cleveland, Cincinnati, Columbus, Dayton, Toledo**\n",
    "\n",
    "\n",
    "<img src=\"img/ohio_answer.png\" height=\"100%\">"
   ]
  },
  {
   "cell_type": "markdown",
   "id": "0ac63f73",
   "metadata": {
    "slideshow": {
     "slide_type": "subslide"
    }
   },
   "source": [
    "**11B. Identify the city based on the location on the map (2 Points Each)**\n",
    "\n",
    "**Answer Bank: San Antonio, Dallas, Houston, Austin, El Paso**\n",
    "\n",
    "\n",
    "<img src=\"img/texas_answer.png\" height=\"100%\">"
   ]
  },
  {
   "cell_type": "markdown",
   "id": "edf627de",
   "metadata": {
    "slideshow": {
     "slide_type": "slide"
    }
   },
   "source": [
    "### Finance"
   ]
  },
  {
   "cell_type": "markdown",
   "id": "5c7fe487",
   "metadata": {
    "slideshow": {
     "slide_type": "subslide"
    }
   },
   "source": [
    "**12A. Identify the stock from the price chart (1 Point Each)**\n",
    "\n",
    "**Carvana**\n",
    "\n",
    "<img src=\"img/carvana1.png\" width=\"100%\">"
   ]
  },
  {
   "cell_type": "markdown",
   "id": "78bb8fde",
   "metadata": {
    "slideshow": {
     "slide_type": "subslide"
    }
   },
   "source": [
    "**12B. Identify the stock from the price chart (1 Point Each)**\n",
    "\n",
    "**Meta**\n",
    "\n",
    "<img src=\"img/meta.png\" width=\"100%\">"
   ]
  },
  {
   "cell_type": "markdown",
   "id": "3adbc381",
   "metadata": {
    "slideshow": {
     "slide_type": "slide"
    }
   },
   "source": [
    "### Bird's Eye View"
   ]
  },
  {
   "cell_type": "markdown",
   "id": "29fd8e54",
   "metadata": {
    "slideshow": {
     "slide_type": "subslide"
    }
   },
   "source": [
    "**13. Identify the famous international place from the satelitte photo (5 Points)**\n",
    "\n",
    "Christ The Redeemer, Rio De Janerio\n",
    "\n",
    "<img src=\"img/christ.png\" width=\"60%\">"
   ]
  },
  {
   "cell_type": "markdown",
   "id": "044d0c00",
   "metadata": {
    "slideshow": {
     "slide_type": "slide"
    }
   },
   "source": [
    "### Six-Degrees of Separation"
   ]
  },
  {
   "cell_type": "markdown",
   "id": "e2850276",
   "metadata": {
    "slideshow": {
     "slide_type": "subslide"
    }
   },
   "source": [
    "**14. Connect Adam Sandler to Timothee Chalamet in as few degrees as possible**\n",
    "\n",
    "Possible Answer (4 Degrees):\n",
    "\n",
    "Adam Sandler (Click) Christopher Walken\n",
    "\n",
    "Christopher Walken (Wedding Crashers) Owen Wilson\n",
    "\n",
    "Owen Wilson (Grand Budapest Hotel) Saoirse Ronan\n",
    "\n",
    "Saoirse Ronan (Little Women) Timothee Chalamet"
   ]
  },
  {
   "cell_type": "markdown",
   "id": "6f073d14",
   "metadata": {
    "slideshow": {
     "slide_type": "slide"
    }
   },
   "source": [
    "### Venn Diagram"
   ]
  },
  {
   "cell_type": "markdown",
   "id": "267da00b",
   "metadata": {
    "slideshow": {
     "slide_type": "subslide"
    }
   },
   "source": [
    "**15. Each circle in the venn diagram is a song, name the song based on the artists who feature on it (2 Points Each)**\n",
    "\n",
    "Green: **Run This Town**    Red: **Umbrella**    Blue: **Love the Way You Lie**    Yellow: **Forever**\n",
    "\n",
    "<img src=\"img/venn.png\" width=\"100%\">"
   ]
  },
  {
   "cell_type": "markdown",
   "id": "3f4a6453",
   "metadata": {
    "slideshow": {
     "slide_type": "slide"
    }
   },
   "source": [
    "### Visual Puns"
   ]
  },
  {
   "cell_type": "markdown",
   "id": "c9f98b41",
   "metadata": {
    "slideshow": {
     "slide_type": "subslide"
    }
   },
   "source": [
    "**16. The following four image collage is a visual pun. Guess what each image represents for 2 Points, and then what the category is that connects them for an additional 3 Points (11 Points Total)**\n",
    "\n",
    "Theme: **California Cities** -- **San Diego, Bakersfield, Santa Cruz, Palm Springs** \n",
    "\n",
    "<img src=\"img/visual_pun3.png\" width=\"60%\">"
   ]
  },
  {
   "cell_type": "markdown",
   "id": "5297d2ac",
   "metadata": {
    "slideshow": {
     "slide_type": "slide"
    }
   },
   "source": [
    "# BREAK (Scoring)"
   ]
  },
  {
   "cell_type": "markdown",
   "id": "acfe118d",
   "metadata": {
    "slideshow": {
     "slide_type": "slide"
    }
   },
   "source": [
    "### Music"
   ]
  },
  {
   "cell_type": "markdown",
   "id": "933f5baa",
   "metadata": {
    "slideshow": {
     "slide_type": "subslide"
    }
   },
   "source": [
    "**17. Each of the following songs is the second most popular song (based on Spotify listens) from a one-hit wonder band. Identify EITHER the band name, or the name of their one-hit wonder. You DO NOT need to identify the song that is played. (2 Points Each)**\n",
    "\n",
    "    A. Jet - Are You Going to Be My Girl\n",
    "    \n",
    "    B. House of Pain - Jump Around\n",
    "    \n",
    "    C. Men Without Hats - Saftey Dance\n",
    "    \n",
    "    D. New Radicals - You Get What You Give\n",
    "    \n",
    "    E. Crazy Town - Butterfly\n",
    "    \n",
    "    F. Semisonic - Closing Time"
   ]
  }
 ],
 "metadata": {
  "celltoolbar": "Slideshow",
  "kernelspec": {
   "display_name": "Python 3 (ipykernel)",
   "language": "python",
   "name": "python3"
  },
  "language_info": {
   "codemirror_mode": {
    "name": "ipython",
    "version": 3
   },
   "file_extension": ".py",
   "mimetype": "text/x-python",
   "name": "python",
   "nbconvert_exporter": "python",
   "pygments_lexer": "ipython3",
   "version": "3.9.4"
  }
 },
 "nbformat": 4,
 "nbformat_minor": 5
}
