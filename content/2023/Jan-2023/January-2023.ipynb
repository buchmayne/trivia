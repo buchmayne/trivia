{
 "cells": [
  {
   "cell_type": "markdown",
   "id": "f51ea6d7",
   "metadata": {
    "slideshow": {
     "slide_type": "slide"
    }
   },
   "source": [
    "# Trivia January 2023\n",
    "\n",
    "By Marley Buchman"
   ]
  },
  {
   "cell_type": "markdown",
   "id": "638574a1",
   "metadata": {
    "slideshow": {
     "slide_type": "slide"
    }
   },
   "source": [
    "### 17 Questions, 100 Total Points"
   ]
  },
  {
   "cell_type": "markdown",
   "id": "c309ab99",
   "metadata": {
    "slideshow": {
     "slide_type": "slide"
    }
   },
   "source": [
    "### Fast Food"
   ]
  },
  {
   "cell_type": "markdown",
   "id": "81a3feda",
   "metadata": {
    "slideshow": {
     "slide_type": "subslide"
    }
   },
   "source": [
    "<script>\n",
    "    console.log(\"Hello. You'll see this printed in your browser's DevTools / Console. Feel free to delete this line.\");\n",
    "    document.querySelector('head').innerHTML += '<style>.slides { zoom: 1.0 !important; }</style>';\n",
    "</script>\n",
    "\n",
    "**1. For the following pairs of fast food chains, identify which fast food chain has more stores in the US. (1 Point Each)**\n",
    "\n",
    "    A. Starbucks or McDonalds\n",
    "    \n",
    "    B. KFC or Dairy Queen\n",
    "    \n",
    "    C. Dominos or Dunkin Donuts\n",
    "    \n",
    "    D. Subway or (Taco Bell + Burger King)"
   ]
  },
  {
   "cell_type": "markdown",
   "id": "95611bc1",
   "metadata": {
    "slideshow": {
     "slide_type": "subslide"
    }
   },
   "source": [
    "**2A. Match the map of franchise locations to the fast food chain? (1 Point Each)**\n",
    "\n",
    "**Dunkin Donuts, Jack in the Box, Five Guys, Sonic**\n",
    "\n",
    "<img src=\"img/dunkin_map.png\" width=\"500%\">"
   ]
  },
  {
   "cell_type": "markdown",
   "id": "2e2112ff",
   "metadata": {
    "slideshow": {
     "slide_type": "subslide"
    }
   },
   "source": [
    "**2B. Match the map of franchise locations to the fast food chain? (1 Point Each)**\n",
    "\n",
    "**Dunkin Donuts, Jack in the Box, Five Guys, Sonic**\n",
    "\n",
    "<img src=\"img/jack_map.png\" width=\"500%\">"
   ]
  },
  {
   "cell_type": "markdown",
   "id": "d65bfe79",
   "metadata": {
    "slideshow": {
     "slide_type": "subslide"
    }
   },
   "source": [
    "**2C. Match the map of franchise locations to the fast food chain? (1 Point Each)**\n",
    "\n",
    "**Dunkin Donuts, Jack in the Box, Five Guys, Sonic**\n",
    "\n",
    "<img src=\"img/five_guys_map.png\" width=\"500%\">"
   ]
  },
  {
   "cell_type": "markdown",
   "id": "fec64874",
   "metadata": {
    "slideshow": {
     "slide_type": "subslide"
    }
   },
   "source": [
    "**2D. Match the map of franchise locations to the fast food chain? (1 Point Each)**\n",
    "\n",
    "**Dunkin Donuts, Jack in the Box, Five Guys, Sonic**\n",
    "\n",
    "<img src=\"img/sonic_map.png\" width=\"500%\">"
   ]
  },
  {
   "cell_type": "markdown",
   "id": "8646e939",
   "metadata": {
    "slideshow": {
     "slide_type": "slide"
    }
   },
   "source": [
    "### Power"
   ]
  },
  {
   "cell_type": "markdown",
   "id": "6edd8f18",
   "metadata": {
    "slideshow": {
     "slide_type": "subslide"
    }
   },
   "source": [
    "**3. For the following pairs of celebrities, identify which celebrity has more followers (Instagram + Twitter + Facebook) (1 Point Each)**\n",
    "\n",
    "    A. Cristiano Ronaldo or Justin Bieber\n",
    "    \n",
    "    B. Lionel Messi or Kim Kardashian\n",
    "    \n",
    "    C. Ariana Grande or Taylor Swift\n",
    "    \n",
    "    D. Virat Kohli or Miley Cyrus\n",
    "    "
   ]
  },
  {
   "cell_type": "markdown",
   "id": "560ff243",
   "metadata": {
    "slideshow": {
     "slide_type": "slide"
    }
   },
   "source": [
    "### Education"
   ]
  },
  {
   "cell_type": "markdown",
   "id": "b1195ef5",
   "metadata": {
    "slideshow": {
     "slide_type": "subslide"
    }
   },
   "source": [
    "**4. For each of the following states, name the most expensive College/University in the state (2 Points Each)**\n",
    "\n",
    "    A. Oregon\n",
    "    \n",
    "    B. California\n",
    "    \n",
    "    C. Florida\n",
    "    \n",
    "    D. Georgia"
   ]
  },
  {
   "cell_type": "markdown",
   "id": "39ed158b",
   "metadata": {
    "slideshow": {
     "slide_type": "subslide"
    }
   },
   "source": [
    "**5. Order the following states most expensive College/University from most expensive, to least expensive (1 Point Each)**\n",
    "\n",
    "    A. Ohio\n",
    "    \n",
    "    B. Florida\n",
    "    \n",
    "    C. North Carolina\n",
    "    \n",
    "    D. Arizona\n",
    "    "
   ]
  },
  {
   "cell_type": "markdown",
   "id": "3b64b968",
   "metadata": {
    "slideshow": {
     "slide_type": "slide"
    }
   },
   "source": [
    "### Twin Movies"
   ]
  },
  {
   "cell_type": "markdown",
   "id": "f2e434ab",
   "metadata": {
    "slideshow": {
     "slide_type": "subslide"
    }
   },
   "source": [
    "**6A. Match the synopsis to the movie title (1 Point Each)**\n",
    "\n",
    "Flik is an inventive ant who's always messing things up for his colony. His latest mishap was destroying the food stores that were supposed to be used to pay off grasshopper Hopper. Now the strong-arming insect is demanding that the ants gather double the food -- or face annihilation. To avert disaster, Flik goes on a journey to recruit fighters to defend the colony.\n",
    "\n",
    "<img src=\"img/antz.png\" width=\"75%\">"
   ]
  },
  {
   "cell_type": "markdown",
   "id": "9d47079d",
   "metadata": {
    "slideshow": {
     "slide_type": "subslide"
    }
   },
   "source": [
    "**6B. Match the synopsis to the movie title (1 Point Each)**\n",
    "\n",
    "A comet is hurtling toward Earth and could mean the end of all human life. The U.S. government keeps the crisis under wraps, but crack reporter Jenny Lerner uncovers the truth -- forcing U.S. President Beck to announce his plan. Grizzled astronaut Spurgeon \"Fish\" Tanner and his team will land on the comet and lay explosives, hopefully deterring the object from its doomsday course. If not, humanity will have to prepare for the worst.\n",
    "\n",
    "<img src=\"img/deep_impact.png\" width=\"75%\">"
   ]
  },
  {
   "cell_type": "markdown",
   "id": "5dd4088d",
   "metadata": {
    "slideshow": {
     "slide_type": "subslide"
    }
   },
   "source": [
    "**6C. Match the synopsis to the movie title (1 Point Each)**\n",
    "\n",
    "Samantha MacKenzie, the daughter of the president of the United States, arrives at college with a group of Secret Service agents. Samantha, however, resents their presence and decides she wants to attend school just like a normal student. Her father agrees to recall the agents but secretly assigns James, an undercover agent, to pose as a student. They fall in love, but their romance is jeopardized when Samantha learns James' true identity. \n",
    "\n",
    "<img src=\"img/first_daughter.png\" width=\"75%\">"
   ]
  },
  {
   "cell_type": "markdown",
   "id": "f9ede433",
   "metadata": {
    "slideshow": {
     "slide_type": "slide"
    }
   },
   "source": [
    "### Musicians"
   ]
  },
  {
   "cell_type": "markdown",
   "id": "ab3839e2",
   "metadata": {
    "slideshow": {
     "slide_type": "subslide"
    }
   },
   "source": [
    "**7. For each of the following states, name the artist from that state, with the highest number of lifetime Spotify streams (2 Points Each)**\n",
    "\n",
    "    A. California\n",
    "    \n",
    "    B. Pennsylvania\n",
    "    \n",
    "    C. Tennessee\n",
    "    "
   ]
  },
  {
   "cell_type": "markdown",
   "id": "028d93e6",
   "metadata": {
    "slideshow": {
     "slide_type": "slide"
    }
   },
   "source": [
    "### Economy"
   ]
  },
  {
   "cell_type": "markdown",
   "id": "8faba8dc",
   "metadata": {
    "slideshow": {
     "slide_type": "subslide"
    }
   },
   "source": [
    "**8. Rank the following cities from highest to lowest based on the percentage of workers in that city who work from home (1 Point Each)**\n",
    "\n",
    "    A. Chicago\n",
    "    \n",
    "    B. Seattle\n",
    "    \n",
    "    C. Portland\n",
    "    \n",
    "    D. Miami"
   ]
  },
  {
   "cell_type": "markdown",
   "id": "9553fe20",
   "metadata": {
    "slideshow": {
     "slide_type": "slide"
    }
   },
   "source": [
    "### Health"
   ]
  },
  {
   "cell_type": "markdown",
   "id": "fa6c236d",
   "metadata": {
    "slideshow": {
     "slide_type": "subslide"
    }
   },
   "source": [
    "**9. Match the diet to the high level description of the diet (1 Point Each)**\n",
    "\n",
    "**Atkins , South Beach, Keto, Mediterranean**\n",
    "\n",
    "    A. The diet has been described as a low-carbohydrate, high-fat, high-protein fad diet. It promotes the consumption of meat, cheese, eggs and other high-fat foods such as butter, mayonnaise and sour cream in unlimited amounts whilst bread, cereal, pasta and other carbohydrates are forbidden\n",
    "    \n",
    "    B. The diet has three stages and gradually increases the proportion of carbohydrate consumed as it progresses while simultaneously decreasing the proportions of fat and protein. It includes a number of recommended foods such as lean meats and vegetables and has a concept of \"good\" fats. It makes no restriction on calorie intake.\n",
    "    \n",
    "    C. The principal aspects of this diet include proportionally high consumption of unprocessed cereals, legumes, olive oil, fruits, and vegetables, and moderate consumption of fish, dairy products (mostly cheese and yogurt), and meat products.\n",
    "    \n",
    "    D. The premise of the diet is that if the body is deprived of glucose obtained from carbohydrate foods, it will produce energy from stored fat."
   ]
  },
  {
   "cell_type": "markdown",
   "id": "bbf0cdd4",
   "metadata": {
    "slideshow": {
     "slide_type": "slide"
    }
   },
   "source": [
    "### Crime"
   ]
  },
  {
   "cell_type": "markdown",
   "id": "45e8cfbc",
   "metadata": {
    "slideshow": {
     "slide_type": "subslide"
    }
   },
   "source": [
    "**10. Match the city to its most recently published murder rate (1 Point Each)**\n",
    "\n",
    "**New York City, Milwaukee, St. Louis, Las Vegas** \n",
    "\n",
    "    A. 3.39 per 100,000\n",
    "    \n",
    "    B. 66.07 per 100,000\n",
    "    \n",
    "    C. 12.6 per 100,000\n",
    "    \n",
    "    D. 19.83 per 100,000\n",
    "    "
   ]
  },
  {
   "cell_type": "markdown",
   "id": "a507ce21",
   "metadata": {
    "slideshow": {
     "slide_type": "slide"
    }
   },
   "source": [
    "# BREAK (SCORING)"
   ]
  },
  {
   "cell_type": "markdown",
   "id": "50a707e6",
   "metadata": {
    "slideshow": {
     "slide_type": "slide"
    }
   },
   "source": [
    "### Geography"
   ]
  },
  {
   "cell_type": "markdown",
   "id": "ded53177",
   "metadata": {
    "slideshow": {
     "slide_type": "subslide"
    }
   },
   "source": [
    "**11A. Identify the city based on the location on the map (2 Points Each)**\n",
    "\n",
    "**Answer Bank: Cleveland, Cincinnati, Columbus, Dayton, Toledo**\n",
    "\n",
    "<img src=\"img/ohio.png\" height=\"100%\">"
   ]
  },
  {
   "cell_type": "markdown",
   "id": "9670d312",
   "metadata": {
    "slideshow": {
     "slide_type": "subslide"
    }
   },
   "source": [
    "**11B. Identify the city based on the location on the map (2 Points Each)**\n",
    "\n",
    "**Answer Bank: San Antonio, Dallas, Houston, Austin, El Paso**\n",
    "\n",
    "<img src=\"img/texas.png\" height=\"100%\">"
   ]
  },
  {
   "cell_type": "markdown",
   "id": "8773b477",
   "metadata": {
    "slideshow": {
     "slide_type": "slide"
    }
   },
   "source": [
    "### Finance"
   ]
  },
  {
   "cell_type": "markdown",
   "id": "f7853706",
   "metadata": {
    "slideshow": {
     "slide_type": "subslide"
    }
   },
   "source": [
    "**12A. Identify the stock from the price chart (1 Point Each)**\n",
    "\n",
    "**Answer Bank: Peloton, Zoom, Carvana**\n",
    "\n",
    "<img src=\"img/carvana1.png\" width=\"100%\">"
   ]
  },
  {
   "cell_type": "markdown",
   "id": "e25f4b90",
   "metadata": {
    "slideshow": {
     "slide_type": "subslide"
    }
   },
   "source": [
    "**12B. Identify the stock from the price chart (1 Point Each)**\n",
    "\n",
    "**Answer Bank: Tesla, Meta, Nvidia**\n",
    "\n",
    "<img src=\"img/meta.png\" width=\"100%\">"
   ]
  },
  {
   "cell_type": "markdown",
   "id": "90577eeb",
   "metadata": {
    "slideshow": {
     "slide_type": "slide"
    }
   },
   "source": [
    "### Bird's Eye View"
   ]
  },
  {
   "cell_type": "markdown",
   "id": "7e6c4c01",
   "metadata": {
    "slideshow": {
     "slide_type": "subslide"
    }
   },
   "source": [
    "**13. Identify the famous international place from the satelitte photo (5 Points)**\n",
    "\n",
    "<img src=\"img/christ.png\" width=\"60%\">"
   ]
  },
  {
   "cell_type": "markdown",
   "id": "fdc689fd",
   "metadata": {
    "slideshow": {
     "slide_type": "slide"
    }
   },
   "source": [
    "### Six-Degrees of Separation"
   ]
  },
  {
   "cell_type": "markdown",
   "id": "0bf07005",
   "metadata": {
    "slideshow": {
     "slide_type": "subslide"
    }
   },
   "source": [
    "**14. Connect the actors by films they share a collaborator with**\n",
    "\n",
    "Example, connect Meryl Streep to The Rock. This is a possible answer, that is 3 degrees of separation as each movie is a degree:\n",
    "\n",
    "Meryl Streep (Don't Look Up) Leo DiCaprio\n",
    "\n",
    "Leo DiCaprio (The Departed) Mark Wahlberg\n",
    "\n",
    "Mark Wahlberg (The Other Guys) The Rock\n",
    "\n",
    "**Connect Adam Sandler to Timothee Chalamet in as few degrees as possible**\n",
    "\n",
    "Scoring:\n",
    "\n",
    "3 Degrees -- 8 Points\n",
    "\n",
    "4 Degrees -- 6 Points\n",
    "\n",
    "5 Degrees -- 4 Points\n",
    "\n",
    "6 Degrees -- 2 Points"
   ]
  },
  {
   "cell_type": "markdown",
   "id": "c74acd04",
   "metadata": {
    "slideshow": {
     "slide_type": "slide"
    }
   },
   "source": [
    "### Venn Diagram"
   ]
  },
  {
   "cell_type": "markdown",
   "id": "d32b0f92",
   "metadata": {
    "slideshow": {
     "slide_type": "subslide"
    }
   },
   "source": [
    "**15. Each circle in the venn diagram is a song, name the song based on the artists who feature on it (2 Points Each)**\n",
    "\n",
    "<img src=\"img/venn.png\" width=\"100%\">"
   ]
  },
  {
   "cell_type": "markdown",
   "id": "469acf2a",
   "metadata": {
    "slideshow": {
     "slide_type": "slide"
    }
   },
   "source": [
    "### Visual Puns"
   ]
  },
  {
   "cell_type": "markdown",
   "id": "f1cd737c",
   "metadata": {
    "slideshow": {
     "slide_type": "subslide"
    }
   },
   "source": [
    "**16. The following four image collage is a visual pun. Guess what each image represents for 2 Points, and then what the category is that connects them for an additional 3 Points (11 Points Total)**\n",
    "\n",
    "<img src=\"img/visual_pun3.png\" width=\"60%\">"
   ]
  },
  {
   "cell_type": "markdown",
   "id": "4a13804e",
   "metadata": {
    "slideshow": {
     "slide_type": "slide"
    }
   },
   "source": [
    "# Break (Scoring)"
   ]
  },
  {
   "cell_type": "markdown",
   "id": "c36add8c",
   "metadata": {
    "slideshow": {
     "slide_type": "slide"
    }
   },
   "source": [
    "### Music"
   ]
  },
  {
   "cell_type": "markdown",
   "id": "e3ef3abb",
   "metadata": {
    "slideshow": {
     "slide_type": "subslide"
    }
   },
   "source": [
    "**17. Each of the following songs is the second most popular song (based on Spotify listens) from a one-hit wonder band. Identify EITHER the band name, or the name of their one-hit wonder. You DO NOT need to identify the song that is played. The year listed is the release year of their one-hit wonder for context. (2 Points Each)**\n",
    "\n",
    "    A. 2003\n",
    "    \n",
    "    B. 1992\n",
    "    \n",
    "    C. 1982\n",
    "    \n",
    "    D. 1998\n",
    "    \n",
    "    E. 1999\n",
    "    \n",
    "    F. 1998"
   ]
  }
 ],
 "metadata": {
  "celltoolbar": "Slideshow",
  "kernelspec": {
   "display_name": "Python 3 (ipykernel)",
   "language": "python",
   "name": "python3"
  },
  "language_info": {
   "codemirror_mode": {
    "name": "ipython",
    "version": 3
   },
   "file_extension": ".py",
   "mimetype": "text/x-python",
   "name": "python",
   "nbconvert_exporter": "python",
   "pygments_lexer": "ipython3",
   "version": "3.9.4"
  }
 },
 "nbformat": 4,
 "nbformat_minor": 5
}
