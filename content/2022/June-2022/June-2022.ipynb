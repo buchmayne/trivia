{
 "cells": [
  {
   "cell_type": "markdown",
   "metadata": {
    "slideshow": {
     "slide_type": "slide"
    }
   },
   "source": [
    "# Trivia June 2022\n",
    "\n",
    "Congratulations Chris and Kayla!"
   ]
  },
  {
   "cell_type": "markdown",
   "metadata": {
    "slideshow": {
     "slide_type": "slide"
    }
   },
   "source": [
    "**18 Questions, 85 Points**"
   ]
  },
  {
   "cell_type": "markdown",
   "metadata": {
    "slideshow": {
     "slide_type": "slide"
    }
   },
   "source": [
    "Topics:\n",
    "\n",
    "* Reality Television\n",
    "\n",
    "* France\n",
    "\n",
    "* Music"
   ]
  },
  {
   "cell_type": "markdown",
   "metadata": {
    "slideshow": {
     "slide_type": "slide"
    }
   },
   "source": [
    "## Reality Television"
   ]
  },
  {
   "cell_type": "markdown",
   "metadata": {
    "slideshow": {
     "slide_type": "subslide"
    }
   },
   "source": [
    "**1. Order the following reality tv show subreddits by subscribers (from most to fewest subscribers) 4 pts**\n",
    "\n",
    "    A. r/thebachelor (The Bachelor)\n",
    "\n",
    "    B. r/rupaulsdragrace (RuPaul's Drag Race)\n",
    "\n",
    "    C. r/survivor (Survivor)\n",
    "\n",
    "    D. r/jeopardy (Jeopardy)"
   ]
  },
  {
   "cell_type": "markdown",
   "metadata": {
    "slideshow": {
     "slide_type": "subslide"
    }
   },
   "source": [
    "**2. Name the occupation/job of each of the last four Bachelors (occupation upon becoming The Bachelor) 4pts**\n",
    "\n",
    "    A. Colton Underwood\n",
    "    \n",
    "    B. Peter Weber \n",
    "    \n",
    "    C. Matt James \n",
    "    \n",
    "    D. Clayton Echard\n",
    "    "
   ]
  },
  {
   "cell_type": "markdown",
   "metadata": {
    "slideshow": {
     "slide_type": "subslide"
    }
   },
   "source": [
    "**3. Which state has produced the most Survivor winners, and what state has produced the most winners per capita (state needs to have produced at least two Survivor winners) 5pts**\n",
    "\n",
    "    A.\n",
    "    \n",
    "    B."
   ]
  },
  {
   "cell_type": "markdown",
   "metadata": {
    "slideshow": {
     "slide_type": "subslide"
    }
   },
   "source": [
    "**4. Rank the following occupations, based on average Survivor finishing position (from best to worst) 4pts**\n",
    "\n",
    "    A. Attorney \n",
    "    \n",
    "    B. Flight Attendant\n",
    "    \n",
    "    C. Police Office\n",
    "    \n",
    "    D. Hair Dresser "
   ]
  },
  {
   "cell_type": "markdown",
   "metadata": {
    "slideshow": {
     "slide_type": "subslide"
    }
   },
   "source": [
    "**5. Which one of the following is NOT a Real Housewives series? 1pt**\n",
    "\n",
    "    A. Real Housewives of New York City\n",
    "    \n",
    "    B. Real Housewives of Potomac\n",
    "    \n",
    "    C. Real Housewives of Salt Lake City\n",
    "    \n",
    "    D. Real Housewives of Denver \n",
    "   "
   ]
  },
  {
   "cell_type": "markdown",
   "metadata": {
    "slideshow": {
     "slide_type": "subslide"
    }
   },
   "source": [
    "**6. Which of the following is NOT an actual reality TV dating show premise? 1pt**\n",
    "\n",
    "    A. One dater goes on five identical first dates, the setting is the same in each, right down to the restaurant and the dater's outfit and inevitably chooses the one person that stood out from the pack to go on a second date. \n",
    "    \n",
    "    B. Two people meet for the first time at the altar, get married, and decide whether to stay together after eight weeks.\n",
    "    \n",
    "    C. They say you never really know someone until you travel with them. That's what this series puts to the ultimate test. In it, a couple treks across eight of the roughest places in the world to see if they're ready for a lifetime of marriage. \n",
    "    \n",
    "    D. You're not suppose to mix business and pleasure, but in this series coworkers compete for the love and affection of their boss. 8 contestants are hired to work for one eligible bachelor, will the office romance lead to marriage or unemployment? \n",
    "    "
   ]
  },
  {
   "cell_type": "markdown",
   "metadata": {
    "slideshow": {
     "slide_type": "subslide"
    }
   },
   "source": [
    "**7. Identify the following members of the Kardashian extended family 5pts**\n",
    "\n",
    "<img src=\"img/family_tree.png\" width=\"500\">"
   ]
  },
  {
   "cell_type": "markdown",
   "metadata": {
    "slideshow": {
     "slide_type": "slide"
    }
   },
   "source": [
    "## France"
   ]
  },
  {
   "cell_type": "markdown",
   "metadata": {
    "slideshow": {
     "slide_type": "subslide"
    }
   },
   "source": [
    "**8. For each of the following, is the origin French? 4pts**\n",
    "\n",
    "    A. French Fries\n",
    "    \n",
    "    B. French Press\n",
    "    \n",
    "    C. French Horn \n",
    "    \n",
    "    D. French Toast\n",
    "    "
   ]
  },
  {
   "cell_type": "markdown",
   "metadata": {
    "slideshow": {
     "slide_type": "subslide"
    }
   },
   "source": [
    "**9. For each of the following Wars/Conflicts, was France involved? 4pts**\n",
    "\n",
    "    A. First Gulf War (1990-1991)\n",
    "    \n",
    "    B. Korean War (1950-1953)\n",
    "    \n",
    "    C. Great Turkish War (1683 -1699)\n",
    "    \n",
    "    D. The War of Spanish Succession (1701-1714)"
   ]
  },
  {
   "cell_type": "markdown",
   "metadata": {
    "slideshow": {
     "slide_type": "subslide"
    }
   },
   "source": [
    "**10. What are the most popular boy and girl baby names in France (2019) (Any name in the top 5 is worth a point)? 6pts**\n",
    "\n",
    "    A. Boy Names: A, B, C\n",
    "    \n",
    "    B. Girl Names: A, B, C"
   ]
  },
  {
   "cell_type": "markdown",
   "metadata": {
    "slideshow": {
     "slide_type": "subslide"
    }
   },
   "source": [
    "**11. French literature: 8pts**\n",
    "\n",
    "    A. Which French writer was awarded the Nobel Prize for Literature in 1964 but declined to accept it?\n",
    "    \n",
    "    B. Which satire was first published in 1759 by Voltaire, a philosopher of the Age of Enlightenment and is subtitled The Optimist?\n",
    "    \n",
    "    C. Postmodern French philsopher Jean Baudrillard' best known work, Simulcara and Simulation (1981), was a major influence and even appears on screen, in what blockbuster Sci-Fi movie?\n",
    "    \n",
    "    D. “Even the darkest night will end and the sun will rise.” Which classic French novel, written in 1862, is this quote from?"
   ]
  },
  {
   "cell_type": "markdown",
   "metadata": {
    "slideshow": {
     "slide_type": "slide"
    }
   },
   "source": [
    "## Music"
   ]
  },
  {
   "cell_type": "markdown",
   "metadata": {
    "slideshow": {
     "slide_type": "subslide"
    }
   },
   "source": [
    "**12. Identify the name of the lesser known member of these famous bands 1pt**\n",
    "\n",
    "\n",
    "<img src=\"img/backstreet.png\" width=\"500\">"
   ]
  },
  {
   "cell_type": "markdown",
   "metadata": {
    "slideshow": {
     "slide_type": "subslide"
    }
   },
   "source": [
    "**13. Identify the name of the lesser known member of these famous bands 1pt**\n",
    "\n",
    "\n",
    "<img src=\"img/nsync.png\" width=\"500\">"
   ]
  },
  {
   "cell_type": "markdown",
   "metadata": {
    "slideshow": {
     "slide_type": "subslide"
    }
   },
   "source": [
    "**14. Identify the name of the lesser known member of these famous bands 1pt**\n",
    "\n",
    "\n",
    "<img src=\"img/destinys_child.png\" width=\"500\">"
   ]
  },
  {
   "cell_type": "markdown",
   "metadata": {
    "slideshow": {
     "slide_type": "subslide"
    }
   },
   "source": [
    "**15. On June 3rd, 2022, which of the followings artists was NOT on the top 50 spotify chart for France? 1pt**\n",
    "\n",
    "    A. Stromae\n",
    "    \n",
    "    B. Imagine Dragons\n",
    "    \n",
    "    C. Harry Styles\n",
    "    \n",
    "    D. Kate Bush"
   ]
  },
  {
   "cell_type": "markdown",
   "metadata": {
    "slideshow": {
     "slide_type": "subslide"
    }
   },
   "source": [
    "**16. Each of the following songs are the second most popular song from a one-hit wonder artist. After listening to their second most popular song, name the artist and the name of their one-hit 12pts**\n",
    "\n",
    "    1. \n",
    "    \n",
    "    2. \n",
    "    \n",
    "    3. \n",
    "    \n",
    "    4. \n",
    "    \n",
    "    5. \n",
    "    \n",
    "    6. "
   ]
  },
  {
   "cell_type": "markdown",
   "metadata": {
    "slideshow": {
     "slide_type": "subslide"
    }
   },
   "source": [
    "**17. For each of the following years, two popular songs from that year will be played. One of the songs was \\#1 on the year end Billboard Top 100 and the other was not. Name the Song and Artist that was the top song 8pts**\n",
    "\n",
    "    1. 2009\n",
    "    \n",
    "    2. 2010\n",
    "    \n",
    "    3. 2012\n",
    "    \n",
    "    4. 2014\n",
    "    "
   ]
  },
  {
   "cell_type": "markdown",
   "metadata": {
    "slideshow": {
     "slide_type": "subslide"
    }
   },
   "source": [
    "**18. Identify the lyrics during the selected segment of the song. Name the artist and song name, and then identify the lyrics during the selected segment. 18pts**\n",
    "\n",
    "    1. \n",
    "    \n",
    "    2. \n",
    "    \n",
    "    3. "
   ]
  }
 ],
 "metadata": {
  "celltoolbar": "Slideshow",
  "kernelspec": {
   "display_name": "Python 3 (ipykernel)",
   "language": "python",
   "name": "python3"
  },
  "language_info": {
   "codemirror_mode": {
    "name": "ipython",
    "version": 3
   },
   "file_extension": ".py",
   "mimetype": "text/x-python",
   "name": "python",
   "nbconvert_exporter": "python",
   "pygments_lexer": "ipython3",
   "version": "3.9.4"
  }
 },
 "nbformat": 4,
 "nbformat_minor": 2
}
