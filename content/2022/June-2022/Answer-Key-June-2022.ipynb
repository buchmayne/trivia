{
 "cells": [
  {
   "cell_type": "markdown",
   "metadata": {
    "slideshow": {
     "slide_type": "slide"
    }
   },
   "source": [
    "# Answers June 2022\n",
    "\n",
    "Congratulations Chris and Kayla!"
   ]
  },
  {
   "cell_type": "markdown",
   "metadata": {
    "slideshow": {
     "slide_type": "slide"
    }
   },
   "source": [
    "**18 Questions, 85 Points**"
   ]
  },
  {
   "cell_type": "markdown",
   "metadata": {
    "slideshow": {
     "slide_type": "slide"
    }
   },
   "source": [
    "Topics:\n",
    "\n",
    "* Reality Television\n",
    "\n",
    "* France\n",
    "\n",
    "* Music"
   ]
  },
  {
   "cell_type": "markdown",
   "metadata": {
    "slideshow": {
     "slide_type": "slide"
    }
   },
   "source": [
    "## Reality Television"
   ]
  },
  {
   "cell_type": "markdown",
   "metadata": {
    "slideshow": {
     "slide_type": "subslide"
    }
   },
   "source": [
    "**1. Order the following reality tv show subreddits by subscribers (from most to fewest subscribers)**\n",
    "\n",
    "    A. r/thebachelor (The Bachelor) (192k)\n",
    "\n",
    "    B. r/rupaulsdragrace (RuPaul's Drag Race) (490k)\n",
    "\n",
    "    C. r/survivor (Survivor) (204k)\n",
    "\n",
    "    D. r/jeopardy (Jeopardy) (80k)"
   ]
  },
  {
   "cell_type": "markdown",
   "metadata": {
    "slideshow": {
     "slide_type": "subslide"
    }
   },
   "source": [
    "**2. Name the occupation/job of each of the last four Bachelors (occupation upon becoming The Bachelor)**\n",
    "\n",
    "    A. Colton Underwood (Pro Athlete/NFL)\n",
    "    \n",
    "    B. Peter Weber (Pilot)\n",
    "    \n",
    "    C. Matt James (Real Estate Broker)\n",
    "    \n",
    "    D. Clayton Echard (Medical Device Sales)\n",
    "    "
   ]
  },
  {
   "cell_type": "markdown",
   "metadata": {
    "slideshow": {
     "slide_type": "subslide"
    }
   },
   "source": [
    "**3. Which state has produced the most Survivor winners, and what state has produced the most winners per capita (state needs to have produced at least two Survivor winners)**\n",
    "\n",
    "California (8 Winners)\n",
    "\n",
    "Utah or Iowa (.64 Winners / Million) (2 Winners and 3.1 Million)"
   ]
  },
  {
   "cell_type": "markdown",
   "metadata": {
    "slideshow": {
     "slide_type": "subslide"
    }
   },
   "source": [
    "**4. Rank the following occupations, based on average Survivor finishing position (from best to worst)**\n",
    "\n",
    "    A. Attorney (12.5)\n",
    "    \n",
    "    B. Flight Attendant (3.7)\n",
    "    \n",
    "    C. Police Office (9.4)\n",
    "    \n",
    "    D. Hair Dresser (7.3)"
   ]
  },
  {
   "cell_type": "markdown",
   "metadata": {
    "slideshow": {
     "slide_type": "subslide"
    }
   },
   "source": [
    "**5. Which one of the following is NOT a Real Housewives series?**\n",
    "\n",
    "    A. Real Housewives of New York City\n",
    "    \n",
    "    B. Real Housewives of Potomac\n",
    "    \n",
    "    C. Real Housewives of Salt Lake City\n",
    "    \n",
    "    D. Real Housewives of Denver (NOT)\n",
    "   "
   ]
  },
  {
   "cell_type": "markdown",
   "metadata": {
    "slideshow": {
     "slide_type": "subslide"
    }
   },
   "source": [
    "**6. Which of the following is NOT an actual reality TV dating show premise?**\n",
    "\n",
    "    A. One dater goes on five identical first dates, the setting is the same in each, right down to the restaurant and the dater's outfit and inevitably chooses the one person that stood out from the pack to go on a second date. (Dating Around)\n",
    "    \n",
    "    B. Two people meet for the first time at the altar, get married, and decide whether to stay together after eight weeks. (Married at First Sight)\n",
    "    \n",
    "    C. They say you never really know someone until you travel with them. That's what this series puts to the ultimate test. In it, a couple treks across eight of the roughest places in the world to see if they're ready for a lifetime of marriage. (Extreme Engagement)\n",
    "    \n",
    "    D. You're not suppose to mix business and pleasure, but in this series coworkers compete for the love and affection of their boss. 8 contestants are hired to work for one eligible bachelor, will the office romance lead to marriage or unemployment? (Marrying the Boss)\n",
    "    "
   ]
  },
  {
   "cell_type": "markdown",
   "metadata": {
    "slideshow": {
     "slide_type": "subslide"
    }
   },
   "source": [
    "**7. Identify the following members of the Kardashian extended family**\n",
    "\n",
    "<img src=\"img/family_tree_answer.png\" width=\"500\">"
   ]
  },
  {
   "cell_type": "markdown",
   "metadata": {
    "slideshow": {
     "slide_type": "slide"
    }
   },
   "source": [
    "## France"
   ]
  },
  {
   "cell_type": "markdown",
   "metadata": {
    "slideshow": {
     "slide_type": "subslide"
    }
   },
   "source": [
    "**8. For each of the following, is the origin French?**\n",
    "\n",
    "    A. French Fries (Yes, Thomas Jefferson brought back French recipe)\n",
    "    \n",
    "    B. French Press (No, Italian invention)\n",
    "    \n",
    "    C. French Horn (Yes, Type of french musical instrument)\n",
    "    \n",
    "    D. French Toast (No, They don't eat French Toast in France)\n",
    "    "
   ]
  },
  {
   "cell_type": "markdown",
   "metadata": {
    "slideshow": {
     "slide_type": "subslide"
    }
   },
   "source": [
    "**9. For each of the following Wars/Conflicts, was France involved?**\n",
    "\n",
    "    A. First Gulf War (1990-1991) (Yes)\n",
    "    \n",
    "    B. Korean War (1950-1953) (Yes)\n",
    "    \n",
    "    C. Great Turkish War (1683 -1699) (No)\n",
    "    \n",
    "    D. The War of Spanish Succession (1701-1714) (Yes)"
   ]
  },
  {
   "cell_type": "markdown",
   "metadata": {
    "slideshow": {
     "slide_type": "subslide"
    }
   },
   "source": [
    "**10. What are the most popular boy and girl baby names in France (2019) (Any name in the top 5 is worth a point)?**\n",
    "\n",
    "    A. Boy Names: (Gabriel, Leo, Raphael, Arthur, Louis)\n",
    "    \n",
    "    B. Girl Names: (Emma, Jade, Louise, Alice, Lina)"
   ]
  },
  {
   "cell_type": "markdown",
   "metadata": {
    "slideshow": {
     "slide_type": "subslide"
    }
   },
   "source": [
    "**11. French literature:**\n",
    "\n",
    "    A. Which French writer was awarded the Nobel Prize for Literature in 1964 but declined to accept it? (Jean-Paul Sarte)\n",
    "    \n",
    "    B. Which satire was first published in 1759 by Voltaire, a philosopher of the Age of Enlightenment and is subtitled The Optimist? (Candide)\n",
    "    \n",
    "    C. Postmodern French philsopher Jean Baudrillard' best known work, Simulcara and Simulation (1981), was a major influence and even appears on screen, in what blockbuster Sci-Fi movie? (The Matrix)\n",
    "    \n",
    "    D. “Even the darkest night will end and the sun will rise.” Which classic French novel, written in 1862, is this quote from? (Les Miserables)"
   ]
  },
  {
   "cell_type": "markdown",
   "metadata": {
    "slideshow": {
     "slide_type": "slide"
    }
   },
   "source": [
    "## Music"
   ]
  },
  {
   "cell_type": "markdown",
   "metadata": {
    "slideshow": {
     "slide_type": "subslide"
    }
   },
   "source": [
    "**12. Identify the name of the lesser known member of these famous bands**\n",
    "\n",
    "Howie Dorough\n",
    "\n",
    "<img src=\"img/backstreet.png\" width=\"500\">"
   ]
  },
  {
   "cell_type": "markdown",
   "metadata": {
    "slideshow": {
     "slide_type": "subslide"
    }
   },
   "source": [
    "**13. Identify the name of the lesser known member of these famous bands**\n",
    "\n",
    "Chris Kirkpatrick\n",
    "\n",
    "<img src=\"img/nsync.png\" width=\"500\">"
   ]
  },
  {
   "cell_type": "markdown",
   "metadata": {
    "slideshow": {
     "slide_type": "subslide"
    }
   },
   "source": [
    "**14. Identify the name of the lesser known member of these famous bands**\n",
    "\n",
    "Michelle Willams\n",
    "<img src=\"img/destinys_child.png\" width=\"500\">"
   ]
  },
  {
   "cell_type": "markdown",
   "metadata": {
    "slideshow": {
     "slide_type": "subslide"
    }
   },
   "source": [
    "**15. On June 3rd, 2022, which of the followings artists was NOT on the top 50 spotify chart for France?**\n",
    "\n",
    "    A. Stromae (Nope)\n",
    "    \n",
    "    B. Imagine Dragons\n",
    "    \n",
    "    C. Harry Styles\n",
    "    \n",
    "    D. Kate Bush"
   ]
  },
  {
   "cell_type": "markdown",
   "metadata": {
    "slideshow": {
     "slide_type": "subslide"
    }
   },
   "source": [
    "**16. Each of the following songs are the second most popular song from a one-hit wonder artist. After listening to their second most popular song, either name the artist or the name of their one-hit**\n",
    "\n",
    "    1. Baha Men - Who Let the Dogs Out\n",
    "    \n",
    "    2. a-ha - Take On Me\n",
    "    \n",
    "    3. Survivor - Eye of the Tiger\n",
    "    \n",
    "    4. Gnarls Barkley - Crazy\n",
    "    \n",
    "    5. Fountains of Wayne - Stacy's Mom\n",
    "    \n",
    "    6. James Blunt - You're Beautiful"
   ]
  },
  {
   "cell_type": "markdown",
   "metadata": {
    "slideshow": {
     "slide_type": "subslide"
    }
   },
   "source": [
    "**17. For each of the following years, two popular songs from that year will be played. One of the songs was \\#1 on the year end Billboard Top 100 and the other was not. Name the Song and Artist that was the top song**\n",
    "\n",
    "    1. (2009: Black Eyed Peas - Boom Boom Pow)\n",
    "    \n",
    "    2. (2010: Kesha - Tik Tok)\n",
    "    \n",
    "    3. (2012: Gotye - Somebody That I Used to Know)\n",
    "    \n",
    "    4. (2014: Pharrell Williams - Happy)\n",
    "    "
   ]
  },
  {
   "cell_type": "markdown",
   "metadata": {
    "slideshow": {
     "slide_type": "subslide"
    }
   },
   "source": [
    "**18. Identify the lyrics during the selected segment of the song**\n",
    "\n",
    "    1. Nirvana - Smells Like Teen Spirit (1:23 - 1:30) \"A mulatto, an albino, a mosquito, my libido\"\n",
    "    \n",
    "    2. Bryan Adams - Summer of' 69 (0:24 - 0:27) \"Jimmy quit, Jody got married\"\n",
    "    \n",
    "    3. System of a Down - Toxicity (0:46 - 0:51) \"Grab a brush and put a little make-up. Hide the scars to fade away the shake-up\""
   ]
  }
 ],
 "metadata": {
  "celltoolbar": "Slideshow",
  "kernelspec": {
   "display_name": "Python 3 (ipykernel)",
   "language": "python",
   "name": "python3"
  },
  "language_info": {
   "codemirror_mode": {
    "name": "ipython",
    "version": 3
   },
   "file_extension": ".py",
   "mimetype": "text/x-python",
   "name": "python",
   "nbconvert_exporter": "python",
   "pygments_lexer": "ipython3",
   "version": "3.9.4"
  }
 },
 "nbformat": 4,
 "nbformat_minor": 2
}
