{
 "cells": [
  {
   "cell_type": "markdown",
   "metadata": {
    "slideshow": {
     "slide_type": "slide"
    }
   },
   "source": [
    "# Answers Trivia 2022\n",
    "\n",
    "by Marley Buchman"
   ]
  },
  {
   "cell_type": "markdown",
   "metadata": {
    "slideshow": {
     "slide_type": "slide"
    }
   },
   "source": [
    "**18 Questions, 127 Points**"
   ]
  },
  {
   "cell_type": "markdown",
   "metadata": {
    "slideshow": {
     "slide_type": "slide"
    }
   },
   "source": [
    "### Twin Movies"
   ]
  },
  {
   "cell_type": "markdown",
   "metadata": {
    "slideshow": {
     "slide_type": "subslide"
    }
   },
   "source": [
    "**1A. Match the synopsis of the movie to the title (1 Point Each)**\n",
    "\n",
    "**No Strings Attached**\n",
    "\n",
    "<img src=\"img/no_strings_attached.png\" width=\"500\">"
   ]
  },
  {
   "cell_type": "markdown",
   "metadata": {
    "slideshow": {
     "slide_type": "subslide"
    }
   },
   "source": [
    "**1B. Match the synopsis of the movie to the title (1 Point Each)**\n",
    "\n",
    "**Olympus Has Fallen**\n",
    "    \n",
    "<img src=\"img/olympus_has_fallen.png\" width=\"500\">"
   ]
  },
  {
   "cell_type": "markdown",
   "metadata": {
    "slideshow": {
     "slide_type": "subslide"
    }
   },
   "source": [
    "**1C. Match the synopsis of the movie to the title (1 Point Each)**\n",
    "\n",
    "**Red Eye**\n",
    "    \n",
    "<img src=\"img/red_eye.png\" width=\"500\">"
   ]
  },
  {
   "cell_type": "markdown",
   "metadata": {
    "slideshow": {
     "slide_type": "slide"
    }
   },
   "source": [
    "### Public Sector Salaries"
   ]
  },
  {
   "cell_type": "markdown",
   "metadata": {
    "slideshow": {
     "slide_type": "subslide"
    }
   },
   "source": [
    "**2. Who makes more: teachers or cops? In each state, did teachers or police have higher median earnings in 2020? (1 Point Each)**\n",
    "\n",
    "WA - Cops Make Much More, \n",
    "\n",
    "MS - Teachers Make Much More, \n",
    "\n",
    "AZ - Cops Make Much More, \n",
    "\n",
    "TX - Cops Make Much More\n",
    "    \n",
    "<img src=\"img/cops.png\" width=\"400\">"
   ]
  },
  {
   "cell_type": "markdown",
   "metadata": {
    "slideshow": {
     "slide_type": "slide"
    }
   },
   "source": [
    "### U.S. Counties"
   ]
  },
  {
   "cell_type": "markdown",
   "metadata": {
    "slideshow": {
     "slide_type": "subslide"
    }
   },
   "source": [
    "**3. There are 116 counties in the U.S. that have a larger population than the state of Wyoming. Identify whether the following states have a county with a population greater than the state of Wyoming (1 Point Each)**\n",
    "\n",
    "    A. Iowa - No\n",
    "    \n",
    "    B. Oregon - Yes\n",
    "    \n",
    "    C. Louisiana - No\n",
    "    \n",
    "    D. Alabama - Yes\n",
    "    \n",
    "<img src=\"img/county_pop.png\" width=\"500\">"
   ]
  },
  {
   "cell_type": "markdown",
   "metadata": {
    "slideshow": {
     "slide_type": "slide"
    }
   },
   "source": [
    "### Countries"
   ]
  },
  {
   "cell_type": "markdown",
   "metadata": {
    "slideshow": {
     "slide_type": "subslide"
    }
   },
   "source": [
    "**4. Name 3 countries in the Top Ten Countries with 2 Largest Cities Furthest Apart (1 Point Each)**\n",
    "\n",
    "<img src=\"img/countries_dist.png\" width=\"500\">"
   ]
  },
  {
   "cell_type": "markdown",
   "metadata": {
    "slideshow": {
     "slide_type": "slide"
    }
   },
   "source": [
    "### Hip-Hop Artists"
   ]
  },
  {
   "cell_type": "markdown",
   "metadata": {
    "slideshow": {
     "slide_type": "subslide"
    }
   },
   "source": [
    "**5. Order the following Hip-Hop artists from oldest to youngest (1 Point Each)**\n",
    "\n",
    "    A. J Cole - 37\n",
    "    \n",
    "    B. Kendrick Lamar - 35\n",
    "    \n",
    "    C. Gucci Mane - 42\n",
    "    \n",
    "    D. Nicki Minaj - 39"
   ]
  },
  {
   "cell_type": "markdown",
   "metadata": {
    "slideshow": {
     "slide_type": "slide"
    }
   },
   "source": [
    "### Age"
   ]
  },
  {
   "cell_type": "markdown",
   "metadata": {
    "slideshow": {
     "slide_type": "subslide"
    }
   },
   "source": [
    "**6. A Septuagenarian is a person in their 70s, identify the related term for people of the following ages (1 Point Each)**\n",
    "\n",
    "    A. 30s - Tricenarian\n",
    "    \n",
    "    B. 60s - Sexagenarian\n",
    "    \n",
    "    C. 40s - Quadragenarian\n",
    "    \n",
    "    D. 20s - Vicenarian"
   ]
  },
  {
   "cell_type": "markdown",
   "metadata": {
    "slideshow": {
     "slide_type": "slide"
    }
   },
   "source": [
    "### Islam"
   ]
  },
  {
   "cell_type": "markdown",
   "metadata": {
    "slideshow": {
     "slide_type": "subslide"
    }
   },
   "source": [
    "**7. For the following Muslim people, identify whether they're a Sunni or Shia Muslim (1 Point Each)**\n",
    "\n",
    "    A. Bashar al-Assad (President of Syria) - Shia\n",
    "    \n",
    "    B. Ali Khamenei (Supreme Leader of Iran) - Shia\n",
    "    \n",
    "    C. Saddam Hussein - Sunni\n",
    "    \n",
    "    D. Osama Bin Laden - Sunni"
   ]
  },
  {
   "cell_type": "markdown",
   "metadata": {
    "slideshow": {
     "slide_type": "slide"
    }
   },
   "source": [
    "### The Marvel Cinematic Universe"
   ]
  },
  {
   "cell_type": "markdown",
   "metadata": {
    "slideshow": {
     "slide_type": "subslide"
    }
   },
   "source": [
    "**8. Have the following actors appeared in a Marvel Cinematic Universe (MCU) film? (1 Point Each)**\n",
    "\n",
    "    A. Matt Damon (Thor Ragnarok)\n",
    "    \n",
    "    B. Michael Douglas (Ant-Man)\n",
    "    \n",
    "    C. Sylvester Stallone (Guardians of the Galaxy 2)\n",
    "    \n",
    "    D. Vin Diesel (Guardians of the Galaxy)"
   ]
  },
  {
   "cell_type": "markdown",
   "metadata": {
    "slideshow": {
     "slide_type": "slide"
    }
   },
   "source": [
    "### College"
   ]
  },
  {
   "cell_type": "markdown",
   "metadata": {
    "slideshow": {
     "slide_type": "subslide"
    }
   },
   "source": [
    "**9. For the following celebrities, name the university they graduated from and what their degree was in? (2 Points Each)**\n",
    "\n",
    "    A. Michael Jordan - University of North Carolina: Geography\n",
    "    \n",
    "    B. Natalie Portman - Harvard: Psychology\n",
    "    \n",
    "    C. Aziz Ansari - New York University: Marketing\n",
    "    \n",
    "    D. Will Ferrell - University of Southern California: Sports Information (will accept Sports Management/Business)"
   ]
  },
  {
   "cell_type": "markdown",
   "metadata": {
    "slideshow": {
     "slide_type": "slide"
    }
   },
   "source": [
    "### Units"
   ]
  },
  {
   "cell_type": "markdown",
   "metadata": {
    "slideshow": {
     "slide_type": "subslide"
    }
   },
   "source": [
    "**10. For the following measurements, convert them into more commonly used units (1 point each)**\n",
    "\n",
    "    A. 29 degrees celsius is _ degrees fahrenheit? 84 degrees F (82 - 86 accepted)\n",
    "    \n",
    "    B. 4.8 kilometers is _ miles? 3 Miles (2.98)\n",
    "    \n",
    "    C. 117 kilograms is _ pounds? 258 lbs (248 - 268 accepted)"
   ]
  },
  {
   "cell_type": "markdown",
   "metadata": {
    "slideshow": {
     "slide_type": "slide"
    }
   },
   "source": [
    "### Population"
   ]
  },
  {
   "cell_type": "markdown",
   "metadata": {
    "slideshow": {
     "slide_type": "subslide"
    }
   },
   "source": [
    "**11. For each of the following countries you will be given the current population, what was the population in the given year? (2 Points Each)**\n",
    "\n",
    "    A. USA 2020 331 Million, what was the population in 1920? 106 Million (101 - 111)\n",
    "    \n",
    "    B. Japan 2020 126 Million, what was the population in 1990? 123 Million (116 - 130)\n",
    "    \n",
    "    C. Russia 2020 146 Million, what was the population in 1989? 147 Million (140 - 154)"
   ]
  },
  {
   "cell_type": "markdown",
   "metadata": {
    "slideshow": {
     "slide_type": "slide"
    }
   },
   "source": [
    "### Travel"
   ]
  },
  {
   "cell_type": "markdown",
   "metadata": {
    "slideshow": {
     "slide_type": "subslide"
    }
   },
   "source": [
    "**12A. What percent of American's have ever travelled to a country outside of the United States? (1 Point)**\n",
    "    \n",
    "    C. 71%\n",
    "    \n",
    "<img src=\"img/american_travel2.png\" width=\"300\">"
   ]
  },
  {
   "cell_type": "markdown",
   "metadata": {
    "slideshow": {
     "slide_type": "subslide"
    }
   },
   "source": [
    "**12B. What percent of Europeans have ever travelled to a country outside of the European Union? (1 Point)**\n",
    "    \n",
    "    B. 44%\n",
    "    \n",
    "<img src=\"img/european_travel.png\" width=\"500\">"
   ]
  },
  {
   "cell_type": "markdown",
   "metadata": {
    "slideshow": {
     "slide_type": "slide"
    }
   },
   "source": [
    "### Artificial Intelligence"
   ]
  },
  {
   "cell_type": "markdown",
   "metadata": {
    "slideshow": {
     "slide_type": "subslide"
    }
   },
   "source": [
    "**13. Each of the following series of images were created by providing a prompt/phrase/description to an AI. Guess the prompt that was used to create the images. (2 Points Each)**\n",
    "\n",
    "    A. Vaporwave Colonel Sanders\n",
    "    \n",
    "    B. Gritty on the Joe Rogan Experience\n",
    "    \n",
    "    C. Security cam footage of the Michelin Man\n",
    "    \n",
    "    D. Guy Fieri as the KFC logo\n"
   ]
  },
  {
   "cell_type": "markdown",
   "metadata": {
    "slideshow": {
     "slide_type": "slide"
    }
   },
   "source": [
    "### Historic Places"
   ]
  },
  {
   "cell_type": "markdown",
   "metadata": {
    "slideshow": {
     "slide_type": "subslide"
    }
   },
   "source": [
    "**14. Identify the city from the map of historic people who lived there during the listed time period (2 Points)**\n",
    "\n",
    "<img src=\"img/vienna_answer.jpg\" width=\"500\">"
   ]
  },
  {
   "cell_type": "markdown",
   "metadata": {
    "slideshow": {
     "slide_type": "slide"
    }
   },
   "source": [
    "### Visual Puns"
   ]
  },
  {
   "cell_type": "markdown",
   "metadata": {
    "slideshow": {
     "slide_type": "subslide"
    }
   },
   "source": [
    "**15. (8 Points, 4 Points for Theme, 1 Point for each correct image identification)**\n",
    "\n",
    "![](img/astrological-signs.png)"
   ]
  },
  {
   "cell_type": "markdown",
   "metadata": {
    "slideshow": {
     "slide_type": "slide"
    }
   },
   "source": [
    "### Guess the Data on the Map"
   ]
  },
  {
   "cell_type": "markdown",
   "metadata": {
    "slideshow": {
     "slide_type": "subslide"
    }
   },
   "source": [
    "**16. What data is this map showing? (5pts)**\n",
    "\n",
    "<img src=\"img/believe-god_answer.png\" width=\"700\">"
   ]
  },
  {
   "cell_type": "markdown",
   "metadata": {
    "slideshow": {
     "slide_type": "slide"
    }
   },
   "source": [
    "# BREAK (Scoring)"
   ]
  },
  {
   "cell_type": "markdown",
   "metadata": {
    "slideshow": {
     "slide_type": "slide"
    }
   },
   "source": [
    "### Hip Hop Samples"
   ]
  },
  {
   "cell_type": "markdown",
   "metadata": {
    "slideshow": {
     "slide_type": "subslide"
    }
   },
   "source": [
    "**17. Each of the followings songs contains a sample that was used in a famouse/iconic later Hip Hop song. Identify the artist and title of the famous song that used the sample for 1 point each (2 points for both). Identifying the artist of the sample is worth 3 points** \n",
    "\n",
    "    A. Big Poppa - Notorious B.I.G. (The Isley Brothers)\n",
    "    \n",
    "    B. Money Trees - Kendrick Lamar (Beach House)\n",
    "    \n",
    "    C. Int'l PLayers Anthem - UGK, Outkast (Willie Hutch)\n",
    "    \n",
    "    D. It Was A Good Day - Ice Cube (The Isley Brothers)\n",
    "    \n",
    "    E. Where The Hood At - DMX (Albert King)\n",
    "    \n",
    "    F. Angel - Shaggy (Steve Miller Band)"
   ]
  },
  {
   "cell_type": "markdown",
   "metadata": {
    "slideshow": {
     "slide_type": "slide"
    }
   },
   "source": [
    "### Samples"
   ]
  },
  {
   "cell_type": "markdown",
   "metadata": {
    "slideshow": {
     "slide_type": "subslide"
    }
   },
   "source": [
    "**18. Each of the followings songs contains a sample that was used in a famouse/iconic later song. Identify the artist and title of the famous song that used the sample for 1 point each (2 points for both). Identifying the artist of the sample is worth 3 points**\n",
    "\n",
    "    A. Right Herem Right Now - Fatboy Slim (James Gang)\n",
    "    \n",
    "    B. Steal My Sunshine - LEN (Andre True Connection)\n",
    "    \n",
    "    C. Where's Your Head At - Basement Jaxx (Gary Numan)\n",
    "    \n",
    "    D. Butterfly - Crazy Town (Red Hot Chili Peppers)\n",
    "    \n",
    "    E. Timber - Kesha (Lee Oskar)"
   ]
  }
 ],
 "metadata": {
  "celltoolbar": "Slideshow",
  "kernelspec": {
   "display_name": "Python 3 (ipykernel)",
   "language": "python",
   "name": "python3"
  },
  "language_info": {
   "codemirror_mode": {
    "name": "ipython",
    "version": 3
   },
   "file_extension": ".py",
   "mimetype": "text/x-python",
   "name": "python",
   "nbconvert_exporter": "python",
   "pygments_lexer": "ipython3",
   "version": "3.9.4"
  }
 },
 "nbformat": 4,
 "nbformat_minor": 2
}
