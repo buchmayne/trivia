{
 "cells": [
  {
   "cell_type": "markdown",
   "id": "7de6254c",
   "metadata": {
    "slideshow": {
     "slide_type": "slide"
    }
   },
   "source": [
    "# Trivia December 2022 (Answers)\n",
    "\n",
    "By Marley Buchman"
   ]
  },
  {
   "cell_type": "markdown",
   "id": "13ed2fe1",
   "metadata": {
    "slideshow": {
     "slide_type": "slide"
    }
   },
   "source": [
    "### X Question, Y Total Points"
   ]
  },
  {
   "cell_type": "markdown",
   "id": "687a7ea8",
   "metadata": {
    "slideshow": {
     "slide_type": "slide"
    }
   },
   "source": [
    "### Fast Food Chains"
   ]
  },
  {
   "cell_type": "markdown",
   "id": "dd53f406",
   "metadata": {
    "slideshow": {
     "slide_type": "subslide"
    }
   },
   "source": [
    "**1. For the following pairs of fast food chains, identify which fast food chain has more stores in the US. (1 Point Each)**\n",
    "\n",
    "    A. Starbucks or McDonalds (15,450 > 13,438) Starbucks\n",
    "    \n",
    "    B. KFC or Dairy Queen (3,953 < 4,330) Dairy Queen\n",
    "    \n",
    "    C. Dominos or Dunkin Donuts (6,560 < 9,244) Dunkin Donuts\n",
    "    \n",
    "    D. Subway or (Taco Bell + Burger King) (21,147 > (7,002 + 7,105)) Subway"
   ]
  },
  {
   "cell_type": "markdown",
   "id": "2560ba78",
   "metadata": {
    "slideshow": {
     "slide_type": "slide"
    }
   },
   "source": [
    "### Influencers"
   ]
  },
  {
   "cell_type": "markdown",
   "id": "d4665ad3",
   "metadata": {
    "slideshow": {
     "slide_type": "subslide"
    }
   },
   "source": [
    "**2. For the following pairs of celebrities, identify which celebrity has more followers (Instagram + Twitter + Facebook) (1 Point Each)**\n",
    "\n",
    "    A. Cristiano Ronaldo or Justin Bieber (732 M > 460 M)\n",
    "    \n",
    "    B. Lionel Messi or Kim Kardashian (464 M > 437 M)\n",
    "    \n",
    "    C. Ariana Grande or Taylor Swift (456 M > 388 M)\n",
    "    \n",
    "    D. Virat Kohli or Miley Cyrus (310 M > 274 M)\n",
    "    "
   ]
  },
  {
   "cell_type": "markdown",
   "id": "bf7bffcb",
   "metadata": {
    "slideshow": {
     "slide_type": "slide"
    }
   },
   "source": [
    "### The Cost of Higher Education"
   ]
  },
  {
   "cell_type": "markdown",
   "id": "2eb87820",
   "metadata": {
    "slideshow": {
     "slide_type": "subslide"
    }
   },
   "source": []
  },
  {
   "cell_type": "markdown",
   "id": "b03051b3",
   "metadata": {},
   "source": []
  },
  {
   "cell_type": "markdown",
   "id": "e44a0909",
   "metadata": {},
   "source": []
  },
  {
   "cell_type": "markdown",
   "id": "9c26a19c",
   "metadata": {},
   "source": []
  },
  {
   "cell_type": "markdown",
   "id": "b3bfd31f",
   "metadata": {},
   "source": []
  },
  {
   "cell_type": "markdown",
   "id": "4af63dbe",
   "metadata": {},
   "source": []
  },
  {
   "cell_type": "markdown",
   "id": "cf9883b4",
   "metadata": {},
   "source": []
  },
  {
   "cell_type": "markdown",
   "id": "107aadd7",
   "metadata": {},
   "source": []
  },
  {
   "cell_type": "markdown",
   "id": "f0823ce7",
   "metadata": {},
   "source": []
  },
  {
   "cell_type": "markdown",
   "id": "644ad743",
   "metadata": {},
   "source": []
  },
  {
   "cell_type": "markdown",
   "id": "ef8b7313",
   "metadata": {},
   "source": []
  },
  {
   "cell_type": "markdown",
   "id": "c5f00cee",
   "metadata": {},
   "source": []
  },
  {
   "cell_type": "markdown",
   "id": "02f27784",
   "metadata": {},
   "source": []
  },
  {
   "cell_type": "markdown",
   "id": "c3142a83",
   "metadata": {},
   "source": []
  },
  {
   "cell_type": "markdown",
   "id": "8f0b42f4",
   "metadata": {},
   "source": []
  },
  {
   "cell_type": "markdown",
   "id": "bd8574f3",
   "metadata": {},
   "source": []
  }
 ],
 "metadata": {
  "celltoolbar": "Slideshow",
  "kernelspec": {
   "display_name": "Python 3 (ipykernel)",
   "language": "python",
   "name": "python3"
  },
  "language_info": {
   "codemirror_mode": {
    "name": "ipython",
    "version": 3
   },
   "file_extension": ".py",
   "mimetype": "text/x-python",
   "name": "python",
   "nbconvert_exporter": "python",
   "pygments_lexer": "ipython3",
   "version": "3.9.4"
  }
 },
 "nbformat": 4,
 "nbformat_minor": 5
}
