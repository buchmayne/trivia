{
 "cells": [
  {
   "cell_type": "markdown",
   "id": "58945b11",
   "metadata": {
    "slideshow": {
     "slide_type": "slide"
    }
   },
   "source": [
    "# Trivia December 2022 (Answers)\n",
    "\n",
    "By Marley Buchman"
   ]
  },
  {
   "cell_type": "markdown",
   "id": "7f1c0985",
   "metadata": {
    "slideshow": {
     "slide_type": "slide"
    }
   },
   "source": [
    "### X Question, Y Total Points"
   ]
  },
  {
   "cell_type": "markdown",
   "id": "ffae981e",
   "metadata": {
    "slideshow": {
     "slide_type": "slide"
    }
   },
   "source": [
    "### Fast Food Chains"
   ]
  },
  {
   "cell_type": "markdown",
   "id": "ef605582",
   "metadata": {
    "slideshow": {
     "slide_type": "subslide"
    }
   },
   "source": [
    "**1. For the following pairs of fast food chains, identify which fast food chain has more stores in the US. (1 Point Each)**\n",
    "\n",
    "    A. Starbucks or McDonalds (15,450 > 13,438) Starbucks\n",
    "    \n",
    "    B. KFC or Dairy Queen (3,953 < 4,330) Dairy Queen\n",
    "    \n",
    "    C. Dominos or Dunkin Donuts (6,560 < 9,244) Dunkin Donuts\n",
    "    \n",
    "    D. Subway or (Taco Bell + Burger King) (21,147 > (7,002 + 7,105)) Subway"
   ]
  },
  {
   "cell_type": "markdown",
   "id": "8a9bc7bb",
   "metadata": {
    "slideshow": {
     "slide_type": "slide"
    }
   },
   "source": [
    "### Influencers"
   ]
  },
  {
   "cell_type": "markdown",
   "id": "1ac0ad4a",
   "metadata": {
    "slideshow": {
     "slide_type": "subslide"
    }
   },
   "source": [
    "**2. For the following pairs of celebrities, identify which celebrity has more followers (Instagram + Twitter + Facebook) (1 Point Each)**\n",
    "\n",
    "    A. Cristiano Ronaldo or Justin Bieber (732 M > 460 M)\n",
    "    \n",
    "    B. Lionel Messi or Kim Kardashian (464 M > 437 M)\n",
    "    \n",
    "    C. Ariana Grande or Taylor Swift (456 M > 388 M)\n",
    "    \n",
    "    D. Virat Kohli or Miley Cyrus (310 M > 274 M)\n",
    "    "
   ]
  },
  {
   "cell_type": "markdown",
   "id": "2b43da24",
   "metadata": {},
   "source": []
  },
  {
   "cell_type": "markdown",
   "id": "e4b55e3f",
   "metadata": {},
   "source": []
  },
  {
   "cell_type": "markdown",
   "id": "2e218794",
   "metadata": {},
   "source": []
  },
  {
   "cell_type": "markdown",
   "id": "160640f4",
   "metadata": {},
   "source": []
  },
  {
   "cell_type": "markdown",
   "id": "fa9b2942",
   "metadata": {},
   "source": []
  },
  {
   "cell_type": "markdown",
   "id": "40b185fc",
   "metadata": {},
   "source": []
  },
  {
   "cell_type": "markdown",
   "id": "402d8592",
   "metadata": {},
   "source": []
  },
  {
   "cell_type": "markdown",
   "id": "48bbbd33",
   "metadata": {},
   "source": []
  },
  {
   "cell_type": "markdown",
   "id": "eb747c01",
   "metadata": {},
   "source": []
  },
  {
   "cell_type": "markdown",
   "id": "fda487c6",
   "metadata": {},
   "source": []
  },
  {
   "cell_type": "markdown",
   "id": "ae7cef87",
   "metadata": {},
   "source": []
  },
  {
   "cell_type": "markdown",
   "id": "71eb4ec9",
   "metadata": {},
   "source": []
  },
  {
   "cell_type": "markdown",
   "id": "897a9bae",
   "metadata": {},
   "source": []
  },
  {
   "cell_type": "markdown",
   "id": "78324f33",
   "metadata": {},
   "source": []
  },
  {
   "cell_type": "markdown",
   "id": "54434719",
   "metadata": {},
   "source": []
  },
  {
   "cell_type": "markdown",
   "id": "43bdeb73",
   "metadata": {},
   "source": []
  },
  {
   "cell_type": "markdown",
   "id": "fc04e758",
   "metadata": {},
   "source": []
  }
 ],
 "metadata": {
  "celltoolbar": "Slideshow",
  "kernelspec": {
   "display_name": "Python 3 (ipykernel)",
   "language": "python",
   "name": "python3"
  },
  "language_info": {
   "codemirror_mode": {
    "name": "ipython",
    "version": 3
   },
   "file_extension": ".py",
   "mimetype": "text/x-python",
   "name": "python",
   "nbconvert_exporter": "python",
   "pygments_lexer": "ipython3",
   "version": "3.9.4"
  }
 },
 "nbformat": 4,
 "nbformat_minor": 5
}
