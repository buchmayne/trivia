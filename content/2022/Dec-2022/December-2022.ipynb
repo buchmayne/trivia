{
 "cells": [
  {
   "cell_type": "markdown",
   "id": "01db1d1f",
   "metadata": {
    "slideshow": {
     "slide_type": "slide"
    }
   },
   "source": [
    "# Trivia December 2022\n",
    "\n",
    "By Marley Buchman"
   ]
  },
  {
   "cell_type": "markdown",
   "id": "db4d5822",
   "metadata": {
    "slideshow": {
     "slide_type": "slide"
    }
   },
   "source": [
    "### X Question, Y Total Points"
   ]
  },
  {
   "cell_type": "markdown",
   "id": "787ef8ab",
   "metadata": {
    "slideshow": {
     "slide_type": "slide"
    }
   },
   "source": [
    "### Fast Food Chains"
   ]
  },
  {
   "cell_type": "markdown",
   "id": "7dfb2221",
   "metadata": {
    "slideshow": {
     "slide_type": "subslide"
    }
   },
   "source": [
    "**1. For the following pairs of fast food chains, identify which fast food chain has more stores in the US. (1 Point Each)**\n",
    "\n",
    "    A. Starbucks or McDonalds\n",
    "    \n",
    "    B. KFC or Dairy Queen\n",
    "    \n",
    "    C. Dominos or Dunkin Donuts\n",
    "    \n",
    "    D. Subway or (Taco Bell + Burger King)"
   ]
  },
  {
   "cell_type": "markdown",
   "id": "3105e315",
   "metadata": {
    "slideshow": {
     "slide_type": "slide"
    }
   },
   "source": [
    "### Influencers + Move this to not be question 2, or at least not right after fast food chains"
   ]
  },
  {
   "cell_type": "markdown",
   "id": "c54eed44",
   "metadata": {
    "slideshow": {
     "slide_type": "subslide"
    }
   },
   "source": [
    "**2. For the following pairs of celebrities, identify which celebrity has more followers (Instagram + Twitter + Facebook) (1 Point Each)**\n",
    "\n",
    "    A. Cristiano Ronaldo or Justin Bieber\n",
    "    \n",
    "    B. Lionel Messi or Kim Kardashian\n",
    "    \n",
    "    C. Ariana Grande or Taylor Swift\n",
    "    \n",
    "    D. Virat Kohli or Miley Cyrus\n",
    "    "
   ]
  },
  {
   "cell_type": "markdown",
   "id": "231ca477",
   "metadata": {
    "slideshow": {
     "slide_type": "slide"
    }
   },
   "source": []
  },
  {
   "cell_type": "markdown",
   "id": "0c6fc93a",
   "metadata": {
    "slideshow": {
     "slide_type": "subslide"
    }
   },
   "source": []
  },
  {
   "cell_type": "markdown",
   "id": "928033a1",
   "metadata": {
    "slideshow": {
     "slide_type": "slide"
    }
   },
   "source": []
  },
  {
   "cell_type": "markdown",
   "id": "dbe0b82a",
   "metadata": {
    "slideshow": {
     "slide_type": "subslide"
    }
   },
   "source": []
  },
  {
   "cell_type": "markdown",
   "id": "17bf481b",
   "metadata": {
    "slideshow": {
     "slide_type": "slide"
    }
   },
   "source": []
  },
  {
   "cell_type": "markdown",
   "id": "c566c04a",
   "metadata": {
    "slideshow": {
     "slide_type": "subslide"
    }
   },
   "source": []
  },
  {
   "cell_type": "markdown",
   "id": "c49b5cf8",
   "metadata": {
    "slideshow": {
     "slide_type": "slide"
    }
   },
   "source": []
  },
  {
   "cell_type": "markdown",
   "id": "22d79be9",
   "metadata": {
    "slideshow": {
     "slide_type": "subslide"
    }
   },
   "source": []
  },
  {
   "cell_type": "markdown",
   "id": "5a1baf7d",
   "metadata": {},
   "source": []
  },
  {
   "cell_type": "markdown",
   "id": "58edcff4",
   "metadata": {},
   "source": []
  },
  {
   "cell_type": "markdown",
   "id": "8f41de85",
   "metadata": {},
   "source": []
  },
  {
   "cell_type": "markdown",
   "id": "5afc01e7",
   "metadata": {},
   "source": []
  },
  {
   "cell_type": "markdown",
   "id": "134d5172",
   "metadata": {},
   "source": []
  },
  {
   "cell_type": "markdown",
   "id": "7046e292",
   "metadata": {},
   "source": []
  },
  {
   "cell_type": "markdown",
   "id": "538f9f58",
   "metadata": {},
   "source": []
  },
  {
   "cell_type": "markdown",
   "id": "7fc43542",
   "metadata": {},
   "source": []
  },
  {
   "cell_type": "markdown",
   "id": "b9576597",
   "metadata": {},
   "source": []
  }
 ],
 "metadata": {
  "celltoolbar": "Slideshow",
  "kernelspec": {
   "display_name": "Python 3 (ipykernel)",
   "language": "python",
   "name": "python3"
  },
  "language_info": {
   "codemirror_mode": {
    "name": "ipython",
    "version": 3
   },
   "file_extension": ".py",
   "mimetype": "text/x-python",
   "name": "python",
   "nbconvert_exporter": "python",
   "pygments_lexer": "ipython3",
   "version": "3.9.4"
  }
 },
 "nbformat": 4,
 "nbformat_minor": 5
}
