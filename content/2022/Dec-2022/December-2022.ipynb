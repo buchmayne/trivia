{
 "cells": [
  {
   "cell_type": "markdown",
   "id": "f51ea6d7",
   "metadata": {
    "slideshow": {
     "slide_type": "slide"
    }
   },
   "source": [
    "# Trivia December 2022\n",
    "\n",
    "By Marley Buchman"
   ]
  },
  {
   "cell_type": "markdown",
   "id": "638574a1",
   "metadata": {
    "slideshow": {
     "slide_type": "slide"
    }
   },
   "source": [
    "### X Question, Y Total Points"
   ]
  },
  {
   "cell_type": "markdown",
   "id": "c309ab99",
   "metadata": {
    "slideshow": {
     "slide_type": "slide"
    }
   },
   "source": [
    "### Fast Food Chains"
   ]
  },
  {
   "cell_type": "markdown",
   "id": "81a3feda",
   "metadata": {
    "slideshow": {
     "slide_type": "subslide"
    }
   },
   "source": [
    "**1. For the following pairs of fast food chains, identify which fast food chain has more stores in the US. (1 Point Each)**\n",
    "\n",
    "    A. Starbucks or McDonalds\n",
    "    \n",
    "    B. KFC or Dairy Queen\n",
    "    \n",
    "    C. Dominos or Dunkin Donuts\n",
    "    \n",
    "    D. Subway or (Taco Bell + Burger King)"
   ]
  },
  {
   "cell_type": "markdown",
   "id": "95611bc1",
   "metadata": {
    "slideshow": {
     "slide_type": "subslide"
    }
   },
   "source": [
    "**2. Is there fast food chain X located in state Y? (1 Point Each)**\n",
    "\n",
    "    A. Dunkin Donuts in California\n",
    "    \n",
    "    B. Jack in the Box in New York\n",
    "    \n",
    "    C. Waffle House in Wisconsin\n",
    "    \n",
    "    D. Five Guys in Idaho\n",
    "    "
   ]
  },
  {
   "cell_type": "markdown",
   "id": "8646e939",
   "metadata": {
    "slideshow": {
     "slide_type": "slide"
    }
   },
   "source": [
    "### Influencers"
   ]
  },
  {
   "cell_type": "markdown",
   "id": "6edd8f18",
   "metadata": {
    "slideshow": {
     "slide_type": "subslide"
    }
   },
   "source": [
    "**3. For the following pairs of celebrities, identify which celebrity has more followers (Instagram + Twitter + Facebook) (1 Point Each)**\n",
    "\n",
    "    A. Cristiano Ronaldo or Justin Bieber\n",
    "    \n",
    "    B. Lionel Messi or Kim Kardashian\n",
    "    \n",
    "    C. Ariana Grande or Taylor Swift\n",
    "    \n",
    "    D. Virat Kohli or Miley Cyrus\n",
    "    "
   ]
  },
  {
   "cell_type": "markdown",
   "id": "560ff243",
   "metadata": {
    "slideshow": {
     "slide_type": "slide"
    }
   },
   "source": [
    "### The Cost of Higher Education"
   ]
  },
  {
   "cell_type": "markdown",
   "id": "b1195ef5",
   "metadata": {
    "slideshow": {
     "slide_type": "subslide"
    }
   },
   "source": [
    "**4. For each of the following states, name the most expensive College/University in the state (2 Points Each)**\n",
    "\n",
    "    A. Oregon\n",
    "    \n",
    "    B. California\n",
    "    \n",
    "    C. Florida\n",
    "    \n",
    "    D. Georgia"
   ]
  },
  {
   "cell_type": "markdown",
   "id": "39ed158b",
   "metadata": {
    "slideshow": {
     "slide_type": "subslide"
    }
   },
   "source": [
    "**5. Order the following states most expensive College/University from most expensive, to least expensive (1 Point Each)**\n",
    "\n",
    "    A. Ohio\n",
    "    \n",
    "    B. Florida\n",
    "    \n",
    "    C. North Carolina\n",
    "    \n",
    "    D. Arizona\n",
    "    "
   ]
  },
  {
   "cell_type": "markdown",
   "id": "f9ede433",
   "metadata": {
    "slideshow": {
     "slide_type": "slide"
    }
   },
   "source": [
    "### Musicians"
   ]
  },
  {
   "cell_type": "markdown",
   "id": "ab3839e2",
   "metadata": {
    "slideshow": {
     "slide_type": "subslide"
    }
   },
   "source": [
    "**6. For each of the following states, name the artist from that state, with the highest number of lifetime Spotify streams (2 Points Each)**\n",
    "\n",
    "    A. California\n",
    "    \n",
    "    B. Pennsylvania\n",
    "    \n",
    "    C. Tennessee\n",
    "    "
   ]
  },
  {
   "cell_type": "markdown",
   "id": "028d93e6",
   "metadata": {
    "slideshow": {
     "slide_type": "slide"
    }
   },
   "source": []
  },
  {
   "cell_type": "markdown",
   "id": "8faba8dc",
   "metadata": {
    "slideshow": {
     "slide_type": "subslide"
    }
   },
   "source": []
  },
  {
   "cell_type": "markdown",
   "id": "f02037d7",
   "metadata": {
    "slideshow": {
     "slide_type": "slide"
    }
   },
   "source": []
  },
  {
   "cell_type": "markdown",
   "id": "1fe4325b",
   "metadata": {
    "slideshow": {
     "slide_type": "subslide"
    }
   },
   "source": []
  },
  {
   "cell_type": "markdown",
   "id": "d50fb2e9",
   "metadata": {},
   "source": []
  },
  {
   "cell_type": "markdown",
   "id": "9553fe20",
   "metadata": {},
   "source": []
  },
  {
   "cell_type": "markdown",
   "id": "fa6c236d",
   "metadata": {},
   "source": []
  },
  {
   "cell_type": "markdown",
   "id": "bbf0cdd4",
   "metadata": {},
   "source": []
  },
  {
   "cell_type": "markdown",
   "id": "45e8cfbc",
   "metadata": {},
   "source": []
  },
  {
   "cell_type": "markdown",
   "id": "a507ce21",
   "metadata": {},
   "source": []
  },
  {
   "cell_type": "markdown",
   "id": "d5c01389",
   "metadata": {},
   "source": []
  },
  {
   "cell_type": "markdown",
   "id": "1d913151",
   "metadata": {},
   "source": []
  },
  {
   "cell_type": "markdown",
   "id": "cdd48908",
   "metadata": {},
   "source": []
  }
 ],
 "metadata": {
  "celltoolbar": "Slideshow",
  "kernelspec": {
   "display_name": "Python 3 (ipykernel)",
   "language": "python",
   "name": "python3"
  },
  "language_info": {
   "codemirror_mode": {
    "name": "ipython",
    "version": 3
   },
   "file_extension": ".py",
   "mimetype": "text/x-python",
   "name": "python",
   "nbconvert_exporter": "python",
   "pygments_lexer": "ipython3",
   "version": "3.9.4"
  }
 },
 "nbformat": 4,
 "nbformat_minor": 5
}
