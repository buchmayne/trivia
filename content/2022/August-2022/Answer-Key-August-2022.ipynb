{
 "cells": [
  {
   "cell_type": "markdown",
   "metadata": {
    "slideshow": {
     "slide_type": "slide"
    }
   },
   "source": [
    "# Trivia August, 2022\n",
    "\n",
    "By Marley Buchman"
   ]
  },
  {
   "cell_type": "markdown",
   "metadata": {
    "slideshow": {
     "slide_type": "slide"
    }
   },
   "source": [
    "### 18 Questions, 110 Points"
   ]
  },
  {
   "cell_type": "markdown",
   "metadata": {
    "slideshow": {
     "slide_type": "slide"
    }
   },
   "source": [
    "### Government Systems"
   ]
  },
  {
   "cell_type": "markdown",
   "metadata": {
    "slideshow": {
     "slide_type": "subslide"
    }
   },
   "source": [
    "**1. For each of the following nations, what is the name for the position of head of government (e.g. President in the USA) (1 Point Each)**\n",
    "\n",
    "    A. France (President)\n",
    "    \n",
    "    B. China (General Secretary of the Ruling Party)\n",
    "    \n",
    "    C. Japan (President)\n",
    "    \n",
    "    D. Germany (Chancellor)"
   ]
  },
  {
   "cell_type": "markdown",
   "metadata": {
    "slideshow": {
     "slide_type": "slide"
    }
   },
   "source": [
    "### U.S. Interstate System"
   ]
  },
  {
   "cell_type": "markdown",
   "metadata": {
    "slideshow": {
     "slide_type": "subslide"
    }
   },
   "source": [
    "**2. (1 Point Each)**\n",
    "\n",
    "    A. Does interstate 10 go through Los Angeles, CA? YES\n",
    "    \n",
    "    B. Does interstate 35 go through Chicago, IL? NO\n",
    "    \n",
    "    C. Does interstate 10 go through Jacksonville, FL? YES\n",
    "    \n",
    "    D. Does interstate 80 go through Philadelphia, PA? NO"
   ]
  },
  {
   "cell_type": "markdown",
   "metadata": {
    "slideshow": {
     "slide_type": "slide"
    }
   },
   "source": [
    "### Airports"
   ]
  },
  {
   "cell_type": "markdown",
   "metadata": {
    "slideshow": {
     "slide_type": "subslide"
    }
   },
   "source": [
    "**3. Order the following U.S. airports by annual numbers of passengers boarded (1 Point Each)**\n",
    "\n",
    "    A. Denver International Airport (DEN 28.6 Million\n",
    "    \n",
    "    B. Los Angeles International Airport (LAX) 23.6 Million\n",
    "    \n",
    "    C. Hartsfield-Jackson Atlanta International Airport (ATL) 36.6 Million\n",
    "    \n",
    "    D. Dallas Love Field (DAL) 3.6 Million"
   ]
  },
  {
   "cell_type": "markdown",
   "metadata": {
    "slideshow": {
     "slide_type": "slide"
    }
   },
   "source": [
    "### NCAA Men's Basketball"
   ]
  },
  {
   "cell_type": "markdown",
   "metadata": {
    "slideshow": {
     "slide_type": "subslide"
    }
   },
   "source": [
    "**4. For each of the following seeds, order them by number of final four appearances, from most to least (1 Point Each)**\n",
    "\n",
    "    A. 11th seed (5 appearances)\n",
    "    \n",
    "    B. 3rd seed (17 appearances)\n",
    "    \n",
    "    C. 5th seed (7 appearances)\n",
    "    \n",
    "    D. 6th seed (3 appearances)"
   ]
  },
  {
   "cell_type": "markdown",
   "metadata": {
    "slideshow": {
     "slide_type": "slide"
    }
   },
   "source": [
    "### Existence"
   ]
  },
  {
   "cell_type": "markdown",
   "metadata": {
    "slideshow": {
     "slide_type": "subslide"
    }
   },
   "source": [
    "**5. For each of the following celebrities, are they still alive? (1 Point Each)**\n",
    "\n",
    "    A. Mother Teresa (Died 1997)\n",
    "    \n",
    "    B. Gene Hackman (Still Alive)\n",
    "    \n",
    "    C. Eddie Van Halen (Died 2020)\n",
    "    \n",
    "    D. Regis Philbin (Died 2020)\n",
    "    \n",
    "    E. Harvey Weinstein (Still Alive)"
   ]
  },
  {
   "cell_type": "markdown",
   "metadata": {
    "slideshow": {
     "slide_type": "slide"
    }
   },
   "source": [
    "### U.S. Presidents"
   ]
  },
  {
   "cell_type": "markdown",
   "metadata": {
    "slideshow": {
     "slide_type": "subslide"
    }
   },
   "source": [
    "**6. Order the following U.S. presidents, from tallest to shortest (1 Point Each)**\n",
    "\n",
    "    A. Obama 6 foot 1 1/2 inches\n",
    "    \n",
    "    B. Trump 6 foot 3 inches\n",
    "    \n",
    "    C. Biden 5 foot 11 1/2 inches\n",
    "    \n",
    "    D. Thomas Jefferson 6 foot 2 1/2 inches"
   ]
  },
  {
   "cell_type": "markdown",
   "metadata": {
    "slideshow": {
     "slide_type": "slide"
    }
   },
   "source": [
    "### Pokemon"
   ]
  },
  {
   "cell_type": "markdown",
   "metadata": {
    "slideshow": {
     "slide_type": "subslide"
    }
   },
   "source": [
    "**7A. Name the Pokemon in each of the following images (2 Points Each)**\n",
    "\n",
    "Geodude\n",
    "\n",
    "<img src=\"img/geodude.png\" width=\"500\">"
   ]
  },
  {
   "cell_type": "markdown",
   "metadata": {
    "slideshow": {
     "slide_type": "subslide"
    }
   },
   "source": [
    "**7B. Name the Pokemon in each of the following images (2 Points Each)**\n",
    "\n",
    "Jynx\n",
    "\n",
    "<img src=\"img/jynx.png\" width=\"500\">"
   ]
  },
  {
   "cell_type": "markdown",
   "metadata": {
    "slideshow": {
     "slide_type": "subslide"
    }
   },
   "source": [
    "**7C. Name the Pokemon in each of the following images (2 Points Each)**\n",
    "\n",
    "Gyarados\n",
    "\n",
    "<img src=\"img/gyarados.png\" width=\"500\">"
   ]
  },
  {
   "cell_type": "markdown",
   "metadata": {
    "slideshow": {
     "slide_type": "slide"
    }
   },
   "source": [
    "### Popular Music"
   ]
  },
  {
   "cell_type": "markdown",
   "metadata": {
    "slideshow": {
     "slide_type": "subslide"
    }
   },
   "source": [
    "**8. Rank the following artists by total number of Spotify streams (1 Point Each)**\n",
    "\n",
    "    A. Drake 49.3 Billion\n",
    "    \n",
    "    B. Taylor Swift 31.5 Billion\n",
    "    \n",
    "    C. Billie Eilish 23.2 Billion\n",
    "    \n",
    "    D. The Weekend 33.8 Billion"
   ]
  },
  {
   "cell_type": "markdown",
   "metadata": {
    "slideshow": {
     "slide_type": "slide"
    }
   },
   "source": [
    "### Domestic Migration"
   ]
  },
  {
   "cell_type": "markdown",
   "metadata": {
    "slideshow": {
     "slide_type": "subslide"
    }
   },
   "source": [
    "**9. Order the following states, by 2021 net domestic migration per capita (net domestic migration / population) (1 Point Each)**\n",
    "\n",
    "    A. Idaho (25.71 per 1,000 inhabitants) 48,876 \n",
    "    \n",
    "    B. Florida (10.14 per 1,000 inhabitants) 220,890 \n",
    "    \n",
    "    C. Texas (5.77 per 1,000 inhabitants) 170,307\n",
    "    \n",
    "    D. Nevada (8.06 per 1,000 inhabitants) 25,327"
   ]
  },
  {
   "cell_type": "markdown",
   "metadata": {
    "slideshow": {
     "slide_type": "slide"
    }
   },
   "source": [
    "### International Timezones"
   ]
  },
  {
   "cell_type": "markdown",
   "metadata": {
    "slideshow": {
     "slide_type": "subslide"
    }
   },
   "source": [
    "**10. Are the following pairs of countries in the same timezone? (1 Point Each)**\n",
    "\n",
    "    A. Norway and Finland (NO)\n",
    "    \n",
    "    B. Sweden and Spain (YES)\n",
    "    \n",
    "    C. Argentina and Chile (NO)\n",
    "    \n",
    "    D. South Korea and China (NO)"
   ]
  },
  {
   "cell_type": "markdown",
   "metadata": {
    "slideshow": {
     "slide_type": "slide"
    }
   },
   "source": [
    "### Identify the Data from the Map"
   ]
  },
  {
   "cell_type": "markdown",
   "metadata": {
    "slideshow": {
     "slide_type": "subslide"
    }
   },
   "source": [
    "**11. Identify the data used to create the map. (5 Points)**\n",
    "\n",
    "<img src=\"img/data_map_answer.png\" width=\"500\">"
   ]
  },
  {
   "cell_type": "markdown",
   "metadata": {
    "slideshow": {
     "slide_type": "slide"
    }
   },
   "source": [
    "### Online Slang"
   ]
  },
  {
   "cell_type": "markdown",
   "metadata": {
    "slideshow": {
     "slide_type": "subslide"
    }
   },
   "source": [
    "**12A. Match the Urban Dictionary definition to the term (1 Point Each)**\n",
    "\n",
    "Wook\n",
    "\n",
    "<img src=\"img/wook.png\" width=\"500\">\n",
    "    \n",
    "Half-cocked former middle-class dude who was a stoner in high school, discovered shrooms at a camping festival in college and has since decided to live as a nearly homeless walking tarot card."
   ]
  },
  {
   "cell_type": "markdown",
   "metadata": {
    "slideshow": {
     "slide_type": "subslide"
    }
   },
   "source": [
    "**12B. Match the Urban Dictionary definition to the term (1 Point Each)**\n",
    "\n",
    "Rotator\n",
    "\n",
    "<img src=\"img/rotator.png\" width=\"500\">\n",
    "    \n",
    "someone with strong math skills"
   ]
  },
  {
   "cell_type": "markdown",
   "metadata": {
    "slideshow": {
     "slide_type": "subslide"
    }
   },
   "source": [
    "**12C. Match the Urban Dictionary definition to the term (1 Point Each)**\n",
    "\n",
    "Munch\n",
    "\n",
    "<img src=\"img/munch.png\" width=\"500\">\n",
    "\n",
    "A low-pressure, social gathering at a restaurant or pub for people into BDSM. Particularly intended for people new to the scene who might be intimidated by a play party"
   ]
  },
  {
   "cell_type": "markdown",
   "metadata": {
    "slideshow": {
     "slide_type": "subslide"
    }
   },
   "source": [
    "**12D. Match the Urban Dictionary definition to the term (1 Point Each)**\n",
    "\n",
    "Weeb\n",
    "\n",
    "<img src=\"img/weeb.png\" width=\"500\">\n",
    "    \n",
    "A person who is obsessed with anime, figures, and manga."
   ]
  },
  {
   "cell_type": "markdown",
   "metadata": {
    "slideshow": {
     "slide_type": "slide"
    }
   },
   "source": [
    "### Bird's Eye View"
   ]
  },
  {
   "cell_type": "markdown",
   "metadata": {
    "slideshow": {
     "slide_type": "subslide"
    }
   },
   "source": [
    "**13. Identify the famous international place from the satelitte photo (5 Points)**\n",
    "\n",
    "Mecca, Masjid al-Haram\n",
    "\n",
    "<img src=\"img/mecca_answer.png\" width=\"500\">"
   ]
  },
  {
   "cell_type": "markdown",
   "metadata": {
    "slideshow": {
     "slide_type": "slide"
    }
   },
   "source": [
    "### A.I. Art History"
   ]
  },
  {
   "cell_type": "markdown",
   "metadata": {
    "slideshow": {
     "slide_type": "subslide"
    }
   },
   "source": [
    "**14. Each of the following images was created by an AI. The prompt used to create the images was the same, except for each time a different artist was specified. The prompt begins with Artist painting of.... For each of the following images, identify the artist the A.I. created the image in the style of (2 Points Each). For an additional 2 points, guess the prompt that was used to create all of the images**"
   ]
  },
  {
   "cell_type": "markdown",
   "metadata": {
    "slideshow": {
     "slide_type": "subslide"
    }
   },
   "source": [
    "**14. A**\n",
    "\n",
    "Salvador Dali\n",
    "\n",
    "<img src=\"img/answer_dali.png\" width=\"500\">"
   ]
  },
  {
   "cell_type": "markdown",
   "metadata": {
    "slideshow": {
     "slide_type": "subslide"
    }
   },
   "source": [
    "**14. B**\n",
    "\n",
    "Jackson Pollock\n",
    "\n",
    "<img src=\"img/answer_pollock.png\" width=\"500\">"
   ]
  },
  {
   "cell_type": "markdown",
   "metadata": {
    "slideshow": {
     "slide_type": "subslide"
    }
   },
   "source": [
    "**14. C**\n",
    "\n",
    "Caspar David Friedrich\n",
    "\n",
    "<img src=\"img/answer_friedrich.png\" width=\"500\">"
   ]
  },
  {
   "cell_type": "markdown",
   "metadata": {
    "slideshow": {
     "slide_type": "subslide"
    }
   },
   "source": [
    "**14. D**\n",
    "\n",
    "Keith Haring\n",
    "\n",
    "<img src=\"img/answer_haring.png\" width=\"500\">"
   ]
  },
  {
   "cell_type": "markdown",
   "metadata": {
    "slideshow": {
     "slide_type": "subslide"
    }
   },
   "source": [
    "**14. E**\n",
    "\n",
    "Vincent Van Gogh\n",
    "\n",
    "<img src=\"img/answer_vangogh.png\" width=\"500\">"
   ]
  },
  {
   "cell_type": "markdown",
   "metadata": {
    "slideshow": {
     "slide_type": "subslide"
    }
   },
   "source": [
    "**14. Prompt: __ painting of downtown Portland, Oregon**"
   ]
  },
  {
   "cell_type": "markdown",
   "metadata": {
    "slideshow": {
     "slide_type": "slide"
    }
   },
   "source": [
    "### Movies"
   ]
  },
  {
   "cell_type": "markdown",
   "metadata": {
    "slideshow": {
     "slide_type": "subslide"
    }
   },
   "source": [
    "**15A. For each of the following film franchises, rank the movies from highest to lowest based on the RottenTomatoes tomato meter (critics) (1 Point Each)**\n",
    "\n",
    "    A. Lord of the Rings: The Fellowship of the Ring 91%\n",
    "    \n",
    "    B. Lord of the Rings: The Two Towers 95%\n",
    "    \n",
    "    C. Lord of the Rings: The Return of the King 93%"
   ]
  },
  {
   "cell_type": "markdown",
   "metadata": {
    "slideshow": {
     "slide_type": "subslide"
    }
   },
   "source": [
    "**15B. For each of the following film franchises, rank the movies from highest to lowest based on the RottenTomatoes tomato meter (critics) (1 Point Each)**\n",
    "\n",
    "    A. Fast and Furious 6 71%\n",
    "    \n",
    "    B. The Fast and the Furious (1st Movie) 53%\n",
    "    \n",
    "    C. Furious 7 81%\n",
    "    \n",
    "    D. F9 the Fast Saga 59%"
   ]
  },
  {
   "cell_type": "markdown",
   "metadata": {
    "slideshow": {
     "slide_type": "slide"
    }
   },
   "source": [
    "### Visual Puns"
   ]
  },
  {
   "cell_type": "markdown",
   "metadata": {
    "slideshow": {
     "slide_type": "subslide"
    }
   },
   "source": [
    "**16. The following four image collage is a visual pun. Guess what each image represents for 3 Points, and then what the category is that connects them for an additional 3 Points** \n",
    "\n",
    "<img src=\"img/tvshows.png\" width=\"500\">"
   ]
  },
  {
   "cell_type": "markdown",
   "metadata": {
    "slideshow": {
     "slide_type": "slide"
    }
   },
   "source": [
    "### Rock Music"
   ]
  },
  {
   "cell_type": "markdown",
   "metadata": {
    "slideshow": {
     "slide_type": "subslide"
    }
   },
   "source": [
    "**17. For each of the following songs, match the song to the subgenre of rock music (1 Point Each). Name the artist of the song for an additional (2 Points)**\n",
    "\n",
    "Genres: Shoegaze, Post-Grunge, Grunge, Yacht Rock, Psychedelic Rock\n",
    "\n",
    "    Song 1: Grunge - Alice in Chains\n",
    "    \n",
    "    Song 2: Yacht Rock - Michael McDonald\n",
    "    \n",
    "    Song 3: Psychedlic Rock - The Doors\n",
    "    \n",
    "    Song 4: Shoegaze - DIIV\n",
    "    \n",
    "    Song 5: Post-Grunge - Seether"
   ]
  },
  {
   "cell_type": "markdown",
   "metadata": {
    "slideshow": {
     "slide_type": "slide"
    }
   },
   "source": [
    "### House Music"
   ]
  },
  {
   "cell_type": "markdown",
   "metadata": {
    "slideshow": {
     "slide_type": "subslide"
    }
   },
   "source": [
    "**18. For each of the following songs, match the song to the subgenre of house music (1 Point Each)**\n",
    "\n",
    "Genres: Deep House, Tech House, Acid House, Tropical House\n",
    "\n",
    "    Song 1: Acid House\n",
    "    \n",
    "    Song 2: Tropical House\n",
    "    \n",
    "    Song 3: Deep House\n",
    "    \n",
    "    Song 4: Tech House"
   ]
  }
 ],
 "metadata": {
  "celltoolbar": "Slideshow",
  "kernelspec": {
   "display_name": "Python 3 (ipykernel)",
   "language": "python",
   "name": "python3"
  },
  "language_info": {
   "codemirror_mode": {
    "name": "ipython",
    "version": 3
   },
   "file_extension": ".py",
   "mimetype": "text/x-python",
   "name": "python",
   "nbconvert_exporter": "python",
   "pygments_lexer": "ipython3",
   "version": "3.7.3"
  }
 },
 "nbformat": 4,
 "nbformat_minor": 5
}
