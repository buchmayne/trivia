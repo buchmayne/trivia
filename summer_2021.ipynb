{
 "cells": [
  {
   "cell_type": "markdown",
   "metadata": {
    "slideshow": {
     "slide_type": "slide"
    }
   },
   "source": [
    "# Summer Trivia 2021\n",
    "\n",
    "by Marley Buchman"
   ]
  },
  {
   "cell_type": "markdown",
   "metadata": {
    "slideshow": {
     "slide_type": "slide"
    }
   },
   "source": [
    "**20 Questions, 100 Points**"
   ]
  },
  {
   "cell_type": "markdown",
   "metadata": {
    "slideshow": {
     "slide_type": "slide"
    }
   },
   "source": [
    "### Twin Movies"
   ]
  },
  {
   "cell_type": "markdown",
   "metadata": {
    "slideshow": {
     "slide_type": "subslide"
    }
   },
   "source": [
    "**1A. Match the synopsis of the movie to the title (1 Point Each)**\n",
    "\n",
    "    Lifelong friends Emma and Adam take their relationship to the next level by having sex. Afraid of ruining their friendship, the new lovers make a pact to keep things purely physical, with no fighting, no jealousy and no expectations. Emma and Adam pledge to do whatever they want, wherever they want, as long as they do not fall in love. The question then becomes: Who will fall first?\n",
    "    \n",
    "![](img/twin_movies/no_strings_attached.png)"
   ]
  },
  {
   "cell_type": "markdown",
   "metadata": {
    "slideshow": {
     "slide_type": "subslide"
    }
   },
   "source": [
    "**1B. Match the synopsis of the movie to the title (1 Point Each)**\n",
    "\n",
    "    The unthinkable happens when heavily armed and highly trained terrorists launch a bold daytime attack on the White House. The building is overrun, and President Benjamin Asher and his staff are taken hostage. Luckily for Asher, former presidential security officer Mike Banning is on the scene. With time running out, it's up to Banning to locate Asher's son before the extremists do and rescue the president before his captors unleash their ultimate plan.\n",
    "    \n",
    "![](img/twin_movies/olympus_has_fallen.png)"
   ]
  },
  {
   "cell_type": "markdown",
   "metadata": {
    "slideshow": {
     "slide_type": "subslide"
    }
   },
   "source": [
    "**1C. Match the synopsis of the movie to the title (1 Point Each)**\n",
    "\n",
    "    In the wake of her grandmother's funeral, hotel manager Lisa Reisert is waiting to fly back home when she meets charming Jackson Rippner at check-in. She thinks it luck that they're seated together on the plane, but soon learns otherwise. Jackson hopes to assassinate the head of Homeland Security, but to do so, he needs Lisa to reassign the official's room number at her hotel. As insurance, Jackson has kidnapped Lisa's father.\n",
    "    \n",
    "![](img/twin_movies/red_eye.png)"
   ]
  },
  {
   "cell_type": "markdown",
   "metadata": {
    "slideshow": {
     "slide_type": "slide"
    }
   },
   "source": [
    "### Public Sector Salaries"
   ]
  },
  {
   "cell_type": "markdown",
   "metadata": {
    "slideshow": {
     "slide_type": "subslide"
    }
   },
   "source": [
    "**2. Who makes more: teachers or cops? In each state, did teachers or police have higher median earnings in 2020? (1 Point Each)**\n",
    "\n",
    "    A. Washington\n",
    "    \n",
    "    B. Mississippi\n",
    "    \n",
    "    C. Arizona\n",
    "    \n",
    "    D. Texas"
   ]
  },
  {
   "cell_type": "markdown",
   "metadata": {
    "slideshow": {
     "slide_type": "slide"
    }
   },
   "source": [
    "### U.S. Counties"
   ]
  },
  {
   "cell_type": "markdown",
   "metadata": {
    "slideshow": {
     "slide_type": "subslide"
    }
   },
   "source": [
    "**3. There are 116 counties in the U.S. that have a larger population than the state of Wyoming. Identify whether the following states have a county with a population greater than the state of Wyoming (1 Point Each)**\n",
    "\n",
    "    A. Iowa\n",
    "    \n",
    "    B. Oregon\n",
    "    \n",
    "    C. Louisiana\n",
    "    \n",
    "    D. Alabama"
   ]
  },
  {
   "cell_type": "markdown",
   "metadata": {
    "slideshow": {
     "slide_type": "slide"
    }
   },
   "source": [
    "### Countries"
   ]
  },
  {
   "cell_type": "markdown",
   "metadata": {
    "slideshow": {
     "slide_type": "subslide"
    }
   },
   "source": [
    "**4. Name 3 countries in the Top Ten Countries with 2 Largest Cities Furthest Apart (1 Point Each)**"
   ]
  },
  {
   "cell_type": "markdown",
   "metadata": {
    "slideshow": {
     "slide_type": "slide"
    }
   },
   "source": [
    "### Hip-Hop Artists"
   ]
  },
  {
   "cell_type": "markdown",
   "metadata": {
    "slideshow": {
     "slide_type": "subslide"
    }
   },
   "source": [
    "**5. Order the following Hip-Hop artists from oldest to youngest (1 Point Each)**\n",
    "\n",
    "    A. J Cole\n",
    "    \n",
    "    B. Kendrick Lamar\n",
    "    \n",
    "    C. Gucci Mane\n",
    "    \n",
    "    D. Nicki Minaj"
   ]
  },
  {
   "cell_type": "markdown",
   "metadata": {
    "slideshow": {
     "slide_type": "slide"
    }
   },
   "source": [
    "### Age"
   ]
  },
  {
   "cell_type": "markdown",
   "metadata": {
    "slideshow": {
     "slide_type": "subslide"
    }
   },
   "source": [
    "**6. A Septuagenarian is a person in their 70s, identify the related term for people of the following ages (1 Point Each)**\n",
    "\n",
    "    A. 30s\n",
    "    \n",
    "    B. 60s\n",
    "    \n",
    "    C. 40s\n",
    "    \n",
    "    D. 20s"
   ]
  },
  {
   "cell_type": "markdown",
   "metadata": {
    "slideshow": {
     "slide_type": "slide"
    }
   },
   "source": [
    "### Islam"
   ]
  },
  {
   "cell_type": "markdown",
   "metadata": {
    "slideshow": {
     "slide_type": "subslide"
    }
   },
   "source": [
    "**7. For the following Muslim people, identify whether they're a Sunni or Shia Muslim (1 Point Each)**\n",
    "\n",
    "    A. Bashar al-Assad (President of Syria)\n",
    "    \n",
    "    B. Ali Khamenei (Supreme Leader of Iran)\n",
    "    \n",
    "    C. Saddam Hussein\n",
    "    \n",
    "    D. Osama Bin Laden"
   ]
  },
  {
   "cell_type": "markdown",
   "metadata": {
    "slideshow": {
     "slide_type": "slide"
    }
   },
   "source": [
    "### One-Hit Wonders"
   ]
  },
  {
   "cell_type": "markdown",
   "metadata": {
    "slideshow": {
     "slide_type": "subslide"
    }
   },
   "source": [
    "**8. After listening to the second most popular song from each of following one-hit wonder artists, name either the artist or the name of their most popular song (as determined by Spotify)**\n",
    "\n",
    "    A. Jet - Are You Gonna Be My Girl\n",
    "    \n",
    "    B. Crazy Town - Butterfly\n",
    "    \n",
    "    C. Eiffel 65 - Blue (Da Ba Dee)\n",
    "    \n",
    "    D. Eagle-Eye Cherry - Save Tonight\n",
    "    \n",
    "    E. Semisonic - Closing Time\n",
    "    \n",
    "    F. 4 Non Blondes - What's Up?\n",
    "    \n",
    "    G. Baha Men - Who Let The Dogs Out\n",
    "    \n",
    "    H. Tal Bachmen - She's So High"
   ]
  },
  {
   "cell_type": "markdown",
   "metadata": {},
   "source": []
  },
  {
   "cell_type": "markdown",
   "metadata": {},
   "source": []
  }
 ],
 "metadata": {
  "celltoolbar": "Slideshow",
  "kernelspec": {
   "display_name": "Python 3",
   "language": "python",
   "name": "python3"
  },
  "language_info": {
   "codemirror_mode": {
    "name": "ipython",
    "version": 3
   },
   "file_extension": ".py",
   "mimetype": "text/x-python",
   "name": "python",
   "nbconvert_exporter": "python",
   "pygments_lexer": "ipython3",
   "version": "3.9.4"
  }
 },
 "nbformat": 4,
 "nbformat_minor": 2
}
