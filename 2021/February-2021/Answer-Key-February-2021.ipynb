{
 "cells": [
  {
   "cell_type": "markdown",
   "metadata": {
    "slideshow": {
     "slide_type": "slide"
    }
   },
   "source": [
    "# Answers February 2021\n",
    "\n",
    "By Marley Buchman"
   ]
  },
  {
   "cell_type": "markdown",
   "metadata": {
    "slideshow": {
     "slide_type": "slide"
    }
   },
   "source": [
    "### 20 Questions, 100 Points"
   ]
  },
  {
   "cell_type": "markdown",
   "metadata": {
    "slideshow": {
     "slide_type": "slide"
    }
   },
   "source": [
    "### Cold"
   ]
  },
  {
   "cell_type": "markdown",
   "metadata": {
    "slideshow": {
     "slide_type": "subslide"
    }
   },
   "source": [
    "**1. Order the following cities, from coldest to warmest, based on average January low temperature (1 Point each)**\n",
    "\n",
    "    A. Boston: 22\n",
    "    \n",
    "    B. Milwaukee: 16\n",
    "    \n",
    "    C. Minneapolis: 7.5\n",
    "    \n",
    "    D. Denver: 18\n",
    "  \n",
    "C, B, D, A"
   ]
  },
  {
   "cell_type": "markdown",
   "metadata": {
    "slideshow": {
     "slide_type": "slide"
    }
   },
   "source": [
    "### Police Procedurals"
   ]
  },
  {
   "cell_type": "markdown",
   "metadata": {
    "slideshow": {
     "slide_type": "subslide"
    }
   },
   "source": [
    "**2. Name the police procedural television series based on the description of the show (2 Points each)**\n",
    "\n",
    "A: Bones\n",
    "\n",
    "B: NUMB3RS\n",
    "\n",
    "C: CSI\n",
    "\n",
    "D: Criminal Minds\n",
    "\n",
    "    A. The show is based on forensic anthropology and forensic archaeology, with each episode focusing on an FBI case file concerning the mystery behind human remains brought by FBI Special Agent Seeley Booth to forensic anthropologist Dr. Temperance Brennan\n",
    "    \n",
    "    B. The series follows FBI Special Agent Don Eppes and his brother Charlie Eppes, a college mathematics professor and prodigy, who helps Don solve crimes for the FBI. A typical episode begins with a crime, which is subsequently investigated by a team of FBI agents led by Don and mathematically modeled by Charlie, with the help of Larry Fleinhardt and Amita Ramanujan. The insights provided by Charlie's mathematics were always in some way crucial to solving the crime. \n",
    "    \n",
    "    C. Mixing deduction and character-driven drama, X follows a team of crime-scene investigators, employed by the Las Vegas Police Department, as they use physical evidence to solve murders. \n",
    "    \n",
    "    D. The series follows a group of criminal profilers who work for the FBI as members of its Behavioral Analysis Unit (BAU), using behavioral analysis and profiling to investigate crimes and find perpetrators. The show tells the story of the team as they work various cases, and tackle their personal struggles.\n"
   ]
  },
  {
   "cell_type": "markdown",
   "metadata": {
    "slideshow": {
     "slide_type": "slide"
    }
   },
   "source": [
    "### Flags"
   ]
  },
  {
   "cell_type": "markdown",
   "metadata": {
    "slideshow": {
     "slide_type": "subslide"
    }
   },
   "source": [
    "**3A. Identify the country by its flag (1 Point each)**\n",
    "\n",
    "Egypt\n",
    "\n",
    "![](img/egypt.png)\n"
   ]
  },
  {
   "cell_type": "markdown",
   "metadata": {
    "slideshow": {
     "slide_type": "subslide"
    }
   },
   "source": [
    "**3B. Identify the country by its flag (1 Point each)**\n",
    "\n",
    "Netherlands\n",
    "\n",
    "![](img/netherlands.png)"
   ]
  },
  {
   "cell_type": "markdown",
   "metadata": {
    "slideshow": {
     "slide_type": "subslide"
    }
   },
   "source": [
    "**3C. Identify the country by its flag (1 Point each)**\n",
    "\n",
    "Russia\n",
    "\n",
    "![](img/russia.png)"
   ]
  },
  {
   "cell_type": "markdown",
   "metadata": {
    "slideshow": {
     "slide_type": "subslide"
    }
   },
   "source": [
    "**3D. Identify the country by its flag (1 Point each)**\n",
    "\n",
    "Turkey\n",
    "\n",
    "![](img/turkey.png)"
   ]
  },
  {
   "cell_type": "markdown",
   "metadata": {
    "slideshow": {
     "slide_type": "slide"
    }
   },
   "source": [
    "### Womens' Firsts"
   ]
  },
  {
   "cell_type": "markdown",
   "metadata": {
    "slideshow": {
     "slide_type": "subslide"
    }
   },
   "source": [
    "**4. Guess the decade in which the first time that a woman or women achieved the following historical feats (2 Points each)**\n",
    "\n",
    "    A. First woman in space: 1962\n",
    "    \n",
    "    B. First woman publisher of a major United States newspaper: 1946\n",
    "    \n",
    "    C. First woman to win a nobel prize: 1903\n",
    "    \n",
    "    D. The First woman prime minister of a G7/P5 country (Canada, France, Germany, Italy, Japan, UK, China, Russia, United States): 1979\n",
    "    "
   ]
  },
  {
   "cell_type": "markdown",
   "metadata": {
    "slideshow": {
     "slide_type": "slide"
    }
   },
   "source": [
    "### Film Franchises"
   ]
  },
  {
   "cell_type": "markdown",
   "metadata": {
    "slideshow": {
     "slide_type": "subslide"
    }
   },
   "source": [
    "**5. Order the following film franchises by the number of entries in each franchise, highest to lowest (spinoffs don't count) (1 Point each)**\n",
    "\n",
    "    A. Fast and the Furious: 8\n",
    "    \n",
    "    B. Jurassic Park: 5\n",
    "    \n",
    "    C. Rocky: 6\n",
    "    \n",
    "    D. Karate Kid: 4\n",
    "    "
   ]
  },
  {
   "cell_type": "markdown",
   "metadata": {
    "slideshow": {
     "slide_type": "slide"
    }
   },
   "source": [
    "### Architecture"
   ]
  },
  {
   "cell_type": "markdown",
   "metadata": {
    "slideshow": {
     "slide_type": "subslide"
    }
   },
   "source": [
    "**6A. Match the Architectural Style to the example image (1 Point each)**   \n",
    "    \n",
    "    Modern    \n",
    "    \n",
    "\n",
    "<img src=\"img/modern.jpeg\" width=\"500\">"
   ]
  },
  {
   "cell_type": "markdown",
   "metadata": {
    "slideshow": {
     "slide_type": "subslide"
    }
   },
   "source": [
    "**6B. Match the Architectural Style to the example image (1 Point each)**\n",
    "\n",
    "    Art Deco    \n",
    "\n",
    "    \n",
    "\n",
    "<img src=\"img/art_deco.jpeg\" width=\"300\">"
   ]
  },
  {
   "cell_type": "markdown",
   "metadata": {
    "slideshow": {
     "slide_type": "subslide"
    }
   },
   "source": [
    "**6C. Match the Architectural Style to the example image (1 Point each)**\n",
    "    \n",
    "    Neoclassical\n",
    "    \n",
    "\n",
    "<img src=\"img/neoclassical.jpeg\" width=\"500\">"
   ]
  },
  {
   "cell_type": "markdown",
   "metadata": {
    "slideshow": {
     "slide_type": "subslide"
    }
   },
   "source": [
    "**6D. Match the Architectural Style to the example image (1 Point each)**\n",
    "    \n",
    "    Victorian    \n",
    "\n",
    "    \n",
    "<img src=\"img/victorian.jpeg\" width=\"500\">"
   ]
  },
  {
   "cell_type": "markdown",
   "metadata": {
    "slideshow": {
     "slide_type": "slide"
    }
   },
   "source": [
    "### Actors"
   ]
  },
  {
   "cell_type": "markdown",
   "metadata": {
    "slideshow": {
     "slide_type": "subslide"
    }
   },
   "source": [
    "**7. How many degrees of separation are there between Leo DiCaprio and Dwayne \"The Rock\" Johnson (5 Points for 1 Degree, 3 Points for 2 Degrees, 2 Points for 3 Degrees, 1 Point for 4 Degrees)**\n",
    "\n",
    "For Example: \n",
    "\n",
    "How many degrees of separation betweenm Christian Bale and Morgan Freeman?\n",
    "\n",
    "Christian Bale is in Batman Begins with Morgan Freeman, there are 0 degrees between them because they're in the same movie.\n",
    "\n",
    "How many degrees of separation between Christian Bale and Jim Carrey?\n",
    "\n",
    "Christian Bale is in Batman Begins with Morgan Freeman, Morgan Freeman is in Bruce Almighty with Jim Carrey, there is 1 degree of freedrom between them (Morgan Freeman in Bruce Almighty is the one degree).\n",
    "\n",
    "**Your answer needs to be the chain that connects them Movie + Actor/Actress** "
   ]
  },
  {
   "cell_type": "markdown",
   "metadata": {
    "slideshow": {
     "slide_type": "subslide"
    }
   },
   "source": [
    "**8. Match the Actor to their hometown (1 Point Each)**\n",
    "\n",
    "    1. Jennifer Lawrence: B\n",
    "    \n",
    "    2. Brie Larson: D\n",
    "    \n",
    "    3. Amy Adams: C\n",
    "    \n",
    "    4. Merryl Streep: A\n",
    "    \n",
    "    -------------------------\n",
    "    \n",
    "    A. Bernardsville, New Jersey\n",
    "    \n",
    "    B. Louisville, Kentucky\n",
    "    \n",
    "    C. Castle Rock, Colorado\n",
    "    \n",
    "    D. Sacramento, California"
   ]
  },
  {
   "cell_type": "markdown",
   "metadata": {
    "slideshow": {
     "slide_type": "subslide"
    }
   },
   "source": [
    "**9. Rank the following Tom Hanks films by the rottentomatoes score (Critics Score) (1 Point Each)**\n",
    "\n",
    "    A. Saving Private Ryan: 93\n",
    "    \n",
    "    B. Cast Away: 89\n",
    "    \n",
    "    C. Forrest Gump: 71\n",
    "    \n",
    "    D. The Da Vinci Code: 26\n",
    "    "
   ]
  },
  {
   "cell_type": "markdown",
   "metadata": {
    "slideshow": {
     "slide_type": "slide"
    }
   },
   "source": [
    "### Genres"
   ]
  },
  {
   "cell_type": "markdown",
   "metadata": {
    "slideshow": {
     "slide_type": "subslide"
    }
   },
   "source": [
    "**10. Match the genre of house music to the description (1 Point Each)**\n",
    "\n",
    "    1. Dirty Dutch House: D\n",
    "    \n",
    "    2. Future Bass: C\n",
    "    \n",
    "    3. Trip Hop: B\n",
    "    \n",
    "    4. Acid House: A\n",
    "    \n",
    "    ----------------------------\n",
    "    \n",
    "    A. X is a subgenre of house music developed around the mid-1980s by DJs from Chicago. The style is defined primarily by the \"squelching\" sounds and deep basslines of the Roland TB-303 electronic bass synthesizer-sequencer,an innovation sometimes attributed to DJ Pierre of Phuture\n",
    "    \n",
    "    B. X is a musical genre that originated in the early 1990s in the United Kingdom, especially Bristol.It has been described as \"a fusion of hip hop and electronica until neither genre is recognizable\", and may incorporate a variety of styles, including funk, dub, soul, psychedelia, R&B, and house, as well as other forms of electronic music.\n",
    "    \n",
    "    C. X is a genre of electronic dance music that originated in the 2010s. It can be described as music that \"takes the ecstatic drops of dubstep or trap, but provides a warm bounce rather than a lumbering bruteness. Basslines are provided by harsh, detuned synths that buzz and purr instead of gulp and whomp.\" The genre was pioneered by producers such as Flume, Lido, San Holo and Cashmere Cat, and it was popularised in the mid-2010s by artists such as Louis the Child and Mura Masa\n",
    "    \n",
    "    D. X is a style of electro house that found prominence by 2009, mainly pioneered by Vato Gonzalez and DJ Chuckie. It is primarily defined by complex rhythms made from Latin-influenced drum kits, a lower emphasis on basslines and squeaky, high-pitched lead synths. Influences on the subgenre include Detroit techno, hip hop and other urban styles of music.\n",
    "    "
   ]
  },
  {
   "cell_type": "markdown",
   "metadata": {
    "slideshow": {
     "slide_type": "slide"
    }
   },
   "source": [
    "## Musical Artists"
   ]
  },
  {
   "cell_type": "markdown",
   "metadata": {
    "slideshow": {
     "slide_type": "subslide"
    }
   },
   "source": [
    "**11. Rank the following musical artists by career records sold, from highest to lowest (1 Point Each)**\n",
    "\n",
    "    A. Madonna: 300 Million\n",
    "    \n",
    "    B. Taylor Swift: 200 Million\n",
    "    \n",
    "    C. Bruce Springsteen: 135 Million\n",
    "    \n",
    "    D. Linkin Park: 100 Million\n",
    "    \n",
    "    E. Johnny Cash: 90 Million"
   ]
  },
  {
   "cell_type": "markdown",
   "metadata": {
    "slideshow": {
     "slide_type": "slide"
    }
   },
   "source": [
    "### Demonyms"
   ]
  },
  {
   "cell_type": "markdown",
   "metadata": {
    "slideshow": {
     "slide_type": "subslide"
    }
   },
   "source": [
    "**12. Name the demonym for the following international cities (e.g. a resident of Bristol is a Bristolian) (1 Point Each)**\n",
    "\n",
    "    1. Moscow: Muscovites\n",
    "    \n",
    "    2. Dublin: Dubliners\n",
    "    \n",
    "    3. Florence: Florentine\n",
    "    \n",
    "    4. Athens: Athenians\n",
    "    "
   ]
  },
  {
   "cell_type": "markdown",
   "metadata": {
    "slideshow": {
     "slide_type": "slide"
    }
   },
   "source": [
    "### Ologies"
   ]
  },
  {
   "cell_type": "markdown",
   "metadata": {
    "slideshow": {
     "slide_type": "subslide"
    }
   },
   "source": [
    "**13. Match the \"ology\" to the description (1 Point Each)**\n",
    "\n",
    "    1. Eschatology: C\n",
    "    \n",
    "    2. Ethology: A\n",
    "    \n",
    "    3. Speleology: B\n",
    "    \n",
    "    4. Dendrology: D\n",
    "    \n",
    "    ---------------------\n",
    "    \n",
    "    A. The scientific and objective study of animal behaviour, usually with a focus on behaviour under natural conditions, and viewing behaviour as an evolutionarily adaptive trait\n",
    "    \n",
    "    B. The scientific study of caves and other karst features, as well as their make-up, structure, physical properties, history, life forms, and the processes by which they form and change over time\n",
    "    \n",
    "    C. A part of theology concerned with the final events of history, or the ultimate destiny of humanity. This concept is commonly referred to as \"the end of the world\" or \"end times\"\n",
    "    \n",
    "    D. The science and study of wooded plants (trees, shrubs, and lianas), specifically, their taxonomic classifications\n",
    "    "
   ]
  },
  {
   "cell_type": "markdown",
   "metadata": {
    "slideshow": {
     "slide_type": "slide"
    }
   },
   "source": [
    "### Andre the Giant"
   ]
  },
  {
   "cell_type": "markdown",
   "metadata": {
    "slideshow": {
     "slide_type": "subslide"
    }
   },
   "source": [
    "**14. What combination of the following adult animals combined are as heavy as Andre the Giant (4 Points)**\n",
    "\n",
    "    A. Giant Panda: 258 lbs\n",
    "    \n",
    "    B. Tiger: 263 lbs\n",
    "    \n",
    "    C. Mountain Gorilla: 307 lbs\n",
    "    \n",
    "    D. Lion: 385 lbs\n",
    "    \n",
    "    E. Pygmy Hippopotamus: 473 lbs\n",
    "    \n",
    "\n",
    "**Giant Panda (258) + Tiger(263) ~= Andre the Giant (520)**"
   ]
  },
  {
   "cell_type": "markdown",
   "metadata": {
    "slideshow": {
     "slide_type": "slide"
    }
   },
   "source": [
    "### Mathematics"
   ]
  },
  {
   "cell_type": "markdown",
   "metadata": {
    "slideshow": {
     "slide_type": "subslide"
    }
   },
   "source": [
    "**15. Identify the following mathematical formula from the right hand side of the equation, i.e. what does this equal (2 Points)**\n",
    "\n",
    "**Midpoint**\n",
    "\n",
    "![](img/midpoint.png)"
   ]
  },
  {
   "cell_type": "markdown",
   "metadata": {
    "slideshow": {
     "slide_type": "slide"
    }
   },
   "source": [
    "# BREAK (SCORING)"
   ]
  },
  {
   "cell_type": "markdown",
   "metadata": {
    "slideshow": {
     "slide_type": "slide"
    }
   },
   "source": [
    "### Anagrams"
   ]
  },
  {
   "cell_type": "markdown",
   "metadata": {
    "slideshow": {
     "slide_type": "subslide"
    }
   },
   "source": [
    "**16. Solve the following anagram (5 Points)**\n",
    "\n",
    "This was the headline of the New York Times on December 19th, 1998 (Two Words)\n",
    "\n",
    "    Word One: 7 Letters   \n",
    "    Word Two: 9 Letters\n",
    "\n",
    "    a c c d e e h i i l m n n o p t\n",
    "    \n",
    "    \n",
    "**Clinton Impeached**"
   ]
  },
  {
   "cell_type": "markdown",
   "metadata": {
    "slideshow": {
     "slide_type": "slide"
    }
   },
   "source": [
    "### Guess the Data on the Map"
   ]
  },
  {
   "cell_type": "markdown",
   "metadata": {
    "slideshow": {
     "slide_type": "subslide"
    }
   },
   "source": [
    "**17. Guess the data that map is showing (8 Points)**\n",
    "\n",
    "![](img/obesity_rates_answer.png)"
   ]
  },
  {
   "cell_type": "markdown",
   "metadata": {
    "slideshow": {
     "slide_type": "slide"
    }
   },
   "source": [
    "### Logic Games"
   ]
  },
  {
   "cell_type": "markdown",
   "metadata": {
    "slideshow": {
     "slide_type": "subslide"
    }
   },
   "source": [
    "**18A. (2 Points)**\n",
    "\n",
    "A panel of music historians ranked eight contemporary songwriters Jackson, King, Lennon, Mitchell, Nicks, Prince, Simon, and Wonder according to their relative impact on the evolution of the popular song form. No other songwriters were considered, and there were no ties in the final ranking. The ranking of the songwriters met the following conditions:\n",
    "* Nicks was ranked higher than Lennon but lower than Simon.\n",
    "* Prince was ranked lower than both Mitchell and Jackson.\n",
    "* Wonder was ranked lower than Nicks.\n",
    "* Jackson was ranked higher than Simon.\n",
    "* Nicks was ranked higher than King.\n",
    "\n",
    "Which one of the following could represent the ranking of songwriters, listed from highest to lowest?\n",
    "    \n",
    "    (D) Mitchell, Jackson, Simon, Nicks, King, Wonder, Lennon, Prince\n",
    "    "
   ]
  },
  {
   "cell_type": "markdown",
   "metadata": {
    "slideshow": {
     "slide_type": "subslide"
    }
   },
   "source": [
    "**18B. (2 Points)**\n",
    "\n",
    "A panel of music historians ranked eight contemporary songwriters Jackson, King, Lennon, Mitchell, Nicks, Prince, Simon, and Wonder according to their relative impact on the evolution of the popular song form. No other songwriters were considered, and there were no ties in the final ranking. The ranking of the songwriters met the following conditions:\n",
    "* Nicks was ranked higher than Lennon but lower than Simon.\n",
    "* Prince was ranked lower than both Mitchell and Jackson.\n",
    "* Wonder was ranked lower than Nicks.\n",
    "* Jackson was ranked higher than Simon.\n",
    "* Nicks was ranked higher than King.\n",
    "\n",
    "Each of the following could be true EXCEPT:\n",
    "\n",
    "    (E) King was ranked higher than Simon.\n",
    "\n"
   ]
  },
  {
   "cell_type": "markdown",
   "metadata": {
    "slideshow": {
     "slide_type": "subslide"
    }
   },
   "source": [
    "**18C. (2 Points)**\n",
    "\n",
    "A panel of music historians ranked eight contemporary songwriters Jackson, King, Lennon, Mitchell, Nicks, Prince, Simon, and Wonder according to their relative impact on the evolution of the popular song form. No other songwriters were considered, and there were no ties in the final ranking. The ranking of the songwriters met the following conditions:\n",
    "* Nicks was ranked higher than Lennon but lower than Simon.\n",
    "* Prince was ranked lower than both Mitchell and Jackson.\n",
    "* Wonder was ranked lower than Nicks.\n",
    "* Jackson was ranked higher than Simon.\n",
    "* Nicks was ranked higher than King.\n",
    "\n",
    "If Simon was ranked fourth, which one of the following must be true?\n",
    "\n",
    "    (A) Prince was ranked third.\n"
   ]
  },
  {
   "cell_type": "markdown",
   "metadata": {
    "slideshow": {
     "slide_type": "slide"
    }
   },
   "source": [
    "### Birds' Eye View"
   ]
  },
  {
   "cell_type": "markdown",
   "metadata": {
    "slideshow": {
     "slide_type": "subslide"
    }
   },
   "source": [
    "**19. Identify the Location of the Satelitte Image (5 Points)**\n",
    "\n",
    "![](img/disneyland_answer.jpeg)"
   ]
  },
  {
   "cell_type": "markdown",
   "metadata": {
    "slideshow": {
     "slide_type": "slide"
    }
   },
   "source": [
    "### Visual Puns"
   ]
  },
  {
   "cell_type": "markdown",
   "metadata": {
    "slideshow": {
     "slide_type": "subslide"
    }
   },
   "source": [
    "**20. (4 Points for Theme, 1 Point for guessing each image correctly)**\n",
    "\n",
    "<img src=\"img/best_pictures.png\" width=\"200\">\n",
    "\n",
    "<img src=\"img/best_pictures_answer.png\" width=\"500\">"
   ]
  }
 ],
 "metadata": {
  "celltoolbar": "Slideshow",
  "kernelspec": {
   "display_name": "Python 3 (ipykernel)",
   "language": "python",
   "name": "python3"
  },
  "language_info": {
   "codemirror_mode": {
    "name": "ipython",
    "version": 3
   },
   "file_extension": ".py",
   "mimetype": "text/x-python",
   "name": "python",
   "nbconvert_exporter": "python",
   "pygments_lexer": "ipython3",
   "version": "3.9.4"
  }
 },
 "nbformat": 4,
 "nbformat_minor": 2
}
