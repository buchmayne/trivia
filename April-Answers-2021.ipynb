{
 "cells": [
  {
   "cell_type": "markdown",
   "metadata": {
    "slideshow": {
     "slide_type": "slide"
    }
   },
   "source": [
    "# Trivia April 2021\n",
    "\n",
    "by Marley Buchman"
   ]
  },
  {
   "cell_type": "markdown",
   "metadata": {
    "slideshow": {
     "slide_type": "slide"
    }
   },
   "source": [
    "### Presidential Elections"
   ]
  },
  {
   "cell_type": "markdown",
   "metadata": {
    "slideshow": {
     "slide_type": "subslide"
    }
   },
   "source": [
    "**1. Rank the following Presidential Elections by electoral college margin of victory, from largest to smallest (1 Point Each)**\n",
    "\n",
    "    A. Bush v. Kerry (2004) (286 to 251)\n",
    "    \n",
    "    B. Trump v. Clinton (2016) (304 to 227)\n",
    "    \n",
    "    C. Clinton v. Bush (1992) (370 to 168)\n",
    "    \n",
    "    D. Obama v. Romney (2012) (332 to 206)\n",
    "    \n",
    "    \n",
    "    C > D > B > A"
   ]
  },
  {
   "cell_type": "markdown",
   "metadata": {
    "slideshow": {
     "slide_type": "slide"
    }
   },
   "source": [
    "### Television Series"
   ]
  },
  {
   "cell_type": "markdown",
   "metadata": {
    "slideshow": {
     "slide_type": "subslide"
    }
   },
   "source": [
    "**2. Match the title of the series finale episode to the television series (1 Point Each)**\n",
    "\n",
    "    A. Felina: Breaking Bad\n",
    "    \n",
    "    B. Person to Person: Mad Men\n",
    "    \n",
    "    C. Everyone Dies: House\n",
    "    \n",
    "    D. Made in America: The Sopranos\n",
    "    \n",
    "    ------------------\n",
    "    \n",
    "    1. The Sopranos\n",
    "    \n",
    "    2. Breaking Bad\n",
    "    \n",
    "    3. House\n",
    "    \n",
    "    4. Mad Men"
   ]
  },
  {
   "cell_type": "markdown",
   "metadata": {
    "slideshow": {
     "slide_type": "slide"
    }
   },
   "source": [
    "### European Ancestry"
   ]
  },
  {
   "cell_type": "markdown",
   "metadata": {
    "slideshow": {
     "slide_type": "subslide"
    }
   },
   "source": [
    "**3. Name the U.S. State with the highest percentage of population with ancestry from the following European countries (2 Points Each)**\n",
    "\n",
    "    A. Italy: Rhode Island\n",
    "    \n",
    "    B. Germany: North Dakota\n",
    "    \n",
    "    C. Russia: New York\n",
    "    \n",
    "    D. Ireland: Massachusetts\n"
   ]
  },
  {
   "cell_type": "markdown",
   "metadata": {
    "slideshow": {
     "slide_type": "slide"
    }
   },
   "source": [
    "### Puzzle/Riddle"
   ]
  },
  {
   "cell_type": "markdown",
   "metadata": {
    "slideshow": {
     "slide_type": "subslide"
    }
   },
   "source": [
    "**4. The goal of the puzzle is to link all 9 dots using four straight lines or fewer, without lifting the pen and without tracing the same line more than once (3 Points)**\n",
    "\n",
    "![](img/answers_april_2021/dots.png)"
   ]
  },
  {
   "cell_type": "markdown",
   "metadata": {},
   "source": [
    "### Tall Buildings"
   ]
  },
  {
   "cell_type": "markdown",
   "metadata": {
    "slideshow": {
     "slide_type": "subslide"
    }
   },
   "source": [
    "**5. The 10 tallest buildings in the world are in the following six countries. For each country, how many of the 10 tallest buildings in the world are in that country? (1 Points Each)**\n",
    "\n",
    "    A. China: 5\n",
    "    \n",
    "    B. USA: 1\n",
    "    \n",
    "    C. South Korea: 1\n",
    "    \n",
    "    D. Taiwan: 1\n",
    "    \n",
    "    E. Saudia Arabia: 1\n",
    "    \n",
    "    F. United Arab Emirates: 1"
   ]
  },
  {
   "cell_type": "markdown",
   "metadata": {
    "slideshow": {
     "slide_type": "slide"
    }
   },
   "source": [
    "### Baby Names"
   ]
  },
  {
   "cell_type": "markdown",
   "metadata": {
    "slideshow": {
     "slide_type": "subslide"
    }
   },
   "source": [
    "**6. For each of the following years, list the most popular Male and Female Baby Name in the USA (4 Points Each)**\n",
    "\n",
    "    A. 2010: M: Jacob F: Isabella\n",
    "    \n",
    "    B. 2000: M: Jacob F: Emily\n",
    "    \n",
    "    C. 1990: M: Michael F: Jessica \n",
    "    "
   ]
  },
  {
   "cell_type": "markdown",
   "metadata": {
    "slideshow": {
     "slide_type": "slide"
    }
   },
   "source": [
    "### Civil Engineering"
   ]
  },
  {
   "cell_type": "markdown",
   "metadata": {
    "slideshow": {
     "slide_type": "subslide"
    }
   },
   "source": [
    "**7. Rank the following constructtion projects from Most to Least expensive in 2020 dollars (1 Point Each)**\n",
    "\n",
    "    A. The Big Dig: Dubbed “The Big Dig”, the redirection of Route 1-93, the main road in the Boston areas transport network was dogged by design flaws, delays, and sunken ships. *17.6 Billion*\n",
    "    \n",
    "    B. Songdo IBD: South Korea’s Songdo IBD is a “smart city” built on 600 hectares of land reclaimed from sea 65 km from Seoul.Its ubiquitous technology allows residents to video-conference with their neighbours, while sensors gather information to alert authorities to criminal behaviour, or tell passengers when the next bus is due. *30 Billion*\n",
    "    \n",
    "    C. Kashagan Fields : Shell, Exxon Mobil, Total, China National Petroleum Corp, KazMunaiGas, INPEX, and AgipKCO are working in collaboration to tap into around 13 billion barrels in the Caspian Sea. *89 Billion*\n",
    "    \n",
    "    D. King Abdullah Economic City: Boasting luxury villages, an enormous airport and major universities, King Abdullah Economic City is anticipated to become a huge tourist attraction for Saudi Arabia. *66 Billion*\n",
    "    \n",
    "C > D > B > A"
   ]
  },
  {
   "cell_type": "markdown",
   "metadata": {
    "slideshow": {
     "slide_type": "slide"
    }
   },
   "source": [
    "### Danger"
   ]
  },
  {
   "cell_type": "markdown",
   "metadata": {
    "slideshow": {
     "slide_type": "subslide"
    }
   },
   "source": [
    "**8. Rank the following occupations from highest to lowest fatal work injury rates (1 Point Each)**\n",
    "\n",
    "    A. Fishing and hunting workers\n",
    "    \n",
    "    B. Logging workers\n",
    "    \n",
    "    C. Roofers\n",
    "    \n",
    "    D. Driver/sales workers and truck drivers\n",
    "   \n",
    "A > B > C > D"
   ]
  },
  {
   "cell_type": "markdown",
   "metadata": {
    "slideshow": {
     "slide_type": "slide"
    }
   },
   "source": [
    "### First Name Last Name"
   ]
  },
  {
   "cell_type": "markdown",
   "metadata": {
    "slideshow": {
     "slide_type": "subslide"
    }
   },
   "source": [
    "**9. Identify the person/place/thing in the clue. The second name of the first clue will be the first name of the second clue and so on. (2 Points Each)**\n",
    "\n",
    "    A. Actor most famous for having too much to drink but still making it into the office\n",
    "    \n",
    "    B. Where the riders of Rohan found refuge against Saruman and his army of orcs\n",
    "    \n",
    "    C. The username of this redditor who sparked a short squeeze and recently testified before congress\n",
    "    \n",
    "**Ed Helms DeepFuckingValue**"
   ]
  },
  {
   "cell_type": "markdown",
   "metadata": {
    "slideshow": {
     "slide_type": "slide"
    }
   },
   "source": [
    "### History of Science"
   ]
  },
  {
   "cell_type": "markdown",
   "metadata": {
    "slideshow": {
     "slide_type": "subslide"
    }
   },
   "source": [
    "**10. Order the following scientific discoveries chronologically from earliest to latest (1 Point Each)**\n",
    "\n",
    "    A. Continental Drift: 20th Century\n",
    "    \n",
    "    B. Dmitri Ivanovsky discovers for the first time a virus: 19th Century\n",
    "    \n",
    "    C. Hanaoka Seishū: develops general anaesthesia: 18th Century\n",
    "    \n",
    "    D. Ole Rømer: first measurement of the speed of light: 17th Century\n",
    "    \n",
    "D > C > B > A"
   ]
  },
  {
   "cell_type": "markdown",
   "metadata": {},
   "source": []
  }
 ],
 "metadata": {
  "celltoolbar": "Slideshow",
  "kernelspec": {
   "display_name": "Python 3",
   "language": "python",
   "name": "python3"
  },
  "language_info": {
   "codemirror_mode": {
    "name": "ipython",
    "version": 3
   },
   "file_extension": ".py",
   "mimetype": "text/x-python",
   "name": "python",
   "nbconvert_exporter": "python",
   "pygments_lexer": "ipython3",
   "version": "3.7.3"
  }
 },
 "nbformat": 4,
 "nbformat_minor": 2
}
