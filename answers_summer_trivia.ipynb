{
 "cells": [
  {
   "cell_type": "markdown",
   "metadata": {
    "slideshow": {
     "slide_type": "slide"
    }
   },
   "source": [
    "# Summar Trivia 2022\n",
    "\n",
    "by Marley Buchman"
   ]
  },
  {
   "cell_type": "markdown",
   "metadata": {
    "slideshow": {
     "slide_type": "slide"
    }
   },
   "source": [
    "**20 Questions, 100 Points**"
   ]
  },
  {
   "cell_type": "markdown",
   "metadata": {
    "slideshow": {
     "slide_type": "slide"
    }
   },
   "source": [
    "### Twin Movies"
   ]
  },
  {
   "cell_type": "markdown",
   "metadata": {
    "slideshow": {
     "slide_type": "subslide"
    }
   },
   "source": [
    "**1A. Match the synopsis of the movie to the title (1 Point Each)**\n",
    "\n",
    "**No Strings Attached**\n",
    "\n",
    "![](img/twin_movies/no_strings_attached.png)"
   ]
  },
  {
   "cell_type": "markdown",
   "metadata": {
    "slideshow": {
     "slide_type": "subslide"
    }
   },
   "source": [
    "**1B. Match the synopsis of the movie to the title (1 Point Each)**\n",
    "\n",
    "**Olympus Has Fallen**\n",
    "    \n",
    "![](img/twin_movies/olympus_has_fallen.png)"
   ]
  },
  {
   "cell_type": "markdown",
   "metadata": {
    "slideshow": {
     "slide_type": "subslide"
    }
   },
   "source": [
    "**1C. Match the synopsis of the movie to the title (1 Point Each)**\n",
    "\n",
    "**Red Eye**\n",
    "    \n",
    "![](img/twin_movies/red_eye.png)"
   ]
  },
  {
   "cell_type": "markdown",
   "metadata": {
    "slideshow": {
     "slide_type": "slide"
    }
   },
   "source": [
    "### Public Sector Salaries"
   ]
  },
  {
   "cell_type": "markdown",
   "metadata": {
    "slideshow": {
     "slide_type": "subslide"
    }
   },
   "source": [
    "**2. Who makes more: teachers or cops? In each state, did teachers or police have higher median earnings in 2020? (1 Point Each)**\n",
    "\n",
    "WA - Cops Make Much More, \n",
    "\n",
    "MS - Teachers Make Much More, \n",
    "\n",
    "AZ - Cops Make Much More, \n",
    "\n",
    "TX - Cops Make Much More\n",
    "    \n",
    "![](img/public_sector_salaries/cops.png)"
   ]
  },
  {
   "cell_type": "markdown",
   "metadata": {
    "slideshow": {
     "slide_type": "slide"
    }
   },
   "source": [
    "### U.S. Counties"
   ]
  },
  {
   "cell_type": "markdown",
   "metadata": {
    "slideshow": {
     "slide_type": "subslide"
    }
   },
   "source": [
    "**3. There are 116 counties in the U.S. that have a larger population than the state of Wyoming. Identify whether the following states have a county with a population greater than the state of Wyoming (1 Point Each)**\n",
    "\n",
    "    A. Iowa - No\n",
    "    \n",
    "    B. Oregon - Yes\n",
    "    \n",
    "    C. Louisiana - No\n",
    "    \n",
    "    D. Alabama - Yes\n",
    "    \n",
    "![](img/answers_march_2021/county_pop.png)"
   ]
  },
  {
   "cell_type": "markdown",
   "metadata": {
    "slideshow": {
     "slide_type": "slide"
    }
   },
   "source": [
    "### Countries"
   ]
  },
  {
   "cell_type": "markdown",
   "metadata": {
    "slideshow": {
     "slide_type": "subslide"
    }
   },
   "source": [
    "**4. Name 3 countries in the Top Ten Countries with 2 Largest Cities Furthest Apart (1 Point Each)**\n",
    "\n",
    "![](img/answers_march_2021/countries_dist.png)"
   ]
  },
  {
   "cell_type": "markdown",
   "metadata": {
    "slideshow": {
     "slide_type": "slide"
    }
   },
   "source": [
    "### Hip-Hop Artists"
   ]
  },
  {
   "cell_type": "markdown",
   "metadata": {
    "slideshow": {
     "slide_type": "subslide"
    }
   },
   "source": [
    "**5. Order the following Hip-Hop artists from oldest to youngest (1 Point Each)**\n",
    "\n",
    "    A. J Cole - 36\n",
    "    \n",
    "    B. Kendrick Lamar - 34\n",
    "    \n",
    "    C. Gucci Mane - 41\n",
    "    \n",
    "    D. Nicki Minaj - 38"
   ]
  },
  {
   "cell_type": "markdown",
   "metadata": {
    "slideshow": {
     "slide_type": "slide"
    }
   },
   "source": [
    "### Age"
   ]
  },
  {
   "cell_type": "markdown",
   "metadata": {
    "slideshow": {
     "slide_type": "subslide"
    }
   },
   "source": [
    "**6. A Septuagenarian is a person in their 70s, identify the related term for people of the following ages (1 Point Each)**\n",
    "\n",
    "    A. 30s - Tricenarian\n",
    "    \n",
    "    B. 60s - Sexagenarian\n",
    "    \n",
    "    C. 40s - Quadragenarian\n",
    "    \n",
    "    D. 20s - Vicenarian"
   ]
  },
  {
   "cell_type": "markdown",
   "metadata": {
    "slideshow": {
     "slide_type": "slide"
    }
   },
   "source": [
    "### Islam"
   ]
  },
  {
   "cell_type": "markdown",
   "metadata": {
    "slideshow": {
     "slide_type": "subslide"
    }
   },
   "source": [
    "**7. For the following Muslim people, identify whether they're a Sunni or Shia Muslim (1 Point Each)**\n",
    "\n",
    "    A. Bashar al-Assad (President of Syria) - Shia\n",
    "    \n",
    "    B. Ali Khamenei (Supreme Leader of Iran) - Shia\n",
    "    \n",
    "    C. Saddam Hussein - Sunni\n",
    "    \n",
    "    D. Osama Bin Laden - Sunni"
   ]
  },
  {
   "cell_type": "markdown",
   "metadata": {
    "slideshow": {
     "slide_type": "slide"
    }
   },
   "source": [
    "### The Marvel Cinematic Universe"
   ]
  },
  {
   "cell_type": "markdown",
   "metadata": {
    "slideshow": {
     "slide_type": "subslide"
    }
   },
   "source": [
    "**8. Have the following actors appeared in a Marvel Cinematic Universe (MCU) film? (1 Point Each)**\n",
    "\n",
    "    A. Matt Damon (Thor Ragnarok)\n",
    "    \n",
    "    B. Michael Douglas (Ant-Man)\n",
    "    \n",
    "    C. Sylvester Stallone (Guardians of the Galaxy 2)\n",
    "    \n",
    "    D. Vin Diesel (Guardians of the Galaxy)"
   ]
  },
  {
   "cell_type": "markdown",
   "metadata": {
    "slideshow": {
     "slide_type": "slide"
    }
   },
   "source": [
    "### College"
   ]
  },
  {
   "cell_type": "markdown",
   "metadata": {
    "slideshow": {
     "slide_type": "subslide"
    }
   },
   "source": [
    "**9. For the following celebrities, name the university they graduates from and what their degree was in? (2 Points Each)**\n",
    "\n",
    "    A. Michael Jordan - University of North Carolina: Geography\n",
    "    \n",
    "    B. Natalie Portman - Harvard: Psychology\n",
    "    \n",
    "    C. Aziz Ansari - New York University: Marketing\n",
    "    \n",
    "    D. Will Ferrell - University of Southern California: Sports Information (will accept Sports Management/Business)"
   ]
  },
  {
   "cell_type": "code",
   "execution_count": null,
   "metadata": {},
   "outputs": [],
   "source": []
  }
 ],
 "metadata": {
  "celltoolbar": "Slideshow",
  "kernelspec": {
   "display_name": "Python 3 (ipykernel)",
   "language": "python",
   "name": "python3"
  },
  "language_info": {
   "codemirror_mode": {
    "name": "ipython",
    "version": 3
   },
   "file_extension": ".py",
   "mimetype": "text/x-python",
   "name": "python",
   "nbconvert_exporter": "python",
   "pygments_lexer": "ipython3",
   "version": "3.9.4"
  }
 },
 "nbformat": 4,
 "nbformat_minor": 2
}
