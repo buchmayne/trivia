{
 "cells": [
  {
   "cell_type": "markdown",
   "metadata": {
    "slideshow": {
     "slide_type": "slide"
    }
   },
   "source": [
    "# Trivia December 2020\n",
    "\n",
    "by Marley Buchman"
   ]
  },
  {
   "cell_type": "markdown",
   "metadata": {
    "slideshow": {
     "slide_type": "slide"
    }
   },
   "source": [
    "### Military Strategy"
   ]
  },
  {
   "cell_type": "markdown",
   "metadata": {
    "slideshow": {
     "slide_type": "subslide"
    }
   },
   "source": [
    "**1. What is the SECOND stage of a penetration test?**\n",
    "    \n",
    "    A. Surveillance of the enemy's headquarters\n",
    "    \n",
    "    B. A direct attack through an enemy's lines\n",
    "    \n",
    "    C. An attack on the enemy's rear forces\n"
   ]
  },
  {
   "cell_type": "markdown",
   "metadata": {
    "slideshow": {
     "slide_type": "subslide"
    }
   },
   "source": [
    "**2. Which tactic involves attacking an enemy from the rear?**\n",
    "    \n",
    "    A. Flanking maneuver\n",
    "    \n",
    "    B. Counterforce\n",
    "    \n",
    "    C. Pincer maneuver\n",
    "    "
   ]
  },
  {
   "cell_type": "markdown",
   "metadata": {
    "slideshow": {
     "slide_type": "subslide"
    }
   },
   "source": [
    "**3. A scorpion attack is a pincer attack that is assited by what kind of force?**\n",
    "    \n",
    "    A. Armored vehicle attack\n",
    "    \n",
    "    B. Air attack\n",
    "    \n",
    "    C. Naval bombardment"
   ]
  },
  {
   "cell_type": "markdown",
   "metadata": {
    "slideshow": {
     "slide_type": "slide"
    }
   },
   "source": [
    "### Universities"
   ]
  },
  {
   "cell_type": "markdown",
   "metadata": {
    "slideshow": {
     "slide_type": "subslide"
    }
   },
   "source": [
    "**1. Given the pair of universities, which university has a larger student body?**\n",
    "    \n",
    "    University of Central Flordia or Ohio State University\n"
   ]
  },
  {
   "cell_type": "markdown",
   "metadata": {
    "slideshow": {
     "slide_type": "subslide"
    }
   },
   "source": [
    "**2. Given the pair of universities, which university has a larger student body?**\n",
    "    \n",
    "    Michigan State University or University of Southern California\n",
    " "
   ]
  },
  {
   "cell_type": "markdown",
   "metadata": {
    "slideshow": {
     "slide_type": "subslide"
    }
   },
   "source": [
    "**3. Given the pair of universities, which university has a larger student body?**\n",
    "    \n",
    "    UCLA or University of Wisconsin\n",
    "    "
   ]
  },
  {
   "cell_type": "markdown",
   "metadata": {
    "slideshow": {
     "slide_type": "subslide"
    }
   },
   "source": [
    "**4. Given the pair of universities, which university has a larger student body?**\n",
    "    \n",
    "    Harvard or Oregon State University"
   ]
  },
  {
   "cell_type": "markdown",
   "metadata": {
    "slideshow": {
     "slide_type": "subslide"
    }
   },
   "source": [
    "**5. Given the pair of universities, which university has a larger student body?**\n",
    "    \n",
    "    Portland State University or Kansas State University"
   ]
  },
  {
   "cell_type": "markdown",
   "metadata": {
    "slideshow": {
     "slide_type": "slide"
    }
   },
   "source": [
    "### Age of Historical Figures"
   ]
  },
  {
   "cell_type": "markdown",
   "metadata": {
    "slideshow": {
     "slide_type": "subslide"
    }
   },
   "source": [
    "**1. Which historical figure was born first?**\n",
    "    \n",
    "    A. Martin Luther King Jr\n",
    "    \n",
    "    B. Anne Frank\n",
    "    \n",
    "    C. George H.W. Bush\n",
    "    \n",
    "    D. Joe Biden\n",
    "    \n",
    "    E. James Dean"
   ]
  },
  {
   "cell_type": "markdown",
   "metadata": {
    "slideshow": {
     "slide_type": "slide"
    }
   },
   "source": [
    "### Corporate Headquarter Locations"
   ]
  },
  {
   "cell_type": "markdown",
   "metadata": {
    "slideshow": {
     "slide_type": "subslide"
    }
   },
   "source": [
    "**1. Match the corporate headquarter location to the corporation**\n",
    "    \n",
    "    A. FedEx\n",
    "    \n",
    "    B. Comcast\n",
    "    \n",
    "    C. Home Depot\n",
    "    \n",
    "    D. Dominos\n",
    "    \n",
    "    -------------------\n",
    "    \n",
    "    1. Philadelphia, PA\n",
    "    \n",
    "    2. Ann Arbor, MI\n",
    "    \n",
    "    3. Memphis, TN\n",
    "    \n",
    "    4. Atlanta, GA"
   ]
  },
  {
   "cell_type": "markdown",
   "metadata": {
    "slideshow": {
     "slide_type": "subslide"
    }
   },
   "source": [
    "**2. Match the corporate headquarter location to the corporation**\n",
    "\n",
    "    A. General Electric\n",
    "   \n",
    "    B. Bank of America\n",
    "   \n",
    "    C. McDonalds\n",
    "   \n",
    "    D. Harley Davidson\n",
    "   \n",
    "    -----------------------\n",
    "   \n",
    "    1. Chicago, IL\n",
    "   \n",
    "    2. Charlotte, NC\n",
    "   \n",
    "    3. Milwaukee, WI\n",
    "   \n",
    "    4. Boston, MA"
   ]
  },
  {
   "cell_type": "markdown",
   "metadata": {
    "slideshow": {
     "slide_type": "slide"
    }
   },
   "source": [
    "### Sports Careers"
   ]
  },
  {
   "cell_type": "markdown",
   "metadata": {
    "slideshow": {
     "slide_type": "subslide"
    }
   },
   "source": [
    "**1. Relative to their sport, what athlete scored more over the course of thier career?**\n",
    "    \n",
    "    A. Alex Rodriguez is in X place all time in career home runs\n",
    "    \n",
    "    B. Wilt Chamberlin is in Y place all time in career points scored\n",
    "    \n",
    "    C. Philip Rivers is in Z place all time in career touchdowns scored\n",
    "\n",
    "    Order X, Y, and Z from highest to lowest"
   ]
  },
  {
   "cell_type": "markdown",
   "metadata": {
    "slideshow": {
     "slide_type": "subslide"
    }
   },
   "source": [
    "**2. Relative to their sport, what athlete scored more over the course of thier career?**\n",
    "    \n",
    "    A. Derek Jeter is in X place all time in career hits\n",
    "    \n",
    "    B. LeBron James is in Y place all time in career assists\n",
    "    \n",
    "    C. LaDainian Tomlinson is in Z place all time in career rushing touchdowns scored\n",
    "\n",
    "    Order X, Y, and Z from highest to lowest"
   ]
  },
  {
   "cell_type": "markdown",
   "metadata": {
    "slideshow": {
     "slide_type": "slide"
    }
   },
   "source": [
    "### Identify the International Cities by their Skyline"
   ]
  },
  {
   "cell_type": "markdown",
   "metadata": {
    "slideshow": {
     "slide_type": "subslide"
    }
   },
   "source": [
    "**1.**\n",
    "\n",
    "![](img/moscow_skyline.jpeg)"
   ]
  },
  {
   "cell_type": "markdown",
   "metadata": {
    "slideshow": {
     "slide_type": "subslide"
    }
   },
   "source": [
    "**2.**\n",
    "\n",
    "![](img/hong_kong_skyline.jpeg)"
   ]
  },
  {
   "cell_type": "markdown",
   "metadata": {
    "slideshow": {
     "slide_type": "subslide"
    }
   },
   "source": [
    "**3.**\n",
    "\n",
    "![](img/toronto_skyline.jpeg)"
   ]
  },
  {
   "cell_type": "markdown",
   "metadata": {
    "slideshow": {
     "slide_type": "slide"
    }
   },
   "source": [
    "### Identify the U.S. Cities by their Skyline"
   ]
  },
  {
   "cell_type": "markdown",
   "metadata": {
    "slideshow": {
     "slide_type": "subslide"
    }
   },
   "source": [
    "**1.**\n",
    "\n",
    "![](img/los_angeles_skyline.jpeg)"
   ]
  },
  {
   "cell_type": "markdown",
   "metadata": {
    "slideshow": {
     "slide_type": "subslide"
    }
   },
   "source": [
    "**2.**\n",
    "\n",
    "![](img/denver.png)"
   ]
  },
  {
   "cell_type": "markdown",
   "metadata": {
    "slideshow": {
     "slide_type": "subslide"
    }
   },
   "source": [
    "**3.**\n",
    "\n",
    "![](img/phily.png)"
   ]
  },
  {
   "cell_type": "markdown",
   "metadata": {
    "slideshow": {
     "slide_type": "slide"
    }
   },
   "source": [
    "### Puzzle/Word Problem/Riddle"
   ]
  },
  {
   "cell_type": "markdown",
   "metadata": {
    "slideshow": {
     "slide_type": "subslide"
    }
   },
   "source": [
    "**1.** \n",
    "\n",
    "Suppose you're on a game show, and you're given the choice of three doors: \n",
    "\n",
    "Behind one door is a car; behind the others, goats. \n",
    "\n",
    "You pick a door, say No. 1, and the host, who knows what's behind the doors, opens another door, say No. 3, which has a goat. He then says to you, \"Do you want to pick door No. 2?\" \n",
    "\n",
    "Is it to your advantage to switch your choice?"
   ]
  },
  {
   "cell_type": "markdown",
   "metadata": {
    "slideshow": {
     "slide_type": "subslide"
    }
   },
   "source": [
    "**2.**\n",
    "\n",
    "Exactly three films—Greed, Harvest, and Limelight—are shown during a film club’s festival held on Thursday, Friday, and Saturday. Each film is shown at least once during the festival but never more than once on a given day. On each day at least one film is shown. Films are shown one at a time. The following conditions apply:\n",
    "\n",
    "    On Thursday Harvest is shown, and no film is shown after it on that day.\n",
    "    On Friday either Greed or Limelight, but not both, is shown, and no film is shown after it on that day.\n",
    "    On Saturday either Greed or Harvest, but not both, is shown, and no film is shown after it on that day.\n",
    "\n",
    "    ------------------------------------------------------------------------------\n",
    "\n",
    "    **2A.\n",
    "    Which one of the following could be a complete and accurate description of the order in which the films are shown at the festival?**\n",
    "\n",
    "    (A) Thursday: Limelight, then Harvest; Friday: Limelight; Saturday: Harvest\n",
    "\n",
    "    (B) Thursday: Harvest; Friday: Greed, then Limelight; Saturday: Limelight, then Greed\n",
    "\n",
    "    (C) Thursday: Harvest; Friday: Limelight; Saturday: Limelight, then Greed\n",
    "\n",
    "    (D) Thursday: Greed, then Harvest, then Limelight; Friday: Limelight; Saturday: Greed\n",
    "\n",
    "    (E) Thursday: Greed, then Harvest; Friday: Limelight, then Harvest; Saturday: Harvest\n",
    "\n",
    "    ----------------------------------------------------------------------\n",
    "\n",
    "    **2B.\n",
    "    Which one of the following CANNOT be true?**\n",
    "\n",
    "    (A) Harvest is the last film shown on each day of the festival.\n",
    "\n",
    "    (B) Limelight is shown on each day of the festival.\n",
    "\n",
    "    (C) Greed is shown second on each day of the festival.\n",
    "\n",
    "    (D) A different film is shown first on each day of the festival.\n",
    "\n",
    "    (E) A different film is shown last on each day of the festival.\n",
    "\n",
    "    ---------------------------------------------------------------------\n",
    "\n",
    "    **2C.\n",
    "    If Greed is shown exactly three times, Harvest is shown exactly twice, and Limelight is shown exactly once, then which one of the following must be true?**\n",
    "\n",
    "    (A) All three films are shown on Thursday.\n",
    "\n",
    "    (B) Exactly two films are shown on Saturday.\n",
    "\n",
    "    (C) Limelight and Harvest are both shown on Thursday.\n",
    "\n",
    "    (D) Greed is the only film shown on Saturday.\n",
    "\n",
    "    (E) Harvest and Greed are both shown on Friday."
   ]
  },
  {
   "cell_type": "markdown",
   "metadata": {
    "slideshow": {
     "slide_type": "slide"
    }
   },
   "source": [
    "### Music Chronology"
   ]
  },
  {
   "cell_type": "markdown",
   "metadata": {
    "slideshow": {
     "slide_type": "subslide"
    }
   },
   "source": [
    "**1. Match the release date to the classic album**\n",
    "\n",
    "    1. May 26, 1967\n",
    "    \n",
    "    2. January 12, 1969\n",
    "    \n",
    "    3. November 4, 1970\n",
    "    \n",
    "    4. March 1, 1973\n",
    "    \n",
    "    5. January 20, 1975\n",
    "    ------------------------------------------\n",
    "    A. David Bowie: The Man Who Sold The World\n",
    "    \n",
    "    B. Pink Floyd: Darkside Of The Moon\n",
    "    \n",
    "    C. Bob Dylan: Blood On The Tracks\n",
    "    \n",
    "    D. Led Zeppelin: Led Zeppelin\n",
    "    \n",
    "    E. Beatles: Sgt Pepper Lonely Heart's Club Band"
   ]
  },
  {
   "cell_type": "markdown",
   "metadata": {
    "slideshow": {
     "slide_type": "slide"
    }
   },
   "source": [
    "### Mathematics"
   ]
  },
  {
   "cell_type": "markdown",
   "metadata": {
    "slideshow": {
     "slide_type": "subslide"
    }
   },
   "source": [
    "**1. What simple mathematical concept does the following equation represent?**\n",
    "\n",
    "![](img/mean.png)"
   ]
  },
  {
   "cell_type": "markdown",
   "metadata": {
    "slideshow": {
     "slide_type": "slide"
    }
   },
   "source": [
    "### Geography: Longitude"
   ]
  },
  {
   "cell_type": "markdown",
   "metadata": {
    "slideshow": {
     "slide_type": "subslide"
    }
   },
   "source": [
    "**1. Order the European cities from West to East**\n",
    "\n",
    "    A. Vienna\n",
    "    \n",
    "    B. Paris\n",
    "    \n",
    "    C. Rome\n",
    "    \n",
    "    D. Berlin\n",
    "    \n",
    "    E. Amsterdam"
   ]
  },
  {
   "cell_type": "markdown",
   "metadata": {
    "slideshow": {
     "slide_type": "subslide"
    }
   },
   "source": [
    "**2. Order the Chinese cities from West to East**\n",
    "\n",
    "    A. Beijing\n",
    "    \n",
    "    B. Wuhan\n",
    "    \n",
    "    C. Shenzen\n",
    "    \n",
    "    D. Shanghai"
   ]
  },
  {
   "cell_type": "markdown",
   "metadata": {
    "slideshow": {
     "slide_type": "subslide"
    }
   },
   "source": [
    "**3. Order the Texas cities from West to East**\n",
    "\n",
    "    A. El Paso\n",
    "    \n",
    "    B. Dallas\n",
    "    \n",
    "    C. Austin\n",
    "    \n",
    "    D. Houston\n",
    "    \n",
    "    E. San Antonio"
   ]
  },
  {
   "cell_type": "markdown",
   "metadata": {
    "slideshow": {
     "slide_type": "slide"
    }
   },
   "source": [
    "### Geography: Latitude"
   ]
  },
  {
   "cell_type": "markdown",
   "metadata": {
    "slideshow": {
     "slide_type": "subslide"
    }
   },
   "source": [
    "**1. Order the European cities from North to South**\n",
    "\n",
    "    A. Paris\n",
    "    \n",
    "    B. Barcelona\n",
    "    \n",
    "    C. Milan\n",
    "    \n",
    "    D. Copenhagen\n",
    "    \n",
    "    E. London\n",
    "    \n",
    "    F. Munich"
   ]
  },
  {
   "cell_type": "markdown",
   "metadata": {
    "slideshow": {
     "slide_type": "subslide"
    }
   },
   "source": [
    "**2. Order the English cities from North to South**\n",
    "\n",
    "    A. London\n",
    "    \n",
    "    B. Liverpool\n",
    "    \n",
    "    C. Cambridge\n",
    "    \n",
    "    D. Manchester\n",
    "    \n",
    "    E. Southampton"
   ]
  },
  {
   "cell_type": "markdown",
   "metadata": {
    "slideshow": {
     "slide_type": "subslide"
    }
   },
   "source": [
    "**3. Order the Ohio cities from North to South**\n",
    "\n",
    "    A. Dayton\n",
    "    \n",
    "    B. Cleveland\n",
    "    \n",
    "    C. Cincinatti\n",
    "    \n",
    "    D. Columbus\n",
    "    \n",
    "    E. Toledo"
   ]
  },
  {
   "cell_type": "markdown",
   "metadata": {
    "slideshow": {
     "slide_type": "slide"
    }
   },
   "source": [
    "### Geography: Capitals"
   ]
  },
  {
   "cell_type": "markdown",
   "metadata": {
    "slideshow": {
     "slide_type": "subslide"
    }
   },
   "source": [
    "**1. Name the country based on the capital**\n",
    "\n",
    "    A. Nur-Sultan (formerly Astana)\n",
    "    \n",
    "    B. Abuja\n",
    "    \n",
    "    C. Montevideo"
   ]
  },
  {
   "cell_type": "markdown",
   "metadata": {
    "slideshow": {
     "slide_type": "subslide"
    }
   },
   "source": [
    "**2. Name the country based on the capital**\n",
    "    \n",
    "    A. Lima\n",
    "    \n",
    "    B. Helsinki\n",
    "    \n",
    "    C. Caracas\n",
    "    \n",
    "    D. Canberra\n",
    "    \n",
    "    E. Jakarta"
   ]
  },
  {
   "cell_type": "markdown",
   "metadata": {
    "slideshow": {
     "slide_type": "subslide"
    }
   },
   "source": [
    "**3. Name the capital of each U.S. State**\n",
    "    \n",
    "    A. Alaska\n",
    "    \n",
    "    B. Kentucky\n",
    "    \n",
    "    C. West Virginia\n",
    "    \n",
    "    D. Missouri\n",
    "    "
   ]
  },
  {
   "cell_type": "markdown",
   "metadata": {
    "slideshow": {
     "slide_type": "slide"
    }
   },
   "source": [
    "### Population"
   ]
  },
  {
   "cell_type": "markdown",
   "metadata": {
    "slideshow": {
     "slide_type": "subslide"
    }
   },
   "source": [
    "**1. Rank the following Capital Cities (Metro Area) by population density, from most dense to least**\n",
    "\n",
    "    A. Manila, Philippines\n",
    "    \n",
    "    B. Delhi, India\n",
    "    \n",
    "    C. Athens, Greece\n",
    "    \n",
    "    D. Seoul, South Korea"
   ]
  },
  {
   "cell_type": "markdown",
   "metadata": {
    "slideshow": {
     "slide_type": "subslide"
    }
   },
   "source": [
    "**2. Rank the following U.S. Cities by population, from highest to least. (This is population of the city, *not* the population of the Metro area)**\n",
    "\n",
    "    A. San Antonio, TX\n",
    "    \n",
    "    B. San Francisco, CA\n",
    "    \n",
    "    C. Boston, MA\n",
    "    \n",
    "    D. Miami, FL\n",
    "    "
   ]
  },
  {
   "cell_type": "markdown",
   "metadata": {
    "slideshow": {
     "slide_type": "slide"
    }
   },
   "source": [
    "### Genres"
   ]
  },
  {
   "cell_type": "markdown",
   "metadata": {
    "slideshow": {
     "slide_type": "subslide"
    }
   },
   "source": [
    "**1. Match the genre to its description**\n",
    "![](img/metal-genres.png)"
   ]
  },
  {
   "cell_type": "markdown",
   "metadata": {
    "slideshow": {
     "slide_type": "subslide"
    }
   },
   "source": [
    "**2. Match the genre to its description**\n",
    "\n",
    "    1. Seapunk \n",
    "\n",
    "    2. Synthwave\n",
    "\n",
    "    3. Chillwave\n",
    "\n",
    "    4. Vaporwave\n",
    "    \n",
    "    -------------------------\n",
    "\n",
    "    A. X is a music microgenre that emerged in the late 2000s. It is characterized by a faded or dreamy retro pop sound, escapist lyrics (frequent topics include the beach or summer), psychedelic or lo-fi aesthetics, mellow vocals, low-to-moderate tempos, effects processing (especially reverb), and vintage synthesizers. The term was originally synonymous with \"glo-fi\" or \"hypnagogic pop\".\n",
    "    \n",
    "    B. X is a subculture that originated on Tumblr in 2011. It is associated with an aquatic-themed style of fashion, 3D net art, iconography, and allusions to popular culture of the 1990s. The advent of X also spawned its own electronic music microgenre, featuring elements of Southern hip hop and pop music and R&B music of the 1990s. \n",
    "    \n",
    "    C. X is an electronic music microgenre that is based predominately on the music associated with action, science-fiction, and horror film soundtracks of the 1980s.Other influences are drawn from that decade's art and video games. X musicians often espouse nostalgia for 1980s culture and attempt to capture the era's atmosphere and celebrate it.\n",
    "    \n",
    "    D. X is a microgenre of electronic music, a visual art style, and an Internet meme that emerged in the early 2010s. It is defined partly by its slowed-down, chopped and screwed samples of smooth jazz, elevator, R&B, and lounge music from the 1980s and 1990s. The surrounding subculture is sometimes associated with an ambiguous or satirical take on consumer capitalism and pop culture, and tends to be characterized by a nostalgic or surrealist engagement with the popular entertainment, technology and advertising of previous decades. Visually, it incorporates early Internet imagery, late 1990s web design, glitch art, anime, 3D-rendered objects, and cyberpunk tropes in its cover artwork and music videos. "
   ]
  },
  {
   "cell_type": "markdown",
   "metadata": {
    "slideshow": {
     "slide_type": "subslide"
    }
   },
   "source": [
    "**3. Match the genre to the description**\n",
    "\n",
    "    1. Dirty Dutch House\n",
    "    \n",
    "    2. Future Bass\n",
    "    \n",
    "    3. Trip Hop\n",
    "    \n",
    "    4. Acid House\n",
    "    \n",
    "    ----------------------------\n",
    "    \n",
    "    A. X is a subgenre of house music developed around the mid-1980s by DJs from Chicago. The style is defined primarily by the \"squelching\" sounds and deep basslines of the Roland TB-303 electronic bass synthesizer-sequencer,an innovation sometimes attributed to DJ Pierre of Phuture\n",
    "    \n",
    "    B. X is a musical genre that originated in the early 1990s in the United Kingdom, especially Bristol.It has been described as \"a fusion of hip hop and electronica until neither genre is recognizable\", and may incorporate a variety of styles, including funk, dub, soul, psychedelia, R&B, and house, as well as other forms of electronic music.\n",
    "    \n",
    "    C. X is a genre of electronic dance music that originated in the 2010s. It can be described as music that \"takes the ecstatic drops of dubstep or trap, but provides a warm bounce rather than a lumbering bruteness. Basslines are provided by harsh, detuned synths that buzz and purr instead of gulp and whomp.\" The genre was pioneered by producers such as Flume, Lido, San Holo and Cashmere Cat, and it was popularised in the mid-2010s by artists such as Louis the Child and Mura Masa\n",
    "    \n",
    "    D. X is a style of electro house that found prominence by 2009, mainly pioneered by Vato Gonzalez and DJ Chuckie. It is primarily defined by complex rhythms made from Latin-influenced drum kits, a lower emphasis on basslines and squeaky, high-pitched lead synths. Influences on the subgenre include Detroit techno, hip hop and other urban styles of music.\n",
    "    "
   ]
  },
  {
   "cell_type": "markdown",
   "metadata": {
    "slideshow": {
     "slide_type": "slide"
    }
   },
   "source": [
    "### Identify the Data Portrayed on the Map"
   ]
  },
  {
   "cell_type": "markdown",
   "metadata": {
    "slideshow": {
     "slide_type": "subslide"
    }
   },
   "source": [
    "**1.**\n",
    "![](img/mormon-population.png)"
   ]
  },
  {
   "cell_type": "markdown",
   "metadata": {
    "slideshow": {
     "slide_type": "subslide"
    }
   },
   "source": [
    "**2. Guess the Category**\n",
    "![](img/data_maps/most-popular-sport.png)"
   ]
  },
  {
   "cell_type": "markdown",
   "metadata": {
    "slideshow": {
     "slide_type": "slide"
    }
   },
   "source": [
    "### Identify the Cocktail by its Recipe"
   ]
  },
  {
   "cell_type": "markdown",
   "metadata": {
    "slideshow": {
     "slide_type": "subslide"
    }
   },
   "source": [
    "**1.**\n",
    "\n",
    "Made with white rum, sugar (traditionally sugar cane juice), lime juice, soda water, and mint"
   ]
  },
  {
   "cell_type": "markdown",
   "metadata": {
    "slideshow": {
     "slide_type": "subslide"
    }
   },
   "source": [
    "**2.**\n",
    "\n",
    "Made with vodka, spicy ginger beer, and lime juice, garnished with a slice or wedge of lime."
   ]
  },
  {
   "cell_type": "markdown",
   "metadata": {
    "slideshow": {
     "slide_type": "subslide"
    }
   },
   "source": [
    "**3.**\n",
    "\n",
    "Made with vodka, triple sec, cranberry juice, and freshly squeezed or sweetened lime juice."
   ]
  },
  {
   "cell_type": "markdown",
   "metadata": {
    "slideshow": {
     "slide_type": "subslide"
    }
   },
   "source": [
    "**4.**\n",
    "\n",
    "Made by muddling sugar with bitters, adding whiskey or, less commonly, brandy, and garnishing with a twist of citrus rind and a cocktail cherry."
   ]
  },
  {
   "cell_type": "markdown",
   "metadata": {
    "slideshow": {
     "slide_type": "subslide"
    }
   },
   "source": [
    "**5.**\n",
    "\n",
    "Made with whiskey, sweet vermouth, and bitters."
   ]
  },
  {
   "cell_type": "markdown",
   "metadata": {
    "slideshow": {
     "slide_type": "slide"
    }
   },
   "source": [
    "### Heads of State"
   ]
  },
  {
   "cell_type": "markdown",
   "metadata": {
    "slideshow": {
     "slide_type": "subslide"
    }
   },
   "source": [
    "**1. Match the Head of State to the Country they lead** \n",
    "\n",
    "    1. Jair Bolsonaro\n",
    "    \n",
    "    2. Muhammadu Buhari\n",
    "    \n",
    "    3. Andrés Manuel López Obrador\n",
    "    \n",
    "    4. Marcelo Rebelo de Sousa\n",
    "    \n",
    "    ----------------\n",
    "    \n",
    "    A. Mexico\n",
    "    \n",
    "    B. Brazil\n",
    "    \n",
    "    C. Nigeria\n",
    "    \n",
    "    D. Portugal"
   ]
  },
  {
   "cell_type": "markdown",
   "metadata": {
    "slideshow": {
     "slide_type": "slide"
    }
   },
   "source": [
    "### Architecture"
   ]
  },
  {
   "cell_type": "markdown",
   "metadata": {
    "slideshow": {
     "slide_type": "subslide"
    }
   },
   "source": [
    "**1. Match the description to the architectural style**\n",
    "\n",
    "    1. International Style \n",
    "    \n",
    "    2. Art Deco \n",
    "    \n",
    "    3. Functionalism \n",
    "    \n",
    "    4. Usonia\n",
    "    ------------------------------------------------------------\n",
    "    A. X are typically small, single-story dwellings without a garage or much storage. They are often L-shaped to fit around a garden terrace on unusual and inexpensive sites. They are characterized by native materials; flat roofs and large cantilevered overhangs for passive solar heating and natural cooling; natural lighting with clerestory windows; and radiant-floor heating.\n",
    "\n",
    "    B. \"there should be no features about a building which are not necessary for convenience, construction, or propriety\" and \"all ornament should consist of enrichment of the essential construction of the building\"\n",
    "\n",
    "    C. X is characterized by an emphasis on volume over mass, the use of lightweight, mass-produced, industrial materials, rejection of all ornament and colour, repetitive modular forms, and the use of flat surfaces, typically alternating with areas of glass\n",
    "\n",
    "    D. X combined modern styles with fine craftsmanship and rich materials. During its heyday, X represented luxury, glamour, exuberance, and faith in social and technological progress. "
   ]
  },
  {
   "cell_type": "markdown",
   "metadata": {
    "slideshow": {
     "slide_type": "slide"
    }
   },
   "source": [
    "### Actors"
   ]
  },
  {
   "cell_type": "markdown",
   "metadata": {
    "slideshow": {
     "slide_type": "subslide"
    }
   },
   "source": [
    "**1. Match the Actor to their hometown**\n",
    "\n",
    "    1. Brad Pitt\n",
    "    \n",
    "    2. Steve Carell\n",
    "    \n",
    "    3. Amy Adams\n",
    "    \n",
    "    4. Merryl Streep\n",
    "    \n",
    "    -------------------------\n",
    "    \n",
    "    A. Bernardsville, New Jersey\n",
    "    \n",
    "    B. Springfield, Missouri \n",
    "    \n",
    "    C. Castle Rock, Colorado\n",
    "    \n",
    "    D. Acton, Massachusetts"
   ]
  },
  {
   "cell_type": "markdown",
   "metadata": {
    "slideshow": {
     "slide_type": "subslide"
    }
   },
   "source": [
    "**2. Rank the following films starring Leo DiCaprio from highest to lowest based on RottenTomatoes tomato meter (Critics Score)**\n",
    "\n",
    "    A. Titanic\n",
    "    \n",
    "    B. Catch Me If You Can\n",
    "    \n",
    "    C. The Wolf Of Wall Street\n",
    "    \n",
    "    D. Gangs Of New York"
   ]
  },
  {
   "cell_type": "markdown",
   "metadata": {
    "slideshow": {
     "slide_type": "slide"
    }
   },
   "source": [
    "### Timezones"
   ]
  },
  {
   "cell_type": "markdown",
   "metadata": {
    "slideshow": {
     "slide_type": "subslide"
    }
   },
   "source": [
    "**1. How many timezones are in each country**\n",
    "\n",
    "    A. China\n",
    "    \n",
    "    B. Australia\n",
    "    \n",
    "    C. Russia\n",
    "    \n",
    "    D. Brazil\n",
    "    "
   ]
  },
  {
   "cell_type": "markdown",
   "metadata": {
    "slideshow": {
     "slide_type": "slide"
    }
   },
   "source": [
    "### Demonyms"
   ]
  },
  {
   "cell_type": "markdown",
   "metadata": {
    "slideshow": {
     "slide_type": "subslide"
    }
   },
   "source": [
    "**1. Name the demonym for the following states (e.g. a resident of Oregon is an Oregonian)**\n",
    "\n",
    "    1. Idaho\n",
    "    \n",
    "    2. Kentucky\n",
    "    \n",
    "    3. Wisconsin\n",
    "    \n",
    "    4. Michigan\n",
    "    "
   ]
  },
  {
   "cell_type": "markdown",
   "metadata": {
    "slideshow": {
     "slide_type": "subslide"
    }
   },
   "source": [
    "**2. Name the demonym for the following international cities (e.g. a resident of Bristol is a Bristolian)**\n",
    "\n",
    "    1. Moscow\n",
    "    \n",
    "    2. Dublin\n",
    "    \n",
    "    3. Florence\n",
    "    \n",
    "    4. Athens\n",
    "    "
   ]
  },
  {
   "cell_type": "markdown",
   "metadata": {
    "slideshow": {
     "slide_type": "subslide"
    }
   },
   "source": [
    "**3. Name the demonym for the following U.S. cities (e.g. a resident of Boston is a Bostonian)**\n",
    "\n",
    "    1. Louisville\n",
    "    \n",
    "    2. Tampa\n",
    "    \n",
    "    3. Phoenix\n",
    "    \n",
    "    4. Denver\n",
    "    "
   ]
  },
  {
   "cell_type": "markdown",
   "metadata": {
    "slideshow": {
     "slide_type": "slide"
    }
   },
   "source": [
    "### History of Inventions"
   ]
  },
  {
   "cell_type": "markdown",
   "metadata": {
    "slideshow": {
     "slide_type": "subslide"
    }
   },
   "source": [
    "**1. Name the decade in which the following was invented**\n",
    "    \n",
    "    A. Escalator (first design actually built)\n",
    "    \n",
    "    B. Domestic Vacuum Cleaner\n",
    "    \n",
    "    C. Ballpoint Pen\n",
    "    \n",
    "    D. Transatlantic Cable\n",
    "   "
   ]
  },
  {
   "cell_type": "markdown",
   "metadata": {
    "slideshow": {
     "slide_type": "slide"
    }
   },
   "source": [
    "### Bird's Eye View"
   ]
  },
  {
   "cell_type": "markdown",
   "metadata": {
    "slideshow": {
     "slide_type": "subslide"
    }
   },
   "source": [
    "**1. Where is this?**\n",
    "\n",
    "![](img/tesla_gigawatt_factory.png)"
   ]
  },
  {
   "cell_type": "markdown",
   "metadata": {
    "slideshow": {
     "slide_type": "slide"
    }
   },
   "source": [
    "### U.S. Presidents"
   ]
  },
  {
   "cell_type": "markdown",
   "metadata": {
    "slideshow": {
     "slide_type": "subslide"
    }
   },
   "source": [
    "**1. How many U.S. Presidents were born West of the Mississippi River**"
   ]
  }
 ],
 "metadata": {
  "celltoolbar": "Slideshow",
  "kernelspec": {
   "display_name": "Python 3 (ipykernel)",
   "language": "python",
   "name": "python3"
  },
  "language_info": {
   "codemirror_mode": {
    "name": "ipython",
    "version": 3
   },
   "file_extension": ".py",
   "mimetype": "text/x-python",
   "name": "python",
   "nbconvert_exporter": "python",
   "pygments_lexer": "ipython3",
   "version": "3.9.4"
  }
 },
 "nbformat": 4,
 "nbformat_minor": 2
}
