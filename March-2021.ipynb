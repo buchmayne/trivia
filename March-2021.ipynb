{
 "cells": [
  {
   "cell_type": "markdown",
   "metadata": {
    "slideshow": {
     "slide_type": "slide"
    }
   },
   "source": [
    "# Trivia March 2021\n",
    "\n",
    "By Marley Buchman"
   ]
  },
  {
   "cell_type": "markdown",
   "metadata": {
    "slideshow": {
     "slide_type": "slide"
    }
   },
   "source": [
    "### 20 Questions, 100 Points"
   ]
  },
  {
   "cell_type": "markdown",
   "metadata": {
    "slideshow": {
     "slide_type": "slide"
    }
   },
   "source": [
    "### Italian Pasta"
   ]
  },
  {
   "cell_type": "markdown",
   "metadata": {
    "slideshow": {
     "slide_type": "subslide"
    }
   },
   "source": [
    "**1. Identify the Italian Pasta from the photo (1 Point each)**\n",
    "    \n",
    "![](img/pasta/pasta.png)"
   ]
  },
  {
   "cell_type": "markdown",
   "metadata": {
    "slideshow": {
     "slide_type": "slide"
    }
   },
   "source": [
    "### Stage Names"
   ]
  },
  {
   "cell_type": "markdown",
   "metadata": {
    "slideshow": {
     "slide_type": "subslide"
    }
   },
   "source": [
    "**2. Is the following celebrity name their birth name or a stage name? (1 Point each)**\n",
    "\n",
    "    A. David Bowie\n",
    "    \n",
    "    B. Michael Keaton\n",
    "    \n",
    "    C. Calvin Harris\n",
    "    \n",
    "    D. Bruce Springsteen\n",
    "    \n",
    "    E. Leonardo DiCaprio\n"
   ]
  },
  {
   "cell_type": "markdown",
   "metadata": {
    "slideshow": {
     "slide_type": "slide"
    }
   },
   "source": [
    "### Philosophers"
   ]
  },
  {
   "cell_type": "markdown",
   "metadata": {
    "slideshow": {
     "slide_type": "subslide"
    }
   },
   "source": [
    "**3. Match the philosopher to one of their key ideas (1 Point Each)**\n",
    "\n",
    "    1. Ludwig Wittgenstein (1889–1951)\n",
    "    \n",
    "    2. Jean-Paul Sartre (1905–80)\n",
    "    \n",
    "    3. Friedrich Nietzsche (1844–1900)\n",
    "    \n",
    "    4. Michel Foucault (1926-1984)\n",
    "    \n",
    "    ---------------------\n",
    "    \n",
    "    A. Believed that human beings are “condemned to be free,” that because there is no Creator who is responsible for our actions, each of us alone is responsible for everything we do\n",
    "    \n",
    "    B. Believed in the individual’s creative capacity to resist social norms and cultural convention in order to live according to a greater set of virtues.\n",
    "    \n",
    "    C. Demanded that social constructs be more closely examined for hierarchical inequalities, as well as through an analysis of the corresponding fields of knowledge supporting these unequal structures\n",
    "    \n",
    "    D. Resolved that because thought is inextricably tied to language, and because language is socially constructed, we have no real inner-space for the realization of our thoughts, which is to say that the language of our thoughts renders our thoughts inherently socially constructed.\n",
    "    "
   ]
  },
  {
   "cell_type": "markdown",
   "metadata": {
    "slideshow": {
     "slide_type": "slide"
    }
   },
   "source": [
    "### Literature"
   ]
  },
  {
   "cell_type": "markdown",
   "metadata": {
    "slideshow": {
     "slide_type": "subslide"
    }
   },
   "source": [
    "**4. Match the opening line to the novel (1 Point Each)**\n",
    "\n",
    "    1. Call me Ishmael.\n",
    "    \n",
    "    2. Happy families are all alike; every unhappy family is unhappy in its own way.\n",
    "    \n",
    "    3.  Mother died today.\n",
    "    \n",
    "    4. He was an old man who fished alone in a skiff in the Gulf Stream and he had gone eighty-four days now without taking a fish.\n",
    "    \n",
    "    -------------------------\n",
    "    \n",
    "    A. The Stranger\n",
    "    \n",
    "    B. Anna Karenina\n",
    "    \n",
    "    C. Moby Dick\n",
    "    \n",
    "    D. The Old Man and the Sea"
   ]
  },
  {
   "cell_type": "markdown",
   "metadata": {
    "slideshow": {
     "slide_type": "slide"
    }
   },
   "source": [
    "### Mountains"
   ]
  },
  {
   "cell_type": "markdown",
   "metadata": {
    "slideshow": {
     "slide_type": "subslide"
    }
   },
   "source": [
    "**5. Rank the following peaks from tallest to shortest (1 Point Each)**\n",
    "\n",
    "    A. Mt. Rainier, Washington\n",
    "    \n",
    "    B. Mt. Whitney, California\n",
    "    \n",
    "    C. Mt. Shasta, California\n",
    "    \n",
    "    D. Castle Mountain, Montana\n",
    "    "
   ]
  },
  {
   "cell_type": "markdown",
   "metadata": {
    "slideshow": {
     "slide_type": "slide"
    }
   },
   "source": [
    "### Art History"
   ]
  },
  {
   "cell_type": "markdown",
   "metadata": {
    "slideshow": {
     "slide_type": "subslide"
    }
   },
   "source": [
    "**6A. Name either the title of the painting OR the artist (2 Points)**\n",
    "\n",
    "![](img/art_history/girl_with_the_pearl.jpg)"
   ]
  },
  {
   "cell_type": "markdown",
   "metadata": {
    "slideshow": {
     "slide_type": "subslide"
    }
   },
   "source": [
    "**6B. Name either the title of the painting OR the artist (2 Points)**\n",
    "\n",
    "![](img/art_history/venus.jpg)"
   ]
  },
  {
   "cell_type": "markdown",
   "metadata": {
    "slideshow": {
     "slide_type": "subslide"
    }
   },
   "source": [
    "**6C. Name either the title of the painting OR the artist (2 Points)**\n",
    "\n",
    "![](img/art_history/mondrian.jpg)"
   ]
  },
  {
   "cell_type": "markdown",
   "metadata": {
    "slideshow": {
     "slide_type": "subslide"
    }
   },
   "source": [
    "**6D. Name either the title of the painting OR the artist (2 Points)**\n",
    "\n",
    "![](img/art_history/nighthawks.jpg)"
   ]
  },
  {
   "cell_type": "markdown",
   "metadata": {
    "slideshow": {
     "slide_type": "subslide"
    }
   },
   "source": [
    "**7A. Match the famous painting shown to its artistic period/style/movement (1 Point each)**\n",
    "\n",
    "    Baroque (1600–1750)\n",
    "    \n",
    "    Impressionism (1865–1885)   \n",
    "    \n",
    "    Post-Impressionism (1885–1910)\n",
    "    \n",
    "    Expressionism (1905–1920)\n",
    "    \n",
    "\n",
    "![](img/art_history/impressionism.jpg)"
   ]
  },
  {
   "cell_type": "markdown",
   "metadata": {
    "slideshow": {
     "slide_type": "subslide"
    }
   },
   "source": [
    "**7B. Match the famous painting shown to its artistic period/style/movement (1 Point each)**\n",
    "\n",
    "    Baroque (1600–1750)\n",
    "    \n",
    "    Impressionism (1865–1885)   \n",
    "    \n",
    "    Post-Impressionism (1885–1910)\n",
    "    \n",
    "    Expressionism (1905–1920)\n",
    "    \n",
    "\n",
    "![](img/art_history/post-impressionism.jpg)"
   ]
  },
  {
   "cell_type": "markdown",
   "metadata": {
    "slideshow": {
     "slide_type": "subslide"
    }
   },
   "source": [
    "**7C. Match the famous painting shown to its artistic period/style/movement (1 Point each)**\n",
    "\n",
    "    Baroque (1600–1750)\n",
    "    \n",
    "    Impressionism (1865–1885)   \n",
    "    \n",
    "    Post-Impressionism (1885–1910)\n",
    "    \n",
    "    Expressionism (1905–1920)\n",
    "    \n",
    "\n",
    "![](img/art_history/expressionism.jpg)"
   ]
  },
  {
   "cell_type": "markdown",
   "metadata": {
    "slideshow": {
     "slide_type": "subslide"
    }
   },
   "source": [
    "**7D. Match the famous painting shown to its artistic period/style/movement (1 Point each)**    \n",
    "    \n",
    "    Baroque (1600–1750)\n",
    "    \n",
    "    Impressionism (1865–1885)   \n",
    "    \n",
    "    Post-Impressionism (1885–1910)\n",
    "    \n",
    "    Expressionism (1905–1920)    \n",
    "    \n",
    "\n",
    "![](img/art_history/baroque.jpg)"
   ]
  },
  {
   "cell_type": "markdown",
   "metadata": {
    "slideshow": {
     "slide_type": "slide"
    }
   },
   "source": [
    "### Distances"
   ]
  },
  {
   "cell_type": "markdown",
   "metadata": {
    "slideshow": {
     "slide_type": "subslide"
    }
   },
   "source": [
    "**8. Rank the following trips by longest to shortest distance (miles/google maps/car) (1 Points each)**\n",
    "\n",
    "    A. Los Angeles -> San Francisco\n",
    "    \n",
    "    B. Baltimore -> Boston\n",
    "    \n",
    "    C. Milwaukee -> Cleveland\n",
    "    \n",
    "    D. Atlanta -> Miami\n",
    "    "
   ]
  },
  {
   "cell_type": "markdown",
   "metadata": {
    "slideshow": {
     "slide_type": "slide"
    }
   },
   "source": [
    "### College Sports"
   ]
  },
  {
   "cell_type": "markdown",
   "metadata": {
    "slideshow": {
     "slide_type": "subslide"
    }
   },
   "source": [
    "**9. Since 1950, 7 universities have won both a national championship in football and a national championship in men's basketball. 2 of the 7 universities have won multiple championships in both football and men's basketball. Name each of the 5 univeristies that have won both at least once for (1 Point Each), and the 2 universities that have won multiple times for (2 Points Each)**"
   ]
  },
  {
   "cell_type": "markdown",
   "metadata": {
    "slideshow": {
     "slide_type": "slide"
    }
   },
   "source": [
    "### First Name Last Name"
   ]
  },
  {
   "cell_type": "markdown",
   "metadata": {
    "slideshow": {
     "slide_type": "subslide"
    }
   },
   "source": [
    "**Example Prompt**\n",
    "\n",
    "Swimsuit Model::Socialist American Author of the Novel Oil!::Nobel Prize Winning Playwright::Cantankerous American Comedian \n",
    "\n",
    "**Example Answer**\n",
    "\n",
    "Kate-Upton-Sinclair-Lewis-Black"
   ]
  },
  {
   "cell_type": "markdown",
   "metadata": {
    "slideshow": {
     "slide_type": "subslide"
    }
   },
   "source": [
    "**10. Four famous people together produce five total words, each correct name is worth 2 Points**\n",
    "\n",
    "Prompt:\n",
    "\n",
    "    1. Front man of one of the best selling bands of the last 20 years\n",
    "    \n",
    "    2. Comedic actor who costarred in a major film franchise with Will Smith\n",
    "    \n",
    "    3. One of the NFL's greatest defensive players, regardless of his off field battle with drugs\n",
    "    \n",
    "    4. Millenial artist rerecording earlier albums due to high profile label dispute\n"
   ]
  },
  {
   "cell_type": "markdown",
   "metadata": {
    "slideshow": {
     "slide_type": "slide"
    }
   },
   "source": [
    "### Andre the Giant"
   ]
  },
  {
   "cell_type": "markdown",
   "metadata": {
    "slideshow": {
     "slide_type": "subslide"
    }
   },
   "source": [
    "**11. Andre the Giant was really big. If an alchemist had turned Andre the Giant into a solid gold statue, how much would the statue be worth in U.S. dollars? (gold prices as of mid February, 2021) (10 points for an answer within a million dollars, 6 points for an answer within 2 million dollars, 1 point for an answer within 3 million dollars)**"
   ]
  },
  {
   "cell_type": "markdown",
   "metadata": {
    "slideshow": {
     "slide_type": "slide"
    }
   },
   "source": [
    "### Genres"
   ]
  },
  {
   "cell_type": "markdown",
   "metadata": {
    "slideshow": {
     "slide_type": "subslide"
    }
   },
   "source": [
    "**14. Match the genre of house music to the description (1 Point Each)**\n",
    "\n",
    "    1. Dirty Dutch House\n",
    "    \n",
    "    2. Future Bass\n",
    "    \n",
    "    3. Trip Hop\n",
    "    \n",
    "    4. Acid House\n",
    "    \n",
    "    ----------------------------\n",
    "    \n",
    "    A. X is a subgenre of house music developed around the mid-1980s by DJs from Chicago. The style is defined primarily by the \"squelching\" sounds and deep basslines of the Roland TB-303 electronic bass synthesizer-sequencer,an innovation sometimes attributed to DJ Pierre of Phuture\n",
    "    \n",
    "    B. X is a musical genre that originated in the early 1990s in the United Kingdom, especially Bristol.It has been described as \"a fusion of hip hop and electronica until neither genre is recognizable\", and may incorporate a variety of styles, including funk, dub, soul, psychedelia, R&B, and house, as well as other forms of electronic music.\n",
    "    \n",
    "    C. X is a genre of electronic dance music that originated in the 2010s. It can be described as music that \"takes the ecstatic drops of dubstep or trap, but provides a warm bounce rather than a lumbering bruteness. Basslines are provided by harsh, detuned synths that buzz and purr instead of gulp and whomp.\" The genre was pioneered by producers such as Flume, Lido, San Holo and Cashmere Cat, and it was popularised in the mid-2010s by artists such as Louis the Child and Mura Masa\n",
    "    \n",
    "    D. X is a style of electro house that found prominence by 2009, mainly pioneered by Vato Gonzalez and DJ Chuckie. It is primarily defined by complex rhythms made from Latin-influenced drum kits, a lower emphasis on basslines and squeaky, high-pitched lead synths. Influences on the subgenre include Detroit techno, hip hop and other urban styles of music.\n",
    "    "
   ]
  },
  {
   "cell_type": "markdown",
   "metadata": {
    "slideshow": {
     "slide_type": "slide"
    }
   },
   "source": [
    "### Mathematics"
   ]
  },
  {
   "cell_type": "markdown",
   "metadata": {
    "slideshow": {
     "slide_type": "subslide"
    }
   },
   "source": [
    "**15. Identify the following mathematical formula from the right hand side of the equation, i.e. what does this equal (2 Points)**\n",
    "\n",
    "![](img/mathematics/midpoint.png)"
   ]
  },
  {
   "cell_type": "markdown",
   "metadata": {
    "slideshow": {
     "slide_type": "slide"
    }
   },
   "source": [
    "# BREAK (SCORING)"
   ]
  },
  {
   "cell_type": "markdown",
   "metadata": {
    "slideshow": {
     "slide_type": "slide"
    }
   },
   "source": [
    "### Anagrams"
   ]
  },
  {
   "cell_type": "markdown",
   "metadata": {
    "slideshow": {
     "slide_type": "subslide"
    }
   },
   "source": [
    "**16. Solve the following anagram (5 Points)**\n",
    "\n",
    "This was the headline of the New York Times on December 19th, 1998 (Two Words)\n",
    "\n",
    "    Word One: 7 Letters   \n",
    "    Word Two: 9 Letters\n",
    "\n",
    "    a c c d e e h i i l m n n o p t"
   ]
  },
  {
   "cell_type": "markdown",
   "metadata": {
    "slideshow": {
     "slide_type": "slide"
    }
   },
   "source": [
    "### Guess the Data on the Map"
   ]
  },
  {
   "cell_type": "markdown",
   "metadata": {
    "slideshow": {
     "slide_type": "subslide"
    }
   },
   "source": [
    "**17. Guess the data that map is showing (8 Points)**\n",
    "\n",
    "![](img/data_maps/college.png)"
   ]
  },
  {
   "cell_type": "markdown",
   "metadata": {
    "slideshow": {
     "slide_type": "slide"
    }
   },
   "source": [
    "### Logic Games"
   ]
  },
  {
   "cell_type": "markdown",
   "metadata": {
    "slideshow": {
     "slide_type": "subslide"
    }
   },
   "source": [
    "**18A. (2 Points)**\n",
    "\n",
    "A panel of music historians ranked eight contemporary songwriters Jackson, King, Lennon, Mitchell, Nicks, Prince, Simon, and Wonder according to their relative impact on the evolution of the popular song form. No other songwriters were considered, and there were no ties in the final ranking. The ranking of the songwriters met the following conditions:\n",
    "* Nicks was ranked higher than Lennon but lower than Simon.\n",
    "* Prince was ranked lower than both Mitchell and Jackson.\n",
    "* Wonder was ranked lower than Nicks.\n",
    "* Jackson was ranked higher than Simon.\n",
    "* Nicks was ranked higher than King.\n",
    "\n",
    "Which one of the following could represent the ranking of songwriters, listed from highest to lowest?\n",
    "    \n",
    "    (A) Jackson, Simon, King, Mitchell, Prince, Nicks, Lennon, Wonder\n",
    "    (B) Jackson, Simon, Prince, Nicks, Mitchell, Wonder, Lennon, King\n",
    "    (C) Mitchell, Simon, Jackson, Prince, Nicks, Lennon, Wonder, King\n",
    "    (D) Mitchell, Jackson, Simon, Nicks, King, Wonder, Lennon, Prince\n",
    "    (E) Mitchell, Jackson, Prince, Simon, Lennon, Wonder, Nicks, King"
   ]
  },
  {
   "cell_type": "markdown",
   "metadata": {
    "slideshow": {
     "slide_type": "subslide"
    }
   },
   "source": [
    "**18B. (2 Points)**\n",
    "\n",
    "A panel of music historians ranked eight contemporary songwriters Jackson, King, Lennon, Mitchell, Nicks, Prince, Simon, and Wonder according to their relative impact on the evolution of the popular song form. No other songwriters were considered, and there were no ties in the final ranking. The ranking of the songwriters met the following conditions:\n",
    "* Nicks was ranked higher than Lennon but lower than Simon.\n",
    "* Prince was ranked lower than both Mitchell and Jackson.\n",
    "* Wonder was ranked lower than Nicks.\n",
    "* Jackson was ranked higher than Simon.\n",
    "* Nicks was ranked higher than King.\n",
    "\n",
    "Each of the following could be true EXCEPT:\n",
    "\n",
    "    (A) Wonder was ranked higher than King.\n",
    "    (B) Lennon was ranked higher than King.\n",
    "    (C) Mitchell was ranked lower than Lennon.\n",
    "    (D) Prince was ranked lower than Simon.\n",
    "    (E) King was ranked higher than Simon.\n",
    "\n"
   ]
  },
  {
   "cell_type": "markdown",
   "metadata": {
    "slideshow": {
     "slide_type": "subslide"
    }
   },
   "source": [
    "**18C. (2 Points)**\n",
    "\n",
    "A panel of music historians ranked eight contemporary songwriters Jackson, King, Lennon, Mitchell, Nicks, Prince, Simon, and Wonder according to their relative impact on the evolution of the popular song form. No other songwriters were considered, and there were no ties in the final ranking. The ranking of the songwriters met the following conditions:\n",
    "* Nicks was ranked higher than Lennon but lower than Simon.\n",
    "* Prince was ranked lower than both Mitchell and Jackson.\n",
    "* Wonder was ranked lower than Nicks.\n",
    "* Jackson was ranked higher than Simon.\n",
    "* Nicks was ranked higher than King.\n",
    "\n",
    "If Simon was ranked fourth, which one of the following must be true?\n",
    "\n",
    "    (A) Prince was ranked third.\n",
    "    (B) Jackson was ranked first.\n",
    "    (C) Wonder was ranked sixth.\n",
    "    (D) Nicks was ranked sixth.\n",
    "    (E) Lennon was ranked last.\n"
   ]
  },
  {
   "cell_type": "markdown",
   "metadata": {
    "slideshow": {
     "slide_type": "slide"
    }
   },
   "source": [
    "### Birds' Eye View"
   ]
  },
  {
   "cell_type": "markdown",
   "metadata": {
    "slideshow": {
     "slide_type": "subslide"
    }
   },
   "source": [
    "**19. Identify the Location of the Satelitte Image (5 Points)**\n",
    "\n",
    "![](img/birdseye/ground_zero.png)"
   ]
  },
  {
   "cell_type": "markdown",
   "metadata": {
    "slideshow": {
     "slide_type": "slide"
    }
   },
   "source": [
    "### Visual Puns"
   ]
  },
  {
   "cell_type": "markdown",
   "metadata": {
    "slideshow": {
     "slide_type": "subslide"
    }
   },
   "source": [
    "**20. (4 Points for Theme, 1 Point for guessing each image correctly)**\n",
    "\n",
    "![](img/visual_puns/card_games.png)"
   ]
  }
 ],
 "metadata": {
  "celltoolbar": "Slideshow",
  "kernelspec": {
   "display_name": "Python 3",
   "language": "python",
   "name": "python3"
  },
  "language_info": {
   "codemirror_mode": {
    "name": "ipython",
    "version": 3
   },
   "file_extension": ".py",
   "mimetype": "text/x-python",
   "name": "python",
   "nbconvert_exporter": "python",
   "pygments_lexer": "ipython3",
   "version": "3.7.3"
  }
 },
 "nbformat": 4,
 "nbformat_minor": 2
}
