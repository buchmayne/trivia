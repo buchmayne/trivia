{
 "cells": [
  {
   "cell_type": "markdown",
   "metadata": {
    "slideshow": {
     "slide_type": "slide"
    }
   },
   "source": [
    "# Trivia August, 2022\n",
    "\n",
    "By Marley Buchman"
   ]
  },
  {
   "cell_type": "markdown",
   "metadata": {
    "slideshow": {
     "slide_type": "slide"
    }
   },
   "source": [
    "### 18 Questions, 110 Points"
   ]
  },
  {
   "cell_type": "markdown",
   "metadata": {
    "slideshow": {
     "slide_type": "slide"
    }
   },
   "source": [
    "### Government Systems"
   ]
  },
  {
   "cell_type": "markdown",
   "metadata": {
    "slideshow": {
     "slide_type": "subslide"
    }
   },
   "source": [
    "**1. For each of the following nations, what is the name for the position of head of government (e.g. President in the USA) (1 Point Each)**\n",
    "\n",
    "    A. France\n",
    "    \n",
    "    B. China\n",
    "    \n",
    "    C. Japan\n",
    "    \n",
    "    D. Germany"
   ]
  },
  {
   "cell_type": "markdown",
   "metadata": {
    "slideshow": {
     "slide_type": "slide"
    }
   },
   "source": [
    "### U.S. Interstate System"
   ]
  },
  {
   "cell_type": "markdown",
   "metadata": {
    "slideshow": {
     "slide_type": "subslide"
    }
   },
   "source": [
    "**2. (1 Point Each)**\n",
    "\n",
    "    A. Does interstate 10 go through Los Angeles, CA?\n",
    "    \n",
    "    B. Does interstate 35 go through Chicago, IL?\n",
    "    \n",
    "    C. Does interstate 10 go through Jacksonville, FL?\n",
    "    \n",
    "    D. Does interstate 80 go through Philadelphia, PA?"
   ]
  },
  {
   "cell_type": "markdown",
   "metadata": {
    "slideshow": {
     "slide_type": "slide"
    }
   },
   "source": [
    "### Airports"
   ]
  },
  {
   "cell_type": "markdown",
   "metadata": {
    "slideshow": {
     "slide_type": "subslide"
    }
   },
   "source": [
    "**3. Order the following U.S. airports by annual numbers of passengers boarded (1 Point Each)**\n",
    "\n",
    "    A. Denver International Airport (DEN)\n",
    "    \n",
    "    B. Los Angeles International Airport (LAX)\n",
    "    \n",
    "    C. Hartsfield-Jackson Atlanta International Airport (ATL)\n",
    "    \n",
    "    D. Dallas Love Field (DAL)"
   ]
  },
  {
   "cell_type": "markdown",
   "metadata": {
    "slideshow": {
     "slide_type": "slide"
    }
   },
   "source": [
    "### NCAA Men's Basketball"
   ]
  },
  {
   "cell_type": "markdown",
   "metadata": {
    "slideshow": {
     "slide_type": "subslide"
    }
   },
   "source": [
    "**4. For each of the following seeds, order them by number of final four appearances, from most to least (1 Point Each)**\n",
    "\n",
    "    A. 11th seed\n",
    "    \n",
    "    B. 3rd seed\n",
    "    \n",
    "    C. 5th seed\n",
    "    \n",
    "    D. 6th seed"
   ]
  },
  {
   "cell_type": "markdown",
   "metadata": {
    "slideshow": {
     "slide_type": "slide"
    }
   },
   "source": [
    "### Existence"
   ]
  },
  {
   "cell_type": "markdown",
   "metadata": {
    "slideshow": {
     "slide_type": "subslide"
    }
   },
   "source": [
    "**5. For each of the following celebrities, are they still alive? (1 Point Each)**\n",
    "\n",
    "    A. Mother Teresa\n",
    "    \n",
    "    B. Gene Hackman\n",
    "    \n",
    "    C. Eddie Van Halen\n",
    "    \n",
    "    D. Regis Philbin\n",
    "    \n",
    "    E. Harvey Weinstein"
   ]
  },
  {
   "cell_type": "markdown",
   "metadata": {
    "slideshow": {
     "slide_type": "slide"
    }
   },
   "source": [
    "### U.S. Presidents"
   ]
  },
  {
   "cell_type": "markdown",
   "metadata": {
    "slideshow": {
     "slide_type": "subslide"
    }
   },
   "source": [
    "**6. Order the following U.S. presidents, from tallest to shortest (1 Point Each)**\n",
    "\n",
    "    A. Obama\n",
    "    \n",
    "    B. Trump\n",
    "    \n",
    "    C. Biden\n",
    "    \n",
    "    D. Thomas Jefferson"
   ]
  },
  {
   "cell_type": "markdown",
   "metadata": {
    "slideshow": {
     "slide_type": "slide"
    }
   },
   "source": [
    "### Pokemon"
   ]
  },
  {
   "cell_type": "markdown",
   "metadata": {
    "slideshow": {
     "slide_type": "subslide"
    }
   },
   "source": [
    "**7A. Name the Pokemon in each of the following images (2 Points Each)**\n",
    "\n",
    "<img src=\"img/geodude.png\" width=\"500\">"
   ]
  },
  {
   "cell_type": "markdown",
   "metadata": {
    "slideshow": {
     "slide_type": "subslide"
    }
   },
   "source": [
    "**7B. Name the Pokemon in each of the following images (2 Points Each)**\n",
    "\n",
    "<img src=\"img/jynx.png\" width=\"500\">"
   ]
  },
  {
   "cell_type": "markdown",
   "metadata": {
    "slideshow": {
     "slide_type": "subslide"
    }
   },
   "source": [
    "**7C. Name the Pokemon in each of the following images (2 Points Each)**\n",
    "\n",
    "<img src=\"img/gyarados.png\" width=\"500\">"
   ]
  },
  {
   "cell_type": "markdown",
   "metadata": {
    "slideshow": {
     "slide_type": "slide"
    }
   },
   "source": [
    "### Popular Music"
   ]
  },
  {
   "cell_type": "markdown",
   "metadata": {
    "slideshow": {
     "slide_type": "subslide"
    }
   },
   "source": [
    "**8. Rank the following artists by total number of Spotify streams (1 Point Each)**\n",
    "\n",
    "    A. Drake\n",
    "    \n",
    "    B. Taylor Swift\n",
    "    \n",
    "    C. Billie Eilish\n",
    "    \n",
    "    D. The Weekend"
   ]
  },
  {
   "cell_type": "markdown",
   "metadata": {
    "slideshow": {
     "slide_type": "slide"
    }
   },
   "source": [
    "### Domestic Migration"
   ]
  },
  {
   "cell_type": "markdown",
   "metadata": {
    "slideshow": {
     "slide_type": "subslide"
    }
   },
   "source": [
    "**9. Order the following states, by 2021 net domestic migration per capita (net domestic migration / population) (1 Point Each)**\n",
    "\n",
    "    A. Idaho\n",
    "    \n",
    "    B. Florida\n",
    "    \n",
    "    C. Texas\n",
    "    \n",
    "    D. Nevada"
   ]
  },
  {
   "cell_type": "markdown",
   "metadata": {
    "slideshow": {
     "slide_type": "slide"
    }
   },
   "source": [
    "### International Timezones"
   ]
  },
  {
   "cell_type": "markdown",
   "metadata": {
    "slideshow": {
     "slide_type": "subslide"
    }
   },
   "source": [
    "**10. Are the following pairs of countries in the same timezone? (1 Point Each)**\n",
    "\n",
    "    A. Norway and Finland\n",
    "    \n",
    "    B. Sweden and Spain\n",
    "    \n",
    "    C. Argentina and Chile\n",
    "    \n",
    "    D. South Korea and China"
   ]
  },
  {
   "cell_type": "markdown",
   "metadata": {
    "slideshow": {
     "slide_type": "slide"
    }
   },
   "source": [
    "### Identify the Data from the Map"
   ]
  },
  {
   "cell_type": "markdown",
   "metadata": {
    "slideshow": {
     "slide_type": "subslide"
    }
   },
   "source": [
    "**11. Identify the data used to create the map. (5 Points)**\n",
    "\n",
    "<img src=\"img/data_map.png\" width=\"500\">"
   ]
  },
  {
   "cell_type": "markdown",
   "metadata": {
    "slideshow": {
     "slide_type": "slide"
    }
   },
   "source": [
    "### Online Slang"
   ]
  },
  {
   "cell_type": "markdown",
   "metadata": {
    "slideshow": {
     "slide_type": "subslide"
    }
   },
   "source": [
    "**12A. Match the Urban Dictionary definition to the term (1 Point Each)**\n",
    "\n",
    "    Terms: Munch, Wook, Rotator, Weeb\n",
    "    \n",
    "Half-cocked former middle-class dude who was a stoner in high school, discovered shrooms at a camping festival in college and has since decided to live as a nearly homeless walking tarot card."
   ]
  },
  {
   "cell_type": "markdown",
   "metadata": {
    "slideshow": {
     "slide_type": "subslide"
    }
   },
   "source": [
    "**12B. Match the Urban Dictionary definition to the term (1 Point Each)**\n",
    "\n",
    "    Terms: Munch, Wook, Rotator, Weeb\n",
    "    \n",
    "someone with strong math skills"
   ]
  },
  {
   "cell_type": "markdown",
   "metadata": {
    "slideshow": {
     "slide_type": "subslide"
    }
   },
   "source": [
    "**12C. Match the Urban Dictionary definition to the term (1 Point Each)**\n",
    "\n",
    "    Terms: Munch, Wook, Rotator, Weeb\n",
    "    \n",
    "A low-pressure, social gathering at a restaurant or pub for people into BDSM. Particularly intended for people new to the scene who might be intimidated by a play party"
   ]
  },
  {
   "cell_type": "markdown",
   "metadata": {
    "slideshow": {
     "slide_type": "subslide"
    }
   },
   "source": [
    "**12D. Match the Urban Dictionary definition to the term (1 Point Each)**\n",
    "\n",
    "    Terms: Munch, Wook, Rotator, Weeb\n",
    "    \n",
    "A person who is obsessed with anime, figures, and manga."
   ]
  },
  {
   "cell_type": "markdown",
   "metadata": {
    "slideshow": {
     "slide_type": "slide"
    }
   },
   "source": [
    "### Bird's Eye View"
   ]
  },
  {
   "cell_type": "markdown",
   "metadata": {
    "slideshow": {
     "slide_type": "subslide"
    }
   },
   "source": [
    "**13. Identify the famous international place from the satelitte photo (5 Points)**\n",
    "\n",
    "<img src=\"img/mecca.png\" width=\"500\">"
   ]
  },
  {
   "cell_type": "markdown",
   "metadata": {
    "slideshow": {
     "slide_type": "slide"
    }
   },
   "source": [
    "### A.I. Art History"
   ]
  },
  {
   "cell_type": "markdown",
   "metadata": {
    "slideshow": {
     "slide_type": "subslide"
    }
   },
   "source": [
    "**14. Each of the following images was created by an AI. The prompt used to create the images was the same, except for each time a different artist was specified. The prompt begins with Artist painting of.... For each of the following images, identify the artist the A.I. created the image in the style of (2 Points Each). For an additional 2 points, guess the prompt that was used to create all of the images**"
   ]
  },
  {
   "cell_type": "markdown",
   "metadata": {
    "slideshow": {
     "slide_type": "subslide"
    }
   },
   "source": [
    "**14. A**\n",
    "\n",
    "<img src=\"img/salvadordali.png\" width=\"500\">"
   ]
  },
  {
   "cell_type": "markdown",
   "metadata": {
    "slideshow": {
     "slide_type": "subslide"
    }
   },
   "source": [
    "**14. B**\n",
    "\n",
    "<img src=\"img/pollock.png\" width=\"500\">"
   ]
  },
  {
   "cell_type": "markdown",
   "metadata": {
    "slideshow": {
     "slide_type": "subslide"
    }
   },
   "source": [
    "**14. C**\n",
    "\n",
    "<img src=\"img/friedrich.png\" width=\"500\">"
   ]
  },
  {
   "cell_type": "markdown",
   "metadata": {
    "slideshow": {
     "slide_type": "subslide"
    }
   },
   "source": [
    "**14. D**\n",
    "\n",
    "<img src=\"img/haring.png\" width=\"500\">"
   ]
  },
  {
   "cell_type": "markdown",
   "metadata": {
    "slideshow": {
     "slide_type": "subslide"
    }
   },
   "source": [
    "**14. E**\n",
    "\n",
    "<img src=\"img/vangogh.png\" width=\"500\">"
   ]
  },
  {
   "cell_type": "markdown",
   "metadata": {
    "slideshow": {
     "slide_type": "slide"
    }
   },
   "source": [
    "### Movies"
   ]
  },
  {
   "cell_type": "markdown",
   "metadata": {
    "slideshow": {
     "slide_type": "subslide"
    }
   },
   "source": [
    "**15A. For each of the following film franchises, rank the movies from highest to lowest based on the RottenTomatoes tomato meter (critics) (1 Point Each)**\n",
    "\n",
    "    A. Lord of the Rings: The Fellowship of the Ring\n",
    "    \n",
    "    B. Lord of the Rings: The Two Towers\n",
    "    \n",
    "    C. Lord of the Rings: The Return of the King"
   ]
  },
  {
   "cell_type": "markdown",
   "metadata": {
    "slideshow": {
     "slide_type": "subslide"
    }
   },
   "source": [
    "**15B. For each of the following film franchises, rank the movies from highest to lowest based on the RottenTomatoes tomato meter (critics) (1 Point Each)**\n",
    "\n",
    "    A. Fast and Furious 6\n",
    "    \n",
    "    B. The Fast and the Furious (1st Movie)\n",
    "    \n",
    "    C. Furious 7\n",
    "    \n",
    "    D. F9 the Fast Saga"
   ]
  },
  {
   "cell_type": "markdown",
   "metadata": {
    "slideshow": {
     "slide_type": "slide"
    }
   },
   "source": [
    "### Visual Puns"
   ]
  },
  {
   "cell_type": "markdown",
   "metadata": {
    "slideshow": {
     "slide_type": "subslide"
    }
   },
   "source": [
    "**16. The following four image collage is a visual pun. Guess what each image represents for 3 Points, and then what the category is that connects them for an additional 3 Points** \n",
    "\n",
    "<img src=\"img/tvshows.png\" width=\"500\">"
   ]
  },
  {
   "cell_type": "markdown",
   "metadata": {
    "slideshow": {
     "slide_type": "slide"
    }
   },
   "source": [
    "### Rock Music"
   ]
  },
  {
   "cell_type": "markdown",
   "metadata": {
    "slideshow": {
     "slide_type": "subslide"
    }
   },
   "source": [
    "**17. For each of the following songs, match the song to the subgenre of rock music (1 Point Each). Name the artist of the song for an additional (2 Points)**\n",
    "\n",
    "Genres: Shoegaze, Post-Grunge, Grunge, Yacht Rock, Psychedelic Rock\n",
    "\n",
    "    Song 1:\n",
    "    \n",
    "    Song 2:\n",
    "    \n",
    "    Song 3:\n",
    "    \n",
    "    Song 4:\n",
    "    \n",
    "    Song 5:"
   ]
  },
  {
   "cell_type": "markdown",
   "metadata": {
    "slideshow": {
     "slide_type": "slide"
    }
   },
   "source": [
    "### House Music"
   ]
  },
  {
   "cell_type": "markdown",
   "metadata": {
    "slideshow": {
     "slide_type": "subslide"
    }
   },
   "source": [
    "**18. For each of the following songs, match the song to the subgenre of house music (1 Point Each)**\n",
    "\n",
    "Genres: Deep House, Tech House, Acid House, Tropical House\n",
    "\n",
    "    Song 1:\n",
    "    \n",
    "    Song 2:\n",
    "    \n",
    "    Song 3:\n",
    "    \n",
    "    Song 4:"
   ]
  }
 ],
 "metadata": {
  "celltoolbar": "Slideshow",
  "kernelspec": {
   "display_name": "Python 3 (ipykernel)",
   "language": "python",
   "name": "python3"
  },
  "language_info": {
   "codemirror_mode": {
    "name": "ipython",
    "version": 3
   },
   "file_extension": ".py",
   "mimetype": "text/x-python",
   "name": "python",
   "nbconvert_exporter": "python",
   "pygments_lexer": "ipython3",
   "version": "3.7.3"
  }
 },
 "nbformat": 4,
 "nbformat_minor": 5
}
