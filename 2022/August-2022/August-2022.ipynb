{
 "cells": [
  {
   "cell_type": "markdown",
   "metadata": {
    "slideshow": {
     "slide_type": "slide"
    }
   },
   "source": [
    "# Trivia August, 2022\n",
    "\n",
    "By Marley Buchman"
   ]
  },
  {
   "cell_type": "markdown",
   "metadata": {
    "slideshow": {
     "slide_type": "slide"
    }
   },
   "source": [
    "### 20 Questions, 100 Points"
   ]
  },
  {
   "cell_type": "markdown",
   "metadata": {
    "slideshow": {
     "slide_type": "slide"
    }
   },
   "source": [
    "### Government Systems"
   ]
  },
  {
   "cell_type": "markdown",
   "metadata": {
    "slideshow": {
     "slide_type": "subslide"
    }
   },
   "source": [
    "**1. For each of the following nations, what is the name for the position of head of government (e.g. President in the USA) (1 Point Each)**\n",
    "\n",
    "    A. France\n",
    "    \n",
    "    B. China\n",
    "    \n",
    "    C. Japan\n",
    "    \n",
    "    D. Germany"
   ]
  },
  {
   "cell_type": "markdown",
   "metadata": {
    "slideshow": {
     "slide_type": "slide"
    }
   },
   "source": [
    "### U.S. Interstate System"
   ]
  },
  {
   "cell_type": "markdown",
   "metadata": {
    "slideshow": {
     "slide_type": "subslide"
    }
   },
   "source": [
    "**2. (1 Point Each)**\n",
    "\n",
    "    A. Does interstate 10 go through Los Angeles, CA?\n",
    "    \n",
    "    B. Does interstate 35 go through Chicago, IL?\n",
    "    \n",
    "    C. Does interstate 10 go through Jacksonville, FL?\n",
    "    \n",
    "    D. Does interstate 80 go through Philadelphia, PA?"
   ]
  },
  {
   "cell_type": "markdown",
   "metadata": {
    "slideshow": {
     "slide_type": "slide"
    }
   },
   "source": [
    "### Airports"
   ]
  },
  {
   "cell_type": "markdown",
   "metadata": {
    "slideshow": {
     "slide_type": "subslide"
    }
   },
   "source": [
    "**3. Order the following U.S. airports by annual numbers of passengers boarded (1 Point Each)**\n",
    "\n",
    "    A. Denver International Airport (DEN)\n",
    "    \n",
    "    B. Los Angeles International Airport (LAX)\n",
    "    \n",
    "    C. Hartsfield-Jackson Atlanta International Airport (ATL)\n",
    "    \n",
    "    D. Dallas Love Field (DAL)"
   ]
  },
  {
   "cell_type": "markdown",
   "metadata": {
    "slideshow": {
     "slide_type": "slide"
    }
   },
   "source": [
    "### NCAA Men's Basketball"
   ]
  },
  {
   "cell_type": "markdown",
   "metadata": {
    "slideshow": {
     "slide_type": "subslide"
    }
   },
   "source": [
    "**4. For each of the following seeds, order them by number of final four appearances, from most to least (1 Point Each)**\n",
    "\n",
    "    A. 11th seed\n",
    "    \n",
    "    B. 3rd seed\n",
    "    \n",
    "    C. 5th seed\n",
    "    \n",
    "    D. 6th seed"
   ]
  },
  {
   "cell_type": "markdown",
   "metadata": {
    "slideshow": {
     "slide_type": "slide"
    }
   },
   "source": [
    "### Existence"
   ]
  },
  {
   "cell_type": "markdown",
   "metadata": {
    "slideshow": {
     "slide_type": "subslide"
    }
   },
   "source": [
    "**5. For each of the following celebrities, are they still alive? (1 Point Each)**\n",
    "\n",
    "    A. Mother Teresa\n",
    "    \n",
    "    B. Gene Hackman\n",
    "    \n",
    "    C. Eddie Van Halen\n",
    "    \n",
    "    D. Regis Philbin\n",
    "    \n",
    "    E. Harvey Weinstein"
   ]
  },
  {
   "cell_type": "markdown",
   "metadata": {
    "slideshow": {
     "slide_type": "slide"
    }
   },
   "source": [
    "### U.S. Presidents"
   ]
  },
  {
   "cell_type": "markdown",
   "metadata": {
    "slideshow": {
     "slide_type": "subslide"
    }
   },
   "source": [
    "**6. Order the following U.S. presidents, from tallest to shortest (1 Point Each)**\n",
    "\n",
    "    A. Obama\n",
    "    \n",
    "    B. Trump\n",
    "    \n",
    "    C. Biden\n",
    "    \n",
    "    D. Thomas Jefferson"
   ]
  },
  {
   "cell_type": "markdown",
   "metadata": {
    "slideshow": {
     "slide_type": "slide"
    }
   },
   "source": [
    "### Pokemon"
   ]
  },
  {
   "cell_type": "markdown",
   "metadata": {
    "slideshow": {
     "slide_type": "subslide"
    }
   },
   "source": [
    "**7A. Name the Pokemon in each of the following images (2 Points Each)**\n",
    "\n",
    "<img src=\"img/geodude.png\" width=\"500\">"
   ]
  },
  {
   "cell_type": "markdown",
   "metadata": {
    "slideshow": {
     "slide_type": "subslide"
    }
   },
   "source": [
    "**7B. Name the Pokemon in each of the following images (2 Points Each)**\n",
    "\n",
    "<img src=\"img/jynx.png\" width=\"500\">"
   ]
  },
  {
   "cell_type": "markdown",
   "metadata": {
    "slideshow": {
     "slide_type": "subslide"
    }
   },
   "source": [
    "**7C. Name the Pokemon in each of the following images (2 Points Each)**\n",
    "\n",
    "<img src=\"img/gyarados.png\" width=\"500\">"
   ]
  },
  {
   "cell_type": "markdown",
   "metadata": {
    "slideshow": {
     "slide_type": "subslide"
    }
   },
   "source": []
  },
  {
   "cell_type": "markdown",
   "metadata": {
    "slideshow": {
     "slide_type": "slide"
    }
   },
   "source": [
    "### Identify the Data from the Map"
   ]
  },
  {
   "cell_type": "markdown",
   "metadata": {
    "slideshow": {
     "slide_type": "subslide"
    }
   },
   "source": [
    "**?. Identify the data used to create the map. (5 Points)**\n",
    "\n",
    "<img src=\"img/data_map.png\" width=\"500\">"
   ]
  },
  {
   "cell_type": "markdown",
   "metadata": {},
   "source": []
  },
  {
   "cell_type": "markdown",
   "metadata": {},
   "source": []
  },
  {
   "cell_type": "markdown",
   "metadata": {},
   "source": []
  },
  {
   "cell_type": "markdown",
   "metadata": {},
   "source": []
  },
  {
   "cell_type": "markdown",
   "metadata": {},
   "source": []
  }
 ],
 "metadata": {
  "celltoolbar": "Slideshow",
  "kernelspec": {
   "display_name": "Python 3 (ipykernel)",
   "language": "python",
   "name": "python3"
  },
  "language_info": {
   "codemirror_mode": {
    "name": "ipython",
    "version": 3
   },
   "file_extension": ".py",
   "mimetype": "text/x-python",
   "name": "python",
   "nbconvert_exporter": "python",
   "pygments_lexer": "ipython3",
   "version": "3.7.3"
  }
 },
 "nbformat": 4,
 "nbformat_minor": 5
}
