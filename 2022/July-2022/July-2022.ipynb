{
 "cells": [
  {
   "cell_type": "markdown",
   "metadata": {
    "slideshow": {
     "slide_type": "slide"
    }
   },
   "source": [
    "# July Trivia 2022\n",
    "\n",
    "by Marley Buchman"
   ]
  },
  {
   "cell_type": "markdown",
   "metadata": {
    "slideshow": {
     "slide_type": "slide"
    }
   },
   "source": [
    "**18 Questions, 127 Points**"
   ]
  },
  {
   "cell_type": "markdown",
   "metadata": {
    "slideshow": {
     "slide_type": "slide"
    }
   },
   "source": [
    "### Twin Movies"
   ]
  },
  {
   "cell_type": "markdown",
   "metadata": {
    "slideshow": {
     "slide_type": "subslide"
    }
   },
   "source": [
    "**1A. Match the synopsis of the movie to the title (1 Point Each)**\n",
    "\n",
    "    Lifelong friends Emma and Adam take their relationship to the next level by having sex. Afraid of ruining their friendship, the new lovers make a pact to keep things purely physical, with no fighting, no jealousy and no expectations. Emma and Adam pledge to do whatever they want, wherever they want, as long as they do not fall in love. The question then becomes: Who will fall first?\n",
    "    \n",
    "<img src=\"img/no_strings_attached.png\" width=\"500\">"
   ]
  },
  {
   "cell_type": "markdown",
   "metadata": {
    "slideshow": {
     "slide_type": "subslide"
    }
   },
   "source": [
    "**1B. Match the synopsis of the movie to the title (1 Point Each)**\n",
    "\n",
    "    The unthinkable happens when heavily armed and highly trained terrorists launch a bold daytime attack on the White House. The building is overrun, and President Benjamin Asher and his staff are taken hostage. Luckily for Asher, former presidential security officer Mike Banning is on the scene. With time running out, it's up to Banning to locate Asher's son before the extremists do and rescue the president before his captors unleash their ultimate plan.\n",
    "    \n",
    "<img src=\"img/olympus_has_fallen.png\" width=\"500\">\n"
   ]
  },
  {
   "cell_type": "markdown",
   "metadata": {
    "slideshow": {
     "slide_type": "subslide"
    }
   },
   "source": [
    "**1C. Match the synopsis of the movie to the title (1 Point Each)**\n",
    "\n",
    "    In the wake of her grandmother's funeral, hotel manager Lisa Reisert is waiting to fly back home when she meets charming Jackson Rippner at check-in. She thinks it luck that they're seated together on the plane, but soon learns otherwise. Jackson hopes to assassinate the head of Homeland Security, but to do so, he needs Lisa to reassign the official's room number at her hotel. As insurance, Jackson has kidnapped Lisa's father.\n",
    "    \n",
    "<img src=\"img/red_eye.png\" width=\"500\">"
   ]
  },
  {
   "cell_type": "markdown",
   "metadata": {
    "slideshow": {
     "slide_type": "slide"
    }
   },
   "source": [
    "### Public Sector Salaries"
   ]
  },
  {
   "cell_type": "markdown",
   "metadata": {
    "slideshow": {
     "slide_type": "subslide"
    }
   },
   "source": [
    "**2. Who makes more: teachers or cops? In each state, did teachers or police have higher median earnings in 2020? (1 Point Each)**\n",
    "\n",
    "    A. Washington\n",
    "    \n",
    "    B. Mississippi\n",
    "    \n",
    "    C. Arizona\n",
    "    \n",
    "    D. Texas"
   ]
  },
  {
   "cell_type": "markdown",
   "metadata": {
    "slideshow": {
     "slide_type": "slide"
    }
   },
   "source": [
    "### U.S. Counties"
   ]
  },
  {
   "cell_type": "markdown",
   "metadata": {
    "slideshow": {
     "slide_type": "subslide"
    }
   },
   "source": [
    "**3. There are 116 counties in the U.S. that have a larger population than the state of Wyoming. Identify whether the following states have a county with a population greater than the state of Wyoming (1 Point Each)**\n",
    "\n",
    "    A. Iowa\n",
    "    \n",
    "    B. Oregon\n",
    "    \n",
    "    C. Louisiana\n",
    "    \n",
    "    D. Alabama"
   ]
  },
  {
   "cell_type": "markdown",
   "metadata": {
    "slideshow": {
     "slide_type": "slide"
    }
   },
   "source": [
    "### Countries"
   ]
  },
  {
   "cell_type": "markdown",
   "metadata": {
    "slideshow": {
     "slide_type": "subslide"
    }
   },
   "source": [
    "**4. Name 3 countries, in the Top Ten of Countries, with 2 Largest Cities Furthest Apart (1 Point Each)**"
   ]
  },
  {
   "cell_type": "markdown",
   "metadata": {
    "slideshow": {
     "slide_type": "slide"
    }
   },
   "source": [
    "### Hip-Hop Artists"
   ]
  },
  {
   "cell_type": "markdown",
   "metadata": {
    "slideshow": {
     "slide_type": "subslide"
    }
   },
   "source": [
    "**5. Order the following Hip-Hop artists from oldest to youngest (1 Point Each)**\n",
    "\n",
    "    A. J Cole\n",
    "    \n",
    "    B. Kendrick Lamar\n",
    "    \n",
    "    C. Gucci Mane\n",
    "    \n",
    "    D. Nicki Minaj"
   ]
  },
  {
   "cell_type": "markdown",
   "metadata": {
    "slideshow": {
     "slide_type": "slide"
    }
   },
   "source": [
    "### Age"
   ]
  },
  {
   "cell_type": "markdown",
   "metadata": {
    "slideshow": {
     "slide_type": "subslide"
    }
   },
   "source": [
    "**6. A Septuagenarian is a person in their 70s, identify the related term for people of the following ages (1 Point Each)**\n",
    "\n",
    "    A. 30s\n",
    "    \n",
    "    B. 60s\n",
    "    \n",
    "    C. 40s\n",
    "    \n",
    "    D. 20s"
   ]
  },
  {
   "cell_type": "markdown",
   "metadata": {
    "slideshow": {
     "slide_type": "slide"
    }
   },
   "source": [
    "### Islam"
   ]
  },
  {
   "cell_type": "markdown",
   "metadata": {
    "slideshow": {
     "slide_type": "subslide"
    }
   },
   "source": [
    "**7. For the following Muslim people, identify whether they're a Sunni or Shia Muslim (1 Point Each)**\n",
    "\n",
    "    A. Bashar al-Assad (President of Syria)\n",
    "    \n",
    "    B. Ali Khamenei (Supreme Leader of Iran)\n",
    "    \n",
    "    C. Saddam Hussein\n",
    "    \n",
    "    D. Osama Bin Laden"
   ]
  },
  {
   "cell_type": "markdown",
   "metadata": {
    "slideshow": {
     "slide_type": "slide"
    }
   },
   "source": [
    "### The Marvel Cinematic Universe"
   ]
  },
  {
   "cell_type": "markdown",
   "metadata": {
    "slideshow": {
     "slide_type": "subslide"
    }
   },
   "source": [
    "**8. Have the following actors appeared in a Marvel Cinematic Universe (MCU) film? (1 Point Each)**\n",
    "\n",
    "    A. Matt Damon\n",
    "    \n",
    "    B. Michael Douglas\n",
    "    \n",
    "    C. Sylvester Stallone\n",
    "    \n",
    "    D. Vin Diesel"
   ]
  },
  {
   "cell_type": "markdown",
   "metadata": {
    "slideshow": {
     "slide_type": "slide"
    }
   },
   "source": [
    "### College"
   ]
  },
  {
   "cell_type": "markdown",
   "metadata": {
    "slideshow": {
     "slide_type": "subslide"
    }
   },
   "source": [
    "**9. For the following celebrities, name the university they graduated from and what their degree was in? (2 Points Each)**\n",
    "\n",
    "    A. Michael Jordan\n",
    "    \n",
    "    B. Natalie Portman\n",
    "    \n",
    "    C. Aziz Ansari\n",
    "    \n",
    "    D. Will Ferrell"
   ]
  },
  {
   "cell_type": "markdown",
   "metadata": {
    "slideshow": {
     "slide_type": "slide"
    }
   },
   "source": [
    "### Units"
   ]
  },
  {
   "cell_type": "markdown",
   "metadata": {
    "slideshow": {
     "slide_type": "subslide"
    }
   },
   "source": [
    "**10. For the following measurements, convert them into more commonly used units (1 Point Each)**\n",
    "\n",
    "    A. 29 degrees celsius is _ degrees fahrenheit?\n",
    "    \n",
    "    B. 4.8 kilometers is _ miles?\n",
    "    \n",
    "    C. 117 kilograms is _ pounds?"
   ]
  },
  {
   "cell_type": "markdown",
   "metadata": {
    "slideshow": {
     "slide_type": "slide"
    }
   },
   "source": [
    "### Population"
   ]
  },
  {
   "cell_type": "markdown",
   "metadata": {
    "slideshow": {
     "slide_type": "subslide"
    }
   },
   "source": [
    "**11. For each of the following countries you will be given the current population, what was the population in the given year? (2 Points Each)**\n",
    "\n",
    "    A. USA 2020 331 Million, what was the population in 1920?\n",
    "    \n",
    "    B. Japan 2020 126 Million, what was the population in 1990?\n",
    "    \n",
    "    C. Russia 2020 146 Million, what was the population in 1989? "
   ]
  },
  {
   "cell_type": "markdown",
   "metadata": {
    "slideshow": {
     "slide_type": "slide"
    }
   },
   "source": [
    "### Travel"
   ]
  },
  {
   "cell_type": "markdown",
   "metadata": {
    "slideshow": {
     "slide_type": "subslide"
    }
   },
   "source": [
    "**12A. What percent of American's have ever travelled to a country outside of the United States? (1 Point)**\n",
    "\n",
    "    A. 18%\n",
    "    \n",
    "    B. 44%\n",
    "    \n",
    "    C. 71%\n",
    "    \n",
    "    D. 30%"
   ]
  },
  {
   "cell_type": "markdown",
   "metadata": {
    "slideshow": {
     "slide_type": "subslide"
    }
   },
   "source": [
    "**12B. What percent of Europeans have ever travelled to a country outside of the European Union? (1 Point)**\n",
    "\n",
    "    A. 18%\n",
    "    \n",
    "    B. 44%\n",
    "    \n",
    "    C. 71%\n",
    "    \n",
    "    D. 30%"
   ]
  },
  {
   "cell_type": "markdown",
   "metadata": {
    "slideshow": {
     "slide_type": "slide"
    }
   },
   "source": [
    "### Artifical Intelligence"
   ]
  },
  {
   "cell_type": "markdown",
   "metadata": {
    "slideshow": {
     "slide_type": "subslide"
    }
   },
   "source": [
    "**13. Each of the following series of images were created by providing a prompt/phrase/description to an AI. Guess the prompt that was used to create the images. (2 Points Each)**"
   ]
  },
  {
   "cell_type": "markdown",
   "metadata": {
    "slideshow": {
     "slide_type": "subslide"
    }
   },
   "source": [
    "**13A.**\n",
    "\n",
    "<img src=\"img/vaporwave-colonel-sanders.png\" width=\"500\">"
   ]
  },
  {
   "cell_type": "markdown",
   "metadata": {
    "slideshow": {
     "slide_type": "subslide"
    }
   },
   "source": [
    "**13B.**\n",
    "\n",
    "<img src=\"img/gritty-on-the-joe-rogan-exerience.png\" width=\"500\">"
   ]
  },
  {
   "cell_type": "markdown",
   "metadata": {
    "slideshow": {
     "slide_type": "subslide"
    }
   },
   "source": [
    "**13C.**\n",
    "\n",
    "<img src=\"img/security-cam-michelin-man.png\" width=\"500\">"
   ]
  },
  {
   "cell_type": "markdown",
   "metadata": {
    "slideshow": {
     "slide_type": "subslide"
    }
   },
   "source": [
    "**13D.**\n",
    "\n",
    "<img src=\"img/guy-fieiri-kfc-logo.png\" width=\"500\">"
   ]
  },
  {
   "cell_type": "markdown",
   "metadata": {
    "slideshow": {
     "slide_type": "slide"
    }
   },
   "source": [
    "### Historic Places"
   ]
  },
  {
   "cell_type": "markdown",
   "metadata": {
    "slideshow": {
     "slide_type": "subslide"
    }
   },
   "source": [
    "**14. Identify the city from the map of historic people who lived there during the listed time period (2 Points)**\n",
    "\n",
    "<img src=\"img/vienna.png\" width=\"500\">"
   ]
  },
  {
   "cell_type": "markdown",
   "metadata": {
    "slideshow": {
     "slide_type": "slide"
    }
   },
   "source": [
    "### Visual Puns"
   ]
  },
  {
   "cell_type": "markdown",
   "metadata": {
    "slideshow": {
     "slide_type": "subslide"
    }
   },
   "source": [
    "**15. (8 Points, 4 Points for Theme, 1 Point for each correct image identification)**\n",
    "\n",
    "![](img/astrological-signs.png)"
   ]
  },
  {
   "cell_type": "markdown",
   "metadata": {
    "slideshow": {
     "slide_type": "slide"
    }
   },
   "source": [
    "### Guess the Data on the Map"
   ]
  },
  {
   "cell_type": "markdown",
   "metadata": {
    "slideshow": {
     "slide_type": "subslide"
    }
   },
   "source": [
    "**16. What data is this map showing? (5pts)**\n",
    "\n",
    "<img src=\"img/believe-god.png\" width=\"700\">"
   ]
  },
  {
   "cell_type": "markdown",
   "metadata": {
    "slideshow": {
     "slide_type": "slide"
    }
   },
   "source": [
    "# BREAK (Scoring)"
   ]
  },
  {
   "cell_type": "markdown",
   "metadata": {
    "slideshow": {
     "slide_type": "slide"
    }
   },
   "source": [
    "### Hip-Hop Samples"
   ]
  },
  {
   "cell_type": "markdown",
   "metadata": {
    "slideshow": {
     "slide_type": "subslide"
    }
   },
   "source": [
    "**17. Each of the followings songs contains a sample that was used in a famouse/iconic later Hip Hop song. Identify the artist and title of the famous song that used the sample for 1 point each (2 points for both). Identifying the artist of the sample is worth 3 points** \n",
    "\n",
    "    A. 0:00 - 0:30\n",
    "    \n",
    "    B. 0:05 - 0:40\n",
    "    \n",
    "    C. 0:00 - 0:30\n",
    "    \n",
    "    D. 0:00 - 0:40\n",
    "    \n",
    "    E. 0:00 - 0:15\n",
    "    \n",
    "    F. 0:00 - 0:30"
   ]
  },
  {
   "cell_type": "markdown",
   "metadata": {
    "slideshow": {
     "slide_type": "slide"
    }
   },
   "source": [
    "### Samples"
   ]
  },
  {
   "cell_type": "markdown",
   "metadata": {
    "slideshow": {
     "slide_type": "subslide"
    }
   },
   "source": [
    "**18. Each of the followings songs contains a sample that was used in a famouse/iconic later song. Identify the artist and title of the famous song that used the sample for 1 point each (2 points for both). Identifying the artist of the sample is worth 3 points**\n",
    "\n",
    "    A. 3:30 - 4:00\n",
    "    \n",
    "    B. 1:40 - 2:40\n",
    "    \n",
    "    C. 0:30 - 1:00\n",
    "    \n",
    "    D. 0:40 - 1:20\n",
    "    \n",
    "    E. 1:30 - 2:10"
   ]
  }
 ],
 "metadata": {
  "celltoolbar": "Slideshow",
  "kernelspec": {
   "display_name": "Python 3 (ipykernel)",
   "language": "python",
   "name": "python3"
  },
  "language_info": {
   "codemirror_mode": {
    "name": "ipython",
    "version": 3
   },
   "file_extension": ".py",
   "mimetype": "text/x-python",
   "name": "python",
   "nbconvert_exporter": "python",
   "pygments_lexer": "ipython3",
   "version": "3.9.4"
  }
 },
 "nbformat": 4,
 "nbformat_minor": 2
}
