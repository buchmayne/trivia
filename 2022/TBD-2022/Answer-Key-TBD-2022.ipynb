{
 "cells": [
  {
   "cell_type": "markdown",
   "id": "2e0b1c15",
   "metadata": {
    "slideshow": {
     "slide_type": "slide"
    }
   },
   "source": [
    "# Trivia TBD\n",
    "\n",
    "By Marley Buchman"
   ]
  },
  {
   "cell_type": "markdown",
   "id": "b3738039",
   "metadata": {
    "slideshow": {
     "slide_type": "slide"
    }
   },
   "source": [
    "### 20 Questions, 100 Points"
   ]
  },
  {
   "cell_type": "markdown",
   "id": "1008f3ff",
   "metadata": {
    "slideshow": {
     "slide_type": "slide"
    }
   },
   "source": [
    "### Government Systems"
   ]
  },
  {
   "cell_type": "markdown",
   "id": "77e25c37",
   "metadata": {
    "slideshow": {
     "slide_type": "subslide"
    }
   },
   "source": [
    "**1. For each of the following nations, what is the name for the position of head of government (e.g. President in the USA) (1 Point Each)**\n",
    "\n",
    "    A. France (President)\n",
    "    \n",
    "    B. China (General Secretary of the Ruling Party)\n",
    "    \n",
    "    C. Japan (President)\n",
    "    \n",
    "    D. Germany (Chancellor)"
   ]
  },
  {
   "cell_type": "markdown",
   "id": "d19df452",
   "metadata": {
    "slideshow": {
     "slide_type": "slide"
    }
   },
   "source": [
    "### Identify the Data from the Map"
   ]
  },
  {
   "cell_type": "markdown",
   "id": "627689f9",
   "metadata": {
    "slideshow": {
     "slide_type": "subslide"
    }
   },
   "source": [
    "**2. Identify the data used to create the map. (5 Points)**\n",
    "\n",
    "<img src=\"img/data_map_answer.png\" width=\"500\">"
   ]
  },
  {
   "cell_type": "markdown",
   "id": "0308a80c",
   "metadata": {},
   "source": []
  },
  {
   "cell_type": "markdown",
   "id": "db72d238",
   "metadata": {},
   "source": []
  },
  {
   "cell_type": "markdown",
   "id": "5d151197",
   "metadata": {},
   "source": []
  },
  {
   "cell_type": "markdown",
   "id": "8a65880f",
   "metadata": {},
   "source": []
  },
  {
   "cell_type": "markdown",
   "id": "ccee3705",
   "metadata": {},
   "source": []
  },
  {
   "cell_type": "markdown",
   "id": "7aa0f3d2",
   "metadata": {},
   "source": []
  },
  {
   "cell_type": "markdown",
   "id": "28b604f0",
   "metadata": {},
   "source": []
  },
  {
   "cell_type": "markdown",
   "id": "0ef7579a",
   "metadata": {},
   "source": []
  },
  {
   "cell_type": "markdown",
   "id": "507f2b55",
   "metadata": {},
   "source": []
  },
  {
   "cell_type": "markdown",
   "id": "43966d2d",
   "metadata": {},
   "source": []
  },
  {
   "cell_type": "markdown",
   "id": "42b723af",
   "metadata": {},
   "source": []
  },
  {
   "cell_type": "markdown",
   "id": "fc1fc3f4",
   "metadata": {},
   "source": []
  }
 ],
 "metadata": {
  "celltoolbar": "Slideshow",
  "kernelspec": {
   "display_name": "Python 3 (ipykernel)",
   "language": "python",
   "name": "python3"
  },
  "language_info": {
   "codemirror_mode": {
    "name": "ipython",
    "version": 3
   },
   "file_extension": ".py",
   "mimetype": "text/x-python",
   "name": "python",
   "nbconvert_exporter": "python",
   "pygments_lexer": "ipython3",
   "version": "3.9.4"
  }
 },
 "nbformat": 4,
 "nbformat_minor": 5
}
