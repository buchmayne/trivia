{
 "cells": [
  {
   "cell_type": "markdown",
   "id": "b61e9a0f",
   "metadata": {
    "slideshow": {
     "slide_type": "slide"
    }
   },
   "source": [
    "# Trivia TBD\n",
    "\n",
    "By Marley Buchman"
   ]
  },
  {
   "cell_type": "markdown",
   "id": "eb1b4ccf",
   "metadata": {
    "slideshow": {
     "slide_type": "slide"
    }
   },
   "source": [
    "### 20 Questions, 100 Points"
   ]
  },
  {
   "cell_type": "markdown",
   "id": "9d38c577",
   "metadata": {
    "slideshow": {
     "slide_type": "slide"
    }
   },
   "source": [
    "### Government Systems"
   ]
  },
  {
   "cell_type": "markdown",
   "id": "771bd865",
   "metadata": {
    "slideshow": {
     "slide_type": "subslide"
    }
   },
   "source": [
    "**1. For each of the following nations, what is the name for the position of head of government (e.g. President in the USA) (1 Point Each)**\n",
    "\n",
    "    A. France\n",
    "    \n",
    "    B. China\n",
    "    \n",
    "    C. Japan\n",
    "    \n",
    "    D. Germany"
   ]
  },
  {
   "cell_type": "markdown",
   "id": "5e3e2a5b",
   "metadata": {
    "slideshow": {
     "slide_type": "slide"
    }
   },
   "source": [
    "### Identify the Data from the Map"
   ]
  },
  {
   "cell_type": "markdown",
   "id": "4c0990b0",
   "metadata": {
    "slideshow": {
     "slide_type": "subslide"
    }
   },
   "source": [
    "**2. Identify the data used to create the map. (5 Points)**\n",
    "\n",
    "<img src=\"img/data_map.png\" width=\"500\">"
   ]
  },
  {
   "cell_type": "markdown",
   "id": "8ef99576",
   "metadata": {},
   "source": []
  },
  {
   "cell_type": "markdown",
   "id": "88edab45",
   "metadata": {},
   "source": []
  },
  {
   "cell_type": "markdown",
   "id": "a9170519",
   "metadata": {},
   "source": []
  },
  {
   "cell_type": "markdown",
   "id": "757f522c",
   "metadata": {},
   "source": []
  },
  {
   "cell_type": "markdown",
   "id": "9268a8cf",
   "metadata": {},
   "source": []
  },
  {
   "cell_type": "markdown",
   "id": "f987982b",
   "metadata": {},
   "source": []
  },
  {
   "cell_type": "markdown",
   "id": "c08f039d",
   "metadata": {},
   "source": []
  },
  {
   "cell_type": "markdown",
   "id": "1ef60e97",
   "metadata": {},
   "source": []
  },
  {
   "cell_type": "markdown",
   "id": "1d3fb1dd",
   "metadata": {},
   "source": []
  },
  {
   "cell_type": "markdown",
   "id": "ec166359",
   "metadata": {},
   "source": []
  },
  {
   "cell_type": "markdown",
   "id": "0f7eca0a",
   "metadata": {},
   "source": []
  },
  {
   "cell_type": "markdown",
   "id": "9a7c44d8",
   "metadata": {},
   "source": []
  },
  {
   "cell_type": "markdown",
   "id": "13f7cfc4",
   "metadata": {},
   "source": []
  },
  {
   "cell_type": "markdown",
   "id": "60808970",
   "metadata": {},
   "source": []
  },
  {
   "cell_type": "markdown",
   "id": "7b86f35a",
   "metadata": {},
   "source": []
  }
 ],
 "metadata": {
  "celltoolbar": "Slideshow",
  "kernelspec": {
   "display_name": "Python 3 (ipykernel)",
   "language": "python",
   "name": "python3"
  },
  "language_info": {
   "codemirror_mode": {
    "name": "ipython",
    "version": 3
   },
   "file_extension": ".py",
   "mimetype": "text/x-python",
   "name": "python",
   "nbconvert_exporter": "python",
   "pygments_lexer": "ipython3",
   "version": "3.9.4"
  }
 },
 "nbformat": 4,
 "nbformat_minor": 5
}
