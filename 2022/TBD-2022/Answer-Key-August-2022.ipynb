{
 "cells": [
  {
   "cell_type": "markdown",
   "metadata": {
    "slideshow": {
     "slide_type": "slide"
    }
   },
   "source": [
    "# Trivia August, 2022\n",
    "\n",
    "By Marley Buchman"
   ]
  },
  {
   "cell_type": "markdown",
   "metadata": {
    "slideshow": {
     "slide_type": "slide"
    }
   },
   "source": [
    "### 20 Questions, 100 Points"
   ]
  },
  {
   "cell_type": "markdown",
   "metadata": {
    "slideshow": {
     "slide_type": "slide"
    }
   },
   "source": [
    "### Government Systems"
   ]
  },
  {
   "cell_type": "markdown",
   "metadata": {
    "slideshow": {
     "slide_type": "subslide"
    }
   },
   "source": [
    "**1. For each of the following nations, what is the name for the position of head of government (e.g. President in the USA) (1 Point Each)**\n",
    "\n",
    "    A. France (President)\n",
    "    \n",
    "    B. China (General Secretary of the Ruling Party)\n",
    "    \n",
    "    C. Japan (President)\n",
    "    \n",
    "    D. Germany (Chancellor)"
   ]
  },
  {
   "cell_type": "markdown",
   "metadata": {
    "slideshow": {
     "slide_type": "slide"
    }
   },
   "source": [
    "### U.S. Interstate System"
   ]
  },
  {
   "cell_type": "markdown",
   "metadata": {
    "slideshow": {
     "slide_type": "subslide"
    }
   },
   "source": [
    "**2. (1 Point Each)**\n",
    "\n",
    "    A. Does interstate 10 go through Los Angeles, CA? YES\n",
    "    \n",
    "    B. Does interstate 35 go through Chicago, IL? NO\n",
    "    \n",
    "    C. Does interstate 10 go through Jacksonville, FL? YES\n",
    "    \n",
    "    D. Does interstate 80 go through Philadelphia, PA? NO"
   ]
  },
  {
   "cell_type": "markdown",
   "metadata": {
    "slideshow": {
     "slide_type": "slide"
    }
   },
   "source": [
    "### Airports"
   ]
  },
  {
   "cell_type": "markdown",
   "metadata": {
    "slideshow": {
     "slide_type": "subslide"
    }
   },
   "source": [
    "**3. Order the following U.S. airports by annual numbers of passengers boarded (1 Point Each)**\n",
    "\n",
    "    A. Denver International Airport (DEN 28.6 Million\n",
    "    \n",
    "    B. Los Angeles International Airport (LAX) 23.6 Million\n",
    "    \n",
    "    C. Hartsfield-Jackson Atlanta International Airport (ATL) 36.6 Million\n",
    "    \n",
    "    D. Dallas Love Field (DAL) 3.6 Million"
   ]
  },
  {
   "cell_type": "markdown",
   "metadata": {
    "slideshow": {
     "slide_type": "slide"
    }
   },
   "source": [
    "### NCAA Men's Basketball"
   ]
  },
  {
   "cell_type": "markdown",
   "metadata": {
    "slideshow": {
     "slide_type": "subslide"
    }
   },
   "source": [
    "**4. For each of the following seeds, order them by number of final four appearances, from most to least (1 Point Each)**\n",
    "\n",
    "    A. 11th seed (5 appearances)\n",
    "    \n",
    "    B. 3rd seed (17 appearances)\n",
    "    \n",
    "    C. 5th seed (7 appearances)\n",
    "    \n",
    "    D. 6th seed (3 appearances)"
   ]
  },
  {
   "cell_type": "markdown",
   "metadata": {
    "slideshow": {
     "slide_type": "slide"
    }
   },
   "source": [
    "### Existence"
   ]
  },
  {
   "cell_type": "markdown",
   "metadata": {
    "slideshow": {
     "slide_type": "subslide"
    }
   },
   "source": [
    "**5. For each of the following celebrities, are they still alive? (1 Point Each)**\n",
    "\n",
    "    A. Mother Teresa (Died 1997)\n",
    "    \n",
    "    B. Gene Hackman (Still Alive)\n",
    "    \n",
    "    C. Eddie Van Halen (Died 2020)\n",
    "    \n",
    "    D. Regis Philbin (Died 2020)\n",
    "    \n",
    "    E. Harvey Weinstein (Still Alive)"
   ]
  },
  {
   "cell_type": "markdown",
   "metadata": {
    "slideshow": {
     "slide_type": "slide"
    }
   },
   "source": [
    "### U.S. Presidents"
   ]
  },
  {
   "cell_type": "markdown",
   "metadata": {
    "slideshow": {
     "slide_type": "subslide"
    }
   },
   "source": [
    "**6. Order the following U.S. presidents, from tallest to shortest (1 Point Each)**\n",
    "\n",
    "    A. Obama 6 foot 1 1/2 inches\n",
    "    \n",
    "    B. Trump 6 foot 3 inches\n",
    "    \n",
    "    C. Biden 5 foot 11 1/2 inches\n",
    "    \n",
    "    D. Thomas Jefferson 6 foot 2 1/2 inches"
   ]
  },
  {
   "cell_type": "markdown",
   "metadata": {
    "slideshow": {
     "slide_type": "slide"
    }
   },
   "source": [
    "### Pokemon"
   ]
  },
  {
   "cell_type": "markdown",
   "metadata": {
    "slideshow": {
     "slide_type": "subslide"
    }
   },
   "source": [
    "**7A. Name the Pokemon in each of the following images (2 Points Each)**\n",
    "\n",
    "Geodude\n",
    "\n",
    "<img src=\"img/geodude.png\" width=\"500\">"
   ]
  },
  {
   "cell_type": "markdown",
   "metadata": {
    "slideshow": {
     "slide_type": "subslide"
    }
   },
   "source": [
    "**7B. Name the Pokemon in each of the following images (2 Points Each)**\n",
    "\n",
    "Jynx\n",
    "\n",
    "<img src=\"img/jynx.png\" width=\"500\">"
   ]
  },
  {
   "cell_type": "markdown",
   "metadata": {
    "slideshow": {
     "slide_type": "subslide"
    }
   },
   "source": [
    "**7C. Name the Pokemon in each of the following images (2 Points Each)**\n",
    "\n",
    "Gyarados\n",
    "\n",
    "<img src=\"img/gyarados.png\" width=\"500\">"
   ]
  },
  {
   "cell_type": "markdown",
   "metadata": {},
   "source": []
  },
  {
   "cell_type": "markdown",
   "metadata": {},
   "source": []
  },
  {
   "cell_type": "markdown",
   "metadata": {},
   "source": []
  },
  {
   "cell_type": "markdown",
   "metadata": {
    "slideshow": {
     "slide_type": "slide"
    }
   },
   "source": [
    "### Identify the Data from the Map"
   ]
  },
  {
   "cell_type": "markdown",
   "metadata": {
    "slideshow": {
     "slide_type": "subslide"
    }
   },
   "source": [
    "**?. Identify the data used to create the map. (5 Points)**\n",
    "\n",
    "<img src=\"img/data_map_answer.png\" width=\"500\">"
   ]
  },
  {
   "cell_type": "markdown",
   "metadata": {},
   "source": []
  },
  {
   "cell_type": "markdown",
   "metadata": {},
   "source": []
  }
 ],
 "metadata": {
  "celltoolbar": "Slideshow",
  "kernelspec": {
   "display_name": "Python 3 (ipykernel)",
   "language": "python",
   "name": "python3"
  },
  "language_info": {
   "codemirror_mode": {
    "name": "ipython",
    "version": 3
   },
   "file_extension": ".py",
   "mimetype": "text/x-python",
   "name": "python",
   "nbconvert_exporter": "python",
   "pygments_lexer": "ipython3",
   "version": "3.7.3"
  }
 },
 "nbformat": 4,
 "nbformat_minor": 5
}
