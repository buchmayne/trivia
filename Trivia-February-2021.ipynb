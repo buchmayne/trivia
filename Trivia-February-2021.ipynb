{
 "cells": [
  {
   "cell_type": "markdown",
   "metadata": {
    "slideshow": {
     "slide_type": "slide"
    }
   },
   "source": [
    "# Trivia Date TBD\n",
    "\n",
    "By Marley Buchman"
   ]
  },
  {
   "cell_type": "markdown",
   "metadata": {
    "slideshow": {
     "slide_type": "slide"
    }
   },
   "source": [
    "### 20 Questions, 100 Points"
   ]
  },
  {
   "cell_type": "markdown",
   "metadata": {
    "slideshow": {
     "slide_type": "slide"
    }
   },
   "source": [
    "### Cold"
   ]
  },
  {
   "cell_type": "markdown",
   "metadata": {
    "slideshow": {
     "slide_type": "subslide"
    }
   },
   "source": [
    "**1. Order the following cities, from coldest to warmest, based on average January low temperature (1 Point each)**\n",
    "\n",
    "    A. Boston\n",
    "    \n",
    "    B. Milwaukee\n",
    "    \n",
    "    C. Minneapolis\n",
    "    \n",
    "    D. Denver\n",
    "    "
   ]
  },
  {
   "cell_type": "markdown",
   "metadata": {
    "slideshow": {
     "slide_type": "slide"
    }
   },
   "source": [
    "### Police Procedurals"
   ]
  },
  {
   "cell_type": "markdown",
   "metadata": {
    "slideshow": {
     "slide_type": "subslide"
    }
   },
   "source": [
    "**2. Name the police procedural television series based on the description of the show (2 Points each)**\n",
    "\n",
    "    A. The show is based on forensic anthropology and forensic archaeology, with each episode focusing on an FBI case file concerning the mystery behind human remains brought by FBI Special Agent Seeley Booth to forensic anthropologist Dr. Temperance Brennan\n",
    "    \n",
    "    B. The series follows FBI Special Agent Don Eppes and his brother Charlie Eppes, a college mathematics professor and prodigy, who helps Don solve crimes for the FBI. A typical episode begins with a crime, which is subsequently investigated by a team of FBI agents led by Don and mathematically modeled by Charlie, with the help of Larry Fleinhardt and Amita Ramanujan. The insights provided by Charlie's mathematics were always in some way crucial to solving the crime. \n",
    "    \n",
    "    C. Mixing deduction and character-driven drama, X follows a team of crime-scene investigators, employed by the Las Vegas Police Department, as they use physical evidence to solve murders. \n",
    "    \n",
    "    D. The series follows a group of criminal profilers who work for the FBI as members of its Behavioral Analysis Unit (BAU), using behavioral analysis and profiling to investigate crimes and find perpetrators. The show tells the story of the team as they work various cases, and tackle their personal struggles.\n"
   ]
  },
  {
   "cell_type": "markdown",
   "metadata": {
    "slideshow": {
     "slide_type": "slide"
    }
   },
   "source": [
    "### Flags"
   ]
  },
  {
   "cell_type": "markdown",
   "metadata": {
    "slideshow": {
     "slide_type": "subslide"
    }
   },
   "source": [
    "**3A. Identify the country by its flag (1 Point each)**\n",
    "\n",
    "![](img/flags/egypt.png)\n"
   ]
  },
  {
   "cell_type": "markdown",
   "metadata": {
    "slideshow": {
     "slide_type": "subslide"
    }
   },
   "source": [
    "**3B. Identify the country by its flag (1 Point each)**\n",
    "\n",
    "![](img/flags/netherlands.png)"
   ]
  },
  {
   "cell_type": "markdown",
   "metadata": {
    "slideshow": {
     "slide_type": "subslide"
    }
   },
   "source": [
    "**3C. Identify the country by its flag (1 Point each)**\n",
    "\n",
    "![](img/flags/russia.png)"
   ]
  },
  {
   "cell_type": "markdown",
   "metadata": {
    "slideshow": {
     "slide_type": "subslide"
    }
   },
   "source": [
    "**3D. Identify the country by its flag (1 Point each)**\n",
    "\n",
    "![](img/flags/turkey.png)"
   ]
  },
  {
   "cell_type": "markdown",
   "metadata": {
    "slideshow": {
     "slide_type": "slide"
    }
   },
   "source": [
    "### Womens' Firsts"
   ]
  },
  {
   "cell_type": "markdown",
   "metadata": {
    "slideshow": {
     "slide_type": "subslide"
    }
   },
   "source": [
    "**4. Guess the decade in which the first time that a woman or women achieved the following historical feats (2 Points each)**\n",
    "\n",
    "    A. First woman in space\n",
    "    \n",
    "    B. First woman publisher of a major United States newspaper\n",
    "    \n",
    "    C. First woman to win a nobel prize\n",
    "    \n",
    "    D. The First woman prime minister of a G7/P5 country (Canada, France, Germany, Italy, Japan, UK, China, Russia, United States)\n",
    "    "
   ]
  },
  {
   "cell_type": "markdown",
   "metadata": {
    "slideshow": {
     "slide_type": "slide"
    }
   },
   "source": [
    "### Film Franchises"
   ]
  },
  {
   "cell_type": "markdown",
   "metadata": {
    "slideshow": {
     "slide_type": "subslide"
    }
   },
   "source": [
    "**5. Order the following film franchises by the number of entries in each franchise, highest to lowest (spinoffs don't count) (1 Point each)**\n",
    "\n",
    "    A. Fast and the Furious \n",
    "    \n",
    "    B. Jurassic Park\n",
    "    \n",
    "    C. Rocky\n",
    "    \n",
    "    D. Karate Kid\n",
    "    "
   ]
  },
  {
   "cell_type": "markdown",
   "metadata": {
    "slideshow": {
     "slide_type": "slide"
    }
   },
   "source": [
    "### Architecture"
   ]
  },
  {
   "cell_type": "markdown",
   "metadata": {
    "slideshow": {
     "slide_type": "subslide"
    }
   },
   "source": [
    "**6A. Match the Architectural Style to the example image (1 Point each)**\n",
    "\n",
    "    Art Deco    \n",
    "    \n",
    "    Victorian    \n",
    "    \n",
    "    Modern    \n",
    "    \n",
    "    Neoclassical\n",
    "    \n",
    "![](img/architecture/modern.jpeg)"
   ]
  },
  {
   "cell_type": "markdown",
   "metadata": {
    "slideshow": {
     "slide_type": "subslide"
    }
   },
   "source": [
    "**6B. Match the Architectural Style to the example image (1 Point each)**\n",
    "\n",
    "    Art Deco    \n",
    "    \n",
    "    Victorian    \n",
    "    \n",
    "    Modern    \n",
    "    \n",
    "    Neoclassical\n",
    "    \n",
    "![](img/architecture/art_deco.jpeg)"
   ]
  },
  {
   "cell_type": "markdown",
   "metadata": {
    "slideshow": {
     "slide_type": "subslide"
    }
   },
   "source": [
    "**6C. Match the Architectural Style to the example image (1 Point each)**\n",
    "\n",
    "    Art Deco    \n",
    "    \n",
    "    Victorian    \n",
    "    \n",
    "    Modern    \n",
    "    \n",
    "    Neoclassical\n",
    "    \n",
    "![](img/architecture/neoclassical.jpeg)"
   ]
  },
  {
   "cell_type": "markdown",
   "metadata": {
    "slideshow": {
     "slide_type": "subslide"
    }
   },
   "source": [
    "**6D. Match the Architectural Style to the example image (1 Point each)**\n",
    "\n",
    "    Art Deco    \n",
    "    \n",
    "    Victorian    \n",
    "    \n",
    "    Modern    \n",
    "    \n",
    "    Neoclassical\n",
    "    \n",
    "![](img/architecture/victorian.jpeg)"
   ]
  },
  {
   "cell_type": "markdown",
   "metadata": {
    "slideshow": {
     "slide_type": "slide"
    }
   },
   "source": [
    "### Actors - Degrees of Separation"
   ]
  },
  {
   "cell_type": "markdown",
   "metadata": {
    "slideshow": {
     "slide_type": "subslide"
    }
   },
   "source": [
    "**7. How many degrees of separation are there between Leo DiCaprio and Dwayne \"The Rock\" Johnson (5 Points for 1 Degree, 3 Points for 2 Degrees, 2 Points for 3 Degrees, 1 Point for 4 Degrees)**\n",
    "\n",
    "For Example: \n",
    "\n",
    "How many degrees of separation betweenm Christian Bale and Morgan Freeman?\n",
    "\n",
    "Christian Bale is in Batman Begins with Morgan Freeman, there are 0 degrees between them because they're in the same movie.\n",
    "\n",
    "How many degrees of separation between Christian Bale and Jim Carrey?\n",
    "\n",
    "Christian Bale is in Batman Begins with Morgan Freeman, Morgan Freeman is in Bruce Almighty with Jim Carrey, there is 1 degree of freedrom between them (Morgan Freeman in Bruce Almighty is the one degree).\n",
    "\n",
    "**Your answer needs to be the chain that connects them Movie + Actor/Actress** "
   ]
  },
  {
   "cell_type": "markdown",
   "metadata": {
    "slideshow": {
     "slide_type": "slide"
    }
   },
   "source": []
  },
  {
   "cell_type": "markdown",
   "metadata": {
    "slideshow": {
     "slide_type": "subslide"
    }
   },
   "source": []
  },
  {
   "cell_type": "markdown",
   "metadata": {
    "slideshow": {
     "slide_type": "slide"
    }
   },
   "source": []
  },
  {
   "cell_type": "markdown",
   "metadata": {
    "slideshow": {
     "slide_type": "subslide"
    }
   },
   "source": []
  },
  {
   "cell_type": "markdown",
   "metadata": {
    "slideshow": {
     "slide_type": "slide"
    }
   },
   "source": []
  },
  {
   "cell_type": "markdown",
   "metadata": {
    "slideshow": {
     "slide_type": "subslide"
    }
   },
   "source": []
  },
  {
   "cell_type": "markdown",
   "metadata": {
    "slideshow": {
     "slide_type": "slide"
    }
   },
   "source": []
  },
  {
   "cell_type": "markdown",
   "metadata": {
    "slideshow": {
     "slide_type": "subslide"
    }
   },
   "source": []
  },
  {
   "cell_type": "markdown",
   "metadata": {
    "slideshow": {
     "slide_type": "slide"
    }
   },
   "source": []
  },
  {
   "cell_type": "markdown",
   "metadata": {
    "slideshow": {
     "slide_type": "subslide"
    }
   },
   "source": []
  },
  {
   "cell_type": "markdown",
   "metadata": {
    "slideshow": {
     "slide_type": "slide"
    }
   },
   "source": []
  },
  {
   "cell_type": "markdown",
   "metadata": {
    "slideshow": {
     "slide_type": "subslide"
    }
   },
   "source": []
  },
  {
   "cell_type": "markdown",
   "metadata": {
    "slideshow": {
     "slide_type": "slide"
    }
   },
   "source": []
  },
  {
   "cell_type": "markdown",
   "metadata": {
    "slideshow": {
     "slide_type": "subslide"
    }
   },
   "source": []
  },
  {
   "cell_type": "markdown",
   "metadata": {
    "slideshow": {
     "slide_type": "slide"
    }
   },
   "source": []
  },
  {
   "cell_type": "markdown",
   "metadata": {
    "slideshow": {
     "slide_type": "subslide"
    }
   },
   "source": []
  },
  {
   "cell_type": "markdown",
   "metadata": {
    "slideshow": {
     "slide_type": "slide"
    }
   },
   "source": []
  },
  {
   "cell_type": "markdown",
   "metadata": {
    "slideshow": {
     "slide_type": "subslide"
    }
   },
   "source": []
  },
  {
   "cell_type": "markdown",
   "metadata": {
    "slideshow": {
     "slide_type": "slide"
    }
   },
   "source": []
  },
  {
   "cell_type": "markdown",
   "metadata": {
    "slideshow": {
     "slide_type": "subslide"
    }
   },
   "source": []
  },
  {
   "cell_type": "markdown",
   "metadata": {
    "slideshow": {
     "slide_type": "slide"
    }
   },
   "source": []
  },
  {
   "cell_type": "markdown",
   "metadata": {
    "slideshow": {
     "slide_type": "subslide"
    }
   },
   "source": []
  },
  {
   "cell_type": "markdown",
   "metadata": {
    "slideshow": {
     "slide_type": "slide"
    }
   },
   "source": []
  },
  {
   "cell_type": "markdown",
   "metadata": {
    "slideshow": {
     "slide_type": "subslide"
    }
   },
   "source": []
  }
 ],
 "metadata": {
  "celltoolbar": "Slideshow",
  "kernelspec": {
   "display_name": "Python 3",
   "language": "python",
   "name": "python3"
  },
  "language_info": {
   "codemirror_mode": {
    "name": "ipython",
    "version": 3
   },
   "file_extension": ".py",
   "mimetype": "text/x-python",
   "name": "python",
   "nbconvert_exporter": "python",
   "pygments_lexer": "ipython3",
   "version": "3.7.3"
  }
 },
 "nbformat": 4,
 "nbformat_minor": 2
}
