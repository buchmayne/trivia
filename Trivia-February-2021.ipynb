{
 "cells": [
  {
   "cell_type": "markdown",
   "metadata": {
    "slideshow": {
     "slide_type": "slide"
    }
   },
   "source": [
    "# Trivia Date TBD\n",
    "\n",
    "By Marley Buchman"
   ]
  },
  {
   "cell_type": "markdown",
   "metadata": {
    "slideshow": {
     "slide_type": "slide"
    }
   },
   "source": [
    "### 20 Questions, 100 Points"
   ]
  },
  {
   "cell_type": "markdown",
   "metadata": {
    "slideshow": {
     "slide_type": "slide"
    }
   },
   "source": [
    "### Cold"
   ]
  },
  {
   "cell_type": "markdown",
   "metadata": {
    "slideshow": {
     "slide_type": "subslide"
    }
   },
   "source": [
    "**1. Order the following cities, from coldest to warmest, based on average January low temperature (1 Point each)**\n",
    "\n",
    "    A. Boston\n",
    "    \n",
    "    B. Milwaukee\n",
    "    \n",
    "    C. Minneapolis\n",
    "    \n",
    "    D. Denver\n",
    "    "
   ]
  },
  {
   "cell_type": "markdown",
   "metadata": {
    "slideshow": {
     "slide_type": "slide"
    }
   },
   "source": [
    "### Police Procedurals"
   ]
  },
  {
   "cell_type": "markdown",
   "metadata": {
    "slideshow": {
     "slide_type": "subslide"
    }
   },
   "source": [
    "**2. Name the police procedural television series based on the description of the show (2 Points each)**\n",
    "\n",
    "    A. The show is based on forensic anthropology and forensic archaeology, with each episode focusing on an FBI case file concerning the mystery behind human remains brought by FBI Special Agent Seeley Booth to forensic anthropologist Dr. Temperance Brennan\n",
    "    \n",
    "    B. The series follows FBI Special Agent Don Eppes and his brother Charlie Eppes, a college mathematics professor and prodigy, who helps Don solve crimes for the FBI. A typical episode begins with a crime, which is subsequently investigated by a team of FBI agents led by Don and mathematically modeled by Charlie, with the help of Larry Fleinhardt and Amita Ramanujan. The insights provided by Charlie's mathematics were always in some way crucial to solving the crime. \n",
    "    \n",
    "    C. Mixing deduction and character-driven drama, X follows a team of crime-scene investigators, employed by the Las Vegas Police Department, as they use physical evidence to solve murders. \n",
    "    \n",
    "    D. The series follows a group of criminal profilers who work for the FBI as members of its Behavioral Analysis Unit (BAU), using behavioral analysis and profiling to investigate crimes and find perpetrators. The show tells the story of the team as they work various cases, and tackle their personal struggles.\n"
   ]
  },
  {
   "cell_type": "markdown",
   "metadata": {
    "slideshow": {
     "slide_type": "slide"
    }
   },
   "source": [
    "### Flags"
   ]
  },
  {
   "cell_type": "markdown",
   "metadata": {
    "slideshow": {
     "slide_type": "subslide"
    }
   },
   "source": [
    "**3A. Identify the country by its flag (1 Point each)**\n",
    "\n",
    "![](img/flags/egypt.png)\n"
   ]
  },
  {
   "cell_type": "markdown",
   "metadata": {
    "slideshow": {
     "slide_type": "subslide"
    }
   },
   "source": [
    "**3B. Identify the country by its flag (1 Point each)**\n",
    "\n",
    "![](img/flags/netherlands.png)"
   ]
  },
  {
   "cell_type": "markdown",
   "metadata": {
    "slideshow": {
     "slide_type": "subslide"
    }
   },
   "source": [
    "**3C. Identify the country by its flag (1 Point each)**\n",
    "\n",
    "![](img/flags/russia.png)"
   ]
  },
  {
   "cell_type": "markdown",
   "metadata": {
    "slideshow": {
     "slide_type": "subslide"
    }
   },
   "source": [
    "**3D. Identify the country by its flag (1 Point each)**\n",
    "\n",
    "![](img/flags/turkey.png)"
   ]
  },
  {
   "cell_type": "markdown",
   "metadata": {
    "slideshow": {
     "slide_type": "slide"
    }
   },
   "source": [
    "### Womens' Firsts"
   ]
  },
  {
   "cell_type": "markdown",
   "metadata": {
    "slideshow": {
     "slide_type": "subslide"
    }
   },
   "source": [
    "**4. Guess the decade in which the first time that a woman or women achieved the following historical feats (2 Points each)**\n",
    "\n",
    "    A. First woman in space\n",
    "    \n",
    "    B. First woman publisher of a major United States newspaper\n",
    "    \n",
    "    C. First woman to win a nobel prize\n",
    "    \n",
    "    D. The First woman prime minister of a G7/P5 country (Canada, France, Germany, Italy, Japan, UK, China, Russia, United States)\n",
    "    "
   ]
  },
  {
   "cell_type": "markdown",
   "metadata": {
    "slideshow": {
     "slide_type": "slide"
    }
   },
   "source": [
    "### Film Franchises"
   ]
  },
  {
   "cell_type": "markdown",
   "metadata": {
    "slideshow": {
     "slide_type": "subslide"
    }
   },
   "source": [
    "**5. Order the following film franchises by the number of entries in each franchise, highest to lowest (spinoffs don't count) (1 Point each)**\n",
    "\n",
    "    A. Fast and the Furious \n",
    "    \n",
    "    B. Jurassic Park\n",
    "    \n",
    "    C. Rocky\n",
    "    \n",
    "    D. Karate Kid\n",
    "    "
   ]
  },
  {
   "cell_type": "markdown",
   "metadata": {
    "slideshow": {
     "slide_type": "slide"
    }
   },
   "source": [
    "### Architecture"
   ]
  },
  {
   "cell_type": "markdown",
   "metadata": {
    "slideshow": {
     "slide_type": "subslide"
    }
   },
   "source": [
    "**6A. Match the Architectural Style to the example image (1 Point each)**\n",
    "\n",
    "    Art Deco    \n",
    "    \n",
    "    Victorian    \n",
    "    \n",
    "    Modern    \n",
    "    \n",
    "    Neoclassical\n",
    "    \n",
    "![](img/architecture/modern.jpeg)"
   ]
  },
  {
   "cell_type": "markdown",
   "metadata": {
    "slideshow": {
     "slide_type": "subslide"
    }
   },
   "source": [
    "**6B. Match the Architectural Style to the example image (1 Point each)**\n",
    "\n",
    "    Art Deco    \n",
    "    \n",
    "    Victorian    \n",
    "    \n",
    "    Modern    \n",
    "    \n",
    "    Neoclassical\n",
    "    \n",
    "![](img/architecture/art_deco.jpeg)"
   ]
  },
  {
   "cell_type": "markdown",
   "metadata": {
    "slideshow": {
     "slide_type": "subslide"
    }
   },
   "source": [
    "**6C. Match the Architectural Style to the example image (1 Point each)**\n",
    "\n",
    "    Art Deco    \n",
    "    \n",
    "    Victorian    \n",
    "    \n",
    "    Modern    \n",
    "    \n",
    "    Neoclassical\n",
    "    \n",
    "![](img/architecture/neoclassical.jpeg)"
   ]
  },
  {
   "cell_type": "markdown",
   "metadata": {
    "slideshow": {
     "slide_type": "subslide"
    }
   },
   "source": [
    "**6D. Match the Architectural Style to the example image (1 Point each)**\n",
    "\n",
    "    Art Deco    \n",
    "    \n",
    "    Victorian    \n",
    "    \n",
    "    Modern    \n",
    "    \n",
    "    Neoclassical\n",
    "    \n",
    "![](img/architecture/victorian.jpeg)"
   ]
  },
  {
   "cell_type": "markdown",
   "metadata": {
    "slideshow": {
     "slide_type": "slide"
    }
   },
   "source": [
    "### Actors"
   ]
  },
  {
   "cell_type": "markdown",
   "metadata": {
    "slideshow": {
     "slide_type": "subslide"
    }
   },
   "source": [
    "**7. How many degrees of separation are there between Leo DiCaprio and Dwayne \"The Rock\" Johnson (5 Points for 1 Degree, 3 Points for 2 Degrees, 2 Points for 3 Degrees, 1 Point for 4 Degrees)**\n",
    "\n",
    "For Example: \n",
    "\n",
    "How many degrees of separation betweenm Christian Bale and Morgan Freeman?\n",
    "\n",
    "Christian Bale is in Batman Begins with Morgan Freeman, there are 0 degrees between them because they're in the same movie.\n",
    "\n",
    "How many degrees of separation between Christian Bale and Jim Carrey?\n",
    "\n",
    "Christian Bale is in Batman Begins with Morgan Freeman, Morgan Freeman is in Bruce Almighty with Jim Carrey, there is 1 degree of freedrom between them (Morgan Freeman in Bruce Almighty is the one degree).\n",
    "\n",
    "**Your answer needs to be the chain that connects them Movie + Actor/Actress** "
   ]
  },
  {
   "cell_type": "markdown",
   "metadata": {},
   "source": [
    "**8. Match the Actor to their hometown (4 Points)**\n",
    "\n",
    "    1. Jennifer Lawrence\n",
    "    \n",
    "    2. Brie Larson\n",
    "    \n",
    "    3. Amy Adams\n",
    "    \n",
    "    4. Merryl Streep\n",
    "    \n",
    "    -------------------------\n",
    "    \n",
    "    A. Bernardsville, New Jersey\n",
    "    \n",
    "    B. Louisville, Kentucky\n",
    "    \n",
    "    C. Castle Rock, Colorado\n",
    "    \n",
    "    D. Sacramento, California"
   ]
  },
  {
   "cell_type": "markdown",
   "metadata": {
    "slideshow": {
     "slide_type": "subslide"
    }
   },
   "source": [
    "**9. Rank the following Tom Hanks films by the rottentomatoes score (Critics Score) (4 Points)**\n",
    "\n",
    "    A. Saving Private Ryan\n",
    "    \n",
    "    B. Cast Away\n",
    "    \n",
    "    C. Forrest Gump\n",
    "    \n",
    "    D. The Da Vinci Code\n",
    "    "
   ]
  },
  {
   "cell_type": "markdown",
   "metadata": {
    "slideshow": {
     "slide_type": "slide"
    }
   },
   "source": [
    "### Genres"
   ]
  },
  {
   "cell_type": "markdown",
   "metadata": {
    "slideshow": {
     "slide_type": "subslide"
    }
   },
   "source": [
    "**10. Match the genre to the description (4 Points)**\n",
    "\n",
    "    1. Dirty Dutch House\n",
    "    \n",
    "    2. Future Bass\n",
    "    \n",
    "    3. Trip Hop\n",
    "    \n",
    "    4. Acid House\n",
    "    \n",
    "    ----------------------------\n",
    "    \n",
    "    A. X is a subgenre of house music developed around the mid-1980s by DJs from Chicago. The style is defined primarily by the \"squelching\" sounds and deep basslines of the Roland TB-303 electronic bass synthesizer-sequencer,an innovation sometimes attributed to DJ Pierre of Phuture\n",
    "    \n",
    "    B. X is a musical genre that originated in the early 1990s in the United Kingdom, especially Bristol.It has been described as \"a fusion of hip hop and electronica until neither genre is recognizable\", and may incorporate a variety of styles, including funk, dub, soul, psychedelia, R&B, and house, as well as other forms of electronic music.\n",
    "    \n",
    "    C. X is a genre of electronic dance music that originated in the 2010s. It can be described as music that \"takes the ecstatic drops of dubstep or trap, but provides a warm bounce rather than a lumbering bruteness. Basslines are provided by harsh, detuned synths that buzz and purr instead of gulp and whomp.\" The genre was pioneered by producers such as Flume, Lido, San Holo and Cashmere Cat, and it was popularised in the mid-2010s by artists such as Louis the Child and Mura Masa\n",
    "    \n",
    "    D. X is a style of electro house that found prominence by 2009, mainly pioneered by Vato Gonzalez and DJ Chuckie. It is primarily defined by complex rhythms made from Latin-influenced drum kits, a lower emphasis on basslines and squeaky, high-pitched lead synths. Influences on the subgenre include Detroit techno, hip hop and other urban styles of music.\n",
    "    "
   ]
  },
  {
   "cell_type": "markdown",
   "metadata": {
    "slideshow": {
     "slide_type": "slide"
    }
   },
   "source": [
    "### Visual Puns"
   ]
  },
  {
   "cell_type": "markdown",
   "metadata": {
    "slideshow": {
     "slide_type": "subslide"
    }
   },
   "source": [
    "**TBD. (4 Points for Theme, 1 Point for guessing each image correctly)**\n",
    "\n",
    "![](img/visual_puns/best_pictures.png)"
   ]
  },
  {
   "cell_type": "markdown",
   "metadata": {
    "slideshow": {
     "slide_type": "slide"
    }
   },
   "source": [
    "### Demonyms"
   ]
  },
  {
   "cell_type": "markdown",
   "metadata": {
    "slideshow": {
     "slide_type": "subslide"
    }
   },
   "source": [
    "**11. Name the demonym for the following international cities (e.g. a resident of Bristol is a Bristolian) (4 Points)**\n",
    "\n",
    "    1. Moscow\n",
    "    \n",
    "    2. Dublin\n",
    "    \n",
    "    3. Florence\n",
    "    \n",
    "    4. Athens\n",
    "    "
   ]
  },
  {
   "cell_type": "markdown",
   "metadata": {
    "slideshow": {
     "slide_type": "slide"
    }
   },
   "source": [
    "### Anagrams"
   ]
  },
  {
   "cell_type": "markdown",
   "metadata": {
    "slideshow": {
     "slide_type": "subslide"
    }
   },
   "source": [
    "**12. Solve the following anagram (4 Points)**\n",
    "\n",
    "This was the headline of the New York Times on December 19th, 1998 (Two Words)\n",
    "\n",
    "\"_ _ _ _ _ _ _\"   \"_ _ _ _ _ _ _ _ _\"\n",
    "\n",
    "    a c c d e e h i i l m n n o p t"
   ]
  },
  {
   "cell_type": "markdown",
   "metadata": {
    "slideshow": {
     "slide_type": "slide"
    }
   },
   "source": []
  },
  {
   "cell_type": "markdown",
   "metadata": {
    "slideshow": {
     "slide_type": "subslide"
    }
   },
   "source": []
  },
  {
   "cell_type": "markdown",
   "metadata": {
    "slideshow": {
     "slide_type": "slide"
    }
   },
   "source": []
  },
  {
   "cell_type": "markdown",
   "metadata": {
    "slideshow": {
     "slide_type": "subslide"
    }
   },
   "source": []
  },
  {
   "cell_type": "markdown",
   "metadata": {
    "slideshow": {
     "slide_type": "slide"
    }
   },
   "source": []
  },
  {
   "cell_type": "markdown",
   "metadata": {
    "slideshow": {
     "slide_type": "subslide"
    }
   },
   "source": []
  },
  {
   "cell_type": "markdown",
   "metadata": {
    "slideshow": {
     "slide_type": "slide"
    }
   },
   "source": []
  },
  {
   "cell_type": "markdown",
   "metadata": {
    "slideshow": {
     "slide_type": "subslide"
    }
   },
   "source": []
  },
  {
   "cell_type": "markdown",
   "metadata": {
    "slideshow": {
     "slide_type": "slide"
    }
   },
   "source": []
  },
  {
   "cell_type": "markdown",
   "metadata": {
    "slideshow": {
     "slide_type": "subslide"
    }
   },
   "source": []
  },
  {
   "cell_type": "markdown",
   "metadata": {
    "slideshow": {
     "slide_type": "slide"
    }
   },
   "source": []
  },
  {
   "cell_type": "markdown",
   "metadata": {
    "slideshow": {
     "slide_type": "subslide"
    }
   },
   "source": []
  },
  {
   "cell_type": "markdown",
   "metadata": {
    "slideshow": {
     "slide_type": "slide"
    }
   },
   "source": []
  },
  {
   "cell_type": "markdown",
   "metadata": {
    "slideshow": {
     "slide_type": "subslide"
    }
   },
   "source": []
  }
 ],
 "metadata": {
  "celltoolbar": "Slideshow",
  "kernelspec": {
   "display_name": "Python 3",
   "language": "python",
   "name": "python3"
  },
  "language_info": {
   "codemirror_mode": {
    "name": "ipython",
    "version": 3
   },
   "file_extension": ".py",
   "mimetype": "text/x-python",
   "name": "python",
   "nbconvert_exporter": "python",
   "pygments_lexer": "ipython3",
   "version": "3.7.3"
  }
 },
 "nbformat": 4,
 "nbformat_minor": 2
}
