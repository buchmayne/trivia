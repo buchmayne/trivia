{
 "cells": [
  {
   "cell_type": "markdown",
   "metadata": {
    "slideshow": {
     "slide_type": "slide"
    }
   },
   "source": [
    "# Trivia June 2022\n",
    "\n",
    "Congratulations Chris and Kayla!"
   ]
  },
  {
   "cell_type": "markdown",
   "metadata": {
    "slideshow": {
     "slide_type": "slide"
    }
   },
   "source": [
    "**20 Questions, 100 Points**"
   ]
  },
  {
   "cell_type": "markdown",
   "metadata": {
    "slideshow": {
     "slide_type": "slide"
    }
   },
   "source": [
    "Required Topics:\n",
    "\n",
    "* France\n",
    "\n",
    "* Music\n",
    "\n",
    "* Reality Television"
   ]
  },
  {
   "cell_type": "markdown",
   "metadata": {
    "slideshow": {
     "slide_type": "slide"
    }
   },
   "source": [
    "## Reality Television"
   ]
  },
  {
   "cell_type": "markdown",
   "metadata": {
    "slideshow": {
     "slide_type": "subslide"
    }
   },
   "source": [
    "**1. Order the following reality tv show subreddits by subscribers (from most to fewest subscribers)**\n",
    "\n",
    "    A. r/thebachelor (The Bachelor) (192k)\n",
    "\n",
    "    B. r/rupaulsdragrace (RuPaul's Drag Race) (490k)\n",
    "\n",
    "    C. r/survivor (Survivor) (204k)\n",
    "\n",
    "    D. r/jeopardy (Jeopardy) (80k)"
   ]
  },
  {
   "cell_type": "markdown",
   "metadata": {
    "slideshow": {
     "slide_type": "subslide"
    }
   },
   "source": [
    "**2. Name the occupation/job of each of the last four Bachelors (occupation upon becoming The Bachelor)**\n",
    "\n",
    "    A. Colton Underwood (Pro Athlete/NFL)\n",
    "    \n",
    "    B. Peter Weber (Pilot)\n",
    "    \n",
    "    C. Matt James (Real Estate Broker)\n",
    "    \n",
    "    D. Clayton Echard (Medical Device Sales)\n",
    "    "
   ]
  },
  {
   "cell_type": "markdown",
   "metadata": {
    "slideshow": {
     "slide_type": "subslide"
    }
   },
   "source": [
    "**3. Survivor question based on occupation of the contestants, like rank occupations by average finish, or which occupation had the most winners**"
   ]
  },
  {
   "cell_type": "markdown",
   "metadata": {
    "slideshow": {
     "slide_type": "subslide"
    }
   },
   "source": [
    "**4. Survivor question based on state of contestants, like which state produces most winners per capita**"
   ]
  },
  {
   "cell_type": "markdown",
   "metadata": {
    "slideshow": {
     "slide_type": "subslide"
    }
   },
   "source": [
    "**5. Which one of the following is NOT a Real Housewives series?**\n",
    "\n",
    "    A. Real Housewives of New York City\n",
    "    \n",
    "    B. Real Housewives of Potomac\n",
    "    \n",
    "    C. Real Housewives of Salt Lake City\n",
    "    \n",
    "    D. Real Housewives of Denver (NOT)\n",
    "   "
   ]
  },
  {
   "cell_type": "markdown",
   "metadata": {
    "slideshow": {
     "slide_type": "subslide"
    }
   },
   "source": [
    "**6. Which of the following is NOT an actual reality TV dating show premise?**\n",
    "\n",
    "    A. One dater goes on five identical first dates, the setting is the same in each, right down to the restaurant and the dater's outfit and inevitably chooses the one person that stood out from the pack to go on a second date. (Dating Around)\n",
    "    \n",
    "    B. Two people meet for the first time at the altar, get married, and decide whether to stay together after eight weeks. (Married at First Sight)\n",
    "    \n",
    "    C. They say you never really know someone until you travel with them. That's what this series puts to the ultimate test. In it, a couple treks across eight of the roughest places in the world to see if they're ready for a lifetime of marriage. (Extreme Engagement)\n",
    "    \n",
    "    D. You're not suppose to mix business and pleasure, but in this series coworkers compete for the love and affection of their boss. 8 contestants are hired to work for one eligible bachelor, will the office romance lead to marriage or unemployment? (Marrying the Boss)\n",
    "    "
   ]
  },
  {
   "cell_type": "markdown",
   "metadata": {
    "slideshow": {
     "slide_type": "subslide"
    }
   },
   "source": [
    "**7. Identify the following members of the Kardashian extended family**\n",
    "\n",
    "<img src=\"img/kardashians/family_tree.png\" width=\"500\">"
   ]
  },
  {
   "cell_type": "markdown",
   "metadata": {
    "slideshow": {
     "slide_type": "slide"
    }
   },
   "source": [
    "## France"
   ]
  },
  {
   "cell_type": "markdown",
   "metadata": {
    "slideshow": {
     "slide_type": "subslide"
    }
   },
   "source": [
    "**8. For each of the following, is the origin French?**\n",
    "\n",
    "    A. French Fries (Yes, Thomas Jefferson brought back French recipe)\n",
    "    \n",
    "    B. French Press (No, Italian invention)\n",
    "    \n",
    "    C. French Horn (Yes, Type of french musical instrument)\n",
    "    \n",
    "    D. French Toast (No, They don't eat French Toast in France)\n",
    "    "
   ]
  },
  {
   "cell_type": "markdown",
   "metadata": {
    "slideshow": {
     "slide_type": "subslide"
    }
   },
   "source": [
    "**9. For each of the following Wars/Conflicts, was France involved?**\n",
    "\n",
    "    A. First Gulf War (1990-1991) (Yes)\n",
    "    \n",
    "    B. Korean War (1950-1953) (Yes)\n",
    "    \n",
    "    C. Great Turkish War (1683 -1699) (No)\n",
    "    \n",
    "    D. The War of Spanish Succession (1701-1714) (Yes)"
   ]
  },
  {
   "cell_type": "markdown",
   "metadata": {
    "slideshow": {
     "slide_type": "subslide"
    }
   },
   "source": []
  },
  {
   "cell_type": "markdown",
   "metadata": {
    "slideshow": {
     "slide_type": "subslide"
    }
   },
   "source": []
  },
  {
   "cell_type": "markdown",
   "metadata": {
    "slideshow": {
     "slide_type": "subslide"
    }
   },
   "source": []
  },
  {
   "cell_type": "markdown",
   "metadata": {
    "slideshow": {
     "slide_type": "subslide"
    }
   },
   "source": []
  },
  {
   "cell_type": "markdown",
   "metadata": {
    "slideshow": {
     "slide_type": "subslide"
    }
   },
   "source": []
  },
  {
   "cell_type": "markdown",
   "metadata": {
    "slideshow": {
     "slide_type": "slide"
    }
   },
   "source": [
    "France Questions Brainstorm:\n",
    "\n",
    "1. French music audio?\n",
    "2. What is the most common Male and Female name in France, multiple choice\n",
    "3. For the following wars/conflicts, was France involved?"
   ]
  },
  {
   "cell_type": "markdown",
   "metadata": {
    "slideshow": {
     "slide_type": "slide"
    }
   },
   "source": [
    "Music Questions Brainstorm:\n",
    "\n",
    "1. Here is the second most popular (spotify) song from a one hit wonder, name either the artist or the name of their one hit\n",
    "  2. "
   ]
  },
  {
   "cell_type": "markdown",
   "metadata": {
    "slideshow": {
     "slide_type": "slide"
    }
   },
   "source": [
    "Random Questions Brainstorm:\n",
    "\n",
    "1. Listen to audio of regional accents and identify accent from list (American, English, or potentially French?!?)\n",
    "2. After being given the population of a country/city today, guess the population of the same country/city\n",
    "3. After being shown a photo of a pop group, name the lesser known artists of that pop group\n",
    "4. After listening to the second most popular song on Spotify from \"one-hit wonder\" artists, name either the artist or the top song from their Spotify (\"the one hit\").\n",
    "5. Translate cockney ryhmes into standard English\n",
    "6. For each of the following celebrities, what was their major in college (multiple choice)\n"
   ]
  },
  {
   "cell_type": "markdown",
   "metadata": {
    "slideshow": {
     "slide_type": "slide"
    }
   },
   "source": []
  },
  {
   "cell_type": "markdown",
   "metadata": {},
   "source": []
  },
  {
   "cell_type": "markdown",
   "metadata": {},
   "source": []
  },
  {
   "cell_type": "markdown",
   "metadata": {},
   "source": []
  },
  {
   "cell_type": "markdown",
   "metadata": {},
   "source": []
  },
  {
   "cell_type": "markdown",
   "metadata": {},
   "source": []
  },
  {
   "cell_type": "markdown",
   "metadata": {},
   "source": []
  },
  {
   "cell_type": "markdown",
   "metadata": {},
   "source": []
  }
 ],
 "metadata": {
  "celltoolbar": "Slideshow",
  "kernelspec": {
   "display_name": "Python 3 (ipykernel)",
   "language": "python",
   "name": "python3"
  },
  "language_info": {
   "codemirror_mode": {
    "name": "ipython",
    "version": 3
   },
   "file_extension": ".py",
   "mimetype": "text/x-python",
   "name": "python",
   "nbconvert_exporter": "python",
   "pygments_lexer": "ipython3",
   "version": "3.7.3"
  }
 },
 "nbformat": 4,
 "nbformat_minor": 2
}
