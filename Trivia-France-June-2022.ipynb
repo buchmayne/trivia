{
 "cells": [
  {
   "cell_type": "markdown",
   "metadata": {
    "slideshow": {
     "slide_type": "slide"
    }
   },
   "source": [
    "# Trivia June 2022\n",
    "\n",
    "Congratulations Chris and Kayla!"
   ]
  },
  {
   "cell_type": "markdown",
   "metadata": {
    "slideshow": {
     "slide_type": "slide"
    }
   },
   "source": [
    "**20 Questions, 100 Points**"
   ]
  },
  {
   "cell_type": "markdown",
   "metadata": {
    "slideshow": {
     "slide_type": "slide"
    }
   },
   "source": [
    "Required Topics:\n",
    "\n",
    "* France\n",
    "\n",
    "* Music\n",
    "\n",
    "* Reality Television"
   ]
  },
  {
   "cell_type": "markdown",
   "metadata": {
    "slideshow": {
     "slide_type": "slide"
    }
   },
   "source": [
    "Reality TV Shows to draw from\n",
    "\n",
    "* Bachelor Cinematic Universe\n",
    "\n",
    "* Survivor\n",
    "\n",
    "* Real World vs. Road Rules Challenge\n"
   ]
  },
  {
   "cell_type": "markdown",
   "metadata": {
    "slideshow": {
     "slide_type": "slide"
    }
   },
   "source": [
    "Reality TV Questions Brainstorm:\n",
    "\n",
    "1. What reality TV show has the largest subreddit?\n",
    "\n",
    "2. The last X bachelors have had the occupations X, Y, Z, order the occupations from highest to lowest median earnings\n",
    "\n",
    "3. What is the most common occupation for the bachelor and bachelorette repsectively?\n",
    "\n",
    "4. Which location is NOT home to any Real Housewives?\n",
    "\n",
    "5. Which of the following is NOT a real premise to a reality dating show?\n",
    "\n",
    "6. Something about identifying different scandals from different seasons of the bachelor\n",
    "\n",
    "7. What occupation has won survivor the most?"
   ]
  },
  {
   "cell_type": "markdown",
   "metadata": {
    "slideshow": {
     "slide_type": "slide"
    }
   },
   "source": [
    "France Questions Brainstorm:\n",
    "\n",
    "1. French music audio?\n",
    "2. What is the most common Male and Female name in France, multiple choice"
   ]
  },
  {
   "cell_type": "markdown",
   "metadata": {
    "slideshow": {
     "slide_type": "slide"
    }
   },
   "source": [
    "Random Questions Brainstorm:\n",
    "\n",
    "1. Listen to audio of regional accents and identify accent from list (American, English, or potentially French?!?)\n",
    "2. After being given the population of a country/city today, guess the population of the same country/city\n",
    "3. After being shown a photo of a pop group, name the lesser known artists of that pop group\n",
    "4. After listening to the second most popular song on Spotify from \"one-hit wonder\" artists, name either the artist or the top song from their Spotify (\"the one hit\").\n",
    "5. Translate cockney ryhmes into standard English\n",
    "6. For each of the following celebrities, what was their major in college (multiple choice)\n"
   ]
  },
  {
   "cell_type": "markdown",
   "metadata": {
    "slideshow": {
     "slide_type": "slide"
    }
   },
   "source": []
  },
  {
   "cell_type": "markdown",
   "metadata": {},
   "source": []
  },
  {
   "cell_type": "markdown",
   "metadata": {},
   "source": []
  },
  {
   "cell_type": "markdown",
   "metadata": {},
   "source": []
  },
  {
   "cell_type": "markdown",
   "metadata": {},
   "source": []
  },
  {
   "cell_type": "markdown",
   "metadata": {},
   "source": []
  },
  {
   "cell_type": "markdown",
   "metadata": {},
   "source": []
  },
  {
   "cell_type": "markdown",
   "metadata": {},
   "source": []
  }
 ],
 "metadata": {
  "celltoolbar": "Slideshow",
  "kernelspec": {
   "display_name": "Python 3 (ipykernel)",
   "language": "python",
   "name": "python3"
  },
  "language_info": {
   "codemirror_mode": {
    "name": "ipython",
    "version": 3
   },
   "file_extension": ".py",
   "mimetype": "text/x-python",
   "name": "python",
   "nbconvert_exporter": "python",
   "pygments_lexer": "ipython3",
   "version": "3.7.3"
  }
 },
 "nbformat": 4,
 "nbformat_minor": 2
}
