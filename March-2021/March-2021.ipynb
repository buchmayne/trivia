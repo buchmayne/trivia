{
 "cells": [
  {
   "cell_type": "markdown",
   "metadata": {
    "slideshow": {
     "slide_type": "slide"
    }
   },
   "source": [
    "# Trivia March 2021\n",
    "\n",
    "By Marley Buchman"
   ]
  },
  {
   "cell_type": "markdown",
   "metadata": {
    "slideshow": {
     "slide_type": "slide"
    }
   },
   "source": [
    "### 20 Questions, 100 Points"
   ]
  },
  {
   "cell_type": "markdown",
   "metadata": {
    "slideshow": {
     "slide_type": "slide"
    }
   },
   "source": [
    "### Italian Pasta"
   ]
  },
  {
   "cell_type": "markdown",
   "metadata": {
    "slideshow": {
     "slide_type": "subslide"
    }
   },
   "source": [
    "**1. Identify the Italian Pasta from the photo (1 Point each)**\n",
    "    \n",
    "<img src=\"img/pasta.png\" width=\"500\">"
   ]
  },
  {
   "cell_type": "markdown",
   "metadata": {
    "slideshow": {
     "slide_type": "slide"
    }
   },
   "source": [
    "### Stage Names"
   ]
  },
  {
   "cell_type": "markdown",
   "metadata": {
    "slideshow": {
     "slide_type": "subslide"
    }
   },
   "source": [
    "**2. Is the following celebrity name their birth name or a stage name? (1 Point each)**\n",
    "\n",
    "    A. David Bowie\n",
    "    \n",
    "    B. Michael Keaton\n",
    "    \n",
    "    C. Calvin Harris\n",
    "    \n",
    "    D. Bruce Springsteen\n",
    "    \n",
    "    E. Leonardo DiCaprio\n"
   ]
  },
  {
   "cell_type": "markdown",
   "metadata": {
    "slideshow": {
     "slide_type": "slide"
    }
   },
   "source": [
    "### Philosophers"
   ]
  },
  {
   "cell_type": "markdown",
   "metadata": {
    "slideshow": {
     "slide_type": "subslide"
    }
   },
   "source": [
    "**3. Match the philosopher to one of their key ideas (1 Point Each)**\n",
    "\n",
    "    1. Ludwig Wittgenstein (1889–1951)\n",
    "    \n",
    "    2. Jean-Paul Sartre (1905–80)\n",
    "    \n",
    "    3. Friedrich Nietzsche (1844–1900)\n",
    "    \n",
    "    4. Michel Foucault (1926-1984)\n",
    "    \n",
    "    ---------------------\n",
    "    \n",
    "    A. Believed that human beings are “condemned to be free,” that because there is no Creator who is responsible for our actions, each of us alone is responsible for everything we do\n",
    "    \n",
    "    B. Believed in the individual’s creative capacity to resist social norms and cultural convention in order to live according to a greater set of virtues.\n",
    "    \n",
    "    C. Demanded that social constructs be more closely examined for hierarchical inequalities, as well as through an analysis of the corresponding fields of knowledge supporting these unequal structures\n",
    "    \n",
    "    D. Resolved that because thought is inextricably tied to language, and because language is socially constructed, we have no real inner-space for the realization of our thoughts, which is to say that the language of our thoughts renders our thoughts inherently socially constructed.\n",
    "    "
   ]
  },
  {
   "cell_type": "markdown",
   "metadata": {
    "slideshow": {
     "slide_type": "slide"
    }
   },
   "source": [
    "### Literature"
   ]
  },
  {
   "cell_type": "markdown",
   "metadata": {
    "slideshow": {
     "slide_type": "subslide"
    }
   },
   "source": [
    "**4. Match the opening line to the novel (1 Point Each)**\n",
    "\n",
    "    1. Call me Ishmael.\n",
    "    \n",
    "    2. Happy families are all alike; every unhappy family is unhappy in its own way.\n",
    "    \n",
    "    3.  Mother died today.\n",
    "    \n",
    "    4. He was an old man who fished alone in a skiff in the Gulf Stream and he had gone eighty-four days now without taking a fish.\n",
    "    \n",
    "    -------------------------\n",
    "    \n",
    "    A. The Stranger\n",
    "    \n",
    "    B. Anna Karenina\n",
    "    \n",
    "    C. Moby Dick\n",
    "    \n",
    "    D. The Old Man and the Sea"
   ]
  },
  {
   "cell_type": "markdown",
   "metadata": {
    "slideshow": {
     "slide_type": "slide"
    }
   },
   "source": [
    "### Mountains"
   ]
  },
  {
   "cell_type": "markdown",
   "metadata": {
    "slideshow": {
     "slide_type": "subslide"
    }
   },
   "source": [
    "**5. Rank the following peaks from tallest to shortest (1 Point Each)**\n",
    "\n",
    "    A. Mt. Rainier, Washington\n",
    "    \n",
    "    B. Mt. Whitney, California\n",
    "    \n",
    "    C. Mt. Shasta, California\n",
    "    \n",
    "    D. Castle Mountain, Montana\n",
    "    "
   ]
  },
  {
   "cell_type": "markdown",
   "metadata": {
    "slideshow": {
     "slide_type": "slide"
    }
   },
   "source": [
    "### Art History"
   ]
  },
  {
   "cell_type": "markdown",
   "metadata": {
    "slideshow": {
     "slide_type": "subslide"
    }
   },
   "source": [
    "**6A. Name either the title of the painting OR the artist (2 Points)**\n",
    "\n",
    "![](img/girl_with_the_pearl.jpg)"
   ]
  },
  {
   "cell_type": "markdown",
   "metadata": {
    "slideshow": {
     "slide_type": "subslide"
    }
   },
   "source": [
    "**6B. Name either the title of the painting OR the artist (2 Points)**\n",
    "\n",
    "![](img/venus.jpg)"
   ]
  },
  {
   "cell_type": "markdown",
   "metadata": {
    "slideshow": {
     "slide_type": "subslide"
    }
   },
   "source": [
    "**6C. Name either the title of the painting OR the artist (2 Points)**\n",
    "\n",
    "![](img/mondrian.jpg)"
   ]
  },
  {
   "cell_type": "markdown",
   "metadata": {
    "slideshow": {
     "slide_type": "subslide"
    }
   },
   "source": [
    "**6D. Name either the title of the painting OR the artist (2 Points)**\n",
    "\n",
    "![](img/nighthawks.jpg)"
   ]
  },
  {
   "cell_type": "markdown",
   "metadata": {
    "slideshow": {
     "slide_type": "subslide"
    }
   },
   "source": [
    "**7A. Match the famous painting shown to its artistic period/style/movement (1 Point each)**\n",
    "\n",
    "    Baroque (1600–1750), Impressionism (1865–1885), Post-Impressionism (1885–1910), Expressionism (1905–1920) \n",
    "\n",
    "![](img/impressionism.jpg)"
   ]
  },
  {
   "cell_type": "markdown",
   "metadata": {
    "slideshow": {
     "slide_type": "subslide"
    }
   },
   "source": [
    "**7B. Match the famous painting shown to its artistic period/style/movement (1 Point each)**\n",
    "\n",
    "    Baroque (1600–1750), Impressionism (1865–1885), Post-Impressionism (1885–1910), Expressionism (1905–1920)\n",
    "![](img/post-impressionism.jpg)"
   ]
  },
  {
   "cell_type": "markdown",
   "metadata": {
    "slideshow": {
     "slide_type": "subslide"
    }
   },
   "source": [
    "**7C. Match the famous painting shown to its artistic period/style/movement (1 Point each)**\n",
    "\n",
    "    Baroque (1600–1750), Impressionism (1865–1885), Post-Impressionism (1885–1910), Expressionism (1905–1920)\n",
    "![](img/expressionism.jpg)"
   ]
  },
  {
   "cell_type": "markdown",
   "metadata": {
    "slideshow": {
     "slide_type": "subslide"
    }
   },
   "source": [
    "**7D. Match the famous painting shown to its artistic period/style/movement (1 Point each)**    \n",
    "    \n",
    "    Baroque (1600–1750), Impressionism (1865–1885), Post-Impressionism (1885–1910), Expressionism (1905–1920)\n",
    "![](img/baroque.jpg)"
   ]
  },
  {
   "cell_type": "markdown",
   "metadata": {
    "slideshow": {
     "slide_type": "slide"
    }
   },
   "source": [
    "### Distances"
   ]
  },
  {
   "cell_type": "markdown",
   "metadata": {
    "slideshow": {
     "slide_type": "subslide"
    }
   },
   "source": [
    "**8. Rank the following trips by longest to shortest distance (miles/google maps/car) (1 Points each)**\n",
    "\n",
    "    A. Los Angeles -> San Francisco\n",
    "    \n",
    "    B. Baltimore -> Boston\n",
    "    \n",
    "    C. Milwaukee -> Cleveland\n",
    "    \n",
    "    D. Atlanta -> Miami\n",
    "    "
   ]
  },
  {
   "cell_type": "markdown",
   "metadata": {
    "slideshow": {
     "slide_type": "slide"
    }
   },
   "source": [
    "### College Sports"
   ]
  },
  {
   "cell_type": "markdown",
   "metadata": {
    "slideshow": {
     "slide_type": "subslide"
    }
   },
   "source": [
    "**9. Name each of the 7 univeristies that have won both titles at least once for (1 Point Each)**\n",
    "\n",
    "Since 1950, 7 universities have won both a national championship in football and a national championship in men's basketball. "
   ]
  },
  {
   "cell_type": "markdown",
   "metadata": {
    "slideshow": {
     "slide_type": "slide"
    }
   },
   "source": [
    "### Actors"
   ]
  },
  {
   "cell_type": "markdown",
   "metadata": {
    "slideshow": {
     "slide_type": "subslide"
    }
   },
   "source": [
    "**10. Rank the following Tom Cruise movies from highest to lowest based on rottentomatoes tomato meter (critics score) (1 Point Each)**\n",
    "\n",
    "    A. Jerry Maguire\n",
    "    \n",
    "    B. Mission Impossible: Fallout \n",
    "    \n",
    "    C. Top Gun\n",
    "    \n",
    "    D. Minority Report\n",
    "    "
   ]
  },
  {
   "cell_type": "markdown",
   "metadata": {
    "slideshow": {
     "slide_type": "subslide"
    }
   },
   "source": [
    "**11. Order the following Actors from Oldest to Youngest (1 Point Each)**\n",
    "\n",
    "    A. Samuel L Jackson\n",
    "    \n",
    "    B. Liam Neeson\n",
    "    \n",
    "    C. Tom Cruise\n",
    "    \n",
    "    D. Tom Hanks\n",
    "    "
   ]
  },
  {
   "cell_type": "markdown",
   "metadata": {
    "slideshow": {
     "slide_type": "slide"
    }
   },
   "source": [
    "### Fast and the Furious"
   ]
  },
  {
   "cell_type": "markdown",
   "metadata": {
    "slideshow": {
     "slide_type": "subslide"
    }
   },
   "source": [
    "**12. Match the plot synopsis to the entry in the Fast and the Furious film franchise (1 Point Each)**\n",
    "    \n",
    "    1. Fast Five\n",
    "    \n",
    "    2. Fast and Furious 6\n",
    "    \n",
    "    2. Furious 7\n",
    "    \n",
    "    4. The Fate of the Furious\n",
    "    \n",
    "    --------------------------\n",
    "    \n",
    "    A. Deckard Shaw, a rogue special forces assassin seeking to avenge his comatose younger brother Owen, puts the team of Dominic Toretto and Brian O'Conner in danger once again. \n",
    "    \n",
    "    B. Dominic Toretto, Brian O'Conner and Mia Toretto (Jordana Brewster) plan a heist to steal 100 million dollars from corrupt businessman Hernan Reyes while being pursued for arrest by U.S. Diplomatic Security Service (DSS) agent Luke Hobbs.\n",
    "    \n",
    "    C. Cyberterrorist Cipher coerces Dom into working for her and turns him against his team, forcing them to find Dominic and take down Cipher.\n",
    "    \n",
    "    D. Dominic Toretto, Brian O'Conner and their team are offered amnesty for their crimes by Luke Hobbs, in exchange for helping him take down a skilled mercenary organization led by Owen Shaw, one member of which is Toretto's former lover Letty Ortiz. It is the last film to be set before Tokyo Drift. \n",
    "    "
   ]
  },
  {
   "cell_type": "markdown",
   "metadata": {
    "slideshow": {
     "slide_type": "slide"
    }
   },
   "source": [
    "# BREAK (SCORING)"
   ]
  },
  {
   "cell_type": "markdown",
   "metadata": {
    "slideshow": {
     "slide_type": "slide"
    }
   },
   "source": [
    "### Mathematics"
   ]
  },
  {
   "cell_type": "markdown",
   "metadata": {
    "slideshow": {
     "slide_type": "subslide"
    }
   },
   "source": [
    "**13. Identify the following mathematical formula (2 Points)**\n",
    "\n",
    "![](img/volume_sphere.png)"
   ]
  },
  {
   "cell_type": "markdown",
   "metadata": {
    "slideshow": {
     "slide_type": "slide"
    }
   },
   "source": [
    "### First Name Last Name"
   ]
  },
  {
   "cell_type": "markdown",
   "metadata": {
    "slideshow": {
     "slide_type": "subslide"
    }
   },
   "source": [
    "**Example Prompt**\n",
    "\n",
    "    1. Swimsuit Model\n",
    "\n",
    "    2. Socialist American Author of the Novel Oil!\n",
    "    \n",
    "    3. Nobel Prize Winning Playwright\n",
    "    \n",
    "    4. Cantankerous American Comedian \n",
    "\n",
    "**Example Answer**\n",
    "\n",
    "Kate-Upton-Sinclair-Lewis-Black"
   ]
  },
  {
   "cell_type": "markdown",
   "metadata": {
    "slideshow": {
     "slide_type": "subslide"
    }
   },
   "source": [
    "**14. Four famous people together produce five total words, each correct name is worth 2 Points (8 Points Total)**\n",
    "\n",
    "Prompt:\n",
    "\n",
    "    1. Front man of one of the best selling bands of the last 20 years\n",
    "    \n",
    "    2. Comedic actor who costarred in a major film franchise with Will Smith\n",
    "    \n",
    "    3. One of the NFL's greatest defensive players, regardless of his off field battle with drugs\n",
    "    \n",
    "    4. Millenial artist rerecording earlier albums due to high profile label dispute\n"
   ]
  },
  {
   "cell_type": "markdown",
   "metadata": {
    "slideshow": {
     "slide_type": "slide"
    }
   },
   "source": [
    "### Anagrams"
   ]
  },
  {
   "cell_type": "markdown",
   "metadata": {
    "slideshow": {
     "slide_type": "subslide"
    }
   },
   "source": [
    "**15. Solve the following anagram (5 Points)**\n",
    "\n",
    "This was the headline of the Los Angeles Times on August 7th, 1945 (Four Words). Hint: it was a major moment in the war\n",
    "\n",
    "    j s m o n b i m o t a p a b c a t i h\n",
    "    \n",
    "![](img/anagrams/march.png)"
   ]
  },
  {
   "cell_type": "markdown",
   "metadata": {
    "slideshow": {
     "slide_type": "slide"
    }
   },
   "source": [
    "### Venn Diagrams"
   ]
  },
  {
   "cell_type": "markdown",
   "metadata": {
    "slideshow": {
     "slide_type": "subslide"
    }
   },
   "source": [
    "**16. Each circle of the venn diagram is a movie featuring all of the actors listed within the circle. Identify each movie (2 Points Each)**\n",
    "\n",
    "![](img/actors.png)"
   ]
  },
  {
   "cell_type": "markdown",
   "metadata": {
    "slideshow": {
     "slide_type": "slide"
    }
   },
   "source": [
    "### Guess the Data on the Map"
   ]
  },
  {
   "cell_type": "markdown",
   "metadata": {
    "slideshow": {
     "slide_type": "subslide"
    }
   },
   "source": [
    "**17. Guess the data that map is showing (8 Points)**\n",
    "\n",
    "![](img/college.png)"
   ]
  },
  {
   "cell_type": "markdown",
   "metadata": {
    "slideshow": {
     "slide_type": "slide"
    }
   },
   "source": [
    "### Puzzle/Riddle"
   ]
  },
  {
   "cell_type": "markdown",
   "metadata": {
    "slideshow": {
     "slide_type": "subslide"
    }
   },
   "source": [
    "**18. Answer the following puzzle/riddle (4 Points)**\n",
    "\n",
    "Once upon a time a farmer went to a market and purchased a wolf, a goat, and a cabbage. On his way home, the farmer came to the bank of a river and rented a boat. But crossing the river by boat, the farmer could carry only himself and a single one of his purchases: the wolf, the goat, or the cabbage.\n",
    "\n",
    "If left unattended together, the wolf would eat the goat, or the goat would eat the cabbage.\n",
    "\n",
    "The farmer's challenge was to carry himself and his purchases to the far bank of the river, leaving each purchase intact. How did he do it? "
   ]
  },
  {
   "cell_type": "markdown",
   "metadata": {
    "slideshow": {
     "slide_type": "slide"
    }
   },
   "source": [
    "### Birds' Eye View"
   ]
  },
  {
   "cell_type": "markdown",
   "metadata": {
    "slideshow": {
     "slide_type": "subslide"
    }
   },
   "source": [
    "**19. Identify the Location of the Satelitte Image (4 Points)**\n",
    "\n",
    "![](img/ground_zero.png)"
   ]
  },
  {
   "cell_type": "markdown",
   "metadata": {
    "slideshow": {
     "slide_type": "slide"
    }
   },
   "source": [
    "### Visual Puns"
   ]
  },
  {
   "cell_type": "markdown",
   "metadata": {
    "slideshow": {
     "slide_type": "subslide"
    }
   },
   "source": [
    "**20. (4 Points for Theme, 1 Point for guessing each image correctly)**\n",
    "\n",
    "![](img/card_games.png)"
   ]
  },
  {
   "cell_type": "markdown",
   "metadata": {
    "slideshow": {
     "slide_type": "slide"
    }
   },
   "source": [
    "# BONUS ROUND"
   ]
  },
  {
   "cell_type": "markdown",
   "metadata": {
    "slideshow": {
     "slide_type": "slide"
    }
   },
   "source": [
    "### Andre the Giant (Determine the number of points you'd like to wager)"
   ]
  },
  {
   "cell_type": "markdown",
   "metadata": {
    "slideshow": {
     "slide_type": "subslide"
    }
   },
   "source": [
    "**Andre the Giant was really big. If an alchemist had turned Andre the Giant into a solid gold statue, how much would the statue be worth in U.S. dollars?**\n",
    "\n",
    "\n",
    "Answers within +-25% of the correct answer are accepted. If no one answers within the accepted range, the two closest answers will be deemed correct"
   ]
  }
 ],
 "metadata": {
  "celltoolbar": "Slideshow",
  "kernelspec": {
   "display_name": "Python 3 (ipykernel)",
   "language": "python",
   "name": "python3"
  },
  "language_info": {
   "codemirror_mode": {
    "name": "ipython",
    "version": 3
   },
   "file_extension": ".py",
   "mimetype": "text/x-python",
   "name": "python",
   "nbconvert_exporter": "python",
   "pygments_lexer": "ipython3",
   "version": "3.9.4"
  }
 },
 "nbformat": 4,
 "nbformat_minor": 2
}
