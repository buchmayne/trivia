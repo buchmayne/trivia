{
 "cells": [
  {
   "cell_type": "markdown",
   "metadata": {
    "slideshow": {
     "slide_type": "slide"
    }
   },
   "source": [
    "# Trivia\n",
    "\n",
    "by Marley Buchman"
   ]
  },
  {
   "cell_type": "markdown",
   "metadata": {
    "slideshow": {
     "slide_type": "slide"
    }
   },
   "source": [
    "### Military Strategy"
   ]
  },
  {
   "cell_type": "markdown",
   "metadata": {
    "slideshow": {
     "slide_type": "subslide"
    }
   },
   "source": [
    "**1. What is the SECOND stage of a penetration test?**\n",
    "    \n",
    "    A. Surveillance of the enemy's headquarters\n",
    "    \n",
    "    B. A direct attack through an enemy's lines\n",
    "    \n",
    "    C. An attack on the enemy's rear forces\n"
   ]
  },
  {
   "cell_type": "markdown",
   "metadata": {
    "slideshow": {
     "slide_type": "subslide"
    }
   },
   "source": [
    "**2. Which tactic involves attacking an enemy from the rear?**\n",
    "    \n",
    "    A. Flanking maneuver\n",
    "    \n",
    "    B. Counterforce\n",
    "    \n",
    "    C. Pincer maneuver\n",
    "    "
   ]
  },
  {
   "cell_type": "markdown",
   "metadata": {
    "slideshow": {
     "slide_type": "subslide"
    }
   },
   "source": [
    "**3. A scorpion attack is a pincer attack that is assited by what kind of force?**\n",
    "    \n",
    "    A. Armored vehicle attack\n",
    "    \n",
    "    B. Air attack\n",
    "    \n",
    "    C. Naval bombardment"
   ]
  },
  {
   "cell_type": "markdown",
   "metadata": {
    "slideshow": {
     "slide_type": "slide"
    }
   },
   "source": [
    "### Universities"
   ]
  },
  {
   "cell_type": "markdown",
   "metadata": {
    "slideshow": {
     "slide_type": "subslide"
    }
   },
   "source": [
    "**1. Given the pair of universities, which university has a larger student body?**\n",
    "    \n",
    "    University of Central Flordia or Ohio State University\n"
   ]
  },
  {
   "cell_type": "markdown",
   "metadata": {
    "slideshow": {
     "slide_type": "subslide"
    }
   },
   "source": [
    "**2. Given the pair of universities, which university has a larger student body?**\n",
    "    \n",
    "    Michigan State University or University of Southern California\n",
    " "
   ]
  },
  {
   "cell_type": "markdown",
   "metadata": {
    "slideshow": {
     "slide_type": "subslide"
    }
   },
   "source": [
    "**3. Given the pair of universities, which university has a larger student body?**\n",
    "    \n",
    "    UCLA or University of Wisconsin\n",
    "    "
   ]
  },
  {
   "cell_type": "markdown",
   "metadata": {
    "slideshow": {
     "slide_type": "subslide"
    }
   },
   "source": [
    "**4. Given the pair of universities, which university has a larger student body?**\n",
    "    \n",
    "    Harvard or Oregon State University"
   ]
  },
  {
   "cell_type": "markdown",
   "metadata": {
    "slideshow": {
     "slide_type": "subslide"
    }
   },
   "source": [
    "**5. Given the pair of universities, which university has a larger student body?**\n",
    "    \n",
    "    Portland State University or Kansas State University"
   ]
  },
  {
   "cell_type": "markdown",
   "metadata": {
    "slideshow": {
     "slide_type": "slide"
    }
   },
   "source": [
    "### Age of Historical Figures"
   ]
  },
  {
   "cell_type": "markdown",
   "metadata": {
    "slideshow": {
     "slide_type": "subslide"
    }
   },
   "source": [
    "**1. Which historical figure was born first?**\n",
    "    \n",
    "    A. Martin Luther King Jr\n",
    "    \n",
    "    B. Anne Frank\n",
    "    \n",
    "    C. George H.W. Bush\n",
    "    \n",
    "    D. Joe Biden\n",
    "    \n",
    "    E. James Dean"
   ]
  },
  {
   "cell_type": "markdown",
   "metadata": {
    "slideshow": {
     "slide_type": "slide"
    }
   },
   "source": [
    "### Corporate Headquarter Locations"
   ]
  },
  {
   "cell_type": "markdown",
   "metadata": {
    "slideshow": {
     "slide_type": "subslide"
    }
   },
   "source": [
    "**1. Match the corporate headquarter location to the corporation**\n",
    "    \n",
    "    A. FedEx\n",
    "    \n",
    "    B. Comcast\n",
    "    \n",
    "    C. Home Depot\n",
    "    \n",
    "    D. Dominos\n",
    "    \n",
    "    -------------------\n",
    "    \n",
    "    1. Philadelphia, PA\n",
    "    \n",
    "    2. Ann Arbor, MI\n",
    "    \n",
    "    3. Memphis, TN\n",
    "    \n",
    "    4. Atlanta, GA"
   ]
  },
  {
   "cell_type": "markdown",
   "metadata": {
    "slideshow": {
     "slide_type": "slide"
    }
   },
   "source": [
    "### Sports Careers"
   ]
  },
  {
   "cell_type": "markdown",
   "metadata": {
    "slideshow": {
     "slide_type": "subslide"
    }
   },
   "source": [
    "**1. Relative to their sport, what athlete scored more over the course of thier career?**\n",
    "    \n",
    "    A. Alex Rodriguez is in X place all time in career home runs\n",
    "    \n",
    "    B. Wilt Chamberlin is in Y place all time in career points scored\n",
    "    \n",
    "    C. Philip Rivers is in Z place all time in career touchdowns scored\n",
    "\n",
    "    Order X, Y, and Z from highest to lowest"
   ]
  },
  {
   "cell_type": "markdown",
   "metadata": {
    "slideshow": {
     "slide_type": "slide"
    }
   },
   "source": [
    "### Identify the International Cities by their Skyline"
   ]
  },
  {
   "cell_type": "markdown",
   "metadata": {
    "slideshow": {
     "slide_type": "subslide"
    }
   },
   "source": [
    "**1.**\n",
    "\n",
    "![](img/international_skylines/moscow_skyline.jpeg)"
   ]
  },
  {
   "cell_type": "markdown",
   "metadata": {
    "slideshow": {
     "slide_type": "subslide"
    }
   },
   "source": [
    "**2.**\n",
    "\n",
    "![](img/international_skylines/hong_kong_skyline.jpeg)"
   ]
  },
  {
   "cell_type": "markdown",
   "metadata": {
    "slideshow": {
     "slide_type": "subslide"
    }
   },
   "source": [
    "**3.**\n",
    "\n",
    "![](img/international_skylines/toronto_skyline.jpeg)"
   ]
  },
  {
   "cell_type": "markdown",
   "metadata": {
    "slideshow": {
     "slide_type": "slide"
    }
   },
   "source": [
    "### Identify the U.S. Cities by their Skyline"
   ]
  },
  {
   "cell_type": "markdown",
   "metadata": {
    "slideshow": {
     "slide_type": "subslide"
    }
   },
   "source": [
    "**1.**\n",
    "\n",
    "![](img/us_skylines/los_angeles_skyline.jpeg)"
   ]
  },
  {
   "cell_type": "markdown",
   "metadata": {
    "slideshow": {
     "slide_type": "slide"
    }
   },
   "source": [
    "### Puzzle/Word Problem/Riddle"
   ]
  },
  {
   "cell_type": "markdown",
   "metadata": {
    "slideshow": {
     "slide_type": "subslide"
    }
   },
   "source": [
    "**1.** \n",
    "\n",
    "Suppose you're on a game show, and you're given the choice of three doors: \n",
    "\n",
    "Behind one door is a car; behind the others, goats. \n",
    "\n",
    "You pick a door, say No. 1, and the host, who knows what's behind the doors, opens another door, say No. 3, which has a goat. He then says to you, \"Do you want to pick door No. 2?\" \n",
    "\n",
    "Is it to your advantage to switch your choice?"
   ]
  },
  {
   "cell_type": "markdown",
   "metadata": {
    "slideshow": {
     "slide_type": "slide"
    }
   },
   "source": [
    "### Music Chronology"
   ]
  },
  {
   "cell_type": "markdown",
   "metadata": {
    "slideshow": {
     "slide_type": "subslide"
    }
   },
   "source": [
    "**1. Match the release date to the classic album**\n",
    "\n",
    "    1. May 26, 1967\n",
    "    \n",
    "    2. January 12, 1969\n",
    "    \n",
    "    3. November 4, 1970\n",
    "    \n",
    "    4. March 1, 1973\n",
    "    \n",
    "    5. January 20, 1975\n",
    "    ------------------------------------------\n",
    "    A. David Bowie: The Man Who Sold The World\n",
    "    \n",
    "    B. Pink Floyd: Darkside Of The Moon\n",
    "    \n",
    "    C. Bob Dylan: Blood On The Tracks\n",
    "    \n",
    "    D. Led Zeppelin: Led Zeppelin\n",
    "    \n",
    "    E. Beatles: Sgt Pepper Lonely Heart's Club Band"
   ]
  },
  {
   "cell_type": "markdown",
   "metadata": {
    "slideshow": {
     "slide_type": "slide"
    }
   },
   "source": [
    "### Mathematics"
   ]
  },
  {
   "cell_type": "markdown",
   "metadata": {
    "slideshow": {
     "slide_type": "subslide"
    }
   },
   "source": [
    "**1. What simple mathematical concept does the following equation represent?**\n",
    "\n",
    "![](img/mathematics/mean.png)"
   ]
  },
  {
   "cell_type": "markdown",
   "metadata": {
    "slideshow": {
     "slide_type": "slide"
    }
   },
   "source": [
    "### Geography: Longitude"
   ]
  },
  {
   "cell_type": "markdown",
   "metadata": {
    "slideshow": {
     "slide_type": "subslide"
    }
   },
   "source": [
    "**1. Order the European cities from West to East**\n",
    "\n",
    "    A. Vienna\n",
    "    \n",
    "    B. Paris\n",
    "    \n",
    "    C. Rome\n",
    "    \n",
    "    D. Berlin\n",
    "    \n",
    "    E. Amsterdam"
   ]
  },
  {
   "cell_type": "markdown",
   "metadata": {
    "slideshow": {
     "slide_type": "subslide"
    }
   },
   "source": [
    "**2. Order the Chinese cities from West to East**\n",
    "\n",
    "    A. Beijing\n",
    "    \n",
    "    B. Wuhan\n",
    "    \n",
    "    C. Shenzen\n",
    "    \n",
    "    D. Shanghai"
   ]
  },
  {
   "cell_type": "markdown",
   "metadata": {
    "slideshow": {
     "slide_type": "subslide"
    }
   },
   "source": [
    "**3. Order the Texas cities from West to East**\n",
    "\n",
    "    A. El Paso\n",
    "    \n",
    "    B. Dallas\n",
    "    \n",
    "    C. Austin\n",
    "    \n",
    "    D. Houston\n",
    "    \n",
    "    E. San Antonio"
   ]
  },
  {
   "cell_type": "markdown",
   "metadata": {
    "slideshow": {
     "slide_type": "slide"
    }
   },
   "source": [
    "### Geography: Latitude"
   ]
  },
  {
   "cell_type": "markdown",
   "metadata": {
    "slideshow": {
     "slide_type": "subslide"
    }
   },
   "source": [
    "**1. Order the European cities from North to South**\n",
    "\n",
    "    A. Paris\n",
    "    \n",
    "    B. Barcelona\n",
    "    \n",
    "    C. Milan\n",
    "    \n",
    "    D. Copenhagen\n",
    "    \n",
    "    E. London\n",
    "    \n",
    "    F. Munich"
   ]
  },
  {
   "cell_type": "markdown",
   "metadata": {
    "slideshow": {
     "slide_type": "subslide"
    }
   },
   "source": [
    "**2. Order the English cities from North to South**\n",
    "\n",
    "    A. London\n",
    "    \n",
    "    B. Liverpool\n",
    "    \n",
    "    C. Cambridge\n",
    "    \n",
    "    D. Manchester\n",
    "    \n",
    "    E. Southampton"
   ]
  },
  {
   "cell_type": "markdown",
   "metadata": {
    "slideshow": {
     "slide_type": "subslide"
    }
   },
   "source": [
    "**3. Order the Ohio cities from North to South**\n",
    "\n",
    "    A. Dayton\n",
    "    \n",
    "    B. Cleveland\n",
    "    \n",
    "    C. Cincinatti\n",
    "    \n",
    "    D. Columbus\n",
    "    \n",
    "    E. Toledo"
   ]
  },
  {
   "cell_type": "markdown",
   "metadata": {
    "slideshow": {
     "slide_type": "slide"
    }
   },
   "source": [
    "### Geography: Capitals"
   ]
  },
  {
   "cell_type": "markdown",
   "metadata": {
    "slideshow": {
     "slide_type": "subslide"
    }
   },
   "source": [
    "**1. Name the country based on the capital**\n",
    "\n",
    "    A. Nur-Sultan (formerly Astana)\n",
    "    \n",
    "    B. Abuja\n",
    "    \n",
    "    C. Montevideo"
   ]
  },
  {
   "cell_type": "markdown",
   "metadata": {
    "slideshow": {
     "slide_type": "subslide"
    }
   },
   "source": [
    "**2. Name the country based on the capital**\n",
    "    \n",
    "    A. Lima\n",
    "    \n",
    "    B. Helsinki\n",
    "    \n",
    "    C. Caracas\n",
    "    \n",
    "    D. Canberra\n",
    "    \n",
    "    E. Jakarta"
   ]
  },
  {
   "cell_type": "markdown",
   "metadata": {
    "slideshow": {
     "slide_type": "slide"
    }
   },
   "source": [
    "### Population"
   ]
  },
  {
   "cell_type": "markdown",
   "metadata": {
    "slideshow": {
     "slide_type": "subslide"
    }
   },
   "source": [
    "**1. Rank the following Capital Cities (Metro Area) by population density, from most dense to least**\n",
    "\n",
    "    A. Manilla, Philippines\n",
    "    \n",
    "    B. Delhi, India\n",
    "    \n",
    "    C. Athens, Greece\n",
    "    \n",
    "    D. Seoul, South Korea"
   ]
  },
  {
   "cell_type": "markdown",
   "metadata": {
    "slideshow": {
     "slide_type": "slide"
    }
   },
   "source": [
    "### Visual Puns"
   ]
  },
  {
   "cell_type": "markdown",
   "metadata": {
    "slideshow": {
     "slide_type": "subslide"
    }
   },
   "source": [
    "**1.**\n",
    "\n",
    "![](img/visual_puns/tech-companies.png)"
   ]
  },
  {
   "cell_type": "markdown",
   "metadata": {
    "slideshow": {
     "slide_type": "subslide"
    }
   },
   "source": [
    "**2.**\n",
    "\n",
    "![](img/visual_puns/states.png)"
   ]
  },
  {
   "cell_type": "markdown",
   "metadata": {
    "slideshow": {
     "slide_type": "subslide"
    }
   },
   "source": [
    "**3.**\n",
    "\n",
    "![](img/visual_puns/bands.png)"
   ]
  },
  {
   "cell_type": "markdown",
   "metadata": {
    "slideshow": {
     "slide_type": "slide"
    }
   },
   "source": [
    "### Genres"
   ]
  },
  {
   "cell_type": "markdown",
   "metadata": {
    "slideshow": {
     "slide_type": "subslide"
    }
   },
   "source": [
    "**1. Match the genre to its description**\n",
    "![](img/genres/metal-genres.png)"
   ]
  },
  {
   "cell_type": "markdown",
   "metadata": {
    "slideshow": {
     "slide_type": "slide"
    }
   },
   "source": [
    "### Identify the Data Portrayed on the Map"
   ]
  },
  {
   "cell_type": "markdown",
   "metadata": {
    "slideshow": {
     "slide_type": "subslide"
    }
   },
   "source": [
    "**1.**\n",
    "![](img/data_maps/mormon-population.png)"
   ]
  },
  {
   "cell_type": "markdown",
   "metadata": {
    "slideshow": {
     "slide_type": "subslide"
    }
   },
   "source": [
    "**2. Guess the Category**\n",
    "![](img/data_maps/most-popular-sport.png)"
   ]
  },
  {
   "cell_type": "markdown",
   "metadata": {
    "slideshow": {
     "slide_type": "subslide"
    }
   },
   "source": [
    "**3.**\n",
    "\n",
    "![](img/data_maps/alcohol_consumption.png)"
   ]
  },
  {
   "cell_type": "markdown",
   "metadata": {
    "slideshow": {
     "slide_type": "slide"
    }
   },
   "source": [
    "### Identify the Cocktail by its Recipe"
   ]
  },
  {
   "cell_type": "markdown",
   "metadata": {
    "slideshow": {
     "slide_type": "subslide"
    }
   },
   "source": [
    "**1.**\n",
    "\n",
    "Made with white rum, sugar (traditionally sugar cane juice), lime juice, soda water, and mint"
   ]
  },
  {
   "cell_type": "markdown",
   "metadata": {
    "slideshow": {
     "slide_type": "subslide"
    }
   },
   "source": [
    "**2.**\n",
    "\n",
    "Made with vodka, spicy ginger beer, and lime juice, garnished with a slice or wedge of lime."
   ]
  },
  {
   "cell_type": "markdown",
   "metadata": {
    "slideshow": {
     "slide_type": "subslide"
    }
   },
   "source": [
    "**3.**\n",
    "\n",
    "Made with vodka, triple sec, cranberry juice, and freshly squeezed or sweetened lime juice."
   ]
  },
  {
   "cell_type": "markdown",
   "metadata": {
    "slideshow": {
     "slide_type": "subslide"
    }
   },
   "source": [
    "**4.**\n",
    "\n",
    "Made by muddling sugar with bitters, adding whiskey or, less commonly, brandy, and garnishing with a twist of citrus rind and a cocktail cherry."
   ]
  },
  {
   "cell_type": "markdown",
   "metadata": {
    "slideshow": {
     "slide_type": "subslide"
    }
   },
   "source": [
    "**5.**\n",
    "\n",
    "Made with whiskey, sweet vermouth, and bitters."
   ]
  },
  {
   "cell_type": "markdown",
   "metadata": {
    "slideshow": {
     "slide_type": "slide"
    }
   },
   "source": [
    "### Heads of State"
   ]
  },
  {
   "cell_type": "markdown",
   "metadata": {
    "slideshow": {
     "slide_type": "subslide"
    }
   },
   "source": [
    "**1. Match the Head of State to the Country they lead** \n",
    "\n",
    "    1. Jair Bolsonaro\n",
    "    \n",
    "    2. Muhammadu Buhari\n",
    "    \n",
    "    3. Andrés Manuel López Obrador\n",
    "    \n",
    "    4. Marcelo Rebelo de Sousa\n",
    "    \n",
    "    ----------------\n",
    "    \n",
    "    A. Mexico\n",
    "    \n",
    "    B. Brazil\n",
    "    \n",
    "    C. Nigeria\n",
    "    \n",
    "    D. Portugal"
   ]
  },
  {
   "cell_type": "markdown",
   "metadata": {
    "slideshow": {
     "slide_type": "slide"
    }
   },
   "source": [
    "### Architecture"
   ]
  },
  {
   "cell_type": "markdown",
   "metadata": {
    "slideshow": {
     "slide_type": "subslide"
    }
   },
   "source": [
    "**1. Match the description to the architectural style**\n",
    "\n",
    "    1. International Style 2. Art Deco 3. Functionalism 4. Usonia\n",
    "    ------------------------------------------------------------\n",
    "    A.  X are typically small, single-story dwellings without a garage or much storage. They are often L-shaped to fit around a garden terrace on unusual and inexpensive sites. They are characterized by native materials; flat roofs and large cantilevered overhangs for passive solar heating and natural cooling; natural lighting with clerestory windows; and radiant-floor heating.\n",
    "\n",
    "    B. \"there should be no features about a building which are not necessary for convenience, construction, or propriety\" and \"all ornament should consist of enrichment of the essential construction of the building\"\n",
    "\n",
    "    C. X is characterized by an emphasis on volume over mass, the use of lightweight, mass-produced, industrial materials, rejection of all ornament and colour, repetitive modular forms, and the use of flat surfaces, typically alternating with areas of glass\n",
    "\n",
    "    D.  X combined modern styles with fine craftsmanship and rich materials. During its heyday, X represented luxury, glamour, exuberance, and faith in social and technological progress. "
   ]
  },
  {
   "cell_type": "markdown",
   "metadata": {
    "slideshow": {
     "slide_type": "slide"
    }
   },
   "source": [
    "### Actors"
   ]
  },
  {
   "cell_type": "markdown",
   "metadata": {
    "slideshow": {
     "slide_type": "subslide"
    }
   },
   "source": [
    "**1. Match the Actor to their hometown**\n",
    "\n",
    "    1. Brad Pitt\n",
    "    \n",
    "    2. Steve Carell\n",
    "    \n",
    "    3. Amy Adams\n",
    "    \n",
    "    4. Merryl Streep\n",
    "    \n",
    "    -------------------------\n",
    "    \n",
    "    A. Bernardsville, New Jersey\n",
    "    \n",
    "    B. Springfield, Missouri \n",
    "    \n",
    "    C. Castle Rock, Colorado\n",
    "    \n",
    "    D. Acton, Massachusetts"
   ]
  },
  {
   "cell_type": "markdown",
   "metadata": {
    "slideshow": {
     "slide_type": "subslide"
    }
   },
   "source": [
    "**2.**\n",
    "\n",
    "Rank the following films starring Leo DiCaprio from highest to lowest based on RottenTomatoes tomato meter (Critics Score)\n",
    "\n",
    "    A. Titanic\n",
    "    \n",
    "    B. Catch Me If You Can\n",
    "    \n",
    "    C. The Wolf Of Wall Street\n",
    "    \n",
    "    D. Gangs Of New York"
   ]
  },
  {
   "cell_type": "markdown",
   "metadata": {
    "slideshow": {
     "slide_type": "slide"
    }
   },
   "source": [
    "### Timezones"
   ]
  },
  {
   "cell_type": "markdown",
   "metadata": {
    "slideshow": {
     "slide_type": "subslide"
    }
   },
   "source": [
    "**1.**\n",
    "\n",
    "How many timezones are in each country?\n",
    "\n",
    "    A. China\n",
    "    \n",
    "    B. Australia\n",
    "    \n",
    "    C. Russia\n",
    "    \n",
    "    D. Brazil\n",
    "    "
   ]
  },
  {
   "cell_type": "markdown",
   "metadata": {
    "slideshow": {
     "slide_type": "slide"
    }
   },
   "source": [
    "### Demonyms"
   ]
  },
  {
   "cell_type": "markdown",
   "metadata": {
    "slideshow": {
     "slide_type": "subslide"
    }
   },
   "source": [
    "**1.**\n",
    "Name the demonym for the following states (e.g. a resident of Oregon is an Oregonian)\n",
    "\n",
    "    1. Idaho\n",
    "    \n",
    "    2. Kentucky\n",
    "    \n",
    "    3. Wisconsin\n",
    "    \n",
    "    4. Michigan\n",
    "    "
   ]
  },
  {
   "cell_type": "markdown",
   "metadata": {
    "slideshow": {
     "slide_type": "subslide"
    }
   },
   "source": [
    "**2.**\n",
    "Name the demonym for the following international cities (e.g. a resident of Bristol is a Bristolian)\n",
    "\n",
    "    1. Moscow\n",
    "    \n",
    "    2. Dublin\n",
    "    \n",
    "    3. Florence\n",
    "    \n",
    "    4. Athens\n",
    "    "
   ]
  },
  {
   "cell_type": "markdown",
   "metadata": {
    "slideshow": {
     "slide_type": "subslide"
    }
   },
   "source": [
    "**3.**\n",
    "Name the demonym for the following U.S. cities (e.g. a resident of Boston is a Bostonian)\n",
    "\n",
    "    1. Louisville\n",
    "    \n",
    "    2. Tampa\n",
    "    \n",
    "    3. Phoenix\n",
    "    \n",
    "    4. Denver\n",
    "    "
   ]
  },
  {
   "cell_type": "markdown",
   "metadata": {
    "slideshow": {
     "slide_type": "slide"
    }
   },
   "source": [
    "### History of Inventions"
   ]
  },
  {
   "cell_type": "markdown",
   "metadata": {
    "slideshow": {
     "slide_type": "subslide"
    }
   },
   "source": [
    "**1.**\n",
    "Name the decade in which the following was invented\n",
    "    \n",
    "    1. Escalator (first design actually built)\n",
    "    \n",
    "    2. Domestic Vacuum Cleaner\n",
    "    \n",
    "    3. Espresso Machine\n",
    "    \n",
    "    4. Transatlantic Cable\n",
    "   "
   ]
  }
 ],
 "metadata": {
  "celltoolbar": "Slideshow",
  "kernelspec": {
   "display_name": "Python 3",
   "language": "python",
   "name": "python3"
  },
  "language_info": {
   "codemirror_mode": {
    "name": "ipython",
    "version": 3
   },
   "file_extension": ".py",
   "mimetype": "text/x-python",
   "name": "python",
   "nbconvert_exporter": "python",
   "pygments_lexer": "ipython3",
   "version": "3.7.3"
  }
 },
 "nbformat": 4,
 "nbformat_minor": 2
}
