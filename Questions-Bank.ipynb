{
 "cells": [
  {
   "cell_type": "markdown",
   "metadata": {
    "slideshow": {
     "slide_type": "slide"
    }
   },
   "source": [
    "# Trivia\n",
    "\n",
    "by Marley Buchman"
   ]
  },
  {
   "cell_type": "markdown",
   "metadata": {
    "slideshow": {
     "slide_type": "slide"
    }
   },
   "source": [
    "### Military Strategy"
   ]
  },
  {
   "cell_type": "markdown",
   "metadata": {
    "slideshow": {
     "slide_type": "subslide"
    }
   },
   "source": [
    "**1. What is the SECOND stage of a penetration test?**\n",
    "    \n",
    "    A. Surveillance of the enemy's headquarters\n",
    "    \n",
    "    B. A direct attack through an enemy's lines\n",
    "    \n",
    "    C. An attack on the enemy's rear forces\n"
   ]
  },
  {
   "cell_type": "markdown",
   "metadata": {
    "slideshow": {
     "slide_type": "subslide"
    }
   },
   "source": [
    "**2. Which tactic involves attacking an enemy from the rear?**\n",
    "    \n",
    "    A. Flanking maneuver\n",
    "    \n",
    "    B. Counterforce\n",
    "    \n",
    "    C. Pincer maneuver\n",
    "    "
   ]
  },
  {
   "cell_type": "markdown",
   "metadata": {
    "slideshow": {
     "slide_type": "subslide"
    }
   },
   "source": [
    "**3. A scorpion attack is a pincer attack that is assited by what kind of force?**\n",
    "    \n",
    "    A. Armored vehicle attack\n",
    "    \n",
    "    B. Air attack\n",
    "    \n",
    "    C. Naval bombardment"
   ]
  },
  {
   "cell_type": "markdown",
   "metadata": {
    "slideshow": {
     "slide_type": "slide"
    }
   },
   "source": [
    "### Universities"
   ]
  },
  {
   "cell_type": "markdown",
   "metadata": {
    "slideshow": {
     "slide_type": "subslide"
    }
   },
   "source": [
    "**1. Given the pair of universities, which university has a larger student body?**\n",
    "    \n",
    "    University of Central Flordia or Ohio State University\n"
   ]
  },
  {
   "cell_type": "markdown",
   "metadata": {
    "slideshow": {
     "slide_type": "subslide"
    }
   },
   "source": [
    "**2. Given the pair of universities, which university has a larger student body?**\n",
    "    \n",
    "    Michigan State University or University of Southern California\n",
    " "
   ]
  },
  {
   "cell_type": "markdown",
   "metadata": {
    "slideshow": {
     "slide_type": "subslide"
    }
   },
   "source": [
    "**3. Given the pair of universities, which university has a larger student body?**\n",
    "    \n",
    "    UCLA or University of Wisconsin\n",
    "    "
   ]
  },
  {
   "cell_type": "markdown",
   "metadata": {
    "slideshow": {
     "slide_type": "subslide"
    }
   },
   "source": [
    "**4. Given the pair of universities, which university has a larger student body?**\n",
    "    \n",
    "    Harvard or Oregon State University"
   ]
  },
  {
   "cell_type": "markdown",
   "metadata": {
    "slideshow": {
     "slide_type": "subslide"
    }
   },
   "source": [
    "**5. Given the pair of universities, which university has a larger student body?**\n",
    "    \n",
    "    Portland State University or Kansas State University"
   ]
  },
  {
   "cell_type": "markdown",
   "metadata": {
    "slideshow": {
     "slide_type": "slide"
    }
   },
   "source": [
    "### Age of Historical Figures"
   ]
  },
  {
   "cell_type": "markdown",
   "metadata": {
    "slideshow": {
     "slide_type": "subslide"
    }
   },
   "source": [
    "**1. Which historical figure was born first?**\n",
    "    \n",
    "    A. Martin Luther King Jr\n",
    "    \n",
    "    B. Anne Frank\n",
    "    \n",
    "    C. George H.W. Bush\n",
    "    \n",
    "    D. Joe Biden\n",
    "    \n",
    "    E. James Dean"
   ]
  },
  {
   "cell_type": "markdown",
   "metadata": {
    "slideshow": {
     "slide_type": "slide"
    }
   },
   "source": [
    "### Corporate Headquarter Locations"
   ]
  },
  {
   "cell_type": "markdown",
   "metadata": {
    "slideshow": {
     "slide_type": "subslide"
    }
   },
   "source": [
    "**1. Match the corporate headquarter location to the corporation**\n",
    "    \n",
    "    A. FedEx\n",
    "    \n",
    "    B. Comcast\n",
    "    \n",
    "    C. Home Depot\n",
    "    \n",
    "    D. Dominos\n",
    "    \n",
    "    -------------------\n",
    "    \n",
    "    1. Philadelphia, PA\n",
    "    \n",
    "    2. Ann Arbor, MI\n",
    "    \n",
    "    3. Memphis, TN\n",
    "    \n",
    "    4. Atlanta, GA"
   ]
  },
  {
   "cell_type": "markdown",
   "metadata": {
    "slideshow": {
     "slide_type": "slide"
    }
   },
   "source": [
    "### Sports Careers"
   ]
  },
  {
   "cell_type": "markdown",
   "metadata": {
    "slideshow": {
     "slide_type": "subslide"
    }
   },
   "source": [
    "**1. Relative to their sport, what athlete scored more over the course of thier career?**\n",
    "    \n",
    "    A. Alex Rodriguez is in X place all time in career home runs\n",
    "    \n",
    "    B. Wilt Chamberlin is in Y place all time in career points scored\n",
    "    \n",
    "    C. Philip Rivers is in Z place all time in career touchdowns scored\n",
    "\n",
    "    Order X, Y, and Z from highest to lowest"
   ]
  },
  {
   "cell_type": "markdown",
   "metadata": {
    "slideshow": {
     "slide_type": "slide"
    }
   },
   "source": [
    "### Identify the International Cities by their Skyline"
   ]
  },
  {
   "cell_type": "markdown",
   "metadata": {
    "slideshow": {
     "slide_type": "subslide"
    }
   },
   "source": [
    "**1.**\n",
    "\n",
    "![](img/international_skylines/moscow_skyline.jpeg)"
   ]
  },
  {
   "cell_type": "markdown",
   "metadata": {
    "slideshow": {
     "slide_type": "subslide"
    }
   },
   "source": [
    "**2.**\n",
    "\n",
    "![](img/international_skylines/hong_kong_skyline.jpeg)"
   ]
  },
  {
   "cell_type": "markdown",
   "metadata": {
    "slideshow": {
     "slide_type": "subslide"
    }
   },
   "source": [
    "**3.**\n",
    "\n",
    "![](img/international_skylines/toronto_skyline.jpeg)"
   ]
  },
  {
   "cell_type": "markdown",
   "metadata": {
    "slideshow": {
     "slide_type": "slide"
    }
   },
   "source": [
    "### Identify the U.S. Cities by their Skyline"
   ]
  },
  {
   "cell_type": "markdown",
   "metadata": {
    "slideshow": {
     "slide_type": "subslide"
    }
   },
   "source": [
    "**1.**\n",
    "\n",
    "![](img/us_skylines/los_angeles_skyline.jpeg)"
   ]
  },
  {
   "cell_type": "markdown",
   "metadata": {
    "slideshow": {
     "slide_type": "slide"
    }
   },
   "source": [
    "### Puzzle/Word Problem/Riddle"
   ]
  },
  {
   "cell_type": "markdown",
   "metadata": {
    "slideshow": {
     "slide_type": "subslide"
    }
   },
   "source": [
    "**1.** \n",
    "\n",
    "Suppose you're on a game show, and you're given the choice of three doors: \n",
    "\n",
    "Behind one door is a car; behind the others, goats. \n",
    "\n",
    "You pick a door, say No. 1, and the host, who knows what's behind the doors, opens another door, say No. 3, which has a goat. He then says to you, \"Do you want to pick door No. 2?\" \n",
    "\n",
    "Is it to your advantage to switch your choice?"
   ]
  },
  {
   "cell_type": "markdown",
   "metadata": {
    "slideshow": {
     "slide_type": "slide"
    }
   },
   "source": [
    "### Music Chronology"
   ]
  },
  {
   "cell_type": "markdown",
   "metadata": {
    "slideshow": {
     "slide_type": "subslide"
    }
   },
   "source": [
    "**1. Match the release date to the classic album**\n",
    "\n",
    "    1. May 26, 1967\n",
    "    \n",
    "    2. January 12, 1969\n",
    "    \n",
    "    3. November 4, 1970\n",
    "    \n",
    "    4. March 1, 1973\n",
    "    \n",
    "    5. January 20, 1975\n",
    "    ------------------------------------------\n",
    "    A. David Bowie: The Man Who Sold The World\n",
    "    \n",
    "    B. Pink Floyd: Darkside Of The Moon\n",
    "    \n",
    "    C. Bob Dylan: Blood On The Tracks\n",
    "    \n",
    "    D. Led Zeppelin: Led Zeppelin\n",
    "    \n",
    "    E. Beatles: Sgt Pepper Lonely Heart's Club Band"
   ]
  },
  {
   "cell_type": "markdown",
   "metadata": {
    "slideshow": {
     "slide_type": "slide"
    }
   },
   "source": [
    "### Mathematics"
   ]
  },
  {
   "cell_type": "markdown",
   "metadata": {
    "slideshow": {
     "slide_type": "subslide"
    }
   },
   "source": [
    "**1. What simple mathematical concept does the following equation represent?**\n",
    "\n",
    "![](img/mathematics/mean.png)"
   ]
  },
  {
   "cell_type": "markdown",
   "metadata": {
    "slideshow": {
     "slide_type": "slide"
    }
   },
   "source": [
    "### Geography: Longitude"
   ]
  },
  {
   "cell_type": "markdown",
   "metadata": {
    "slideshow": {
     "slide_type": "subslide"
    }
   },
   "source": [
    "**1. Order the European cities from West to East**\n",
    "\n",
    "    A. Vienna\n",
    "    \n",
    "    B. Paris\n",
    "    \n",
    "    C. Rome\n",
    "    \n",
    "    D. Berlin\n",
    "    \n",
    "    E. Amsterdam"
   ]
  },
  {
   "cell_type": "markdown",
   "metadata": {
    "slideshow": {
     "slide_type": "subslide"
    }
   },
   "source": [
    "**2. Order the Chinese cities from West to East**\n",
    "\n",
    "    A. Beijing\n",
    "    \n",
    "    B. Wuhan\n",
    "    \n",
    "    C. Shenzen\n",
    "    \n",
    "    D. Shanghai"
   ]
  },
  {
   "cell_type": "markdown",
   "metadata": {
    "slideshow": {
     "slide_type": "subslide"
    }
   },
   "source": [
    "**3. Order the Texas cities from West to East**\n",
    "\n",
    "    A. El Paso\n",
    "    \n",
    "    B. Dallas\n",
    "    \n",
    "    C. Austin\n",
    "    \n",
    "    D. Houston\n",
    "    \n",
    "    E. San Antonio"
   ]
  },
  {
   "cell_type": "markdown",
   "metadata": {
    "slideshow": {
     "slide_type": "slide"
    }
   },
   "source": [
    "### Geography: Latitude"
   ]
  },
  {
   "cell_type": "markdown",
   "metadata": {
    "slideshow": {
     "slide_type": "subslide"
    }
   },
   "source": [
    "**1. Order the European cities from North to South**\n",
    "\n",
    "    A. Paris\n",
    "    \n",
    "    B. Barcelona\n",
    "    \n",
    "    C. Milan\n",
    "    \n",
    "    D. Copenhagen\n",
    "    \n",
    "    E. London\n",
    "    \n",
    "    F. Munich"
   ]
  },
  {
   "cell_type": "markdown",
   "metadata": {
    "slideshow": {
     "slide_type": "subslide"
    }
   },
   "source": [
    "**2. Order the English cities from North to South**\n",
    "\n",
    "    A. London\n",
    "    \n",
    "    B. Liverpool\n",
    "    \n",
    "    C. Cambridge\n",
    "    \n",
    "    D. Manchester\n",
    "    \n",
    "    E. Southampton"
   ]
  },
  {
   "cell_type": "markdown",
   "metadata": {
    "slideshow": {
     "slide_type": "subslide"
    }
   },
   "source": [
    "**3. Order the Ohio cities from North to South**\n",
    "\n",
    "    A. Dayton\n",
    "    \n",
    "    B. Cleveland\n",
    "    \n",
    "    C. Cincinatti\n",
    "    \n",
    "    D. Columbus\n",
    "    \n",
    "    E. Toledo"
   ]
  }
 ],
 "metadata": {
  "celltoolbar": "Slideshow",
  "kernelspec": {
   "display_name": "Python 3",
   "language": "python",
   "name": "python3"
  },
  "language_info": {
   "codemirror_mode": {
    "name": "ipython",
    "version": 3
   },
   "file_extension": ".py",
   "mimetype": "text/x-python",
   "name": "python",
   "nbconvert_exporter": "python",
   "pygments_lexer": "ipython3",
   "version": "3.7.3"
  }
 },
 "nbformat": 4,
 "nbformat_minor": 2
}
