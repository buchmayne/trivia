{
 "cells": [
  {
   "cell_type": "markdown",
   "metadata": {
    "slideshow": {
     "slide_type": "slide"
    }
   },
   "source": [
    "# Trivia 01-20-2021\n",
    "\n",
    "by Marley Buchman"
   ]
  },
  {
   "cell_type": "markdown",
   "metadata": {
    "slideshow": {
     "slide_type": "slide"
    }
   },
   "source": [
    "### Identify the U.S. City by the Skyline"
   ]
  },
  {
   "cell_type": "markdown",
   "metadata": {
    "slideshow": {
     "slide_type": "subslide"
    }
   },
   "source": [
    "**1A.**\n",
    "\n",
    "![](img/us_skylines/phily.png)"
   ]
  },
  {
   "cell_type": "markdown",
   "metadata": {
    "slideshow": {
     "slide_type": "subslide"
    }
   },
   "source": [
    "**1B.**\n",
    "\n",
    "![](img/us_skylines/boston.jpeg)"
   ]
  },
  {
   "cell_type": "markdown",
   "metadata": {
    "slideshow": {
     "slide_type": "slide"
    }
   },
   "source": [
    "### Identify the International City by the Skyline"
   ]
  },
  {
   "cell_type": "markdown",
   "metadata": {
    "slideshow": {
     "slide_type": "subslide"
    }
   },
   "source": [
    "**2A.**\n",
    "\n",
    "![](img/international_skylines/london.jpeg)"
   ]
  },
  {
   "cell_type": "markdown",
   "metadata": {
    "slideshow": {
     "slide_type": "subslide"
    }
   },
   "source": [
    "**2B.**\n",
    "\n",
    "![](img/international_skylines/shanghai.jpeg)"
   ]
  },
  {
   "cell_type": "markdown",
   "metadata": {
    "slideshow": {
     "slide_type": "slide"
    }
   },
   "source": [
    "### Age of Historical Figures"
   ]
  },
  {
   "cell_type": "markdown",
   "metadata": {
    "slideshow": {
     "slide_type": "subslide"
    }
   },
   "source": [
    "**3. Which historical figure was born first?**\n",
    "    \n",
    "    A. Johnny Cash\n",
    "    \n",
    "    B. Bill Russell\n",
    "    \n",
    "    C. Marilyn Monroe\n",
    "    \n",
    "    D. Joe Biden\n",
    "    \n",
    "    E. Jimmy Hendrix\n"
   ]
  },
  {
   "cell_type": "markdown",
   "metadata": {
    "slideshow": {
     "slide_type": "slide"
    }
   },
   "source": [
    "### Corporate Headquarters"
   ]
  },
  {
   "cell_type": "markdown",
   "metadata": {
    "slideshow": {
     "slide_type": "subslide"
    }
   },
   "source": [
    "**4. Match the corporate headquarter location to the corporation**\n",
    "\n",
    "    A. General Electric\n",
    "   \n",
    "    B. Bank of America\n",
    "   \n",
    "    C. McDonalds\n",
    "   \n",
    "    D. Harley Davidson\n",
    "   \n",
    "    -----------------------\n",
    "   \n",
    "    1. Chicago, IL\n",
    "   \n",
    "    2. Charlotte, NC\n",
    "   \n",
    "    3. Milwaukee, WI\n",
    "   \n",
    "    4. Boston, MA"
   ]
  },
  {
   "cell_type": "markdown",
   "metadata": {
    "slideshow": {
     "slide_type": "slide"
    }
   },
   "source": [
    "### Sports Careers"
   ]
  },
  {
   "cell_type": "markdown",
   "metadata": {
    "slideshow": {
     "slide_type": "subslide"
    }
   },
   "source": [
    "**5. Relative to their sport, what athlete scored more over the course of thier career?**\n",
    "    \n",
    "    A. Derek Jeter is in X place all time in career hits\n",
    "    \n",
    "    B. LeBron James is in Y place all time in career assists\n",
    "    \n",
    "    C. LaDainian Tomlinson is in Z place all time in career rushing touchdowns scored\n",
    "\n",
    "    Order X, Y, and Z from highest to lowest"
   ]
  },
  {
   "cell_type": "markdown",
   "metadata": {
    "slideshow": {
     "slide_type": "slide"
    }
   },
   "source": [
    "### Mathematics"
   ]
  },
  {
   "cell_type": "markdown",
   "metadata": {
    "slideshow": {
     "slide_type": "subslide"
    }
   },
   "source": [
    "**6. What simple mathematical concept does the following equation represent?**\n",
    "\n",
    "![](img/mathematics/median.png)"
   ]
  },
  {
   "cell_type": "markdown",
   "metadata": {
    "slideshow": {
     "slide_type": "slide"
    }
   },
   "source": [
    "### Geography: Longitude"
   ]
  },
  {
   "cell_type": "markdown",
   "metadata": {
    "slideshow": {
     "slide_type": "subslide"
    }
   },
   "source": [
    "**7. Order the Texas cities from West to East**\n",
    "\n",
    "    A. El Paso\n",
    "    \n",
    "    B. Dallas\n",
    "    \n",
    "    C. Austin\n",
    "    \n",
    "    D. Houston\n",
    "    \n",
    "    E. San Antonio"
   ]
  },
  {
   "cell_type": "markdown",
   "metadata": {
    "slideshow": {
     "slide_type": "slide"
    }
   },
   "source": [
    "### Geography: Latitude"
   ]
  },
  {
   "cell_type": "markdown",
   "metadata": {
    "slideshow": {
     "slide_type": "subslide"
    }
   },
   "source": [
    "**8. Order the Ohio cities from North to South**\n",
    "\n",
    "    A. Dayton\n",
    "    \n",
    "    B. Cleveland\n",
    "    \n",
    "    C. Cincinatti\n",
    "    \n",
    "    D. Columbus\n",
    "    \n",
    "    E. Toledo\n"
   ]
  },
  {
   "cell_type": "markdown",
   "metadata": {
    "slideshow": {
     "slide_type": "slide"
    }
   },
   "source": [
    "### Cocktails"
   ]
  },
  {
   "cell_type": "markdown",
   "metadata": {
    "slideshow": {
     "slide_type": "subslide"
    }
   },
   "source": [
    "**9. Identify the cocktail by the recipe**\n",
    "\n",
    "    A. Made with white rum, sugar (traditionally sugar cane juice), lime juice, soda water, and mint\n",
    "\n",
    "    B. Made with vodka, spicy ginger beer, and lime juice, garnished with a slice or wedge of lime.\n",
    "\n",
    "    C. Made with vodka, triple sec, cranberry juice, and freshly squeezed or sweetened lime juice.\n",
    "\n",
    "    D. Made by muddling sugar with bitters, adding whiskey or, less commonly, brandy, and garnishing with a twist of citrus rind and a cocktail cherry.\n",
    "\n",
    "    E. Made with whiskey, sweet vermouth, and bitters.\n",
    "    "
   ]
  },
  {
   "cell_type": "markdown",
   "metadata": {
    "slideshow": {
     "slide_type": "slide"
    }
   },
   "source": [
    "### Movies"
   ]
  },
  {
   "cell_type": "markdown",
   "metadata": {
    "slideshow": {
     "slide_type": "subslide"
    }
   },
   "source": [
    "**10. Rank the following films starring Leo DiCaprio from highest to lowest based on RottenTomatoes tomato meter (Critics Score)**\n",
    "\n",
    "    A. Titanic\n",
    "    \n",
    "    B. Catch Me If You Can\n",
    "    \n",
    "    C. The Wolf Of Wall Street\n",
    "    \n",
    "    D. Gangs Of New York\n"
   ]
  },
  {
   "cell_type": "markdown",
   "metadata": {
    "slideshow": {
     "slide_type": "slide"
    }
   },
   "source": [
    "### Timezones"
   ]
  },
  {
   "cell_type": "markdown",
   "metadata": {
    "slideshow": {
     "slide_type": "subslide"
    }
   },
   "source": [
    "**11. Order the following countries by the number of time zones in each country, from highest to lowest**\n",
    "\n",
    "    A. China\n",
    "    \n",
    "    B. Australia\n",
    "    \n",
    "    C. Russia\n",
    "    \n",
    "    D. Brazil\n",
    "    \n"
   ]
  },
  {
   "cell_type": "markdown",
   "metadata": {
    "slideshow": {
     "slide_type": "slide"
    }
   },
   "source": [
    "### Demonyms\n",
    "\n"
   ]
  },
  {
   "cell_type": "markdown",
   "metadata": {
    "slideshow": {
     "slide_type": "subslide"
    }
   },
   "source": [
    "**12. Name the demonym for the following states (e.g. a resident of Oregon is an Oregonian)**\n",
    "\n",
    "    A. Idaho\n",
    "    \n",
    "    B. Kentucky\n",
    "    \n",
    "    C. Wisconsin\n",
    "    \n",
    "    D. Michigan\n"
   ]
  },
  {
   "cell_type": "markdown",
   "metadata": {
    "slideshow": {
     "slide_type": "slide"
    }
   },
   "source": [
    "### U.S. Presidents"
   ]
  },
  {
   "cell_type": "markdown",
   "metadata": {
    "slideshow": {
     "slide_type": "subslide"
    }
   },
   "source": [
    "**13.**\n",
    "\n",
    "    A. How many U.S. Presidents were born West of the Mississippi River?\n",
    "\n",
    "    B. Of the U.S. Presidents born West of the Mississippi River, how many of them were born before 1900?\n",
    "\n",
    "    C. How many U.S. Presidents were born West of the Rocky Mountains?"
   ]
  },
  {
   "cell_type": "markdown",
   "metadata": {
    "slideshow": {
     "slide_type": "slide"
    }
   },
   "source": [
    "### Andre the Giant"
   ]
  },
  {
   "cell_type": "markdown",
   "metadata": {
    "slideshow": {
     "slide_type": "subslide"
    }
   },
   "source": [
    "**14. What combination of the following athletes have the same combined weight as Andre the Giant?**\n",
    "\n",
    "    A. Damian Lillard\n",
    "    \n",
    "    B. Tom Brady\n",
    "    \n",
    "    C. Joel Embiid\n",
    "    \n",
    "    D. Tiger Woods\n",
    "    \n",
    "    E. Leo Messi\n",
    "    \n",
    "    F. Shaq"
   ]
  },
  {
   "cell_type": "markdown",
   "metadata": {
    "slideshow": {
     "slide_type": "slide"
    }
   },
   "source": [
    "### Genres"
   ]
  },
  {
   "cell_type": "markdown",
   "metadata": {
    "slideshow": {
     "slide_type": "subslide"
    }
   },
   "source": [
    "**15. Match the genre to its description**\n",
    "\n",
    "    1. Seapunk \n",
    "\n",
    "    2. Synthwave\n",
    "\n",
    "    3. Chillwave\n",
    "\n",
    "    4. Vaporwave\n",
    "    \n",
    "    -------------------------\n",
    "\n",
    "    A. X is a music microgenre that emerged in the late 2000s. It is characterized by a faded or dreamy retro pop sound, escapist lyrics (frequent topics include the beach or summer), psychedelic or lo-fi aesthetics, mellow vocals, low-to-moderate tempos, effects processing (especially reverb), and vintage synthesizers. The term was originally synonymous with \"glo-fi\" or \"hypnagogic pop\".\n",
    "    \n",
    "    B. X is a subculture that originated on Tumblr in 2011. It is associated with an aquatic-themed style of fashion, 3D net art, iconography, and allusions to popular culture of the 1990s. The advent of X also spawned its own electronic music microgenre, featuring elements of Southern hip hop and pop music and R&B music of the 1990s. \n",
    "    \n",
    "    C. X is an electronic music microgenre that is based predominately on the music associated with action, science-fiction, and horror film soundtracks of the 1980s.Other influences are drawn from that decade's art and video games. X musicians often espouse nostalgia for 1980s culture and attempt to capture the era's atmosphere and celebrate it.\n",
    "    \n",
    "    D. X is a microgenre of electronic music, a visual art style, and an Internet meme that emerged in the early 2010s. It is defined partly by its slowed-down, chopped and screwed samples of smooth jazz, elevator, R&B, and lounge music from the 1980s and 1990s. The surrounding subculture is sometimes associated with an ambiguous or satirical take on consumer capitalism and pop culture, and tends to be characterized by a nostalgic or surrealist engagement with the popular entertainment, technology and advertising of previous decades. Visually, it incorporates early Internet imagery, late 1990s web design, glitch art, anime, 3D-rendered objects, and cyberpunk tropes in its cover artwork and music videos. \n"
   ]
  },
  {
   "cell_type": "markdown",
   "metadata": {
    "slideshow": {
     "slide_type": "slide"
    }
   },
   "source": [
    "# Break"
   ]
  },
  {
   "cell_type": "markdown",
   "metadata": {
    "slideshow": {
     "slide_type": "slide"
    }
   },
   "source": [
    "### Puzzle/Word Problem/Riddle"
   ]
  },
  {
   "cell_type": "markdown",
   "metadata": {
    "slideshow": {
     "slide_type": "subslide"
    }
   },
   "source": [
    "In a school function ceremony, seven students, Amy, Bob, Chad, Dom, Elisa, Fischer, and Grant have to deliver their performances in seven consecutive slots, not necessarily in the order of their given names. The following information is known about the order in which the students perform:\n",
    "\n",
    "**Chad performs immediately before Dom**\n",
    "    \n",
    "**Grant performs sometime after Chad**\n",
    "    \n",
    "**There are exactly two performances made between the performances of Amy and Elisa**\n",
    "\n",
    "    "
   ]
  },
  {
   "cell_type": "markdown",
   "metadata": {
    "slideshow": {
     "slide_type": "subslide"
    }
   },
   "source": [
    "**16A. If Amy was the second to perform, who was the third performer in the ceremony?**\n",
    "\n",
    "    A. Bob\n",
    "    \n",
    "    B. Chad\n",
    "    \n",
    "    C. Dom\n",
    "    \n",
    "    D. Grant\n",
    "    \n",
    "    E. Fischer"
   ]
  },
  {
   "cell_type": "markdown",
   "metadata": {
    "slideshow": {
     "slide_type": "subslide"
    }
   },
   "source": [
    "**16B. In which of the following slots can Grant not perform?**\n",
    "\n",
    "    A. Second\n",
    "    \n",
    "    B. Third\n",
    "    \n",
    "    C. Fourth\n",
    "    \n",
    "    D. Fifth\n",
    "    \n",
    "    E. Sixth"
   ]
  },
  {
   "cell_type": "markdown",
   "metadata": {
    "slideshow": {
     "slide_type": "subslide"
    }
   },
   "source": [
    "**16C. What is the latest slot in which Chad could perform?**\n",
    "\n",
    "    A. Second\n",
    "    \n",
    "    B. Third\n",
    "    \n",
    "    C. Fourth\n",
    "    \n",
    "    D. Fifth\n",
    "    \n",
    "    E. Sixth"
   ]
  },
  {
   "cell_type": "markdown",
   "metadata": {
    "slideshow": {
     "slide_type": "slide"
    }
   },
   "source": [
    "### Visual Puns"
   ]
  },
  {
   "cell_type": "markdown",
   "metadata": {
    "slideshow": {
     "slide_type": "subslide"
    }
   },
   "source": [
    "**Example**\n",
    "\n",
    "![](img/visual_puns/tech-companies.png)\n",
    "\n"
   ]
  },
  {
   "cell_type": "markdown",
   "metadata": {
    "slideshow": {
     "slide_type": "subslide"
    }
   },
   "source": [
    "**17.**\n",
    "\n",
    "![](img/visual_puns/bands.png)"
   ]
  },
  {
   "cell_type": "markdown",
   "metadata": {
    "slideshow": {
     "slide_type": "slide"
    }
   },
   "source": [
    "### Identify the Data Portrayed on the Map"
   ]
  },
  {
   "cell_type": "markdown",
   "metadata": {
    "slideshow": {
     "slide_type": "subslide"
    }
   },
   "source": [
    "**18.**\n",
    "\n",
    "![](img/data_maps/alcohol_consumption.png)"
   ]
  },
  {
   "cell_type": "markdown",
   "metadata": {
    "slideshow": {
     "slide_type": "slide"
    }
   },
   "source": [
    "### Venn Diagrams"
   ]
  },
  {
   "cell_type": "markdown",
   "metadata": {
    "slideshow": {
     "slide_type": "subslide"
    }
   },
   "source": [
    "**19. Identify the category for each Venn Diagram**\n",
    "\n",
    "![](img/venn/cities.png)"
   ]
  },
  {
   "cell_type": "markdown",
   "metadata": {
    "slideshow": {
     "slide_type": "slide"
    }
   },
   "source": [
    "### Bird's-eye View"
   ]
  },
  {
   "cell_type": "markdown",
   "metadata": {
    "slideshow": {
     "slide_type": "subslide"
    }
   },
   "source": [
    "**20. Where is this? (Hint: It is in the continental United States)**\n",
    "\n",
    "![](img/birdseye/mt_rushmore.png)"
   ]
  }
 ],
 "metadata": {
  "celltoolbar": "Slideshow",
  "kernelspec": {
   "display_name": "Python 3",
   "language": "python",
   "name": "python3"
  },
  "language_info": {
   "codemirror_mode": {
    "name": "ipython",
    "version": 3
   },
   "file_extension": ".py",
   "mimetype": "text/x-python",
   "name": "python",
   "nbconvert_exporter": "python",
   "pygments_lexer": "ipython3",
   "version": "3.7.3"
  }
 },
 "nbformat": 4,
 "nbformat_minor": 2
}
